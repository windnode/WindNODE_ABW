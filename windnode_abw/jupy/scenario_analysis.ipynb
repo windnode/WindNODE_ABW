{
 "cells": [
  {
   "cell_type": "markdown",
   "metadata": {},
   "source": [
    "# WINDNODE ABW - Scenario Analysis\n",
    "\n",
    "<img src=\"http://reiner-lemoine-institut.de//wp-content/uploads/2015/09/rlilogo.png\" width=\"100\" style=\"float: right\">\n",
    "\n",
    "__copyright__ \t= \"© Reiner Lemoine Institut\" <br>\n",
    "__license__ \t= \"GNU Affero General Public License Version 3 (AGPL-3.0)\" <br>\n",
    "__url__ \t\t= \"https://www.gnu.org/licenses/agpl-3.0.en.html\" <br>\n",
    "__author__ \t\t= \"Julian Endres\" <br>"
   ]
  },
  {
   "cell_type": "code",
   "execution_count": null,
   "metadata": {},
   "outputs": [],
   "source": [
    "######## WINDNODE ###########\n",
    "# define and setup logger\n",
    "from windnode_abw.tools.logger import setup_logger\n",
    "logger = setup_logger()\n",
    "\n",
    "# load configs\n",
    "from windnode_abw.tools import config\n",
    "config.load_config('config_data.cfg')\n",
    "config.load_config('config_misc.cfg')\n",
    "\n",
    "from windnode_abw.analysis import analysis\n",
    "from windnode_abw.tools.draw import *\n",
    "######## DATA ###########\n",
    "\n",
    "import re\n",
    "import pandas as pd\n",
    "\n",
    "######## PostgreSQL ###########\n",
    "import sys\n",
    "import os\n",
    "import getpass\n",
    "from sqlalchemy import *\n",
    "\n",
    "######## Plotting ###########\n",
    "\n",
    "# Plotting\n",
    "import matplotlib.pyplot as plt\n",
    "from mpl_toolkits.axes_grid1 import make_axes_locatable\n",
    "from matplotlib.ticker import ScalarFormatter\n",
    "import seaborn as sns\n",
    "\n",
    "# set seaborn style\n",
    "sns.set()\n",
    "\n",
    "import plotly.express as px\n",
    "import plotly.io as pio\n",
    "import plotly.graph_objs as go\n",
    "import plotly.offline as pltly"
   ]
  },
  {
   "cell_type": "code",
   "execution_count": null,
   "metadata": {},
   "outputs": [],
   "source": [
    "# specify what to import (in path ~/.windnode_abw/)\n",
    "run_timestamp = '2020-06-17_125728_1month'\n",
    "\n",
    "# select multiple scenarios manually or use 'ALL' to analyze all\n",
    "# scenarios found in directory\n",
    "#scenarios = [scenario, 'sq']\n",
    "scenarios = ['ALL']\n",
    "\n",
    "regions_scns, results_scns = analysis(run_timestamp=run_timestamp,\n",
    "                   scenarios=scenarios)\n"
   ]
  },
  {
   "cell_type": "code",
   "execution_count": null,
   "metadata": {},
   "outputs": [],
   "source": [
    "scenario = 'future'\n",
    "time_range = '1 month'"
   ]
  },
  {
   "cell_type": "code",
   "execution_count": null,
   "metadata": {},
   "outputs": [],
   "source": []
  },
  {
   "cell_type": "code",
   "execution_count": null,
   "metadata": {},
   "outputs": [],
   "source": [
    "results_scns[scenario]['results_axlxt'].keys()"
   ]
  },
  {
   "cell_type": "code",
   "execution_count": null,
   "metadata": {},
   "outputs": [],
   "source": [
    "TECH_NAMES = {\n",
    "    'pv_roof_small': 'PV-roof Small',\n",
    "    'pv_roof_large': 'PV-roof Large',\n",
    "    'pv_ground':'PV-ground',\n",
    "    'wind':'Wind',\n",
    "}\n",
    "\n",
    "df_rel_area = pd.DataFrame(\n",
    "    index=results_scns[scenario]['results_axlxt']['Area required'].index)\n",
    "\n",
    "for tech, area in results_scns[scenario]['results_axlxt']['Area required'].iteritems():\n",
    "    df_rel_area[TECH_NAMES[tech]] = area.div(regions_scns[scenario].muns.area) * 100"
   ]
  },
  {
   "cell_type": "code",
   "execution_count": null,
   "metadata": {
    "scrolled": true
   },
   "outputs": [],
   "source": [
    "plot_kwds  = {\n",
    "    'nrows': 2,\n",
    "    'ncols': 2,\n",
    "    'figsize': (10,10),\n",
    "    'title': 'Rel. area used in %',\n",
    "    'legend_label': '%',\n",
    "    'cmap' :'viridis'\n",
    "}\n",
    "\n",
    "plot_geoplots(regions_scns[scenario],\n",
    "              df_rel_area,\n",
    "              plot_kwds)"
   ]
  },
  {
   "cell_type": "code",
   "execution_count": null,
   "metadata": {
    "scrolled": true
   },
   "outputs": [],
   "source": [
    "plot_kwds  = {\n",
    "    'nrows': 2,\n",
    "    'ncols': 2,\n",
    "    'figsize': (10,10),\n",
    "    'title': 'Area used',\n",
    "    'legend_label': 'ha',\n",
    "    'cmap' :'viridis'\n",
    "}\n",
    "\n",
    "region = regions_scns[scenario]\n",
    "plot_geoplots(regions_scns[scenario],\n",
    "              results_scns[scenario]['results_axlxt'],\n",
    "              plot_kwds)"
   ]
  },
  {
   "cell_type": "markdown",
   "metadata": {},
   "source": [
    "- missing\n",
    "    - units\n",
    "    - costs\n",
    "    - emissions compared to SQ\n",
    "    - emissions compared to 1990\n",
    "    - Flächenbedarf per mun #31\n",
    "        - Technologiespezisch!"
   ]
  },
  {
   "cell_type": "markdown",
   "metadata": {},
   "source": [
    "## 2 Eigenversorgungsanteil"
   ]
  },
  {
   "cell_type": "code",
   "execution_count": null,
   "metadata": {},
   "outputs": [],
   "source": [
    "autarky_ts = results_scns[scenario]['flows_txaxt']['Stromerzeugung'].drop(columns='import').sum(axis=1).unstack().div(\n",
    "    results_scns[scenario]['flows_txaxt']['Stromnachfrage'].drop(columns='export').sum(axis=1).unstack()).stack()\n",
    "autarky_ts = (autarky_ts>1).sum(level=1) / len(autarky_ts.index.get_level_values(level=0).unique())\n",
    "autarky_ts = autarky_ts * 100"
   ]
  },
  {
   "cell_type": "code",
   "execution_count": null,
   "metadata": {},
   "outputs": [],
   "source": [
    "fig, ax = plt.subplots(figsize=(10,5))\n",
    "ax = autarky_ts.plot(kind='bar', ax=ax)\n",
    "ax.set_xlabel('AGS')\n",
    "ax.set_ylabel('%')\n",
    "ax.set_title('rel. time of Autarky per month',\n",
    "              fontsize=16,\n",
    "              fontweight='normal')\n",
    "\n",
    "#ax.set_yticks([20,50,100,300,500,1000])\n",
    "#ax.yaxis.set_major_formatter(ScalarFormatter())\n",
    "\n",
    "plt.show()"
   ]
  },
  {
   "cell_type": "code",
   "execution_count": null,
   "metadata": {
    "scrolled": true
   },
   "outputs": [],
   "source": [
    "autarky_ts = results_scns[scenario]['flows_txaxt']['Stromerzeugung'].drop(columns='import').sum(axis=1).unstack().div(\n",
    "    results_scns[scenario]['flows_txaxt']['Stromnachfrage'].drop(columns='export').sum(axis=1).unstack()).stack()\n",
    "autarky_ts = autarky_ts.unstack().join(autarky_ts.sum(level=0).rename('ABW total')).stack()"
   ]
  },
  {
   "cell_type": "code",
   "execution_count": null,
   "metadata": {},
   "outputs": [],
   "source": [
    "px.line(autarky_ts.unstack(), log_y=True)"
   ]
  },
  {
   "cell_type": "markdown",
   "metadata": {},
   "source": [
    "- Plotly lässt sich nicht als bereits berechnetes HTML anzeigen / nur zur veranschaulichung\n",
    "- -> Binder\n",
    "\n",
    "#### Darstellung mit matplotlib\n",
    "\n",
    "- Summe über Gemeinde als TS zusätzlich\n",
    "- relativer Zeitliche Anteil Autarky\n",
    "- mehrere Plots für ags?\n",
    "- Summen über Tage?\n",
    "\n",
    "- geoplot"
   ]
  },
  {
   "cell_type": "markdown",
   "metadata": {},
   "source": [
    "## Energieversorgungsmix Balken"
   ]
  },
  {
   "cell_type": "code",
   "execution_count": null,
   "metadata": {},
   "outputs": [],
   "source": [
    "plot_balance_bar(regions_scns[scenario], results_scns[scenario]['flows_txaxt']['Stromerzeugung'].sum(level=1),\n",
    "                results_scns[scenario]['flows_txaxt']['Stromnachfrage'].sum(level=1))"
   ]
  },
  {
   "cell_type": "markdown",
   "metadata": {},
   "source": [
    "- irgendwas stimmt hier mit dem demand nicht?!\n",
    "- kein gas?"
   ]
  },
  {
   "cell_type": "markdown",
   "metadata": {},
   "source": [
    "## Energieversorgungsmix - Verlauf"
   ]
  },
  {
   "cell_type": "code",
   "execution_count": null,
   "metadata": {},
   "outputs": [],
   "source": [
    "techs = {'hydro': 'Laufwasser',\n",
    "         'bio': 'Bioenergie',\n",
    "         'wind': 'Windenergie',\n",
    "         'pv_ground': 'Photovoltaik (Freifläche)',\n",
    "         'pv_roof_small': 'Photovoltaik (Aufdach <30 kW)',\n",
    "         'pv_roof_large': 'Photovoltaik (Aufdach >30 kW)'\n",
    "        }"
   ]
  },
  {
   "cell_type": "code",
   "execution_count": null,
   "metadata": {},
   "outputs": [],
   "source": [
    "start = pd.to_datetime('2015-01-01 00:00:00')\n",
    "end = pd.to_datetime('2015-02-20 00:00:00')\n",
    "\n",
    "plot_timeseries(regions_scns[scenario], kind='el', ags=15001000, start=start, end=end)"
   ]
  },
  {
   "cell_type": "code",
   "execution_count": null,
   "metadata": {},
   "outputs": [],
   "source": []
  },
  {
   "cell_type": "code",
   "execution_count": null,
   "metadata": {},
   "outputs": [],
   "source": []
  },
  {
   "cell_type": "code",
   "execution_count": null,
   "metadata": {},
   "outputs": [],
   "source": []
  },
  {
   "cell_type": "code",
   "execution_count": null,
   "metadata": {},
   "outputs": [],
   "source": [
    "results_scns[scenario]['results_t'].keys()"
   ]
  },
  {
   "cell_type": "code",
   "execution_count": null,
   "metadata": {},
   "outputs": [],
   "source": [
    "results_scns[scenario]['results_axlxt']['Stromerzeugung nach Gemeinde']"
   ]
  },
  {
   "cell_type": "markdown",
   "metadata": {},
   "source": [
    "- Plotly lässt sich nicht als bereits berechnetes HTML anzeigen / nur zur veranschaulichung\n",
    "- -> Binder\n",
    "\n",
    "#### Darstellung mit matplotlib\n",
    "\n",
    "- Summe über Gemeinde als TS zusätzlich\n",
    "- relativer Zeitliche Anteil Autarky\n",
    "- mehrere Plots für ags?\n",
    "- Summen über Tage?\n",
    "\n",
    "- geoplot"
   ]
  },
  {
   "cell_type": "code",
   "execution_count": null,
   "metadata": {},
   "outputs": [],
   "source": []
  },
  {
   "cell_type": "markdown",
   "metadata": {},
   "source": [
    "## Access Windnode Database at RLI via VPN"
   ]
  },
  {
   "cell_type": "code",
   "execution_count": null,
   "metadata": {},
   "outputs": [],
   "source": [
    "def postgres_session():\n",
    "    \"\"\"SQLAlchemy session object with valid connection to reeem database\"\"\"\n",
    "    \n",
    "    print('Please provide connection parameters to database:\\n' +\n",
    "              'Hit [Enter] to take defaults')\n",
    "    host = '192.168.11.220'\n",
    "    port = '54321'\n",
    "    database = 'windnode_abw'\n",
    "    user = 'windnode' \n",
    "    password = getpass.getpass(prompt='password: ', stream=sys.stderr)\n",
    "#     password = 'windnode'\n",
    "    con = create_engine(\n",
    "            'postgresql://' + '%s:%s@%s:%s/%s' % (user,\n",
    "                                                  password,\n",
    "                                                  host,\n",
    "                                                  port,\n",
    "                                                  database)).connect()\n",
    "    print('Password correct! Database connection established.')\n",
    "    return con\n",
    "\n",
    "# start session\n",
    "con = postgres_session()\n",
    "# get metadata\n",
    "meta = MetaData(con, schema=\"windnode\")"
   ]
  },
  {
   "cell_type": "code",
   "execution_count": null,
   "metadata": {},
   "outputs": [],
   "source": [
    "# list of tables\n",
    "tables_windnode_db = [i for i in meta.tables.keys()]\n",
    "tables_windnode_db"
   ]
  },
  {
   "cell_type": "markdown",
   "metadata": {},
   "source": [
    "### Plot all feed in ts"
   ]
  },
  {
   "cell_type": "code",
   "execution_count": null,
   "metadata": {},
   "outputs": [],
   "source": [
    "# Database select (SQL)\n",
    "table_name ='windnode.wn_abw_feedints'\n",
    "sql = text(\"\"\"SELECT * FROM {}\"\"\".format(table_name))\n",
    "df_feedin = pd.read_sql_query(sql, con)\n",
    "df_feedin = df_feedin.set_index('timestamp')"
   ]
  },
  {
   "cell_type": "code",
   "execution_count": null,
   "metadata": {},
   "outputs": [],
   "source": [
    "df_feedin.head()"
   ]
  },
  {
   "cell_type": "code",
   "execution_count": null,
   "metadata": {},
   "outputs": [],
   "source": [
    "df_feedin.index.value_counts().value_counts()"
   ]
  },
  {
   "cell_type": "code",
   "execution_count": null,
   "metadata": {},
   "outputs": [],
   "source": [
    "# Facts dict\n",
    "info_dict = {}\n",
    "#info_dict['Filename'] = ['{}_windnode_db'.format(pd.to_datetime('today').strftime(\"%Y-%m-%d\"))]\n",
    "info_dict['Value'] = ['Leistung P']\n",
    "info_dict['Unit'] = ['MW']\n",
    "info_dict['Y-Axis'] = ['{} in {}'.format(*info_dict['Value'], *info_dict['Unit'])]\n",
    "info_dict['X-Axis'] = ['Stunde im Jahr']\n",
    "info_dict['Title'] = ['Feed in timeseries']\n",
    "info_dict['Metadata'] = [meta_str]"
   ]
  },
  {
   "cell_type": "code",
   "execution_count": null,
   "metadata": {},
   "outputs": [],
   "source": [
    "data = [go.Scatter(x=df_feedin.index.tolist(), \n",
    "               y=df_feedin[col].tolist(), \n",
    "               name=col, line=dict(), mode='lines') for col in df_feedin]"
   ]
  },
  {
   "cell_type": "code",
   "execution_count": null,
   "metadata": {},
   "outputs": [],
   "source": [
    "layout = go.Layout(\n",
    "    title=''.join(info_dict['Title']),\n",
    "    yaxis=dict(title=''.join(info_dict['Y-Axis'])),\n",
    "    xaxis=dict(title=''.join(info_dict['X-Axis']))\n",
    ")\n",
    "fig = go.Figure(data=data, layout=layout)\n",
    "pltly.iplot(fig)"
   ]
  },
  {
   "cell_type": "code",
   "execution_count": null,
   "metadata": {},
   "outputs": [],
   "source": []
  }
 ],
 "metadata": {
  "kernelspec": {
   "display_name": "Python [conda env:windnode-abw]",
   "language": "python",
   "name": "conda-env-windnode-abw-py"
  },
  "language_info": {
   "codemirror_mode": {
    "name": "ipython",
    "version": 3
   },
   "file_extension": ".py",
   "mimetype": "text/x-python",
   "name": "python",
   "nbconvert_exporter": "python",
   "pygments_lexer": "ipython3",
   "version": "3.7.7"
  }
 },
 "nbformat": 4,
 "nbformat_minor": 4
}
