{
 "cells": [
  {
   "cell_type": "markdown",
   "metadata": {},
   "source": [
    "# WINDNODE ABW - Scenario Analysis\n",
    "\n",
    "<img src=\"http://reiner-lemoine-institut.de//wp-content/uploads/2015/09/rlilogo.png\" width=\"100\" style=\"float: right\">\n",
    "\n",
    "__copyright__ \t= \"© Reiner Lemoine Institut\" <br>\n",
    "__license__ \t= \"GNU Affero General Public License Version 3 (AGPL-3.0)\" <br>\n",
    "__url__ \t\t= \"https://www.gnu.org/licenses/agpl-3.0.en.html\" <br>\n",
    "__author__ \t\t= \"Julian Endres\" <br>"
   ]
  },
  {
   "cell_type": "code",
   "execution_count": null,
   "metadata": {},
   "outputs": [],
   "source": [
    "%load_ext autoreload\n",
    "%autoreload 2"
   ]
  },
  {
   "cell_type": "code",
   "execution_count": null,
   "metadata": {},
   "outputs": [],
   "source": [
    "######## WINDNODE ###########\n",
    "# define and setup logger\n",
    "from windnode_abw.tools.logger import setup_logger\n",
    "logger = setup_logger()\n",
    "\n",
    "# load configs\n",
    "from windnode_abw.tools import config\n",
    "config.load_config('config_data.cfg')\n",
    "config.load_config('config_misc.cfg')\n",
    "\n",
    "from windnode_abw.analysis import analysis\n",
    "from windnode_abw.tools.draw import *\n",
    "\n",
    "######## DATA ###########\n",
    "\n",
    "import re\n",
    "import pandas as pd\n",
    "\n",
    "######## PostgreSQL ###########\n",
    "import sys\n",
    "import os\n",
    "import getpass\n",
    "from sqlalchemy import *\n",
    "\n",
    "######## Plotting ###########\n",
    "\n",
    "# Plotting\n",
    "import matplotlib.pyplot as plt\n",
    "from mpl_toolkits.axes_grid1 import make_axes_locatable\n",
    "from matplotlib.ticker import ScalarFormatter\n",
    "import seaborn as sns\n",
    "\n",
    "# set seaborn style\n",
    "sns.set()\n",
    "\n",
    "import plotly.express as px\n",
    "import plotly.io as pio\n",
    "import plotly.graph_objs as go\n",
    "import plotly.offline as pltly\n",
    "from plotly.subplots import make_subplots\n"
   ]
  },
  {
   "cell_type": "code",
   "execution_count": null,
   "metadata": {
    "scrolled": false
   },
   "outputs": [],
   "source": [
    "# specify what to import (in path ~/.windnode_abw/)\n",
    "run_timestamp = '2020-07-17_224437_1month'\n",
    "\n",
    "# select multiple scenarios manually or use 'ALL' to analyze all\n",
    "#scenarios = ['StatusQuo_DSMno','NEP2035']#,'ISE2050']\n",
    "scenarios = ['StatusQuo_DSMno','NEP2035']\n",
    "# run analysis\n",
    "regions_scns, results_scns = analysis(run_timestamp=run_timestamp,\n",
    "                                      scenarios=scenarios)\n"
   ]
  },
  {
   "cell_type": "markdown",
   "metadata": {},
   "source": [
    "# TODO\n",
    "- [ ] parallelize analysis\n",
    "- [ ] save / pickle results"
   ]
  },
  {
   "cell_type": "markdown",
   "metadata": {},
   "source": [
    "### useful params"
   ]
  },
  {
   "cell_type": "code",
   "execution_count": null,
   "metadata": {},
   "outputs": [],
   "source": [
    "MUN_NAMES = regions_scns['NEP2035'].muns.gen.to_dict()"
   ]
  },
  {
   "cell_type": "markdown",
   "metadata": {},
   "source": [
    "# General Information"
   ]
  },
  {
   "cell_type": "markdown",
   "metadata": {},
   "source": [
    "## Installed Capacities"
   ]
  },
  {
   "cell_type": "code",
   "execution_count": null,
   "metadata": {},
   "outputs": [],
   "source": [
    "df_data = results_scns['NEP2035']['parameters']['Installed capacity electricity supply']\n",
    "df_data = df_data.rename(columns=PRINT_NAMES)\n",
    "\n",
    "fig, axes = plt.subplots(3,3, figsize=(12,10))\n",
    "\n",
    "for ax, (key, data) in  zip(axes.flat, df_data.iteritems()):\n",
    "    \n",
    "    plot_geoplot(key, data, regions_scns['NEP2035'], ax=ax, unit='MW')\n",
    "    \n",
    "    \n",
    "fig.suptitle('Installed el. Generation Capacity',\n",
    "     fontsize=16,\n",
    "     fontweight='normal')\n",
    "plt.tight_layout()\n",
    "plt.show()"
   ]
  },
  {
   "cell_type": "markdown",
   "metadata": {},
   "source": [
    "## Electrical Demand"
   ]
  },
  {
   "cell_type": "code",
   "execution_count": null,
   "metadata": {},
   "outputs": [],
   "source": [
    "df_data = results_scns['NEP2035']['flows_txaxt']['Stromnachfrage'].sum(level=1)\n",
    "df_data = df_data.drop(columns='export')\n",
    "df_data.index = df_data.index.astype(int)\n",
    "df_data = df_data.rename(columns=PRINT_NAMES)\n",
    "df_data = df_data / 1e3\n",
    "\n",
    "fig, axes = plt.subplots(1,3, figsize=(14,4))\n",
    "\n",
    "for ax, (key, data) in  zip(axes.flat, df_data.iteritems()):\n",
    "    \n",
    "    plot_geoplot(key, data, regions_scns['NEP2035'], ax=ax, unit='GWh')\n",
    "    \n",
    "    \n",
    "fig.suptitle('Electrical Demand per Sector',\n",
    "     fontsize=16,\n",
    "     fontweight='normal')\n",
    "plt.tight_layout()\n",
    "plt.show()"
   ]
  },
  {
   "cell_type": "markdown",
   "metadata": {},
   "source": [
    "## Thermal Demand"
   ]
  },
  {
   "cell_type": "code",
   "execution_count": null,
   "metadata": {},
   "outputs": [],
   "source": [
    "df_data = results_scns['NEP2035']['flows_txaxt']['Wärmenachfrage'].sum(level=2)\n",
    "df_data.index = df_data.index.astype(int)\n",
    "df_data = df_data.rename(columns=PRINT_NAMES)\n",
    "df_data = df_data / 1e3\n",
    "\n",
    "fig, axes = plt.subplots(1,3, figsize=(14,4))\n",
    "\n",
    "for ax, (key, data) in  zip(axes.flat, df_data.items()):\n",
    "    \n",
    "    plot_geoplot(key, data, regions_scns['NEP2035'], ax=ax, unit='GWh')\n",
    "    \n",
    "    \n",
    "fig.suptitle('Thermal Demand per Sector',\n",
    "     fontsize=16,\n",
    "     fontweight='normal')\n",
    "plt.tight_layout()\n",
    "plt.show()"
   ]
  },
  {
   "cell_type": "markdown",
   "metadata": {},
   "source": [
    "# 3 Area required\n",
    "- [x] absolute chloropleth\n",
    "- [x] relative barplots"
   ]
  },
  {
   "cell_type": "markdown",
   "metadata": {},
   "source": [
    "## absolute chloropleth"
   ]
  },
  {
   "cell_type": "code",
   "execution_count": null,
   "metadata": {},
   "outputs": [],
   "source": [
    "df_data = results_scns['NEP2035']['results_axlxt']['Area required']\n",
    "df_data = df_data.rename(columns=PRINT_NAMES)\n",
    "\n",
    "fig, axes = plt.subplots(2,2, figsize=(12,6))\n",
    "\n",
    "for ax, (key, data) in  zip(axes.flat, df_data.iteritems()):\n",
    "    \n",
    "    plot_geoplot(key, data, regions_scns['NEP2035'], ax=ax, unit='ha')\n",
    "    \n",
    "    \n",
    "fig.suptitle('Required Area',\n",
    "     fontsize=16,\n",
    "     fontweight='normal')\n",
    "plt.tight_layout()\n",
    "plt.show()"
   ]
  },
  {
   "cell_type": "markdown",
   "metadata": {},
   "source": [
    "## relative barplots"
   ]
  },
  {
   "cell_type": "code",
   "execution_count": null,
   "metadata": {},
   "outputs": [],
   "source": [
    "df_data = results_scns['NEP2035']['highlevel_results']\n",
    "\n",
    "fig = go.Figure()\n",
    "\n",
    "# PV rooftop\n",
    "mask = [i for i in df_data.index if 'rooftop' in  i[0]]\n",
    "data = df_data.loc[mask]\n",
    "index = data.index.get_level_values(level=0)\n",
    "\n",
    "fig.add_trace(\n",
    "    go.Bar(y=index, x=data.values,  orientation='h', name='PV rooftop'))\n",
    "\n",
    "# PV Ground\n",
    "mask = [i for i in df_data.index if 'PV ground' in  i[0]]\n",
    "data = df_data.loc[mask]\n",
    "index = data.index.get_level_values(level=0)\n",
    "\n",
    "fig.add_trace(\n",
    "    go.Bar(y=index, x=data.values,  orientation='h', name='PV Ground'))#, visible='legendonly'))\n",
    "\n",
    "\n",
    "# Wind\n",
    "mask = [i for i in df_data.index if 'rel. wind' in  i[0]]\n",
    "data = df_data.loc[mask]\n",
    "index=  data.index.get_level_values(level=0)\n",
    "\n",
    "fig.add_trace(\n",
    "    go.Bar(y=index, x=data.values,  orientation='h', name='Wind'))#, visible='legendonly'))\n",
    "\n",
    "\n",
    "fig.update_layout(title_text = 'Relative Required Area',\n",
    "                  xaxis=dict(title=' %',\n",
    "                    titlefont_size=12),\n",
    "                    autosize=True)\n",
    "\n",
    "fig.show()"
   ]
  },
  {
   "cell_type": "markdown",
   "metadata": {},
   "source": [
    "## 4,5 Eigenversorgungsanteil"
   ]
  },
  {
   "cell_type": "markdown",
   "metadata": {},
   "source": [
    "- [x] Absolut (Bilanz Jahresmenge) 2bars supply/demand\n",
    "- [x] relativ in Prozent\n",
    "- [ ] histogramm timeseries\n",
    "- [ ] boxplots timeseries (prozentual Energiebilanz)"
   ]
  },
  {
   "cell_type": "markdown",
   "metadata": {},
   "source": [
    "## one scenario"
   ]
  },
  {
   "cell_type": "code",
   "execution_count": null,
   "metadata": {
    "scrolled": false
   },
   "outputs": [],
   "source": [
    "df_data = results_scns['NEP2035']['results_axlxt']['Autarky']\n",
    "df_data = df_data.rename(index=MUN_NAMES)\n",
    "df_data = df_data.sort_values(axis=0, by='relative')\n",
    "fig = go.Figure()\n",
    "\n",
    "\n",
    "\n",
    "data = df_data['supply'] / 1e3\n",
    "\n",
    "fig.add_trace(\n",
    "    go.Bar(x=data.index, y=data.values,  orientation='v', name='Supply',yaxis=\"y1\"))\n",
    "\n",
    "\n",
    "data = df_data['demand'] / 1e3\n",
    "\n",
    "fig.add_trace(\n",
    "    go.Bar(x=data.index, y=data.values,  orientation='v', name='Demand',yaxis=\"y1\"))\n",
    "\n",
    "\n",
    "data = df_data['relative'] * 1e2\n",
    "\n",
    "fig.add_trace(\n",
    "    go.Bar(x=data.index, y=data.values,  orientation='v', name='Relative', visible='legendonly', yaxis=\"y2\"))\n",
    "\n",
    "\n",
    "fig.update_layout(title_text = 'Autarky per AGS',\n",
    "                    autosize=True,\n",
    "                  yaxis=dict(title=\"absolute in GWh\"),\n",
    "                  yaxis2=dict(title=\"relative in %\",\n",
    "                              #type=\"log\",\n",
    "                              anchor=\"x\",\n",
    "                              overlaying=\"y\",\n",
    "                              side=\"right\",\n",
    "                             )\n",
    "                 )\n",
    "\n",
    "fig.show()"
   ]
  },
  {
   "cell_type": "markdown",
   "metadata": {},
   "source": [
    "## multiple scenarios"
   ]
  },
  {
   "cell_type": "code",
   "execution_count": null,
   "metadata": {},
   "outputs": [],
   "source": [
    "df_data = pd.DataFrame({key: results_scns[key]['results_axlxt']['Autarky']['relative']\n",
    "                        for key in results_scns.keys()})\n",
    "df_data = df_data.rename(index=MUN_NAMES)\n",
    "df_data = df_data.sort_values(axis=0, by=df_data.columns[0], ascending=False)\n",
    "df_data = df_data * 1e2\n",
    "\n",
    "fig = go.Figure()\n",
    "\n",
    "for key, data in df_data.items():\n",
    "\n",
    "    fig.add_trace(\n",
    "        go.Bar(x=data.index, y=data.values,  orientation='v', name=key))#, visible='legendonly'))\n",
    "\n",
    "\n",
    "fig.update_layout(title_text = 'Relative Autarky per AGS',\n",
    "                    autosize=True,\n",
    "                  yaxis=dict(title=\"relative in %\"),\n",
    "                 )\n",
    "\n",
    "fig.show()"
   ]
  },
  {
   "cell_type": "markdown",
   "metadata": {},
   "source": [
    "## split hbar"
   ]
  },
  {
   "cell_type": "code",
   "execution_count": null,
   "metadata": {},
   "outputs": [],
   "source": [
    "\n",
    "df_data = results_scns['NEP2035']['results_axlxt']['Autarky']['relative']\n",
    "df_data = df_data.rename(index=MUN_NAMES)\n",
    "df_data = df_data.mul(100)\n",
    "df_data = df_data.sort_values()\n",
    "\n",
    "data=df_data.round()\n",
    "\n",
    "limit=120\n",
    "\n",
    "# split data\n",
    "data_left = data[data < limit]\n",
    "data_right = data[data >= limit]\n",
    "\n",
    "fig = make_subplots(rows=1, cols=2, horizontal_spacing=0.2)\n",
    "\n",
    "fig.add_trace(\n",
    "    go.Bar(y=data.index, x=data_left.values,  orientation='h', name=f'< {limit}'),\n",
    "    row=1, col=1)\n",
    "\n",
    "fig.add_trace(\n",
    "    go.Bar(y=data.index, x=data_right.values,  orientation='h', name=f'> {limit}'),\n",
    "    row=1, col=2)\n",
    "\n",
    "fig.update_yaxes(type='category', row=1, col=1)\n",
    "fig.update_yaxes(type='category', row=1, col=2)\n",
    "\n",
    "fig.update_layout(title_text = 'relative Autarky',\n",
    "                  xaxis=dict(title=' %',\n",
    "                    titlefont_size=12),\n",
    "                    autosize=True)\n",
    "\n",
    "fig.show()"
   ]
  },
  {
   "cell_type": "markdown",
   "metadata": {},
   "source": [
    "## pandas for multiple scenarios"
   ]
  },
  {
   "cell_type": "code",
   "execution_count": null,
   "metadata": {
    "scrolled": true
   },
   "outputs": [],
   "source": [
    "fig, axes  = plt.subplots(2, figsize=(15,10))\n",
    "\n",
    "for scn, ax in zip(results_scns.keys(), axes):\n",
    "\n",
    "    df_data = results_scns[scn]['results_axlxt']['Autarky']['relative']\n",
    "    df_data = df_data.rename(index=MUN_NAMES)\n",
    "    df_data = df_data.mul(100)\n",
    "    df_data = data.sort_values()\n",
    "    \n",
    "    plot_split_hbar(df_data, 120, ax, unit='%', title=scn)\n",
    "\n",
    "fig.suptitle('relative Autarky',\n",
    "     fontsize=16,\n",
    "     fontweight='normal')\n",
    "\n",
    "plt.show()"
   ]
  },
  {
   "cell_type": "markdown",
   "metadata": {},
   "source": [
    "## relative time"
   ]
  },
  {
   "cell_type": "markdown",
   "metadata": {},
   "source": [
    "TODO\n",
    "- [x] prozentual\n",
    "- [ ] Summe über alle Gemeinde als TS zusätzlich?\n",
    "- [ ] relativer Zeitliche Anteil Autarky 10% aller stunden?? was habe ich hiermit gemeint?\n",
    "- [x] Violinplot über Timeseries relativer Anteil\n",
    "- [x] geoplot"
   ]
  },
  {
   "cell_type": "code",
   "execution_count": null,
   "metadata": {
    "scrolled": false
   },
   "outputs": [],
   "source": [
    "df_data = results_scns['NEP2035']['results_axlxt']['Autarky']['hours']\n",
    "max_hours  = len(results_scns['NEP2035']['flows_txaxt']['Autarky'].index.get_level_values(level=0).unique())\n",
    "\n",
    "df_data = df_data / max_hours * 100\n",
    "\n",
    "df_data = df_data.sort_values(ascending=False)\n",
    "df_data = df_data.rename(index=MUN_NAMES)\n",
    "\n",
    "fig, ax = plt.subplots(1, figsize=(15,5))\n",
    "df_data.plot(kind='bar', ax=ax)\n",
    "ax.set_title('Percentage of autark hours',\n",
    "            fontsize=16)\n",
    "ax.set_ylabel('%')\n",
    "ax.tick_params(axis='x', rotation=45)\n",
    "plt.show()"
   ]
  },
  {
   "cell_type": "markdown",
   "metadata": {},
   "source": [
    "- rechter Plot müsste eigentlich eine Prozentscala haben"
   ]
  },
  {
   "cell_type": "markdown",
   "metadata": {},
   "source": [
    "### geoplot"
   ]
  },
  {
   "cell_type": "code",
   "execution_count": null,
   "metadata": {},
   "outputs": [],
   "source": [
    "df_data = results_scns['NEP2035']['results_axlxt']['Autarky'].loc[:,['hours', 'relative']]\n",
    "df_data = df_data.rename(columns=PRINT_NAMES)\n",
    "\n",
    "fig, axes = plt.subplots(1,2, figsize=(12,5))\n",
    "\n",
    "for ax, (key, data) in  zip(axes.flat, df_data.iteritems()):\n",
    "    \n",
    "    plot_geoplot(key, data, regions_scns['NEP2035'], ax=ax)\n",
    "    \n",
    "    \n",
    "fig.suptitle('Autark hours and relative Autarky',\n",
    "     fontsize=16,\n",
    "     fontweight='normal')\n",
    "plt.tight_layout()\n",
    "plt.show()"
   ]
  },
  {
   "cell_type": "markdown",
   "metadata": {},
   "source": [
    "### violinplot"
   ]
  },
  {
   "cell_type": "code",
   "execution_count": null,
   "metadata": {
    "scrolled": false
   },
   "outputs": [],
   "source": [
    "# violinplots\n",
    "df_data = results_scns['NEP2035']['flows_txaxt']['Autarky']['relative'].unstack()\n",
    "\n",
    "df_data.columns = [int(i) for i in df_data.columns]\n",
    "df_data = df_data.rename(columns=MUN_NAMES)\n",
    "\n",
    "limit = 2\n",
    "\n",
    "fig = make_subplots(rows=1, cols=2, horizontal_spacing=0.25)\n",
    "\n",
    "for ags, data in df_data.iteritems():\n",
    "    \n",
    "    if data.describe().loc['mean'] > limit:\n",
    "\n",
    "        fig.add_trace(go.Violin(x=data.values, name=ags, orientation='h'), row=1, col=1)\n",
    "    else:\n",
    "        fig.add_trace(go.Violin(x=data.values, name=ags,  orientation='h'), row=1, col=2)\n",
    "\n",
    "\n",
    "fig.update_xaxes(title_text=\"% autarky\", row=1, col=1)\n",
    "fig.update_yaxes(type='category', row=1, col=1)\n",
    "fig.update_yaxes(type='category', row=1, col=2)\n",
    "\n",
    "\n",
    "fig.update_layout(\n",
    "    title='Relative Autarky')\n",
    "fig.show()"
   ]
  },
  {
   "cell_type": "markdown",
   "metadata": {},
   "source": [
    "# 6 Energymix"
   ]
  },
  {
   "cell_type": "markdown",
   "metadata": {},
   "source": [
    "INFO:\n",
    "- export == ins nationale Netz\n",
    "- ABW_... == intra_regional\n",
    "\n",
    "TODO:\n",
    "\n",
    "BUGS:\n",
    "- [ ] supply und demand sind unausgeglichen!"
   ]
  },
  {
   "cell_type": "code",
   "execution_count": null,
   "metadata": {},
   "outputs": [],
   "source": [
    "supply = results_scns['NEP2035']['flows_txaxt']['Stromerzeugung'].sum(level=1)\n",
    "abw_import = results_scns['NEP2035']['flows_txaxt']['Intra-regional exchange']['import'].sum(level=1)\n",
    "abw_import = abw_import.rename('ABW-import')\n",
    "supply = supply.join(abw_import)\n",
    "\n",
    "\n",
    "demand = results_scns['NEP2035']['flows_txaxt']['Stromnachfrage'].sum(level=1)\n",
    "abw_export = results_scns['NEP2035']['flows_txaxt']['Intra-regional exchange']['export'].sum(level=1)\n",
    "abw_export = abw_export.rename('ABW-export')\n",
    "demand = demand.join(abw_export)\n",
    "    \n",
    "plot_snd_total(regions_scns['NEP2035'], supply , demand)"
   ]
  },
  {
   "cell_type": "markdown",
   "metadata": {},
   "source": [
    "## Energieversorgungsmix - Verlauf"
   ]
  },
  {
   "cell_type": "markdown",
   "metadata": {},
   "source": [
    "TODO:\n",
    "\n",
    "- [ ] Stromspeicher?\n",
    "- [ ] Flexibilitäten?\n",
    "\n",
    "BUGS:\n",
    "\n",
    "- [ ] intra regional exchanges always zero"
   ]
  },
  {
   "cell_type": "code",
   "execution_count": null,
   "metadata": {
    "scrolled": false
   },
   "outputs": [],
   "source": [
    "plot_timeseries(results_scns['NEP2035'], kind='el')#ags='15091160')"
   ]
  },
  {
   "cell_type": "markdown",
   "metadata": {},
   "source": [
    "# 7 Emissions"
   ]
  },
  {
   "cell_type": "markdown",
   "metadata": {},
   "source": [
    "TODO\n",
    "- [ ] units? t CO2?\n",
    "- [ ] emissions compared to SQ\n",
    "- [ ] <s> emissions compared to 1990 (research TODO) </s>\n",
    "- [ ] große Werte besonders schöne Farben\n",
    "- [ ] Notiz zur Zuordnung von KWK zu el etc\n",
    "- [ ] Legend sortieren"
   ]
  },
  {
   "cell_type": "code",
   "execution_count": null,
   "metadata": {
    "scrolled": false
   },
   "outputs": [],
   "source": [
    "df_data_left = results_scns['NEP2035']['results_t']['CO2 emissions th. total'].rename('th').to_frame()\n",
    "df_data_right = results_scns['NEP2035']['results_t']['CO2 emissions el. total'].rename('el').to_frame()\n",
    "\n",
    "# drop nans & zeros\n",
    "df_data_left = df_data_left[df_data_left!=0].dropna()\n",
    "df_data_right = df_data_right[df_data_right!=0].dropna()\n",
    "\n",
    "df = df_data_left.join(df_data_right, how='outer')\n",
    "\n",
    "df = df.T\n",
    "df = df.sort_values(by=list(df.index), axis=1, ascending=True)\n",
    "\n",
    "fig = px.bar(df, orientation='h', title='CO2 Emissions')\n",
    "\n",
    "fig.update_layout(barmode='stack', xaxis={'categoryorder':'total ascending'})\n",
    "fig.update_xaxes(title_text='t CO2')\n",
    "fig.update_yaxes(title_text='')\n",
    "fig.show()"
   ]
  },
  {
   "cell_type": "markdown",
   "metadata": {},
   "source": [
    "# 12, LCOE\n",
    "\n",
    "<div class=\"alert alert-block alert-info\">\n",
    "<b>Notes on LCOE calculation</b>\n",
    "\n",
    "- Total LCOE calculate as $LCOE=\\frac{expenses_{el.total}}{demand_{el.,total}}$, likewise total LCOH calculate as $LCOH=\\frac{expenses_{th.,total}}{demand_{th.,total}}$\n",
    "- Total expenses $expenses_{el.total}$ are annual expenses. Investment costs are discounted to one year using equivalent periodic costs\n",
    "- The plot below shows fractions of these LCOE that are calculated as $LCOE_{technology}=\\frac{expenses_{el.,technology}}{demand_{el.,total}}$ representation the share of each technology at total cost of one MWh\n",
    "</div>\n",
    "    \n",
    "## compare scenarios\n",
    "- [ ] Anmerkung bzgl Interpretation:\n",
    "    - teure Technologie vs viel genutzte Technologie (Kostenanteil)"
   ]
  },
  {
   "cell_type": "code",
   "execution_count": null,
   "metadata": {
    "scrolled": false
   },
   "outputs": [],
   "source": [
    "val = 'LCOE'\n",
    "df = pd.DataFrame([results_scns[sci]['results_t'][val] for sci in scenarios], index=scenarios)\n",
    "\n",
    "df = df.rename(columns=PRINT_NAMES)\n",
    "\n",
    "df = df.sort_values(by=scenarios, axis=1, ascending=True)\n",
    "\n",
    "fig = px.bar(df, orientation='h', title=f'{val}')\n",
    "\n",
    "fig.update_layout(barmode='stack',\n",
    "                  xaxis={'categoryorder':'total ascending'},\n",
    "                  legend={'traceorder':'reversed'}\n",
    "                 )\n",
    "fig.update_xaxes(title_text='€/MWh')\n",
    "fig.update_yaxes(title_text='')\n",
    "fig.show()"
   ]
  },
  {
   "cell_type": "code",
   "execution_count": null,
   "metadata": {
    "scrolled": false
   },
   "outputs": [],
   "source": [
    "val = 'LCOE'\n",
    "df = pd.DataFrame([results_scns[sci]['results_t'][val] for sci in scenarios], index=scenarios)\n",
    "\n",
    "df = df.rename(columns=PRINT_NAMES)\n",
    "\n",
    "df = df.sort_values(by=scenarios, axis=1, ascending=True)\n",
    "\n",
    "fig = px.bar(df, orientation='h', title=f'{val}')\n",
    "\n",
    "fig.update_layout(barmode='stack',\n",
    "                  xaxis={'categoryorder':'total ascending'},\n",
    "                  legend={'traceorder':'reversed'}\n",
    "                 )\n",
    "fig.update_xaxes(title_text='€/MWh')\n",
    "fig.update_yaxes(title_text='')\n",
    "fig.show()"
   ]
  },
  {
   "cell_type": "markdown",
   "metadata": {},
   "source": [
    "## compare LCOE, LCOH\n",
    "- [ ] Legende Sortieren?! "
   ]
  },
  {
   "cell_type": "code",
   "execution_count": null,
   "metadata": {},
   "outputs": [],
   "source": [
    "values = ['LCOE','LCOH']\n",
    "\n",
    "df = pd.DataFrame([results_scns['NEP2035']['results_t'][i] for i in values], index=values)\n",
    "\n",
    "df = df.rename(columns=PRINT_NAMES)\n",
    "\n",
    "df = df.sort_values(by=values, axis=1, ascending=True)\n",
    "\n",
    "fig = px.bar(df, orientation='h', title='LCOE and LCOH')\n",
    "\n",
    "fig.update_layout(barmode='stack', xaxis={'categoryorder':'total ascending'})\n",
    "fig.update_xaxes(title_text='€/MWh')\n",
    "fig.update_yaxes(title_text='')\n",
    "fig.show()"
   ]
  },
  {
   "cell_type": "markdown",
   "metadata": {},
   "source": [
    "# 9,10 Line Loadings"
   ]
  },
  {
   "cell_type": "markdown",
   "metadata": {},
   "source": [
    "- [ ] Leitungskapazität? TODO Guido\n",
    "    - Um nach Auslastung zu schauen?"
   ]
  },
  {
   "cell_type": "code",
   "execution_count": null,
   "metadata": {},
   "outputs": [],
   "source": [
    "df_data = results_scns['NEP2035']['flows_txaxt']['Line loading'].max(level=1) * 100\n",
    "df_data = df_data.sort_index(ascending=False)\n",
    "\n",
    "fig = go.Figure() \n",
    "fig.add_bar(y=df_data.index,\n",
    "            x=df_data.values,\n",
    "            orientation='h',\n",
    "            name='line loading',\n",
    "            marker_color='red')\n",
    "fig.add_bar(y=df_data.index,\n",
    "            x=100-df_data.values,\n",
    "            orientation='h',\n",
    "            name='free capacity',\n",
    "            marker_color='green')\n",
    "\n",
    "fig.update_layout(barmode=\"relative\",\n",
    "    title='Maximum Line Loading',\n",
    "    yaxis_tickfont_size=12,\n",
    "    xaxis=dict(\n",
    "        title='Loading in %',\n",
    "        titlefont_size=16,\n",
    "        tickfont_size=12,\n",
    "    ))\n",
    "\n",
    "fig.update_yaxes(type='category')\n",
    "fig.update_layout(width=800)\n",
    "fig.show()\n"
   ]
  },
  {
   "cell_type": "markdown",
   "metadata": {},
   "source": [
    "# ENDE"
   ]
  },
  {
   "cell_type": "raw",
   "metadata": {},
   "source": [
    "# bus to bus\n",
    "results_scns['NEP2035']['flows_txaxt']['Stromnetz per bus']"
   ]
  },
  {
   "cell_type": "raw",
   "metadata": {},
   "source": [
    "# ags to ags inside\n",
    "results_scns['NEP2035']['flows_txaxt']['Stromnetz']"
   ]
  },
  {
   "cell_type": "raw",
   "metadata": {},
   "source": [
    "# ags to external\n",
    "results_scns['NEP2035']['flows_txaxt']['Stromnetz exchange']"
   ]
  },
  {
   "cell_type": "raw",
   "metadata": {},
   "source": [
    "results_scns['NEP2035']['parameters'][\"Installed capacity grid\"]"
   ]
  },
  {
   "cell_type": "markdown",
   "metadata": {},
   "source": [
    "# advanced/split violin plot"
   ]
  },
  {
   "cell_type": "raw",
   "metadata": {},
   "source": [
    "df_data = results_scns['NEP2035']['flows_txaxt']['Line loading'] * 100\n",
    "ags = df_data.index.get_level_values(level=1).unique()[0]\n",
    "df_data.loc[(ags)].unstack().T\n",
    "\n",
    "\n",
    "fig = px.violin(df_data)#, points=\"all\")\n",
    "fig.show()"
   ]
  },
  {
   "cell_type": "raw",
   "metadata": {},
   "source": [
    "list(results_scns['NEP2035']['parameters'])"
   ]
  },
  {
   "cell_type": "raw",
   "metadata": {},
   "source": [
    "# Timeseries\n",
    "results_scns['NEP2035']['flows_txaxt']['Stromnetz']"
   ]
  },
  {
   "cell_type": "raw",
   "metadata": {
    "scrolled": false
   },
   "source": [
    "# Summenwert\n",
    "results_scns['NEP2035']['results_axlxt']['Stromnetzleitungen']"
   ]
  },
  {
   "cell_type": "markdown",
   "metadata": {},
   "source": [
    "# 8 Flexibility"
   ]
  },
  {
   "cell_type": "raw",
   "metadata": {},
   "source": [
    "results_scns['NEP2035']['highlevel_results']"
   ]
  },
  {
   "cell_type": "raw",
   "metadata": {},
   "source": [
    "results_scns['NEP2035']['results_t'].keys()"
   ]
  },
  {
   "cell_type": "markdown",
   "metadata": {},
   "source": [
    "## Heatstorage"
   ]
  },
  {
   "cell_type": "markdown",
   "metadata": {},
   "source": [
    "Fragen:\n",
    "- ist usage überhaupt der Nutzungsgrad? jain"
   ]
  },
  {
   "cell_type": "markdown",
   "metadata": {},
   "source": [
    "- [ ] Kennzahlen erstellen\n",
    "    - Charge / Ladeleistung (nominal value)\n",
    "    - Discharge / Entladeleistung\n",
    "    - Charge / Nennspeicherkapazität\n",
    "    - Discharge / Nennspeicherkapazität"
   ]
  },
  {
   "cell_type": "raw",
   "metadata": {},
   "source": [
    "charge = results_scns['NEP2035']['results_axlxt']['Wärmespeicher nach Gemeinde'].loc[:,'charge']\n",
    "discharge = results_scns['NEP2035']['results_axlxt']['Wärmespeicher nach Gemeinde'].loc[:,'discharge']\n",
    "usage = discharge/charge"
   ]
  },
  {
   "cell_type": "raw",
   "metadata": {},
   "source": [
    "usage"
   ]
  },
  {
   "cell_type": "markdown",
   "metadata": {},
   "source": [
    "## Batterystorage"
   ]
  },
  {
   "cell_type": "markdown",
   "metadata": {},
   "source": [
    "- Batteriespeicher leer?"
   ]
  },
  {
   "cell_type": "raw",
   "metadata": {
    "scrolled": false
   },
   "source": [
    "results_scns['NEP2035']['parameters']['Installierte Kapazität Großbatterien']"
   ]
  },
  {
   "cell_type": "raw",
   "metadata": {},
   "source": [
    "results_scns['NEP2035']['results_axlxt']['Batteriespeicher nach Gemeinde']"
   ]
  },
  {
   "cell_type": "raw",
   "metadata": {},
   "source": [
    "# timeseries\n",
    "results_scns['NEP2035']['flows_txaxt']['Batteriespeicher']"
   ]
  },
  {
   "cell_type": "markdown",
   "metadata": {},
   "source": [
    "- nur increase activation?"
   ]
  },
  {
   "cell_type": "raw",
   "metadata": {},
   "source": [
    "# timeseries\n",
    "results_scns['NEP2035']['flows_txaxt']['Batteriespeicher']"
   ]
  },
  {
   "cell_type": "raw",
   "metadata": {},
   "source": [
    "results_scns['NEP2035']['results_axlxt']['Stromnetzleitungen']"
   ]
  },
  {
   "cell_type": "markdown",
   "metadata": {},
   "source": [
    "## DSM"
   ]
  },
  {
   "cell_type": "markdown",
   "metadata": {},
   "source": [
    "- Bezug auf hh-demand-mit-dsm beziehen?\n",
    "    - auf total\n",
    "    - auf hh-demand\n",
    "- absolute dsm activation\n",
    "- pro AGS"
   ]
  },
  {
   "cell_type": "raw",
   "metadata": {},
   "source": [
    "results_scns['NEP2035']['results_axlxt']['Net DSM activation']"
   ]
  },
  {
   "cell_type": "markdown",
   "metadata": {},
   "source": [
    "- nur increase activation? JA!"
   ]
  },
  {
   "cell_type": "raw",
   "metadata": {},
   "source": [
    "results_scns['NEP2035']['flows_txaxt']['DSM activation']#['results_axlxt'].keys()"
   ]
  },
  {
   "cell_type": "code",
   "execution_count": null,
   "metadata": {},
   "outputs": [],
   "source": []
  },
  {
   "cell_type": "code",
   "execution_count": null,
   "metadata": {},
   "outputs": [],
   "source": []
  },
  {
   "cell_type": "markdown",
   "metadata": {},
   "source": [
    "# inter ags elec transport / chord diagramm"
   ]
  },
  {
   "cell_type": "raw",
   "metadata": {},
   "source": [
    "fig = go.Figure(data=[go.Sankey(\n",
    "    node = dict(\n",
    "      pad = 15,\n",
    "      thickness = 20,\n",
    "      line = dict(color = \"black\", width = 0.5),\n",
    "      label = [\"A1\", \"A2\", \"A3\", \"B1\", \"B2\", \"B3\"],\n",
    "      customdata = [\"Long name A1\", \"Long name A2\", \"Long name A3\", \"Long name B1\",\n",
    "                    \"Long name B2\", \"Long name B3\"],\n",
    "        \n",
    "      hovertemplate='Node %{customdata} has total value %{value}<extra></extra>',  \n",
    "      color = \"blue\"\n",
    "    ),\n",
    "    link = dict(\n",
    "      source = [0, 0, 0, 3, 5, 3], # indices correspond to labels, eg A1, A2, A2, B1, ...\n",
    "      target = [3, 3, 4, 1, 4, 5],\n",
    "      value = [8, 4, 2, 8, 4, 2],\n",
    "        color = ['green', 'yellow', 'black', 'red', 'violet', 'white'],\n",
    "      customdata = [\"q\",\"r\",\"s\",\"t\",\"u\",\"v\"],\n",
    "        \n",
    "      hovertemplate='Link from node %{source.customdata}<br />'+\n",
    "        'to node%{target.customdata}<br />has value %{value}'+\n",
    "        '<br />and data %{customdata}<extra></extra>',  \n",
    "  ))])\n",
    "\n",
    "fig.update_layout(title_text=\"Basic Sankey Diagram\", font_size=10)\n",
    "fig.show()"
   ]
  },
  {
   "cell_type": "raw",
   "metadata": {},
   "source": [
    "fig = go.Figure(go.Sankey(\n",
    "    arrangement = \"snap\",\n",
    "    node = {\n",
    "        \"label\": [\"A\", \"B\", \"C\", \"D\", \"E\", \"F\"],\n",
    "        \"x\": [0.2, 0.1, 0.5, 0.7, 0.3, 0.5],\n",
    "        \"y\": [0.7, 0.5, 0.2, 0.4, 0.2, 0.3],\n",
    "        'pad':10},  # 10 Pixels\n",
    "    link = {\n",
    "        \"source\": [0, 0, 1, 2, 5, 4, 3, 5],\n",
    "        \"target\": [5, 3, 4, 3, 0, 2, 2, 3],\n",
    "        \"value\": [1, 2, 1, 1, 1, 1, 1, 2]}))\n",
    "\n",
    "fig.show()"
   ]
  },
  {
   "cell_type": "raw",
   "metadata": {},
   "source": [
    "# inside region\n",
    "results_scns['NEP2035']['flows_txaxt']['Stromnetz'].index.get_level_values(level=1).unique()"
   ]
  },
  {
   "cell_type": "raw",
   "metadata": {},
   "source": [
    "# external lines\n",
    "results_scns['NEP2035']['flows_txaxt']['Stromnetz exchange'].index.get_level_values(level=1).unique()"
   ]
  },
  {
   "cell_type": "raw",
   "metadata": {},
   "source": [
    "\n",
    "results_scns['NEP2035']['results_axlxt']['Stromnetzleitungen']"
   ]
  },
  {
   "cell_type": "raw",
   "metadata": {},
   "source": []
  },
  {
   "cell_type": "markdown",
   "metadata": {},
   "source": [
    "## chord diagram"
   ]
  },
  {
   "cell_type": "raw",
   "metadata": {},
   "source": [
    "import pandas as pd\n",
    "import holoviews as hv\n",
    "from holoviews import opts, dim"
   ]
  },
  {
   "cell_type": "raw",
   "metadata": {},
   "source": [
    "bus_to = results_scns['NEP2035']['flows_txaxt']['Stromnetz'].index.get_level_values(3).unique()\n",
    "bus_from = results_scns['NEP2035']['flows_txaxt']['Stromnetz'].index.get_level_values(2).unique()"
   ]
  },
  {
   "cell_type": "raw",
   "metadata": {},
   "source": [
    "set(bus_to).difference(set(bus_from))"
   ]
  },
  {
   "cell_type": "raw",
   "metadata": {},
   "source": [
    "set(bus_from).difference(set(bus_to))"
   ]
  },
  {
   "cell_type": "raw",
   "metadata": {},
   "source": [
    "chord_links = pd.DataFrame(index=results_scns['NEP2035']['flows_txaxt']['Stromnetz'].index.get_level_values(1).unique())\n",
    "chord_links['source'] = results_scns['NEP2035']['flows_txaxt']['Stromnetz'].loc['2015-01-01 00:00:00'].index.get_level_values(1)\n",
    "chord_links['target'] = results_scns['NEP2035']['flows_txaxt']['Stromnetz'].loc['2015-01-01 00:00:00'].index.get_level_values(2)\n",
    "chord_links['value'] = results_scns['NEP2035']['flows_txaxt']['Stromnetz'].sum(level=1).mean(axis=1)"
   ]
  },
  {
   "cell_type": "raw",
   "metadata": {},
   "source": [
    "# nur test\n",
    "chord_links['value'] = chord_links['value'].abs().astype(int)"
   ]
  },
  {
   "cell_type": "raw",
   "metadata": {},
   "source": [
    "chord_links"
   ]
  },
  {
   "cell_type": "markdown",
   "metadata": {},
   "source": [
    "- Plotly lässt sich nicht als bereits berechnetes HTML anzeigen / nur zur veranschaulichung\n",
    "- -> Binder\n",
    "\n",
    "#### Darstellung mit matplotlib\n",
    "\n",
    "- Summe über Gemeinde als TS zusätzlich\n",
    "- relativer Zeitliche Anteil Autarky\n",
    "- mehrere Plots für ags?\n",
    "- Summen über Tage?\n",
    "\n",
    "- geoplot"
   ]
  },
  {
   "cell_type": "code",
   "execution_count": null,
   "metadata": {},
   "outputs": [],
   "source": []
  },
  {
   "cell_type": "code",
   "execution_count": null,
   "metadata": {},
   "outputs": [],
   "source": []
  }
 ],
 "metadata": {
  "kernelspec": {
   "display_name": "Python [conda env:windnode-abw]",
   "language": "python",
   "name": "conda-env-windnode-abw-py"
  },
  "language_info": {
   "codemirror_mode": {
    "name": "ipython",
    "version": 3
   },
   "file_extension": ".py",
   "mimetype": "text/x-python",
   "name": "python",
   "nbconvert_exporter": "python",
   "pygments_lexer": "ipython3",
   "version": "3.7.7"
  }
 },
 "nbformat": 4,
 "nbformat_minor": 4
}
