{
 "cells": [
  {
   "cell_type": "markdown",
   "metadata": {},
   "source": [
    "# WINDNODE ABW - Scenario Analysis\n",
    "\n",
    "<img src=\"http://reiner-lemoine-institut.de//wp-content/uploads/2015/09/rlilogo.png\" width=\"100\" style=\"float: right\">\n",
    "\n",
    "__copyright__ \t= \"© Reiner Lemoine Institut\" <br>\n",
    "__license__ \t= \"GNU Affero General Public License Version 3 (AGPL-3.0)\" <br>\n",
    "__url__ \t\t= \"https://www.gnu.org/licenses/agpl-3.0.en.html\" <br>\n",
    "__author__ \t\t= \"Jonathan Amme\" <br>"
   ]
  },
  {
   "cell_type": "code",
   "execution_count": null,
   "metadata": {},
   "outputs": [],
   "source": [
    "%load_ext autoreload\n",
    "%autoreload 2"
   ]
  },
  {
   "cell_type": "code",
   "execution_count": null,
   "metadata": {},
   "outputs": [],
   "source": [
    "####### WINDNODE ########\n",
    "# define and setup logger\n",
    "from windnode_abw.tools.logger import setup_logger\n",
    "logger = setup_logger()\n",
    "\n",
    "# load configs\n",
    "from windnode_abw.tools import config\n",
    "config.load_config('config_data.cfg')\n",
    "config.load_config('config_misc.cfg')\n",
    "\n",
    "from windnode_abw.analysis import analysis\n",
    "from windnode_abw.tools.draw import *\n",
    "\n",
    "######### DATA ##########\n",
    "\n",
    "import re\n",
    "import pandas as pd\n",
    "\n",
    "####### Plotting ########\n",
    "\n",
    "# Plotting\n",
    "import matplotlib.pyplot as plt\n",
    "from mpl_toolkits.axes_grid1 import make_axes_locatable\n",
    "from matplotlib.ticker import ScalarFormatter\n",
    "import seaborn as sns\n",
    "# set seaborn style\n",
    "sns.set()\n",
    "\n",
    "import plotly.express as px\n",
    "import plotly.graph_objs as go\n",
    "from plotly.subplots import make_subplots"
   ]
  },
  {
   "cell_type": "code",
   "execution_count": null,
   "metadata": {
    "tags": [
     "parameters"
    ]
   },
   "outputs": [],
   "source": [
    "# papermill parameters will be inserted below this tagged cell"
   ]
  },
  {
   "cell_type": "markdown",
   "metadata": {},
   "source": [
    "TODO: suppress long log output of analysis"
   ]
  },
  {
   "cell_type": "code",
   "execution_count": null,
   "metadata": {},
   "outputs": [],
   "source": [
    "# obtain processed results\n",
    "regions_scns, results_scns = analysis(run_timestamp=run_timestamp,\n",
    "                                      scenarios=scenarios,\n",
    "                                      force_new_results=force_new_results)"
   ]
  },
  {
   "cell_type": "code",
   "execution_count": null,
   "metadata": {},
   "outputs": [],
   "source": [
    "##### Usefull stuff ######\n",
    "\n",
    "# Names of Municialities\n",
    "MUN_NAMES = regions_scns['StatusQuo_DSMno'].muns.gen.to_dict()\n",
    "# extend for total ABW region\n",
    "MUN_NAMES.update({100:'ABW'})\n",
    "# Colormap\n",
    "CMAP = px.colors.sequential.GnBu_r"
   ]
  },
  {
   "cell_type": "markdown",
   "metadata": {},
   "source": [
    "# 0 Results Overview"
   ]
  },
  {
   "cell_type": "code",
   "execution_count": null,
   "metadata": {},
   "outputs": [],
   "source": [
    "plot_essential_scenario_results(results_scns, scenarios)"
   ]
  },
  {
   "cell_type": "markdown",
   "metadata": {},
   "source": [
    "# 1 Demand and Generation"
   ]
  },
  {
   "cell_type": "markdown",
   "metadata": {},
   "source": [
    "## 1.1 Installed Capacities Electricity/Heat"
   ]
  },
  {
   "cell_type": "markdown",
   "metadata": {},
   "source": [
    "TODO\n",
    "- [ ] Fix title overlap\n",
    "- [ ] Scenario order?"
   ]
  },
  {
   "cell_type": "code",
   "execution_count": null,
   "metadata": {},
   "outputs": [],
   "source": [
    "cap_el = pd.DataFrame({scn: results_scns[scn]['parameters']['Installed capacity electricity supply'].sum(axis=0)\n",
    "                       for scn in scenarios}).T\n",
    "\n",
    "cap_el = cap_el.assign(sum=cap_el.sum(axis=1)) \\\n",
    "    .sort_values(by='sum', ascending=False) \\\n",
    "    .drop('sum', axis=1) \\\n",
    "    .rename(columns=PRINT_NAMES)\n",
    "\n",
    "fig = go.Figure()\n",
    "\n",
    "for tech, data in cap_el.iteritems():\n",
    "    fig.add_trace(go.Bar(x=cap_el.index,\n",
    "                         y=data,\n",
    "                         name=tech,\n",
    "                         #orientation='h',\n",
    "                         showlegend=True))\n",
    "\n",
    "fig.update_layout(\n",
    "    title='Installed Capacity Electricity Supply',\n",
    "    barmode='stack',\n",
    "    hovermode=\"x unified\",\n",
    "    height=800,\n",
    "    xaxis_tickfont_size=12,\n",
    "    yaxis=dict(title='MW',\n",
    "               titlefont_size=16,\n",
    "               tickfont_size=14),\n",
    "    legend=dict(orientation=\"h\",\n",
    "                yanchor=\"bottom\",\n",
    "                y=1.02,\n",
    "                xanchor=\"right\",\n",
    "                x=1),\n",
    "    autosize=True)\n",
    "\n",
    "fig.show()"
   ]
  },
  {
   "cell_type": "code",
   "execution_count": null,
   "metadata": {},
   "outputs": [],
   "source": [
    "cap_th = pd.DataFrame({scn: results_scns[scn]['parameters']['Installed capacity heat supply'].sum(axis=0)\n",
    "                       for scn in scenarios}).T.rename(columns=PRINT_NAMES)\n",
    "\n",
    "cap_th = cap_th.assign(sum=cap_th.sum(axis=1)) \\\n",
    "    .sort_values(by='sum', ascending=False) \\\n",
    "    .drop('sum', axis=1) \\\n",
    "    .rename(columns=PRINT_NAMES)\n",
    "\n",
    "fig = go.Figure()\n",
    "\n",
    "for tech, data in cap_th.iteritems():\n",
    "    fig.add_trace(go.Bar(x=cap_th.index,\n",
    "                         y=data,\n",
    "                         name=tech,\n",
    "                         #orientation='h',\n",
    "                         showlegend=True))\n",
    "\n",
    "fig.update_layout(\n",
    "    title='Installed Capacity Heat Supply',\n",
    "    barmode='stack',\n",
    "    hovermode=\"x unified\",\n",
    "    height=800,\n",
    "    xaxis_tickfont_size=12,\n",
    "    yaxis=dict(title='MW',\n",
    "               titlefont_size=16,\n",
    "               tickfont_size=14),\n",
    "    legend=dict(orientation=\"h\",\n",
    "                yanchor=\"bottom\",\n",
    "                y=1.02,\n",
    "                xanchor=\"right\",\n",
    "                x=1),\n",
    "    autosize=True)\n",
    "fig.show()"
   ]
  },
  {
   "cell_type": "markdown",
   "metadata": {},
   "source": [
    "## 1.2 Electricity and Heat Generation"
   ]
  },
  {
   "cell_type": "code",
   "execution_count": null,
   "metadata": {},
   "outputs": [],
   "source": []
  },
  {
   "cell_type": "markdown",
   "metadata": {},
   "source": [
    "## 1.3 Electricity and Heat Demand"
   ]
  },
  {
   "cell_type": "code",
   "execution_count": null,
   "metadata": {},
   "outputs": [],
   "source": []
  },
  {
   "cell_type": "markdown",
   "metadata": {},
   "source": [
    "# 2 Area required by RES"
   ]
  },
  {
   "cell_type": "markdown",
   "metadata": {},
   "source": [
    "## 2.1 Available areas: Scenarios"
   ]
  },
  {
   "cell_type": "markdown",
   "metadata": {},
   "source": [
    "### 2.1.1 Available areas: Wind Energy"
   ]
  },
  {
   "cell_type": "markdown",
   "metadata": {},
   "source": [
    "### 2.1.2 Available areas: Ground-Mounted PV"
   ]
  },
  {
   "cell_type": "markdown",
   "metadata": {},
   "source": [
    "### 2.1.3 Available areas: Roof-Mounted PV"
   ]
  },
  {
   "cell_type": "markdown",
   "metadata": {},
   "source": [
    "## 2.2 Area usage"
   ]
  },
  {
   "cell_type": "code",
   "execution_count": null,
   "metadata": {},
   "outputs": [],
   "source": []
  }
 ],
 "metadata": {
  "kernelspec": {
   "display_name": "Python 3",
   "language": "python",
   "name": "python3"
  },
  "language_info": {
   "codemirror_mode": {
    "name": "ipython",
    "version": 3
   },
   "file_extension": ".py",
   "mimetype": "text/x-python",
   "name": "python",
   "nbconvert_exporter": "python",
   "pygments_lexer": "ipython3",
   "version": "3.8.2"
  }
 },
 "nbformat": 4,
 "nbformat_minor": 4
}
