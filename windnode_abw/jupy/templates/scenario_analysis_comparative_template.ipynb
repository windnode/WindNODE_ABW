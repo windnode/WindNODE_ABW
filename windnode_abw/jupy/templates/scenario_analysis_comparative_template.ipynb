{
 "cells": [
  {
   "cell_type": "markdown",
   "metadata": {},
   "source": [
    "# WINDNODE ABW - Scenario Analysis\n",
    "\n",
    "<img src=\"http://reiner-lemoine-institut.de//wp-content/uploads/2015/09/rlilogo.png\" width=\"100\" style=\"float: right\">\n",
    "\n",
    "__copyright__ \t= \"© Reiner Lemoine Institut\" <br>\n",
    "__license__ \t= \"GNU Affero General Public License Version 3 (AGPL-3.0)\" <br>\n",
    "__url__ \t\t= \"https://www.gnu.org/licenses/agpl-3.0.en.html\" <br>\n",
    "__author__ \t\t= \"Jonathan Amme\" <br>"
   ]
  },
  {
   "cell_type": "markdown",
   "metadata": {},
   "source": [
    "GENERAL TODO\n",
    "- [ ] use consistent scenario order, cf. https://github.com/windnode/WindNODE_ABW/issues/64#issuecomment-670712969"
   ]
  },
  {
   "cell_type": "markdown",
   "metadata": {},
   "source": [
    "# Table of Contents\n",
    "\n",
    "* [0 Key Results](#0_key_results)\n",
    "* [1 Demand and Generation](#1_demand_and_generation)\n",
    "* [2 Area required by RES](#2_area_required_by_res)"
   ]
  },
  {
   "cell_type": "code",
   "execution_count": null,
   "metadata": {},
   "outputs": [],
   "source": [
    "%load_ext autoreload\n",
    "%autoreload 2"
   ]
  },
  {
   "cell_type": "code",
   "execution_count": null,
   "metadata": {},
   "outputs": [],
   "source": [
    "%%javascript\n",
    "IPython.OutputArea.prototype._should_scroll = function(lines) {\n",
    "    return false;\n",
    "} "
   ]
  },
  {
   "cell_type": "code",
   "execution_count": null,
   "metadata": {},
   "outputs": [],
   "source": [
    "####### WINDNODE ########\n",
    "# define and setup logger\n",
    "from windnode_abw.tools.logger import setup_logger\n",
    "logger = setup_logger()\n",
    "\n",
    "# load configs\n",
    "from windnode_abw.tools import config\n",
    "config.load_config('config_data.cfg')\n",
    "config.load_config('config_misc.cfg')\n",
    "\n",
    "from windnode_abw.analysis import analysis\n",
    "from windnode_abw.tools.draw import *\n",
    "\n",
    "######### DATA ##########\n",
    "\n",
    "import re\n",
    "import pandas as pd\n",
    "\n",
    "####### Plotting ########\n",
    "\n",
    "# Plotting\n",
    "import matplotlib.pyplot as plt\n",
    "from mpl_toolkits.axes_grid1 import make_axes_locatable\n",
    "from matplotlib.ticker import ScalarFormatter\n",
    "import seaborn as sns\n",
    "# set seaborn style\n",
    "sns.set()\n",
    "\n",
    "import plotly.express as px\n",
    "import plotly.graph_objs as go\n",
    "from plotly.subplots import make_subplots"
   ]
  },
  {
   "cell_type": "code",
   "execution_count": null,
   "metadata": {
    "tags": [
     "parameters"
    ]
   },
   "outputs": [],
   "source": [
    "# papermill parameters will be inserted below this tagged cell"
   ]
  },
  {
   "cell_type": "markdown",
   "metadata": {},
   "source": [
    "TODO\n",
    "- [ ] suppress long log output of analysis"
   ]
  },
  {
   "cell_type": "code",
   "execution_count": null,
   "metadata": {},
   "outputs": [],
   "source": [
    "# obtain processed results\n",
    "regions_scns, results_scns = analysis(run_timestamp=run_timestamp,\n",
    "                                      scenarios=scenarios,\n",
    "                                      force_new_results=force_new_results)"
   ]
  },
  {
   "cell_type": "code",
   "execution_count": null,
   "metadata": {},
   "outputs": [],
   "source": [
    "##### Usefull stuff ######\n",
    "scn = list(scenarios)[-2]\n",
    "# Names of Municialities\n",
    "MUN_NAMES = regions_scns[scn].muns.gen.to_dict()\n",
    "# extend for total ABW region\n",
    "MUN_NAMES.update({100:'ABW'})\n",
    "# Colormap\n",
    "CMAP = px.colors.sequential.GnBu_r\n",
    "#CMAP_NAME_KEY_PLOT = 'GnBu_r'\n",
    "CMAP_NAME_KEY_PLOT = 'viridis'"
   ]
  },
  {
   "cell_type": "markdown",
   "metadata": {},
   "source": [
    "# 0 Key Results <a class=\"anchor\" id=\"0_key_results\"></a>"
   ]
  },
  {
   "cell_type": "markdown",
   "metadata": {},
   "source": [
    "The following plots provide an overview on the key results of all scenarios.\n",
    "\n",
    "TODO\n",
    "- [ ] add explanations on params\n",
    "- [ ] rework autarky as soon as #135 is merged\n",
    "- [ ] fix title position"
   ]
  },
  {
   "cell_type": "code",
   "execution_count": null,
   "metadata": {},
   "outputs": [],
   "source": [
    "scenario_results = plot_key_scenario_results(results_scns, scenarios, CMAP_NAME_KEY_PLOT)"
   ]
  },
  {
   "cell_type": "markdown",
   "metadata": {},
   "source": [
    "# 1 Demand and Generation <a class=\"anchor\" id=\"1_demand_and_generation\"></a>"
   ]
  },
  {
   "cell_type": "markdown",
   "metadata": {},
   "source": [
    "## 1.1 Installed Capacities Electricity/Heat"
   ]
  },
  {
   "cell_type": "markdown",
   "metadata": {},
   "source": [
    "TODO\n",
    "- [ ] Fix title overlap\n",
    "- [ ] Scenario order?\n",
    "- [ ] Fix Autarky as soon as PR 135 is done"
   ]
  },
  {
   "cell_type": "code",
   "execution_count": null,
   "metadata": {},
   "outputs": [],
   "source": [
    "cap_el = pd.DataFrame({scn: results_scns[scn]['parameters']['Installed capacity electricity supply'].sum(axis=0)\n",
    "                       for scn in scenarios}).T\n",
    "\n",
    "cap_el = cap_el.assign(sum=cap_el.sum(axis=1)) \\\n",
    "    .sort_values(by='sum', ascending=False) \\\n",
    "    .drop('sum', axis=1) \\\n",
    "    .rename(columns=PRINT_NAMES)\n",
    "\n",
    "fig = go.Figure()\n",
    "\n",
    "for tech, data in cap_el.iteritems():\n",
    "    fig.add_trace(go.Bar(x=cap_el.index,\n",
    "                         y=data,\n",
    "                         name=tech,\n",
    "                         #orientation='h',\n",
    "                         showlegend=True))\n",
    "\n",
    "fig.update_layout(\n",
    "    title='Installed Capacity Electricity Supply',\n",
    "    barmode='stack',\n",
    "    hovermode=\"x unified\",\n",
    "    height=800,\n",
    "    xaxis_tickfont_size=12,\n",
    "    yaxis=dict(title='MW',\n",
    "               titlefont_size=16,\n",
    "               tickfont_size=14),\n",
    "    legend=dict(orientation=\"h\",\n",
    "                yanchor=\"bottom\",\n",
    "                y=1.02,\n",
    "                xanchor=\"right\",\n",
    "                x=1),\n",
    "    autosize=True)\n",
    "\n",
    "fig.show()"
   ]
  },
  {
   "cell_type": "code",
   "execution_count": null,
   "metadata": {},
   "outputs": [],
   "source": [
    "cap_th = pd.DataFrame({scn: results_scns[scn]['parameters']['Installed capacity heat supply'].sum(axis=0)\n",
    "                       for scn in scenarios}).T.rename(columns=PRINT_NAMES)\n",
    "\n",
    "cap_th = cap_th.assign(sum=cap_th.sum(axis=1)) \\\n",
    "    .sort_values(by='sum', ascending=False) \\\n",
    "    .drop('sum', axis=1) \\\n",
    "    .rename(columns=PRINT_NAMES)\n",
    "\n",
    "fig = go.Figure()\n",
    "\n",
    "for tech, data in cap_th.iteritems():\n",
    "    fig.add_trace(go.Bar(x=cap_th.index,\n",
    "                         y=data,\n",
    "                         name=tech,\n",
    "                         #orientation='h',\n",
    "                         showlegend=True))\n",
    "\n",
    "fig.update_layout(\n",
    "    title='Installed Capacity Heat Supply',\n",
    "    barmode='stack',\n",
    "    hovermode=\"x unified\",\n",
    "    height=800,\n",
    "    xaxis_tickfont_size=12,\n",
    "    yaxis=dict(title='MW',\n",
    "               titlefont_size=16,\n",
    "               tickfont_size=14),\n",
    "    legend=dict(orientation=\"h\",\n",
    "                yanchor=\"bottom\",\n",
    "                y=1.02,\n",
    "                xanchor=\"right\",\n",
    "                x=1),\n",
    "    autosize=True)\n",
    "fig.show()"
   ]
  },
  {
   "cell_type": "markdown",
   "metadata": {},
   "source": [
    "## 1.2 Electricity and Heat Generation"
   ]
  },
  {
   "cell_type": "code",
   "execution_count": null,
   "metadata": {},
   "outputs": [],
   "source": [
    "gen_el = pd.DataFrame({scn: results_scns[scn]['results_t']['Electricity generation']\n",
    "                       for scn in scenarios}).T\n",
    "gen_th = pd.DataFrame({scn: results_scns[scn]['results_t']['Heat generation']\n",
    "                       for scn in scenarios}).T\n",
    "df_gen = pd.concat([gen_el, gen_th], axis=0, keys=['Electricity','Heat'])\n",
    "df_gen = df_gen / 1e3\n",
    "df_gen = df_gen.rename(columns=PRINT_NAMES)\n",
    "fig = make_subplots(rows=2, cols=1, vertical_spacing=0.05, subplot_titles=['Electricity','Heat'])\n",
    "for sector, df in df_gen.groupby(level=0):\n",
    "    row = 1 if sector == 'Electricity' else 2\n",
    "\n",
    "    for tech, data in df.loc[sector].iteritems():\n",
    "        fig.add_trace(go.Bar(y=data.index,\n",
    "                             x=data,\n",
    "                             name=tech,\n",
    "                             orientation='h',\n",
    "                             hovertemplate='%{x:.1f} GWh',\n",
    "                             showlegend=True),row=row, col=1)\n",
    "fig.update_layout(\n",
    "    title='Generation',\n",
    "    barmode='stack',\n",
    "    hovermode=\"y unified\",\n",
    "    height=50*len(scenarios),\n",
    "    autosize=True)\n",
    "\n",
    "fig.update_xaxes(title_text=\"GWH\", row=2, col=1)\n",
    "fig.show()"
   ]
  },
  {
   "cell_type": "code",
   "execution_count": null,
   "metadata": {},
   "outputs": [],
   "source": [
    "gen_el = pd.DataFrame({scn: results_scns[scn]['results_t']['Electricity generation']\n",
    "                       for scn in scenarios}).T\n",
    "gen_th = pd.DataFrame({scn: results_scns[scn]['results_t']['Heat generation']\n",
    "                       for scn in scenarios}).T\n",
    "df_gen = pd.concat([gen_el, gen_th], axis=0, keys=['Electricity','Heat'])\n",
    "df_gen = df_gen.rename(columns=PRINT_NAMES)\n",
    "df_gen = df_gen / 1e3\n",
    "\n",
    "fig = make_subplots(rows=len(scenarios), cols=1, shared_xaxes=True, vertical_spacing=0)\n",
    "for row, (key, df) in enumerate(df_gen.groupby(level=1)):\n",
    "    for i, (tech, data) in enumerate(df.iteritems()):\n",
    "        fig.add_trace(go.Bar(y=list(zip(*data.index.swaplevel())),\n",
    "                             x=data,\n",
    "                             name=tech,\n",
    "                             orientation='h',\n",
    "                             #marker_color=CMAP[i+1],\n",
    "                             legendgroup=tech,\n",
    "                             hovertemplate='%{x:.1f} GWh',\n",
    "                             showlegend=not bool(row)), row=row+1, col=1)\n",
    "\n",
    "fig.update_layout(\n",
    "    title='Demand',\n",
    "    barmode='stack',\n",
    "    hovermode=\"y unified\",\n",
    "    height=50*len(scenarios),\n",
    "    legend= {'tracegroupgap': 0},\n",
    "    autosize=True)\n",
    "\n",
    "fig.update_xaxes(title_text=\"GWH\", row=len(scenarios), col=1, matches='x')\n",
    "fig.show() "
   ]
  },
  {
   "cell_type": "raw",
   "metadata": {},
   "source": [
    "gen_el = pd.DataFrame({scn: results_scns[scn]['results_t']['Electricity generation']\n",
    "                       for scn in scenarios}).T\n",
    "gen_th = pd.DataFrame({scn: results_scns[scn]['results_t']['Heat generation']\n",
    "                       for scn in scenarios}).T\n",
    "df_gen = pd.concat([gen_el, gen_th], axis=0, keys=['Electricity','Heat'])\n",
    "df_gen = df_gen.rename(columns=PRINT_NAMES)\n",
    "df_gen = df_gen / 1e3\n",
    "\n",
    "fig = make_subplots(rows=1, cols=len(scenarios), shared_xaxes=True, vertical_spacing=0)\n",
    "for row, (key, df) in enumerate(df_gen.groupby(level=1)):\n",
    "    for i, (tech, data) in enumerate(df.iteritems()):\n",
    "        fig.add_trace(go.Bar(x=data.index,#.swaplevel(),\n",
    "                             y=data,\n",
    "                             name=tech,\n",
    "                             orientation='v',\n",
    "                             #marker_color=CMAP[i+1],\n",
    "                             legendgroup=tech,\n",
    "                             hovertemplate='%{y:.1f} GWh',\n",
    "                             showlegend=not bool(row)), row=1, col=row+1)\n",
    "\n",
    "fig.update_layout(\n",
    "    title='Demand',\n",
    "    barmode='stack',\n",
    "    hovermode=\"y unified\",\n",
    "    #height=150*len(scenarios),\n",
    "    width=150*len(scenarios),\n",
    "    legend= {'tracegroupgap': 0},\n",
    "    autosize=True)\n",
    "\n",
    "fig.update_yaxes(title_text=\"GWH\", col=1, row=1, matches='x')\n",
    "fig.update_xaxes(type='category', tickangle=45)\n",
    "fig.show() "
   ]
  },
  {
   "cell_type": "markdown",
   "metadata": {},
   "source": [
    "## 1.3 Electricity and Heat Demand"
   ]
  },
  {
   "cell_type": "code",
   "execution_count": null,
   "metadata": {},
   "outputs": [],
   "source": [
    "df_el = pd.DataFrame({scn: results_scns[scn]['results_axlxt']['Stromnachfrage nach Gemeinde'].sum()\n",
    "                       for scn in scenarios}).T\n",
    "df_heat = pd.DataFrame({scn: results_scns[scn]['results_axlxt']['Wärmenachfrage nach Gemeinde'].sum()\n",
    "                       for scn in scenarios}).T\n",
    "df_heat = df_heat.T.groupby([s.split('_')[0] for s in df_heat.columns.values]).sum().T\n",
    "\n",
    "df_demand = pd.concat([df_el, df_heat], axis=0, keys=['Electricity', 'Heat'])\n",
    "df_demand = df_demand.rename(columns=PRINT_NAMES)\n",
    "df_demand = df_demand / 1e3\n",
    "\n",
    "fig = make_subplots(rows=len(scenarios), cols=1, shared_xaxes=True, vertical_spacing=0)\n",
    "for row, (key, df) in enumerate(df_demand.groupby(level=1)):\n",
    "    for i, (tech, data) in enumerate(df.iteritems()):\n",
    "        fig.add_trace(go.Bar(y=list(zip(*data.index.swaplevel())),\n",
    "                             x=data,\n",
    "                             name=tech,\n",
    "                             orientation='h',\n",
    "                             marker_color=CMAP[i+1],\n",
    "                             legendgroup=tech,\n",
    "                             hovertemplate='%{x:.1f} GWh',\n",
    "                             showlegend=not bool(row)), row=row+1, col=1)\n",
    "\n",
    "fig.update_layout(\n",
    "    title='Demand',\n",
    "    barmode='stack',\n",
    "    hovermode=\"y unified\",\n",
    "    height=50*len(scenarios),\n",
    "    legend= {'tracegroupgap': 0},\n",
    "    autosize=True)\n",
    "\n",
    "fig.update_xaxes(title_text=\"GWH\", row=len(scenarios), col=1, matches='x')\n",
    "fig.show() "
   ]
  },
  {
   "cell_type": "markdown",
   "metadata": {},
   "source": [
    "# 2 Area required by RES <a class=\"anchor\" id=\"2_area_required_by_res\"></a>"
   ]
  },
  {
   "cell_type": "markdown",
   "metadata": {},
   "source": [
    "### false plots / templates"
   ]
  },
  {
   "cell_type": "code",
   "execution_count": null,
   "metadata": {},
   "outputs": [],
   "source": [
    "df_area = pd.DataFrame({scn: results_scns[scn]['results_axlxt']['Area required'].sum()\n",
    "                       for scn in scenarios}).T.rename(columns=PRINT_NAMES)\n",
    "\n",
    "fig = go.Figure()\n",
    "for i, (tech, data) in enumerate(df_area.iteritems()):\n",
    "    fig.add_trace(go.Bar(y=df_area.index,\n",
    "                         x=data,\n",
    "                         name=tech,\n",
    "                         orientation='h',\n",
    "                         marker_color=CMAP[i+1],\n",
    "                         hovertemplate='%{x:.1f} ha',\n",
    "                         showlegend=True))\n",
    "\n",
    "fig.update_layout(\n",
    "    title='Required Area',\n",
    "    barmode='group',\n",
    "    hovermode=\"y unified\",\n",
    "    height=50*len(scenarios),\n",
    "    autosize=True)\n",
    "fig.update_xaxes(title_text=\"ha\")\n",
    "fig.show()"
   ]
  },
  {
   "cell_type": "code",
   "execution_count": null,
   "metadata": {},
   "outputs": [],
   "source": [
    "df_data = results_scns[list(scenarios)[0]]['highlevel_results']\n",
    "traces = ['PV rooftop', 'PV ground', 'rel. Wind']\n",
    "\n",
    "fig = go.Figure()\n",
    "\n",
    "for i, trace in enumerate(traces):\n",
    "    mask = [i for i in df_data.index if trace in  i[0]]\n",
    "    data = df_data.loc[mask]\n",
    "    index = data.index.get_level_values(level=0)\n",
    "\n",
    "    fig.add_trace(\n",
    "        go.Bar(y=index, x=data.values,\n",
    "               orientation='h',\n",
    "               name=trace,\n",
    "               marker_color=CMAP[2*i+1],\n",
    "              hovertemplate='%{x:.1f} %'))\n",
    "    \n",
    "fig.update_layout(title_text = 'Relative Required Area',\n",
    "                  xaxis=dict(title=' %',\n",
    "                    titlefont_size=12),\n",
    "                    autosize=True)\n",
    "fig.update_xaxes(showspikes=True)\n",
    "\n",
    "fig.show()"
   ]
  },
  {
   "cell_type": "markdown",
   "metadata": {},
   "source": [
    "## 2.1 Available Areas: Installable Power"
   ]
  },
  {
   "cell_type": "markdown",
   "metadata": {},
   "source": [
    "The following plot shows the maximum installable power for each land use scenario for each technology as absolute values (colored) and relative to the max. installable power for the regulatory status quo (grey). The regulatory status quo is shown in bold for each technology.\n",
    "\n",
    "Note: The specific land use (ha/MWp) of PV are different for 2035 and 2050. For the sake of simplicity, the value of 2050 is used in this plot (cf. assumptions)."
   ]
  },
  {
   "cell_type": "code",
   "execution_count": null,
   "metadata": {},
   "outputs": [],
   "source": [
    "# get potential areas per land use scenario\n",
    "pv_ground = pd.Series({f'{sc}_{faktor}':regions_scns['ISE'].pot_areas_pv_scn(\n",
    "    scenario=sc, pv_usable_area_agri_max=2086*faktor)['with_agri_restrictions'].sum()\n",
    "                       for sc in ['HS', 'H'] for faktor in [0.1, 1, 2]})\n",
    "wind = pd.Series({sc:regions_scns['ISE'].pot_areas_wec_scn(\n",
    "    scenario=sc).sum()*faktor for sc, faktor in zip(['SQ', 's1000f1', 's500f0', 's500f1'],\n",
    "                                                    [1, 0.1, 0.1, 0.1])})\n",
    "pv_roof_tmp = regions_scns['ISE'].pot_areas_pv_roof.sum(axis=0)\n",
    "re_pot_config = regions_scns['ISE'].cfg['scn_data']['generation']['re_potentials']\n",
    "pv_roof = pd.Series(\n",
    "    {'roof':  pv_roof_tmp['area_resid_ha'] * re_pot_config['pv_roof_resid_usable_area'] + \n",
    "              pv_roof_tmp['area_ind_ha'] * re_pot_config['pv_roof_ind_usable_area'] }\n",
    ")\n",
    "\n",
    "df_pot_area = pd.concat([pv_ground, pv_roof, wind] , keys=['pv_ground', 'pv_roof', 'wind'])\n",
    "\n",
    "# Land use\n",
    "df_area = pd.DataFrame({scn: regions_scns[scn].cfg['scn_data']['generation']['re_potentials']\n",
    "                       for scn in scenarios}).T\n",
    "df_land_use = pd.concat([\n",
    "    df_area['pv_roof_land_use'], # ha/Mwp\n",
    "    df_area['pv_land_use'].rename('pv_ground_land_use'), # ha/MWp\n",
    "    (df_area['wec_land_use'] / df_area['wec_nom_power']).rename('wind_land_use')],  # ha /MW\n",
    "    axis=1)\n",
    "\n",
    "highlight_dict = {\n",
    "    'wind': {'Wind legal SQ \\(VR/EG\\)':\n",
    "             '<b>Wind legal SQ (VR/EG)</b>'},\n",
    "    'pv_ground': {'PV ground HS 0.1-perc agri':\n",
    "                  '<b>PV ground HS 0.1-perc agri</b>'},\n",
    "    'pv_roof': {'PV rooftop':\n",
    "                '<b>PV rooftop</b>'}\n",
    "}\n",
    "PRINT_NAMES_WO_REL = {k:v.replace('Area required rel. ', '') for k, v in PRINT_NAMES.items()}\n",
    "\n",
    "fig = make_subplots(specs=[[{\"secondary_y\": True}]])\n",
    "\n",
    "CMAP2 = px.colors.sequential.Greys\n",
    "\n",
    "# potential Capacity\n",
    "for i, (tech, df) in enumerate(df_pot_area.groupby(level=0)):\n",
    "    \n",
    "    data = df.loc[tech] / df_land_use.loc['ISE', tech+'_land_use']\n",
    "    data = data.rename(index=PRINT_NAMES_WO_REL)\n",
    "    data.index = data.index.str.replace(list(highlight_dict[tech].keys())[0],\n",
    "                                        list(highlight_dict[tech].values())[0])\n",
    "    \n",
    "    fig.add_trace(\n",
    "        go.Bar(x=data.index,\n",
    "               y=data / 1e3,\n",
    "               orientation='v',\n",
    "               name=PRINT_NAMES_WO_REL[tech],\n",
    "               marker_color=CMAP[2*i+1],\n",
    "               legendgroup=tech,\n",
    "               opacity=1,\n",
    "               offsetgroup=1,\n",
    "               hovertemplate='%{y:.1f} GW'))\n",
    "    \n",
    "    \n",
    "    data = df.loc[tech] / df.loc[(tech,['HS_0.1', 'roof', 'SQ'])].values * 100\n",
    "    data = data.rename(index=PRINT_NAMES_WO_REL)\n",
    "    data.index = data.index.str.replace(list(highlight_dict[tech].keys())[0],\n",
    "                                        list(highlight_dict[tech].values())[0])\n",
    "    \n",
    "    fig.add_trace(\n",
    "        go.Bar(x=data.index,\n",
    "               y=data,\n",
    "               orientation='v',\n",
    "               name='rel. to legal SQ',\n",
    "               marker_color='grey',\n",
    "               legendgroup=tech,\n",
    "               showlegend=True,\n",
    "               opacity=0.4,\n",
    "               offsetgroup=2,\n",
    "               hovertemplate='%{y:.1f} %'),\n",
    "        secondary_y=True)\n",
    "    \n",
    "fig.update_layout(title_text = 'RES Power Potential in Land Use Scenarios',\n",
    "                    autosize=True,\n",
    "                  barmode='group',\n",
    "                 hovermode=\"x unified\")\n",
    "\n",
    "fig.update_yaxes(title=\"GW\", showspikes=True, secondary_y=False)\n",
    "fig.update_yaxes(title=\"%\", showspikes=True, secondary_y=True)\n",
    "\n",
    "fig.show()"
   ]
  },
  {
   "cell_type": "markdown",
   "metadata": {},
   "source": [
    "### 2.1.1 Available areas: Wind Energy"
   ]
  },
  {
   "cell_type": "markdown",
   "metadata": {},
   "source": [
    "### 2.1.2 Available areas: Ground-Mounted PV"
   ]
  },
  {
   "cell_type": "markdown",
   "metadata": {},
   "source": [
    "### 2.1.3 Available areas: Roof-Mounted PV"
   ]
  },
  {
   "cell_type": "markdown",
   "metadata": {},
   "source": [
    "## 2.2 Area usage"
   ]
  },
  {
   "cell_type": "markdown",
   "metadata": {},
   "source": [
    "# 4. Energy Mix"
   ]
  },
  {
   "cell_type": "markdown",
   "metadata": {},
   "source": [
    "### 4.1 Electricity Generation and Demand"
   ]
  },
  {
   "cell_type": "code",
   "execution_count": null,
   "metadata": {},
   "outputs": [],
   "source": [
    "df_generation = pd.DataFrame({scn: results_scns[scn]['flows_txaxt']['Stromerzeugung'].sum()\n",
    "                       for scn in scenarios}).T.rename(columns=PRINT_NAMES)\n",
    "df_demand = pd.DataFrame({scn: results_scns[scn]['flows_txaxt']['Stromnachfrage'].sum()\n",
    "                       for scn in scenarios}).T.rename(columns=PRINT_NAMES)\n",
    "\n",
    "fig = go.Figure()\n",
    "for tech, data in df_generation.iteritems():\n",
    "    fig.add_trace(go.Bar(x=data.index,\n",
    "                            y=data / 1e3,\n",
    "                            orientation='v',\n",
    "                            name=tech,\n",
    "#                             marker_color=COLORS[tech],\n",
    "                            hovertemplate='%{y:.1f} GWh'))\n",
    "\n",
    "for tech, data in df_demand.iteritems():\n",
    "    fig.add_trace(go.Bar(x=data.index,\n",
    "                            y=-data / 1e3,\n",
    "                            orientation='v',\n",
    "                            name=tech,\n",
    "#                             marker_color=COLORS[tech],\n",
    "                            hovertemplate='%{y:.1f} GWh',\n",
    "#                             visible='legendonly'\n",
    "                        ))\n",
    "\n",
    "\n",
    "fig.update_layout(\n",
    "    title='Power Generation and Demand',\n",
    "    barmode='relative',\n",
    "#     height=600,\n",
    "    autosize=True,\n",
    "    hovermode=\"x unified\")\n",
    "fig.update_yaxes(title='GWh', showspikes=False)\n",
    "fig.show()"
   ]
  },
  {
   "cell_type": "markdown",
   "metadata": {},
   "source": [
    "## 4.2 Heat Generation and Demand"
   ]
  },
  {
   "cell_type": "code",
   "execution_count": null,
   "metadata": {},
   "outputs": [],
   "source": [
    "df_generation = pd.DataFrame({scn: results_scns[scn]['flows_txaxt']['Wärmeerzeugung'].sum()\n",
    "                       for scn in scenarios}).T.rename(columns=PRINT_NAMES)\n",
    "df_demand = pd.DataFrame({scn: results_scns[scn]['flows_txaxt']['Wärmenachfrage'].sum()\n",
    "                       for scn in scenarios}).T.rename(columns=PRINT_NAMES)\n",
    "\n",
    "fig = go.Figure()\n",
    "for tech, data in df_generation.iteritems():\n",
    "    fig.add_trace(go.Bar(x=data.index,\n",
    "                            y=data / 1e3,\n",
    "                            orientation='v',\n",
    "                            name=tech,\n",
    "#                             marker_color=COLORS[tech],\n",
    "                            hovertemplate='%{y:.1f} GWh'))\n",
    "\n",
    "for tech, data in df_demand.iteritems():\n",
    "    fig.add_trace(go.Bar(x=data.index,\n",
    "                            y=-data / 1e3,\n",
    "                            orientation='v',\n",
    "                            name=tech,\n",
    "#                             marker_color=COLORS[tech],\n",
    "                            hovertemplate='%{y:.1f} GWh',\n",
    "#                             visible='legendonly'\n",
    "                        ))\n",
    "\n",
    "\n",
    "fig.update_layout(\n",
    "    title='Heat Generation and Demand',\n",
    "    barmode='relative',\n",
    "#     height=600,\n",
    "    autosize=True,\n",
    "    hovermode=\"x unified\")\n",
    "fig.update_yaxes(title='GWh', showspikes=False)\n",
    "fig.show()"
   ]
  },
  {
   "cell_type": "markdown",
   "metadata": {},
   "source": [
    "# 5 Emissions"
   ]
  },
  {
   "cell_type": "markdown",
   "metadata": {},
   "source": [
    "## 5.1 Emissions absolute"
   ]
  },
  {
   "cell_type": "code",
   "execution_count": null,
   "metadata": {},
   "outputs": [],
   "source": [
    "df_emissions = pd.DataFrame(\n",
    "    {scn : pd.concat([pd.Series(data=results_scns[scn]['results_axlxt'][key].sum().sum(), index=[key]) \\\n",
    "                      for key in results_scns[scn]['results_axlxt'] if 'total' in key]) \\\n",
    "     for scn in scenarios}).T\n",
    "\n",
    "df_emissions['CO2 emissions grid total'] = df_emissions[['CO2 emissions grid total',\n",
    "                                                         'CO2 emissions grid new total']]\n",
    "df_emissions = df_emissions.drop(columns='CO2 emissions grid new total')\n",
    "\n",
    "fig = go.Figure()\n",
    "for i, (tech, data) in enumerate(df_emissions.iteritems()):\n",
    "    fig.add_trace(go.Bar(x=data.index,\n",
    "                         y=data,\n",
    "                         name=tech,\n",
    "                         orientation='v',\n",
    "                         marker_color=CMAP[i+1],\n",
    "                         legendgroup=tech,\n",
    "                         hovertemplate='%{y:.1f} t CO2',))\n",
    "fig.update_layout(\n",
    "    title='Emissions',\n",
    "    barmode='stack',\n",
    "    hovermode=\"x unified\",\n",
    "    #height=50*len(scenarios),\n",
    "    legend= {'tracegroupgap': 0},\n",
    "    autosize=True)\n",
    "\n",
    "fig.update_yaxes(title_text=\"t CO2\")\n",
    "fig.show() "
   ]
  },
  {
   "cell_type": "markdown",
   "metadata": {},
   "source": [
    "# Costs"
   ]
  },
  {
   "cell_type": "markdown",
   "metadata": {},
   "source": [
    "## 6.2 LCOE, LCOH and RES share"
   ]
  },
  {
   "cell_type": "code",
   "execution_count": null,
   "metadata": {},
   "outputs": [],
   "source": [
    "scenario_results = scenario_results[1].join(scenario_results[2].drop(\"Scenario\", axis=1)).join(scenario_results[3].drop(\"Scenario\", axis=1))\n",
    "\n",
    "tmp_dict = {\n",
    "    \"RES share [%]\": [],\n",
    "    \"Autark hours [%]\": [],\n",
    "    'Heat Storage Use [GWh]': [],\n",
    "    'El. Storage Use [GWh]': [],\n",
    "    'Net DSM activation [GWh]': []\n",
    "}\n",
    "for scenario in scenarios:\n",
    "    tmp_dict[\"RES share [%]\"].append(results_scns[scenario][\"results_t\"]['Electricity generation'].drop(\n",
    "        [\"Large-scale CHP\", \"Open-cycle gas turbine\", \"Combined-cycle gas turbine\"]).sum() / float(results_scns[scenario][\"highlevel_results\"][\"Electricity demand total\"]) * 100)\n",
    "    tmp_dict[\"Autark hours [%]\"].append(float(results_scns[scenario][\"highlevel_results\"][\"Autark hours\"]) * 100)\n",
    "    tmp_dict['Heat Storage Use [GWh]'].append(results_scns[scenario][\"results_axlxt\"]['Wärmespeicher nach Gemeinde'].sum().sum() / 1e3)\n",
    "    tmp_dict['El. Storage Use [GWh]'].append(results_scns[scenario][\"results_axlxt\"]['Batteriespeicher nach Gemeinde'].sum().sum() / 1e3)\n",
    "    tmp_dict['Net DSM activation [GWh]'].append(float(results_scns[scenario][\"highlevel_results\"]['Net DSM activation']) / 1e3)\n",
    "additional_key_figures = pd.DataFrame(tmp_dict, index=scenarios)\n",
    "scenario_results_ext = scenario_results.join(additional_key_figures, on=\"Scenario\").set_index(\"Scenario\").sort_values(\"RES share [%]\")\n",
    "scenario_results_ext = scenario_results_ext.drop(\"StatusQuo\", axis=0)"
   ]
  },
  {
   "cell_type": "code",
   "execution_count": null,
   "metadata": {},
   "outputs": [],
   "source": [
    "fig = make_subplots(specs=[[{\"secondary_y\": True}]])\n",
    "\n",
    "re_scn_matches = [re.search('((RE\\+\\+)|(RE\\+)|(WIND\\+)|(PV\\+)|(RE-)|(RE))', scn) for scn in scenario_results_ext.index]\n",
    "scenario_results_ext[\"RE scenario\"] = [m[0].replace(\"WIND\", \"RE\").replace(\"PV\", \"RE\") if m is not None else \"RE\" for m in re_scn_matches]\n",
    "\n",
    "re_scn_sort = {\"RE-\": 0, \"RE\": 1, \"RE+\": 2, \"RE++\": 3}\n",
    "scenario_results_ext[\"RE scenario order\"] = scenario_results_ext[\"RE scenario\"].replace(re_scn_sort)\n",
    "scenario_results_ext = scenario_results_ext.sort_values([\"RE scenario order\", \"RES share [%]\"])\n",
    "xlabels = [[\"<b>{}</b>\".format(_) for _ in scenario_results_ext[\"RE scenario\"]], scenario_results_ext.index]\n",
    "\n",
    "fig.add_trace(go.Bar(y=scenario_results_ext[\"RES share [%]\"],\n",
    "            x=xlabels,\n",
    "            name=\"RES share in %\",\n",
    "            marker_color=CMAP[4],\n",
    "            #hovertemplate='%{y:.2f}<extra></extra> %',\n",
    "            showlegend=True))\n",
    "\n",
    "fig.add_trace(go.Scatter(y=scenario_results_ext[\"LCOE [EUR/MWh]\"],\n",
    "                             x=xlabels,\n",
    "                             mode='markers',\n",
    "                             opacity=0.7,\n",
    "                             marker_color=CMAP[0],\n",
    "                             name=\"LCOE in EUR/MWh\",\n",
    "                             ), secondary_y=True)\n",
    "\n",
    "fig.add_trace(go.Scatter(y=scenario_results_ext[\"LCOH [EUR/MWh]\"],\n",
    "                             x=xlabels,\n",
    "                            mode='markers',\n",
    "                             opacity=0.7,\n",
    "                             marker_color=\"indianred\",\n",
    "                             name=\"LCOH in EUR/MWh\",\n",
    "                             ), secondary_y=True)\n",
    "\n",
    "\n",
    "fig.update_layout(yaxis=dict(\n",
    "                      title=\"RES share in %\",\n",
    "                      titlefont_size=16,\n",
    "                      tickfont_size=12),\n",
    "                  height=700,\n",
    "                  autosize=True,\n",
    "                  hovermode=\"x unified\",\n",
    "                  legend=dict(orientation=\"h\", yanchor=\"bottom\",y=1.02, xanchor=\"right\",x=1)\n",
    "                 )\n",
    "fig.update_yaxes(title_text=\"LCOE/LCOH in EUR/MWh\", secondary_y=True)\n",
    "fig.update_xaxes()"
   ]
  },
  {
   "cell_type": "markdown",
   "metadata": {},
   "source": [
    "# Flexibility"
   ]
  },
  {
   "cell_type": "code",
   "execution_count": null,
   "metadata": {},
   "outputs": [],
   "source": [
    "scenario_results_ext[\"Flexibility shifted energy [GWh]\"] = scenario_results_ext[[\"Heat Storage Use [GWh]\", \"El. Storage Use [GWh]\",\"Net DSM activation [GWh]\"]].sum(axis=1)\n",
    "\n",
    "re_color_mapping = {\"RE-\": \"mediumaquamarine\", \"RE\": \"lightseagreen\", \"RE+\": \"seagreen\", \"RE++\": \"yellowgreen\"}\n",
    "colors = [re_color_mapping[_] for _ in scenario_results_ext[\"RE scenario\"]]\n",
    "\n",
    "pairs = {\n",
    "    \"LCOE vs. Exports\": (\"LCOE [EUR/MWh]\", \"El. Exports [TWh]\",),\n",
    "    \"Flexibility vs. Exports\": (\"Flexibility shifted energy [GWh]\", \"El. Exports [TWh]\"),\n",
    "    \"Flexibility vs. Autarky\": (\"Flexibility shifted energy [GWh]\", \"Autarky [%]\"),\n",
    "    \"LCOE vs. Autarky\": (\"LCOE [EUR/MWh]\", \"Autarky [%]\",),\n",
    "    \"Flexibility vs. Intra-reg. Exchange\": (\"Flexibility shifted energy [GWh]\", \"Intra-reg. Exchange [TWh]\"),\n",
    "    \"Autarky vs. Intra-reg. Exchange\": (\"Autarky [%]\", \"Intra-reg. Exchange [TWh]\"),\n",
    "    \"Autark hours vs. Intra-reg. Exchange\": (\"Autark hours [%]\", \"Intra-reg. Exchange [TWh]\"),\n",
    "    \"Flexibility vs. Emissions\": (\"Flexibility shifted energy [GWh]\", \"Specific Emissions [g/kWh]\"),\n",
    "}\n",
    "\n",
    "for k, pair in pairs.items():\n",
    "    fig = go.Figure(data=go.Scatter(\n",
    "        x=scenario_results_ext[pair[1]],\n",
    "        y=scenario_results_ext[pair[0]],\n",
    "        mode='markers',\n",
    "        marker=dict(size=[20] * len(scenarios),\n",
    "                    color=colors),\n",
    "        text=scenario_results_ext.index\n",
    "    ))\n",
    "\n",
    "\n",
    "    fig.update_yaxes(title_text=pair[0])\n",
    "    fig.update_xaxes(title_text=pair[1])\n",
    "    fig.show()"
   ]
  },
  {
   "cell_type": "markdown",
   "metadata": {},
   "source": [
    "### 8.0.4 Flexibility utilization vs. Autarky"
   ]
  },
  {
   "cell_type": "code",
   "execution_count": null,
   "metadata": {},
   "outputs": [],
   "source": [
    "fig = make_subplots(specs=[[{\"secondary_y\": True}]])\n",
    "\n",
    "scenario_results_ext = scenario_results_ext.sort_values([\"RE scenario order\", \"Autark hours [%]\"])\n",
    "xlabels = [[\"<b>{}</b>\".format(_) for _ in scenario_results_ext[\"RE scenario\"]], scenario_results_ext.index]\n",
    "\n",
    "fig.add_trace(go.Bar(y=scenario_results_ext[\"Autark hours [%]\"],\n",
    "            x=xlabels,\n",
    "            name=\"Autark hours in %\",\n",
    "            marker_color=CMAP[4],\n",
    "            #hovertemplate='%{y:.2f}<extra></extra> %',\n",
    "            showlegend=True))\n",
    "\n",
    "fig.add_trace(go.Scatter(y=scenario_results_ext['El. Storage Use [%]'],\n",
    "                             x=xlabels,\n",
    "                             mode='markers',\n",
    "                             opacity=0.7,\n",
    "                             marker_color=CMAP[0],\n",
    "                             name=\"Battery storage utilization in %\",\n",
    "                             ), secondary_y=True)\n",
    "\n",
    "fig.add_trace(go.Scatter(y=scenario_results_ext['Heat Storage Use [%]'],\n",
    "                             x=xlabels,\n",
    "                            mode='markers',\n",
    "                             opacity=0.7,\n",
    "                             marker_color=\"indianred\",\n",
    "                             name=\"Heat storage utilization in %\",\n",
    "                             ), secondary_y=True)\n",
    "\n",
    "fig.add_trace(go.Scatter(y=scenario_results_ext['DSM Utilization Rate [%]'],\n",
    "                             x=xlabels,\n",
    "                            mode='markers',\n",
    "                             opacity=0.7,\n",
    "                             marker_color=\"darkorange\",\n",
    "                             name=\"DSM utilization in %\",\n",
    "                             ), secondary_y=True)\n",
    "\n",
    "\n",
    "fig.update_layout(yaxis=dict(\n",
    "                      title=\"Autark hours in %\",\n",
    "                      titlefont_size=16,\n",
    "                      tickfont_size=12),\n",
    "                  height=700,\n",
    "                  autosize=True,\n",
    "                  hovermode=\"x unified\",\n",
    "                  legend=dict(orientation=\"h\", yanchor=\"bottom\",y=1.02, xanchor=\"right\",x=1)\n",
    "                 )\n",
    "fig.update_yaxes(title_text=\"Utilization in %\", secondary_y=True)\n",
    "fig.update_xaxes()"
   ]
  },
  {
   "cell_type": "code",
   "execution_count": null,
   "metadata": {},
   "outputs": [],
   "source": [
    "fig = make_subplots(specs=[[{\"secondary_y\": True}]])\n",
    "\n",
    "scenario_results_ext = scenario_results_ext.sort_values([\"RE scenario order\", \"RES share [%]\"])\n",
    "xlabels = [[\"<b>{}</b>\".format(_) for _ in scenario_results_ext[\"RE scenario\"]], scenario_results_ext.index]\n",
    "\n",
    "fig.add_trace(go.Bar(y=scenario_results_ext[\"RES share [%]\"],\n",
    "            x=xlabels,\n",
    "            name=\"RES share in %\",\n",
    "            marker_color=CMAP[4],\n",
    "            showlegend=True))\n",
    "\n",
    "fig.add_trace(go.Scatter(y=scenario_results_ext['El. Storage Use [%]'],\n",
    "                             x=xlabels,\n",
    "                             mode='markers',\n",
    "                             opacity=0.7,\n",
    "                             marker_color=CMAP[0],\n",
    "                             name=\"Battery storage utilization in %\",\n",
    "                             ), secondary_y=True)\n",
    "\n",
    "fig.add_trace(go.Scatter(y=scenario_results_ext['Heat Storage Use [%]'],\n",
    "                             x=xlabels,\n",
    "                            mode='markers',\n",
    "                             opacity=0.7,\n",
    "                             marker_color=\"indianred\",\n",
    "                             name=\"Heat storage utilization in %\",\n",
    "                             ), secondary_y=True)\n",
    "\n",
    "fig.add_trace(go.Scatter(y=scenario_results_ext['DSM Utilization Rate [%]'],\n",
    "                             x=xlabels,\n",
    "                            mode='markers',\n",
    "                             opacity=0.7,\n",
    "                             marker_color=\"darkorange\",\n",
    "                             name=\"DSM utilization in %\",\n",
    "                             ), secondary_y=True)\n",
    "\n",
    "\n",
    "fig.update_layout(yaxis=dict(\n",
    "                      title=\"RES share in %\",\n",
    "                      titlefont_size=16,\n",
    "                      tickfont_size=12),\n",
    "                  height=700,\n",
    "                  autosize=True,\n",
    "                  hovermode=\"x unified\",\n",
    "                  legend=dict(orientation=\"h\", yanchor=\"bottom\",y=1.02, xanchor=\"right\",x=1)\n",
    "                 )\n",
    "fig.update_yaxes(title_text=\"Utilization in %\", secondary_y=True)\n",
    "fig.update_xaxes()"
   ]
  }
 ],
 "metadata": {
  "kernelspec": {
   "display_name": "Python 3",
   "language": "python",
   "name": "python3"
  },
  "language_info": {
   "codemirror_mode": {
    "name": "ipython",
    "version": 3
   },
   "file_extension": ".py",
   "mimetype": "text/x-python",
   "name": "python",
   "nbconvert_exporter": "python",
   "pygments_lexer": "ipython3",
   "version": "3.8.2"
  }
 },
 "nbformat": 4,
 "nbformat_minor": 4
}
