{
 "cells": [
  {
   "cell_type": "markdown",
   "metadata": {},
   "source": [
    "# WINDNODE ABW - Scenario Analysis\n",
    "\n",
    "<img src=\"http://reiner-lemoine-institut.de//wp-content/uploads/2015/09/rlilogo.png\" width=\"100\" style=\"float: right\">\n",
    "\n",
    "__copyright__ \t= \"© Reiner Lemoine Institut\" <br>\n",
    "__license__ \t= \"GNU Affero General Public License Version 3 (AGPL-3.0)\" <br>\n",
    "__url__ \t\t= \"https://www.gnu.org/licenses/agpl-3.0.en.html\" <br>\n",
    "__author__ \t\t= \"Jonathan Amme\" <br>"
   ]
  },
  {
   "cell_type": "markdown",
   "metadata": {},
   "source": [
    "GENERAL TODO\n",
    "- [ ] use consistent scenario order, cf. https://github.com/windnode/WindNODE_ABW/issues/64#issuecomment-670712969"
   ]
  },
  {
   "cell_type": "code",
   "execution_count": null,
   "metadata": {},
   "outputs": [],
   "source": [
    "%load_ext autoreload\n",
    "%autoreload 2"
   ]
  },
  {
   "cell_type": "code",
   "execution_count": null,
   "metadata": {},
   "outputs": [],
   "source": [
    "####### WINDNODE ########\n",
    "# define and setup logger\n",
    "from windnode_abw.tools.logger import setup_logger\n",
    "logger = setup_logger()\n",
    "\n",
    "# load configs\n",
    "from windnode_abw.tools import config\n",
    "config.load_config('config_data.cfg')\n",
    "config.load_config('config_misc.cfg')\n",
    "\n",
    "from windnode_abw.analysis import analysis\n",
    "from windnode_abw.tools.draw import *\n",
    "\n",
    "######### DATA ##########\n",
    "\n",
    "import re\n",
    "import pandas as pd\n",
    "\n",
    "####### Plotting ########\n",
    "\n",
    "# Plotting\n",
    "import matplotlib.pyplot as plt\n",
    "from mpl_toolkits.axes_grid1 import make_axes_locatable\n",
    "from matplotlib.ticker import ScalarFormatter\n",
    "import seaborn as sns\n",
    "# set seaborn style\n",
    "sns.set()\n",
    "\n",
    "import plotly.express as px\n",
    "import plotly.graph_objs as go\n",
    "from plotly.subplots import make_subplots"
   ]
  },
  {
   "cell_type": "code",
   "execution_count": null,
   "metadata": {
    "tags": [
     "parameters"
    ]
   },
   "outputs": [],
   "source": [
    "# papermill parameters will be inserted below this tagged cell"
   ]
  },
  {
   "cell_type": "markdown",
   "metadata": {},
   "source": [
    "TODO\n",
    "- [ ] suppress long log output of analysis"
   ]
  },
  {
   "cell_type": "code",
   "execution_count": null,
   "metadata": {},
   "outputs": [],
   "source": [
    "# obtain processed results\n",
    "regions_scns, results_scns = analysis(run_timestamp=run_timestamp,\n",
    "                                      scenarios=scenarios,\n",
    "                                      force_new_results=force_new_results)"
   ]
  },
  {
   "cell_type": "code",
   "execution_count": null,
   "metadata": {},
   "outputs": [],
   "source": [
    "##### Usefull stuff ######\n",
    "\n",
    "# Names of Municialities\n",
    "MUN_NAMES = regions_scns[list(scenarios)[-2]].muns.gen.to_dict()\n",
    "# extend for total ABW region\n",
    "MUN_NAMES.update({100:'ABW'})\n",
    "# Colormap\n",
    "CMAP = px.colors.sequential.GnBu_r\n",
    "#CMAP_NAME_KEY_PLOT = 'GnBu_r'\n",
    "CMAP_NAME_KEY_PLOT = 'viridis'"
   ]
  },
  {
   "cell_type": "markdown",
   "metadata": {},
   "source": [
    "# 0 Key Results"
   ]
  },
  {
   "cell_type": "markdown",
   "metadata": {},
   "source": [
    "The following plots provide an overview on the key results of all scenarios.\n",
    "\n",
    "TODO\n",
    "- [ ] add explanations on params\n",
    "- [ ] rework autarky as soon as #135 is merged\n",
    "- [ ] fix title position"
   ]
  },
  {
   "cell_type": "code",
   "execution_count": null,
   "metadata": {},
   "outputs": [],
   "source": [
    "plot_key_scenario_results(results_scns, scenarios, CMAP_NAME_KEY_PLOT)"
   ]
  },
  {
   "cell_type": "markdown",
   "metadata": {},
   "source": [
    "# 1 Demand and Generation"
   ]
  },
  {
   "cell_type": "markdown",
   "metadata": {},
   "source": [
    "## 1.1 Installed Capacities Electricity/Heat"
   ]
  },
  {
   "cell_type": "markdown",
   "metadata": {},
   "source": [
    "TODO\n",
    "- [ ] Fix title overlap\n",
    "- [ ] Scenario order?\n",
    "- [ ] Fix Autarky as soon as PR 135 is done"
   ]
  },
  {
   "cell_type": "code",
   "execution_count": null,
   "metadata": {},
   "outputs": [],
   "source": [
    "cap_el = pd.DataFrame({scn: results_scns[scn]['parameters']['Installed capacity electricity supply'].sum(axis=0)\n",
    "                       for scn in scenarios}).T\n",
    "\n",
    "cap_el = cap_el.assign(sum=cap_el.sum(axis=1)) \\\n",
    "    .sort_values(by='sum', ascending=False) \\\n",
    "    .drop('sum', axis=1) \\\n",
    "    .rename(columns=PRINT_NAMES)\n",
    "\n",
    "fig = go.Figure()\n",
    "\n",
    "for tech, data in cap_el.iteritems():\n",
    "    fig.add_trace(go.Bar(x=cap_el.index,\n",
    "                         y=data,\n",
    "                         name=tech,\n",
    "                         #orientation='h',\n",
    "                         showlegend=True))\n",
    "\n",
    "fig.update_layout(\n",
    "    title='Installed Capacity Electricity Supply',\n",
    "    barmode='stack',\n",
    "    hovermode=\"x unified\",\n",
    "    height=800,\n",
    "    xaxis_tickfont_size=12,\n",
    "    yaxis=dict(title='MW',\n",
    "               titlefont_size=16,\n",
    "               tickfont_size=14),\n",
    "    legend=dict(orientation=\"h\",\n",
    "                yanchor=\"bottom\",\n",
    "                y=1.02,\n",
    "                xanchor=\"right\",\n",
    "                x=1),\n",
    "    autosize=True)\n",
    "\n",
    "fig.show()"
   ]
  },
  {
   "cell_type": "code",
   "execution_count": null,
   "metadata": {},
   "outputs": [],
   "source": [
    "cap_th = pd.DataFrame({scn: results_scns[scn]['parameters']['Installed capacity heat supply'].sum(axis=0)\n",
    "                       for scn in scenarios}).T.rename(columns=PRINT_NAMES)\n",
    "\n",
    "cap_th = cap_th.assign(sum=cap_th.sum(axis=1)) \\\n",
    "    .sort_values(by='sum', ascending=False) \\\n",
    "    .drop('sum', axis=1) \\\n",
    "    .rename(columns=PRINT_NAMES)\n",
    "\n",
    "fig = go.Figure()\n",
    "\n",
    "for tech, data in cap_th.iteritems():\n",
    "    fig.add_trace(go.Bar(x=cap_th.index,\n",
    "                         y=data,\n",
    "                         name=tech,\n",
    "                         #orientation='h',\n",
    "                         showlegend=True))\n",
    "\n",
    "fig.update_layout(\n",
    "    title='Installed Capacity Heat Supply',\n",
    "    barmode='stack',\n",
    "    hovermode=\"x unified\",\n",
    "    height=800,\n",
    "    xaxis_tickfont_size=12,\n",
    "    yaxis=dict(title='MW',\n",
    "               titlefont_size=16,\n",
    "               tickfont_size=14),\n",
    "    legend=dict(orientation=\"h\",\n",
    "                yanchor=\"bottom\",\n",
    "                y=1.02,\n",
    "                xanchor=\"right\",\n",
    "                x=1),\n",
    "    autosize=True)\n",
    "fig.show()"
   ]
  },
  {
   "cell_type": "markdown",
   "metadata": {},
   "source": [
    "## 1.2 Electricity and Heat Generation"
   ]
  },
  {
   "cell_type": "code",
   "execution_count": null,
   "metadata": {},
   "outputs": [],
   "source": [
    "gen_el = pd.DataFrame({scn: results_scns[scn]['results_t']['Electricity generation']\n",
    "                       for scn in scenarios}).T\n",
    "gen_th = pd.DataFrame({scn: results_scns[scn]['results_t']['Heat generation']\n",
    "                       for scn in scenarios}).T\n",
    "df_gen = pd.concat([gen_el, gen_th], axis=0, keys=['Electricity','Heat'])\n",
    "df_gen = df_gen / 1e3\n",
    "df_gen = df_gen.rename(columns=PRINT_NAMES)\n",
    "fig = make_subplots(rows=2, cols=1, vertical_spacing=0.01, subplot_titles=['Electricity','Heat'])\n",
    "for sector, df in df_gen.groupby(level=0):\n",
    "    row = 1 if sector == 'Electricity' else 2\n",
    "\n",
    "    for tech, data in df.loc[sector].iteritems():\n",
    "        fig.add_trace(go.Bar(y=data.index,\n",
    "                             x=data,\n",
    "                             name=tech,\n",
    "                             orientation='h',\n",
    "                             hovertemplate='%{x:.1f} GWh',\n",
    "                             showlegend=True),row=row, col=1)\n",
    "fig.update_layout(\n",
    "    title='Generation',\n",
    "    barmode='stack',\n",
    "    hovermode=\"y unified\",\n",
    "    height=100*len(scenarios),\n",
    "    autosize=True)\n",
    "\n",
    "fig.update_xaxes(title_text=\"GWH\", row=2, col=1)\n",
    "fig.show()"
   ]
  },
  {
   "cell_type": "code",
   "execution_count": null,
   "metadata": {},
   "outputs": [],
   "source": [
    "gen_el = pd.DataFrame({scn: results_scns[scn]['results_t']['Electricity generation']\n",
    "                       for scn in scenarios}).T\n",
    "gen_th = pd.DataFrame({scn: results_scns[scn]['results_t']['Heat generation']\n",
    "                       for scn in scenarios}).T\n",
    "df_gen = pd.concat([gen_el, gen_th], axis=0, keys=['Electricity','Heat'])\n",
    "df_gen = df_gen.rename(columns=PRINT_NAMES)\n",
    "df_gen = df_gen / 1e3\n",
    "\n",
    "fig = make_subplots(rows=len(scenarios), cols=1, shared_xaxes=True, vertical_spacing=0)\n",
    "for row, (key, df) in enumerate(df_gen.groupby(level=1)):\n",
    "    for i, (tech, data) in enumerate(df.iteritems()):\n",
    "        fig.add_trace(go.Bar(y=list(zip(*data.index.swaplevel())),\n",
    "                             x=data,\n",
    "                             name=tech,\n",
    "                             orientation='h',\n",
    "                             #marker_color=CMAP[i+1],\n",
    "                             legendgroup=tech,\n",
    "                             hovertemplate='%{x:.1f} GWh',\n",
    "                             showlegend=not bool(row)), row=row+1, col=1)\n",
    "\n",
    "fig.update_layout(\n",
    "    title='Demand',\n",
    "    barmode='stack',\n",
    "    hovermode=\"y unified\",\n",
    "    height=150*len(scenarios),\n",
    "    legend= {'tracegroupgap': 0},\n",
    "    autosize=True)\n",
    "\n",
    "fig.update_xaxes(title_text=\"GWH\", row=len(scenarios), col=1, matches='x')\n",
    "fig.show() "
   ]
  },
  {
   "cell_type": "code",
   "execution_count": null,
   "metadata": {},
   "outputs": [],
   "source": [
    "gen_el = pd.DataFrame({scn: results_scns[scn]['results_t']['Electricity generation']\n",
    "                       for scn in scenarios}).T\n",
    "gen_th = pd.DataFrame({scn: results_scns[scn]['results_t']['Heat generation']\n",
    "                       for scn in scenarios}).T\n",
    "df_gen = pd.concat([gen_el, gen_th], axis=0, keys=['Electricity','Heat'])\n",
    "df_gen = df_gen.rename(columns=PRINT_NAMES)\n",
    "df_gen = df_gen / 1e3\n",
    "\n",
    "fig = make_subplots(rows=1, cols=len(scenarios), shared_xaxes=True, vertical_spacing=0)\n",
    "for row, (key, df) in enumerate(df_gen.groupby(level=1)):\n",
    "    for i, (tech, data) in enumerate(df.iteritems()):\n",
    "        fig.add_trace(go.Bar(x=data.index,#.swaplevel(),\n",
    "                             y=data,\n",
    "                             name=tech,\n",
    "                             orientation='v',\n",
    "                             #marker_color=CMAP[i+1],\n",
    "                             legendgroup=tech,\n",
    "                             hovertemplate='%{y:.1f} GWh',\n",
    "                             showlegend=not bool(row)), row=1, col=row+1)\n",
    "\n",
    "fig.update_layout(\n",
    "    title='Demand',\n",
    "    barmode='stack',\n",
    "    hovermode=\"y unified\",\n",
    "    #height=150*len(scenarios),\n",
    "    width=150*len(scenarios),\n",
    "    legend= {'tracegroupgap': 0},\n",
    "    autosize=True)\n",
    "\n",
    "fig.update_yaxes(title_text=\"GWH\", col=1, row=1, matches='x')\n",
    "fig.update_xaxes(type='category', tickangle=45)\n",
    "fig.show() "
   ]
  },
  {
   "cell_type": "markdown",
   "metadata": {},
   "source": [
    "## 1.3 Electricity and Heat Demand"
   ]
  },
  {
   "cell_type": "code",
   "execution_count": null,
   "metadata": {},
   "outputs": [],
   "source": [
    "df_el = pd.DataFrame({scn: results_scns[scn]['results_axlxt']['Stromnachfrage nach Gemeinde'].sum()\n",
    "                       for scn in scenarios}).T\n",
    "df_heat = pd.DataFrame({scn: results_scns[scn]['results_axlxt']['Wärmenachfrage nach Gemeinde'].sum()\n",
    "                       for scn in scenarios}).T\n",
    "df_heat = df_heat.T.groupby([s.split('_')[0] for s in df_heat.columns.values]).sum().T\n",
    "\n",
    "df_demand = pd.concat([df_el, df_heat], axis=0, keys=['Electricity', 'Heat'])\n",
    "df_demand = df_demand.rename(columns=PRINT_NAMES)\n",
    "df_demand = df_demand / 1e3\n",
    "\n",
    "fig = make_subplots(rows=len(scenarios), cols=1, shared_xaxes=True, vertical_spacing=0)\n",
    "for row, (key, df) in enumerate(df_demand.groupby(level=1)):\n",
    "    for i, (tech, data) in enumerate(df.iteritems()):\n",
    "        fig.add_trace(go.Bar(y=list(zip(*data.index.swaplevel())),\n",
    "                             x=data,\n",
    "                             name=tech,\n",
    "                             orientation='h',\n",
    "                             marker_color=CMAP[i+1],\n",
    "                             legendgroup=tech,\n",
    "                             hovertemplate='%{x:.1f} GWh',\n",
    "                             showlegend=not bool(row)), row=row+1, col=1)\n",
    "\n",
    "fig.update_layout(\n",
    "    title='Demand',\n",
    "    barmode='stack',\n",
    "    hovermode=\"y unified\",\n",
    "    height=150*len(scenarios),\n",
    "    legend= {'tracegroupgap': 0},\n",
    "    autosize=True)\n",
    "\n",
    "fig.update_xaxes(title_text=\"GWH\", row=len(scenarios), col=1, matches='x')\n",
    "fig.show() "
   ]
  },
  {
   "cell_type": "markdown",
   "metadata": {},
   "source": [
    "# 2 Area required by RES"
   ]
  },
  {
   "cell_type": "markdown",
   "metadata": {},
   "source": [
    "### false plots / templates"
   ]
  },
  {
   "cell_type": "code",
   "execution_count": null,
   "metadata": {},
   "outputs": [],
   "source": [
    "df_area = pd.DataFrame({scn: results_scns[scn]['results_axlxt']['Area required'].sum()\n",
    "                       for scn in scenarios}).T.rename(columns=PRINT_NAMES)\n",
    "\n",
    "fig = go.Figure()\n",
    "for i, (tech, data) in enumerate(df_area.iteritems()):\n",
    "    fig.add_trace(go.Bar(y=df_area.index,\n",
    "                         x=data,\n",
    "                         name=tech,\n",
    "                         orientation='h',\n",
    "                         marker_color=CMAP[i+1],\n",
    "                         hovertemplate='%{x:.1f} ha',\n",
    "                         showlegend=True))\n",
    "\n",
    "fig.update_layout(\n",
    "    title='Required Area',\n",
    "    barmode='group',\n",
    "    hovermode=\"y unified\",\n",
    "    height=200*len(scenarios),\n",
    "    autosize=True)\n",
    "fig.update_xaxes(title_text=\"ha\")\n",
    "fig.show()"
   ]
  },
  {
   "cell_type": "code",
   "execution_count": null,
   "metadata": {},
   "outputs": [],
   "source": [
    "df_data = results_scns[list(scenarios)[0]]['highlevel_results']\n",
    "traces = ['PV rooftop', 'PV ground', 'rel. wind']\n",
    "\n",
    "fig = go.Figure()\n",
    "\n",
    "for i, trace in enumerate(traces):\n",
    "    mask = [i for i in df_data.index if trace in  i[0]]\n",
    "    data = df_data.loc[mask]\n",
    "    index = data.index.get_level_values(level=0)\n",
    "\n",
    "    fig.add_trace(\n",
    "        go.Bar(y=index, x=data.values,\n",
    "               orientation='h',\n",
    "               name=trace,\n",
    "               marker_color=CMAP[2*i+1],\n",
    "              hovertemplate='%{x:.1f} %'))\n",
    "    \n",
    "fig.update_layout(title_text = 'Relative Required Area',\n",
    "                  xaxis=dict(title=' %',\n",
    "                    titlefont_size=12),\n",
    "                    autosize=True)\n",
    "fig.update_xaxes(showspikes=True)\n",
    "\n",
    "fig.show()"
   ]
  },
  {
   "cell_type": "markdown",
   "metadata": {},
   "source": [
    "## 2.1 Available areas: Scenarios"
   ]
  },
  {
   "cell_type": "markdown",
   "metadata": {},
   "source": [
    "### 2.1.1 Available areas: Wind Energy"
   ]
  },
  {
   "cell_type": "markdown",
   "metadata": {},
   "source": [
    "### 2.1.2 Available areas: Ground-Mounted PV"
   ]
  },
  {
   "cell_type": "markdown",
   "metadata": {},
   "source": [
    "### 2.1.3 Available areas: Roof-Mounted PV"
   ]
  },
  {
   "cell_type": "markdown",
   "metadata": {},
   "source": [
    "## 2.2 Area usage"
   ]
  },
  {
   "cell_type": "code",
   "execution_count": null,
   "metadata": {},
   "outputs": [],
   "source": []
  }
 ],
 "metadata": {
  "kernelspec": {
   "display_name": "Python 3",
   "language": "python",
   "name": "python3"
  },
  "language_info": {
   "codemirror_mode": {
    "name": "ipython",
    "version": 3
   },
   "file_extension": ".py",
   "mimetype": "text/x-python",
   "name": "python",
   "nbconvert_exporter": "python",
   "pygments_lexer": "ipython3",
   "version": "3.7.6"
  }
 },
 "nbformat": 4,
 "nbformat_minor": 4
}
