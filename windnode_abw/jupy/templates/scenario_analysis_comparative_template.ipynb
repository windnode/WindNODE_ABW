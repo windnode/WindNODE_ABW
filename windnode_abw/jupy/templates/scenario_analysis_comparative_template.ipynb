{
 "cells": [
  {
   "cell_type": "markdown",
   "metadata": {},
   "source": [
    "# WINDNODE ABW - Multi Scenario Analysis\n",
    "\n",
    "<img src=\"http://reiner-lemoine-institut.de//wp-content/uploads/2015/09/rlilogo.png\" width=\"100\" style=\"float: right\">\n",
    "\n",
    "__copyright__ \t= \"© Reiner Lemoine Institut\" <br>\n",
    "__license__ \t= \"GNU Affero General Public License Version 3 (AGPL-3.0)\" <br>\n",
    "__url__ \t\t= \"https://www.gnu.org/licenses/agpl-3.0.en.html\" <br>\n",
    "__authors__ \t\t= \"[Guido Pleßmann](https://github.com/gplssm), [Jonathan Amme](https://github.com/nesnoj), [Julian Endres](https://github.com/nailend), \" <br>"
   ]
  },
  {
   "cell_type": "markdown",
   "metadata": {},
   "source": [
    "<div class=\"alert alert-warning\">\n",
    "<font size=\"4\">We kindly ask for your patience as the rendering process can take some time.</font>\n",
    "\n",
    "\n",
    "</div>"
   ]
  },
  {
   "cell_type": "markdown",
   "metadata": {},
   "source": [
    "## Intro\n",
    "\n",
    "This jupyter notebook provides plots and information to compare the results of the dispatch-optimization of __all__ [scenarios](https://windnode-abw.readthedocs.io/en/dev/scenarios.html) by the study [__\"A regional energy system model for Anhalt-Bitterfeld-Wittenberg\"__](https://windnode-abw.readthedocs.io/en/dev/). The different scenarios cover various combinations of renewable energy penetration, area restrictions and flexibility options in heat and power sector. The notebooks will, therefore, give an overall view of energy supply and demand by the various scenarios and an insight into scenario-specific distribution and flexiblity effects.\n",
    "    \n",
    "\n",
    "  **The representation in jupyter notebooks is intended to ensure transparency and to provide a low entry barrier for further analysis.* "
   ]
  },
  {
   "cell_type": "markdown",
   "metadata": {},
   "source": [
    "<div class=\"alert alert-info\">\n",
    "<b>Notes on plots</b>\n",
    "\n",
    "\n",
    "<ol>\n",
    "<li> Some plots are generated with plotly and may not show up initially as Javascript is not enabled by default.</li>\n",
    "<li> This can be solved by clicking <b>File -> \"Trust Notebook\"</b>.</li>\n",
    "</ol> \n",
    "    \n",
    "<b>These plots have interactive features:</b>\n",
    "\n",
    "<ul>\n",
    "<li> hoovering over the plot will display additional infos </li>\n",
    "<li> clicking the legend selects data </li>\n",
    "</ul>\n",
    "    \n",
    "    \n",
    "</div>"
   ]
  },
  {
   "cell_type": "markdown",
   "metadata": {},
   "source": [
    "# Table of Contents\n",
    "\n",
    "* [Scenario information](#scenario_information)\n",
    "* [0 Key Results](#0_key_results)\n",
    "* [1 Demand and Generation](#1_demand_and_generation)\n",
    "* [2 Area required by RES](#2_area_required_by_res)\n",
    "* [3 Energy Exchange and Autarky](#3_exchange_autarky)\n",
    "* [4 Energy Mix](#4_energy_mix)\n",
    "* [5 Emissions](#5_emissions)\n",
    "* [6 Costs](#6_costs)\n",
    "* [7 Power Grid](#7_power_grid)\n",
    "* [8 Flexibility](#8_flexibility)"
   ]
  },
  {
   "cell_type": "code",
   "execution_count": null,
   "metadata": {},
   "outputs": [],
   "source": [
    "%load_ext autoreload\n",
    "%autoreload 2"
   ]
  },
  {
   "cell_type": "code",
   "execution_count": null,
   "metadata": {},
   "outputs": [],
   "source": [
    "%%javascript\n",
    "IPython.OutputArea.prototype._should_scroll = function(lines) {\n",
    "    return false;\n",
    "} "
   ]
  },
  {
   "cell_type": "code",
   "execution_count": null,
   "metadata": {},
   "outputs": [],
   "source": [
    "######## WINDNODE ###########\n",
    "# define and setup logger\n",
    "from windnode_abw.tools.logger import setup_logger\n",
    "logger = setup_logger()\n",
    "# load configs\n",
    "from windnode_abw.tools import config\n",
    "config.load_config('config_data.cfg')\n",
    "config.load_config('config_misc.cfg')\n",
    "# import scripts\n",
    "from windnode_abw.analysis import analysis\n",
    "from windnode_abw.tools.draw import *\n",
    "\n",
    "######## DATA ###########\n",
    "import re\n",
    "import pandas as pd\n",
    "\n",
    "######## PLOTTING ###########\n",
    "import matplotlib.pyplot as plt\n",
    "from mpl_toolkits.axes_grid1 import make_axes_locatable\n",
    "from matplotlib.ticker import ScalarFormatter\n",
    "import seaborn as sns\n",
    "# set seaborn style\n",
    "sns.set()\n",
    "# plotly\n",
    "import plotly.express as px\n",
    "import plotly.graph_objs as go\n",
    "from plotly.subplots import make_subplots"
   ]
  },
  {
   "cell_type": "markdown",
   "metadata": {
    "tags": [
     "parameters"
    ]
   },
   "source": [
    "# Scenario information<a class=\"anchor\" id=\"scenario_information\"></a>"
   ]
  },
  {
   "cell_type": "markdown",
   "metadata": {},
   "source": [
    "TODO\n",
    "- [ ] suppress long log output of analysis\n",
    "- [ ] use consistent scenario order, cf. https://github.com/windnode/WindNODE_ABW/issues/64#issuecomment-670712969"
   ]
  },
  {
   "cell_type": "code",
   "execution_count": null,
   "metadata": {},
   "outputs": [],
   "source": [
    "# obtain processed results\n",
    "regions_scns, results_scns = analysis(run_timestamp=run_timestamp,\n",
    "                                      scenarios=scenarios,\n",
    "                                      force_new_results=force_new_results)"
   ]
  },
  {
   "cell_type": "markdown",
   "metadata": {},
   "source": [
    "### Municipality Names"
   ]
  },
  {
   "cell_type": "code",
   "execution_count": null,
   "metadata": {},
   "outputs": [],
   "source": [
    "# Names of Municialities\n",
    "MUN_NAMES = regions_scns[scenarios[0]].muns.gen.to_dict()\n",
    "# extend for total ABW region\n",
    "MUN_NAMES.update({100:'ABW'})"
   ]
  },
  {
   "cell_type": "raw",
   "metadata": {},
   "source": [
    "##### Usefull stuff ######\n",
    "scn = list(scenarios)[-2]\n",
    "# Names of Municialities\n",
    "MUN_NAMES = regions_scns[scn].muns.gen.to_dict()\n",
    "# extend for total ABW region\n",
    "MUN_NAMES.update({100:'ABW'})\n",
    "# Colormap\n",
    "CMAP = px.colors.sequential.GnBu_r\n",
    "#CMAP_NAME_KEY_PLOT = 'GnBu_r'\n",
    "CMAP_NAME_KEY_PLOT = 'viridis'"
   ]
  },
  {
   "cell_type": "markdown",
   "metadata": {},
   "source": [
    "# 0 Key Results <a class=\"anchor\" id=\"0_key_results\"></a>"
   ]
  },
  {
   "cell_type": "markdown",
   "metadata": {},
   "source": [
    "The following plots provide an overview on the key results of all scenarios."
   ]
  },
  {
   "cell_type": "markdown",
   "metadata": {},
   "source": [
    "TODO\n",
    "- [X] Scenario order?\n",
    "- [ ] add explanations on params\n",
    "- [ ] rework autarky as soon as #135 is merged"
   ]
  },
  {
   "cell_type": "code",
   "execution_count": null,
   "metadata": {},
   "outputs": [],
   "source": [
    "scenario_results = plot_key_scenario_results(results_scns, scenarios, scenario_order=scenario_order)"
   ]
  },
  {
   "cell_type": "markdown",
   "metadata": {},
   "source": [
    "# 1 Demand and Generation <a class=\"anchor\" id=\"1_demand_and_generation\"></a>"
   ]
  },
  {
   "cell_type": "markdown",
   "metadata": {},
   "source": [
    "## 1.1 Installed Capacities Electricity/Heat\n",
    "The following figures show the total installed capacity for the ABW-region for each scenario."
   ]
  },
  {
   "cell_type": "code",
   "execution_count": null,
   "metadata": {},
   "outputs": [],
   "source": [
    "cap_el = pd.DataFrame({scn: results_scns[scn]['parameters']['Installed capacity electricity supply'].sum(axis=0)\n",
    "                       for scn in scenarios}).T\n",
    "\n",
    "cap_el = cap_el.assign(sum=cap_el.sum(axis=1)) \\\n",
    "    .sort_values(by='sum', ascending=False) \\\n",
    "    .drop('sum', axis=1)\n",
    "\n",
    "fig = go.Figure()\n",
    "\n",
    "for tech, data in cap_el.iteritems():\n",
    "    fig.add_trace(go.Bar(x=cap_el.index,\n",
    "                         y=data,\n",
    "                         name=PRINT_NAMES[tech],\n",
    "                         marker=dict(color=COLORS[tech]),\n",
    "                         hovertemplate='%{y:.1f} MW',\n",
    "                         showlegend=True))\n",
    "\n",
    "fig.update_layout(\n",
    "    title=dict(text='Installed Capacity Electricity Supply',\n",
    "               y=1),\n",
    "    barmode='stack',\n",
    "    hovermode=\"x unified\",\n",
    "    height=800,\n",
    "    xaxis_tickfont_size=12,\n",
    "    xaxis=dict(tickfont_size=12,\n",
    "              categoryorder='array',\n",
    "              categoryarray=scenario_order),\n",
    "    yaxis=dict(title='MW',\n",
    "               titlefont_size=16,\n",
    "               tickfont_size=14),\n",
    "    legend=dict(orientation=\"h\",\n",
    "                yanchor=\"bottom\",\n",
    "                y=1.02,\n",
    "                xanchor=\"right\",\n",
    "                x=1),\n",
    "    autosize=True,)\n",
    "\n",
    "fig.show()"
   ]
  },
  {
   "cell_type": "code",
   "execution_count": null,
   "metadata": {},
   "outputs": [],
   "source": [
    "cap_th = pd.DataFrame({scn: results_scns[scn]['parameters']['Installed capacity heat supply'].sum(axis=0)\n",
    "                       for scn in scenarios}).T\n",
    "\n",
    "cap_th = cap_th.assign(sum=cap_th.sum(axis=1)) \\\n",
    "    .sort_values(by='sum', ascending=False) \\\n",
    "    .drop('sum', axis=1)\n",
    "\n",
    "fig = go.Figure()\n",
    "colors_el = [COLORS[c] for c in cap_th.columns]\n",
    "for tech, data in cap_th.iteritems():\n",
    "    fig.add_trace(go.Bar(x=cap_th.index,\n",
    "                         y=data,\n",
    "                         name=PRINT_NAMES[tech],\n",
    "                         marker=dict(color=COLORS[tech]),\n",
    "                         hovertemplate='%{y:.1f} MW',\n",
    "                         showlegend=True))\n",
    "\n",
    "fig.update_layout(\n",
    "    title=dict(text='Installed Capacity Heat Supply',\n",
    "               y=1),\n",
    "    barmode='stack',\n",
    "    hovermode=\"x unified\",\n",
    "    height=800,\n",
    "    xaxis=dict(tickfont_size=12,\n",
    "              categoryorder='array',\n",
    "              categoryarray=scenario_order),\n",
    "    yaxis=dict(title='MW',\n",
    "               titlefont_size=16,\n",
    "               tickfont_size=14),\n",
    "    legend=dict(orientation=\"h\",\n",
    "                yanchor=\"bottom\",\n",
    "                y=1.02,\n",
    "                xanchor=\"right\",\n",
    "                x=1),\n",
    "    autosize=True)\n",
    "fig.show()"
   ]
  },
  {
   "cell_type": "markdown",
   "metadata": {},
   "source": [
    "## 1.2 Electricity and Heat Generation\n",
    "The following figures show either the annual total of generated heat or heat for the ABW-region for each scenario."
   ]
  },
  {
   "cell_type": "code",
   "execution_count": null,
   "metadata": {},
   "outputs": [],
   "source": [
    "df_gen_el = pd.DataFrame({scn: results_scns[scn]['results_t']['Electricity generation']\n",
    "                       for scn in scenarios}).T\n",
    "df_gen_el = df_gen_el / 1e3 #\n",
    "fig = go.Figure()\n",
    "for tech, data in df_gen_el.iteritems():\n",
    "    fig.add_trace(go.Bar(x=df_gen_el.index,\n",
    "                         y=data,\n",
    "                         name=tech,\n",
    "                         marker=dict(color=COLORS_PRINT[tech]),\n",
    "                         hovertemplate='%{y:.1f} GWh',\n",
    "                         showlegend=True))\n",
    "\n",
    "fig.update_layout(\n",
    "    title=dict(text='Electricity Generation',\n",
    "               y=1),\n",
    "    barmode='stack',\n",
    "    height=800,\n",
    "    hovermode=\"x unified\",\n",
    "    xaxis=dict(tickfont_size=12,\n",
    "              categoryorder='array',\n",
    "              categoryarray=scenario_order),\n",
    "    yaxis=dict(title='GWh',\n",
    "               titlefont_size=16,\n",
    "               tickfont_size=14),\n",
    "    legend=dict(orientation=\"h\",\n",
    "                yanchor=\"bottom\",\n",
    "                y=1.02,\n",
    "                xanchor=\"right\",\n",
    "                x=1),\n",
    "    autosize=True)\n",
    "fig.show()"
   ]
  },
  {
   "cell_type": "code",
   "execution_count": null,
   "metadata": {},
   "outputs": [],
   "source": [
    "df_gen_heat = pd.DataFrame({scn: results_scns[scn]['results_t']['Heat generation']\n",
    "                       for scn in scenarios}).T\n",
    "df_gen_heat = df_gen_heat / 1e3 #\n",
    "fig = go.Figure()\n",
    "for tech, data in df_gen_heat.iteritems():\n",
    "    fig.add_trace(go.Bar(x=df_gen_heat.index,\n",
    "                         y=data,\n",
    "                         name=tech,\n",
    "                         marker=dict(color=COLORS_PRINT[tech]),\n",
    "                         hovertemplate='%{y:.1f} GWh',\n",
    "                         showlegend=True))\n",
    "\n",
    "fig.update_layout(\n",
    "    title=dict(text='Heat Generation',\n",
    "               y=1),\n",
    "    barmode='stack',\n",
    "    hovermode=\"x unified\",\n",
    "    height=800,\n",
    "    xaxis=dict(tickfont_size=12,\n",
    "              categoryorder='array',\n",
    "              categoryarray=scenario_order),\n",
    "    yaxis=dict(title='GWh',\n",
    "               titlefont_size=16,\n",
    "               tickfont_size=14),\n",
    "    legend=dict(orientation=\"h\",\n",
    "                yanchor=\"bottom\",\n",
    "                y=1.02,\n",
    "                xanchor=\"right\",\n",
    "                x=1),\n",
    "    autosize=True)\n",
    "fig.show()"
   ]
  },
  {
   "cell_type": "markdown",
   "metadata": {},
   "source": [
    "## 1.3 Electricity and Heat Demand\n",
    "The following figure shows both the annual total demand of electricity and heat for the ABW-region for each scenario."
   ]
  },
  {
   "cell_type": "code",
   "execution_count": null,
   "metadata": {},
   "outputs": [],
   "source": [
    "df_el = pd.DataFrame({scn: results_scns[scn]['results_axlxt']['Stromnachfrage nach Gemeinde'].sum()\n",
    "                       for scn in scenarios}).T\n",
    "df_heat = pd.DataFrame({scn: results_scns[scn]['results_axlxt']['Wärmenachfrage nach Gemeinde'].sum()\n",
    "                       for scn in scenarios}).T\n",
    "df_heat = df_heat.T.groupby([s.split('_')[0] for s in df_heat.columns.values]).sum().T\n",
    "\n",
    "df_demand = pd.concat([df_el, df_heat], axis=0, keys=['Electricity', 'Heat'], sort=False)\n",
    "df_demand = df_demand.rename(columns=PRINT_NAMES)\n",
    "df_demand = df_demand / 1e3\n",
    "\n",
    "fig = make_subplots(rows=len(scenarios), cols=1, shared_xaxes=True, vertical_spacing=0)\n",
    "for row, (key, df) in enumerate(df_demand.groupby(level=1)):\n",
    "    for i, (tech, data) in enumerate(df.iteritems()):\n",
    "        fig.add_trace(go.Bar(y=list(zip(*data.index.swaplevel())),\n",
    "                             x=data,\n",
    "                             name=tech,\n",
    "                             orientation='h',\n",
    "                             marker_color=COLORS_PRINT[tech],\n",
    "                             legendgroup=tech,\n",
    "                             hovertemplate='%{x:.1f} GWh',\n",
    "                             showlegend=not bool(row)), row=row+1, col=1)\n",
    "\n",
    "fig.update_layout(\n",
    "    title='Demand',\n",
    "    barmode='stack',\n",
    "    hovermode=\"y unified\",\n",
    "    yaxis=dict(tickfont_size=12,\n",
    "              categoryorder='array',\n",
    "              categoryarray=scenario_order),\n",
    "    height=50*len(scenarios),\n",
    "    legend= {'tracegroupgap': 0},\n",
    "    autosize=True)\n",
    "\n",
    "fig.update_xaxes(title_text=\"GWH\", row=len(scenarios), col=1, matches='x')\n",
    "fig.show() "
   ]
  },
  {
   "cell_type": "markdown",
   "metadata": {},
   "source": [
    "# 2 Area required by RES <a class=\"anchor\" id=\"2_area_required_by_res\"></a>"
   ]
  },
  {
   "cell_type": "markdown",
   "metadata": {},
   "source": [
    "## 2.1 Available Areas: Installable Power"
   ]
  },
  {
   "cell_type": "markdown",
   "metadata": {},
   "source": [
    "The following plot shows the maximum installable power for each land use scenario and technology.\n",
    "\n",
    "Absolute values are represented in <b>colored</b> bars and relative (always relative to the max. installable power for the regulatory status quo) in  <b>grey</b>. The regulatory status quo is highlighted in <b>bold</b> for each technology.\n",
    "\n",
    "<div class=\"alert alert-block alert-info\">\n",
    "\n",
    "<ul>\n",
    "<li> Technology-specific naming conventions of land use scenarios:\n",
    "    <ul>\n",
    "        <li><b>Wind</b>: Distance to settlements <i>(500m/1000m)</i> |  use of forests <i>(with: w / without: wo)</i> | percentage of available area due to restrictions resulting from case-by-case decisions</li>\n",
    "        <li> <b>PV ground</b>: Restrictions that apply (hard: H / hard+soft: HS)| percentage of total available agricultural area</li>\n",
    "    </ul></li>\n",
    "    </ul>\n",
    "    \n",
    "    \n",
    "Note: The specific land use (ha/MWp) of PV are different for 2035 and 2050. For the sake of simplicity, the value of 2050 is used in this plot (cf. assumptions).\n",
    "\n",
    "</div>"
   ]
  },
  {
   "cell_type": "code",
   "execution_count": null,
   "metadata": {},
   "outputs": [],
   "source": [
    "power_pot_land_use(regions_scns, scenarios)"
   ]
  },
  {
   "cell_type": "markdown",
   "metadata": {},
   "source": [
    "TODO\n",
    "- [ ] conversions info"
   ]
  },
  {
   "cell_type": "markdown",
   "metadata": {},
   "source": [
    "The following plot shows the maximum installable power for each RES scenario.\n",
    "\n",
    "<div class=\"alert alert-block alert-info\">\n",
    "\n",
    " RES scenario convertion:\n",
    "    <ul>\n",
    "        <li><b>RE- </b>: </li>\n",
    "        <li><b>RE </b>: </li>\n",
    "        <li><b>RE+ </b>: </li>\n",
    "        <li><b>RE++ </b>: </li>\n",
    "    </ul>\n",
    "\n",
    "and technology as absolute values (colored) and relative to the max. installable power for the regulatory status quo (red)."
   ]
  },
  {
   "cell_type": "code",
   "execution_count": null,
   "metadata": {},
   "outputs": [],
   "source": [
    "power_pot_scenarios(regions_scns, scenarios)"
   ]
  },
  {
   "cell_type": "markdown",
   "metadata": {},
   "source": [
    "### 2.1.1 Available areas: Wind Energy"
   ]
  },
  {
   "cell_type": "markdown",
   "metadata": {},
   "source": [
    "- [ ] normalize colors?\n",
    "- [ ] "
   ]
  },
  {
   "cell_type": "code",
   "execution_count": null,
   "metadata": {},
   "outputs": [],
   "source": [
    "df_pot_area = pd.DataFrame({scn: area_ha.droplevel(level=1)\n",
    "              for scn, area_ha\n",
    "              in regions_scns['StatusQuo'].pot_areas_wec.area_ha.groupby(level=1)})\n",
    "\n",
    "df_pot_area.drop(columns='s1000f0', inplace=True)\n",
    "\n",
    "name_mapping = {'sq': 'Wind legal SQ', 's1000f1': 'Wind 100m w forest 10-perc', 's500f0': 'Wind 500m wo forest 10-perc', 's500f1': 'Wind 500m w forest 10-perc'}\n",
    "\n",
    "df_pot_area.rename(columns=name_mapping, inplace=True)\n",
    "\n",
    "fig, axes = plt.subplots(2, 2, figsize=(12,6))\n",
    "\n",
    "for ax, (key, data) in  zip(axes.flat, df_pot_area.iteritems()):\n",
    "    plot_geoplot(key, data, regions_scns['StatusQuo'], ax=ax, unit='ha')\n",
    "    \n",
    "fig.suptitle('Required Area',\n",
    "     fontsize=16,\n",
    "     fontweight='normal')\n",
    "plt.tight_layout()\n",
    "plt.show()"
   ]
  },
  {
   "cell_type": "markdown",
   "metadata": {},
   "source": [
    "### 2.1.2 Available areas: Ground-Mounted PV"
   ]
  },
  {
   "cell_type": "markdown",
   "metadata": {},
   "source": [
    "- [ ] normalize colors?\n",
    "- [ ] Add note that the shown agri areas are 100%, we use 0.1% and 1% in our scenarios.\n",
    "- [ ] A comprehensive description of how those areas are determined see StEmp ABW docs.\n"
   ]
  },
  {
   "cell_type": "code",
   "execution_count": null,
   "metadata": {},
   "outputs": [],
   "source": [
    "df_pot_area = pd.DataFrame({scn: area_ha.droplevel(level=1)\n",
    "              for scn, area_ha\n",
    "              in regions_scns['StatusQuo'].pot_areas_pv.area_ha.groupby(level=1)})\n",
    "\n",
    "#df_pot_area.drop(columns='s1000f0', inplace=True)\n",
    "\n",
    "#name_mapping = {'sq': 'Wind legal SQ', 's1000f1': 'Wind 100m w forest 10-perc', 's500f0': 'Wind 500m wo forest 10-perc', 's500f1': 'Wind 500m w forest 10-perc'}\n",
    "\n",
    "#df_pot_area.rename(columns=name_mapping, inplace=True)\n",
    "\n",
    "fig, axes = plt.subplots(3, 2, figsize=(12,10))\n",
    "\n",
    "for ax, (key, data) in  zip(axes.flat, df_pot_area.iteritems()):\n",
    "    plot_geoplot(key, data, regions_scns['StatusQuo'], ax=ax, unit='ha')\n",
    "    \n",
    "fig.suptitle('Available Areas: Ground-Mounted',\n",
    "     fontsize=16,\n",
    "     fontweight='normal',\n",
    "            y=1)\n",
    "plt.tight_layout()\n",
    "plt.show()"
   ]
  },
  {
   "cell_type": "markdown",
   "metadata": {},
   "source": [
    "### 2.1.3 Available areas: Roof-Mounted PV"
   ]
  },
  {
   "cell_type": "code",
   "execution_count": null,
   "metadata": {},
   "outputs": [],
   "source": [
    "fig, ax = plt.subplots(figsize=(12,6))\n",
    "plot_geoplot('PV Roof-Mounted',\n",
    "             regions_scns['StatusQuo'].pot_areas_pv_roof.sum(axis=1).rename('area'),\n",
    "             regions_scns['StatusQuo'], ax=ax, unit='ha')"
   ]
  },
  {
   "cell_type": "markdown",
   "metadata": {},
   "source": [
    "# 3 Energy Exchange and Autarky <a class=\"anchor\" id=\"3_exchange_autarky\"></a>"
   ]
  },
  {
   "cell_type": "markdown",
   "metadata": {},
   "source": [
    "## 3.1 Energy Exchange"
   ]
  },
  {
   "cell_type": "markdown",
   "metadata": {},
   "source": [
    "## 3.2 Autarky"
   ]
  },
  {
   "cell_type": "markdown",
   "metadata": {},
   "source": [
    "- [ ] add equations relevant for ABW\n",
    "- [ ] explain what sectors is included in \"autarky\" (el or el+th?)"
   ]
  },
  {
   "cell_type": "markdown",
   "metadata": {},
   "source": [
    "# 4 Energy Mix <a class=\"anchor\" id=\"4_energy_mix\"></a>"
   ]
  },
  {
   "cell_type": "markdown",
   "metadata": {},
   "source": [
    "### 4.1 Electricity Generation and Demand"
   ]
  },
  {
   "cell_type": "code",
   "execution_count": null,
   "metadata": {},
   "outputs": [],
   "source": [
    "df_generation = pd.DataFrame({scn: results_scns[scn]['flows_txaxt']['Stromerzeugung'].sum()\n",
    "                       for scn in scenarios}).T.rename(columns=PRINT_NAMES)\n",
    "df_demand = pd.DataFrame({scn: results_scns[scn]['flows_txaxt']['Stromnachfrage'].sum()\n",
    "                       for scn in scenarios}).T.rename(columns=PRINT_NAMES)\n",
    "\n",
    "fig = go.Figure()\n",
    "for tech, data in df_generation.iteritems():\n",
    "    fig.add_trace(go.Bar(x=data.index,\n",
    "                            y=data / 1e3,\n",
    "                            orientation='v',\n",
    "                            name=tech,\n",
    "#                             marker_color=COLORS[tech],\n",
    "                            hovertemplate='%{y:.1f} GWh'))\n",
    "\n",
    "for tech, data in df_demand.iteritems():\n",
    "    fig.add_trace(go.Bar(x=data.index,\n",
    "                            y=-data / 1e3,\n",
    "                            orientation='v',\n",
    "                            name=tech,\n",
    "#                             marker_color=COLORS[tech],\n",
    "                            hovertemplate='%{y:.1f} GWh',\n",
    "#                             visible='legendonly'\n",
    "                        ))\n",
    "\n",
    "\n",
    "fig.update_layout(\n",
    "    title='Power Generation and Demand',\n",
    "    barmode='relative',\n",
    "#     height=600,\n",
    "    autosize=True,\n",
    "    hovermode=\"x unified\")\n",
    "fig.update_yaxes(title='GWh', showspikes=False)\n",
    "fig.show()"
   ]
  },
  {
   "cell_type": "markdown",
   "metadata": {},
   "source": [
    "## 4.2 Heat Generation and Demand"
   ]
  },
  {
   "cell_type": "code",
   "execution_count": null,
   "metadata": {},
   "outputs": [],
   "source": [
    "df_generation = pd.DataFrame({scn: results_scns[scn]['flows_txaxt']['Wärmeerzeugung'].sum()\n",
    "                       for scn in scenarios}).T.rename(columns=PRINT_NAMES)\n",
    "df_demand = pd.DataFrame({scn: results_scns[scn]['flows_txaxt']['Wärmenachfrage'].sum()\n",
    "                       for scn in scenarios}).T.rename(columns=PRINT_NAMES)\n",
    "\n",
    "fig = go.Figure()\n",
    "for tech, data in df_generation.iteritems():\n",
    "    fig.add_trace(go.Bar(x=data.index,\n",
    "                            y=data / 1e3,\n",
    "                            orientation='v',\n",
    "                            name=tech,\n",
    "#                             marker_color=COLORS[tech],\n",
    "                            hovertemplate='%{y:.1f} GWh'))\n",
    "\n",
    "for tech, data in df_demand.iteritems():\n",
    "    fig.add_trace(go.Bar(x=data.index,\n",
    "                            y=-data / 1e3,\n",
    "                            orientation='v',\n",
    "                            name=tech,\n",
    "#                             marker_color=COLORS[tech],\n",
    "                            hovertemplate='%{y:.1f} GWh',\n",
    "#                             visible='legendonly'\n",
    "                        ))\n",
    "\n",
    "\n",
    "fig.update_layout(\n",
    "    title='Heat Generation and Demand',\n",
    "    barmode='relative',\n",
    "#     height=600,\n",
    "    autosize=True,\n",
    "    hovermode=\"x unified\")\n",
    "fig.update_yaxes(title='GWh', showspikes=False)\n",
    "fig.show()"
   ]
  },
  {
   "cell_type": "markdown",
   "metadata": {},
   "source": [
    "# 5 Emissions <a class=\"anchor\" id=\"5_emissions\"></a>"
   ]
  },
  {
   "cell_type": "markdown",
   "metadata": {},
   "source": [
    "## 5.1 Emissions absolute"
   ]
  },
  {
   "cell_type": "code",
   "execution_count": null,
   "metadata": {},
   "outputs": [],
   "source": [
    "df_emissions = pd.DataFrame(\n",
    "    {scn : pd.concat([pd.Series(data=results_scns[scn]['results_axlxt'][key].sum().sum(), index=[key]) \\\n",
    "                      for key in results_scns[scn]['results_axlxt'] if 'total' in key]) \\\n",
    "     for scn in scenarios}).T\n",
    "\n",
    "df_emissions['CO2 emissions grid total'] = df_emissions[['CO2 emissions grid total',\n",
    "                                                         'CO2 emissions grid new total']]\n",
    "df_emissions = df_emissions.drop(columns='CO2 emissions grid new total')\n",
    "\n",
    "fig = go.Figure()\n",
    "for i, (tech, data) in enumerate(df_emissions.iteritems()):\n",
    "    fig.add_trace(go.Bar(x=data.index,\n",
    "                         y=data,\n",
    "                         name=tech,\n",
    "                         orientation='v',\n",
    "                         #marker_color=CMAP[i+1],\n",
    "                         legendgroup=tech,\n",
    "                         hovertemplate='%{y:.1f} t CO2',))\n",
    "fig.update_layout(\n",
    "    title='Emissions',\n",
    "    barmode='stack',\n",
    "    hovermode=\"x unified\",\n",
    "    #height=50*len(scenarios),\n",
    "    legend= {'tracegroupgap': 0},\n",
    "    autosize=True)\n",
    "\n",
    "fig.update_yaxes(title_text=\"t CO2\")\n",
    "fig.show() "
   ]
  },
  {
   "cell_type": "markdown",
   "metadata": {},
   "source": [
    "# 6 Costs <a class=\"anchor\" id=\"6_costs\"></a>"
   ]
  },
  {
   "cell_type": "markdown",
   "metadata": {},
   "source": [
    "## 6.1 Costs per Sector and Technology"
   ]
  },
  {
   "cell_type": "markdown",
   "metadata": {},
   "source": [
    "## 6.2 LCOE, LCOH and Renewable Share"
   ]
  },
  {
   "cell_type": "code",
   "execution_count": null,
   "metadata": {},
   "outputs": [],
   "source": [
    "scenario_results = scenario_results[1].join(scenario_results[2].drop(\"Scenario\", axis=1)).join(scenario_results[3].drop(\"Scenario\", axis=1))\n",
    "\n",
    "tmp_dict = {\n",
    "    \"RES share [%]\": [],\n",
    "    \"Autark hours [%]\": [],\n",
    "    'Heat Storage Use [GWh]': [],\n",
    "    'El. Storage Use [GWh]': [],\n",
    "    'Net DSM activation [GWh]': []\n",
    "}\n",
    "for scenario in scenarios:\n",
    "    tmp_dict[\"RES share [%]\"].append(results_scns[scenario][\"results_t\"]['Electricity generation'].drop(\n",
    "        [\"Large-scale CHP\", \"Open-cycle gas turbine\", \"Combined-cycle gas turbine\"]).sum() / float(results_scns[scenario][\"highlevel_results\"][\"Electricity demand total\"]) * 100)\n",
    "    tmp_dict[\"Autark hours [%]\"].append(float(results_scns[scenario][\"highlevel_results\"][\"Autark hours\"]) * 100)\n",
    "    tmp_dict['Heat Storage Use [GWh]'].append(results_scns[scenario][\"results_axlxt\"]['Wärmespeicher nach Gemeinde'].sum().sum() / 1e3)\n",
    "    tmp_dict['El. Storage Use [GWh]'].append(results_scns[scenario][\"results_axlxt\"]['Batteriespeicher nach Gemeinde'].sum().sum() / 1e3)\n",
    "    tmp_dict['Net DSM activation [GWh]'].append(float(results_scns[scenario][\"highlevel_results\"]['Net DSM activation']) / 1e3)\n",
    "additional_key_figures = pd.DataFrame(tmp_dict, index=scenarios)\n",
    "scenario_results_ext = scenario_results.join(additional_key_figures, on=\"Scenario\").set_index(\"Scenario\").sort_values(\"RES share [%]\")\n",
    "scenario_results_ext = scenario_results_ext.drop(\"StatusQuo\", axis=0)"
   ]
  },
  {
   "cell_type": "code",
   "execution_count": null,
   "metadata": {},
   "outputs": [],
   "source": [
    "fig = make_subplots(specs=[[{\"secondary_y\": True}]])\n",
    "\n",
    "re_scn_matches = [re.search('((RE\\+\\+)|(RE\\+)|(WIND\\+)|(PV\\+)|(RE-)|(RE))', scn) for scn in scenario_results_ext.index]\n",
    "scenario_results_ext[\"RE scenario\"] = [m[0].replace(\"WIND\", \"RE\").replace(\"PV\", \"RE\") if m is not None else \"RE\" for m in re_scn_matches]\n",
    "\n",
    "re_scn_sort = {\"RE-\": 0, \"RE\": 1, \"RE+\": 2, \"RE++\": 3}\n",
    "scenario_results_ext[\"RE scenario order\"] = scenario_results_ext[\"RE scenario\"].replace(re_scn_sort)\n",
    "scenario_results_ext = scenario_results_ext.sort_values([\"RE scenario order\", \"RES share [%]\"])\n",
    "xlabels = [[\"<b>{}</b>\".format(_) for _ in scenario_results_ext[\"RE scenario\"]], scenario_results_ext.index]\n",
    "\n",
    "fig.add_trace(go.Bar(y=scenario_results_ext[\"RES share [%]\"],\n",
    "            x=xlabels,\n",
    "            name=\"RES share in %\",\n",
    "            #marker_color=CMAP[4],\n",
    "            #hovertemplate='%{y:.2f}<extra></extra> %',\n",
    "            showlegend=True))\n",
    "\n",
    "fig.add_trace(go.Scatter(y=scenario_results_ext[\"LCOE [EUR/MWh]\"],\n",
    "                             x=xlabels,\n",
    "                             mode='markers',\n",
    "                             opacity=0.7,\n",
    "                             #marker_color=CMAP[0],\n",
    "                             name=\"LCOE in EUR/MWh\",\n",
    "                             ), secondary_y=True)\n",
    "\n",
    "fig.add_trace(go.Scatter(y=scenario_results_ext[\"LCOH [EUR/MWh]\"],\n",
    "                             x=xlabels,\n",
    "                            mode='markers',\n",
    "                             opacity=0.7,\n",
    "                             marker_color=\"indianred\",\n",
    "                             name=\"LCOH in EUR/MWh\",\n",
    "                             ), secondary_y=True)\n",
    "\n",
    "\n",
    "fig.update_layout(yaxis=dict(\n",
    "                      title=\"RES share in %\",\n",
    "                      titlefont_size=16,\n",
    "                      tickfont_size=12),\n",
    "                  height=700,\n",
    "                  autosize=True,\n",
    "                  hovermode=\"x unified\",\n",
    "                  legend=dict(orientation=\"h\", yanchor=\"bottom\",y=1.02, xanchor=\"right\",x=1)\n",
    "                 )\n",
    "fig.update_yaxes(title_text=\"LCOE/LCOH in EUR/MWh\", secondary_y=True)\n",
    "fig.update_xaxes()"
   ]
  },
  {
   "cell_type": "markdown",
   "metadata": {},
   "source": [
    "# 7 Power Grid <a class=\"anchor\" id=\"7_power_grid\"></a>"
   ]
  },
  {
   "cell_type": "markdown",
   "metadata": {},
   "source": []
  },
  {
   "cell_type": "markdown",
   "metadata": {},
   "source": [
    "# 8 Flexibility <a class=\"anchor\" id=\"8_flexibility\"></a>"
   ]
  },
  {
   "cell_type": "code",
   "execution_count": null,
   "metadata": {},
   "outputs": [],
   "source": [
    "scenario_results_ext[\"Flexibility shifted energy [GWh]\"] = scenario_results_ext[[\"Heat Storage Use [GWh]\", \"El. Storage Use [GWh]\",\"Net DSM activation [GWh]\"]].sum(axis=1)\n",
    "\n",
    "re_color_mapping = {\"RE-\": \"mediumaquamarine\", \"RE\": \"lightseagreen\", \"RE+\": \"seagreen\", \"RE++\": \"yellowgreen\"}\n",
    "colors = [re_color_mapping[_] for _ in scenario_results_ext[\"RE scenario\"]]\n",
    "\n",
    "pairs = {\n",
    "    \"LCOE vs. Exports\": (\"LCOE [EUR/MWh]\", \"El. Exports [TWh]\",),\n",
    "    \"Flexibility vs. Exports\": (\"Flexibility shifted energy [GWh]\", \"El. Exports [TWh]\"),\n",
    "    \"Flexibility vs. Autarky\": (\"Flexibility shifted energy [GWh]\", \"Autarky [%]\"),\n",
    "    \"LCOE vs. Autarky\": (\"LCOE [EUR/MWh]\", \"Autarky [%]\",),\n",
    "    \"Flexibility vs. Intra-reg. Exchange\": (\"Flexibility shifted energy [GWh]\", \"Intra-reg. Exchange [TWh]\"),\n",
    "    \"Autarky vs. Intra-reg. Exchange\": (\"Autarky [%]\", \"Intra-reg. Exchange [TWh]\"),\n",
    "    \"Autark hours vs. Intra-reg. Exchange\": (\"Autark hours [%]\", \"Intra-reg. Exchange [TWh]\"),\n",
    "    \"Flexibility vs. Emissions\": (\"Flexibility shifted energy [GWh]\", \"Specific Emissions [g/kWh]\"),\n",
    "}\n",
    "\n",
    "for k, pair in pairs.items():\n",
    "    fig = go.Figure(data=go.Scatter(\n",
    "        x=scenario_results_ext[pair[1]],\n",
    "        y=scenario_results_ext[pair[0]],\n",
    "        mode='markers',\n",
    "        marker=dict(size=[20] * len(scenarios),\n",
    "                    color=colors),\n",
    "        text=scenario_results_ext.index\n",
    "    ))\n",
    "\n",
    "\n",
    "    fig.update_yaxes(title_text=pair[0])\n",
    "    fig.update_xaxes(title_text=pair[1])\n",
    "    fig.show()"
   ]
  },
  {
   "cell_type": "markdown",
   "metadata": {},
   "source": [
    "### 8.0.4 Flexibility utilization vs. Autarky"
   ]
  },
  {
   "cell_type": "code",
   "execution_count": null,
   "metadata": {},
   "outputs": [],
   "source": [
    "fig = make_subplots(specs=[[{\"secondary_y\": True}]])\n",
    "\n",
    "scenario_results_ext = scenario_results_ext.sort_values([\"RE scenario order\", \"Autark hours [%]\"])\n",
    "xlabels = [[\"<b>{}</b>\".format(_) for _ in scenario_results_ext[\"RE scenario\"]], scenario_results_ext.index]\n",
    "\n",
    "fig.add_trace(go.Bar(y=scenario_results_ext[\"Autark hours [%]\"],\n",
    "            x=xlabels,\n",
    "            name=\"Autark hours in %\",\n",
    "           # marker_color=CMAP[4],\n",
    "            #hovertemplate='%{y:.2f}<extra></extra> %',\n",
    "            showlegend=True))\n",
    "\n",
    "fig.add_trace(go.Scatter(y=scenario_results_ext['El. Storage Use [%]'],\n",
    "                             x=xlabels,\n",
    "                             mode='markers',\n",
    "                             opacity=0.7,\n",
    "                             #marker_color=CMAP[0],\n",
    "                             name=\"Battery storage utilization in %\",\n",
    "                             ), secondary_y=True)\n",
    "\n",
    "fig.add_trace(go.Scatter(y=scenario_results_ext['Heat Storage Use [%]'],\n",
    "                             x=xlabels,\n",
    "                            mode='markers',\n",
    "                             opacity=0.7,\n",
    "                             marker_color=\"indianred\",\n",
    "                             name=\"Heat storage utilization in %\",\n",
    "                             ), secondary_y=True)\n",
    "\n",
    "fig.add_trace(go.Scatter(y=scenario_results_ext['DSM Utilization Rate [%]'],\n",
    "                             x=xlabels,\n",
    "                            mode='markers',\n",
    "                             opacity=0.7,\n",
    "                             marker_color=\"darkorange\",\n",
    "                             name=\"DSM utilization in %\",\n",
    "                             ), secondary_y=True)\n",
    "\n",
    "\n",
    "fig.update_layout(yaxis=dict(\n",
    "                      title=\"Autark hours in %\",\n",
    "                      titlefont_size=16,\n",
    "                      tickfont_size=12),\n",
    "                  height=700,\n",
    "                  autosize=True,\n",
    "                  hovermode=\"x unified\",\n",
    "                  legend=dict(orientation=\"h\", yanchor=\"bottom\",y=1.02, xanchor=\"right\",x=1)\n",
    "                 )\n",
    "fig.update_yaxes(title_text=\"Utilization in %\", secondary_y=True)\n",
    "fig.update_xaxes()"
   ]
  },
  {
   "cell_type": "code",
   "execution_count": null,
   "metadata": {},
   "outputs": [],
   "source": [
    "fig = make_subplots(specs=[[{\"secondary_y\": True}]])\n",
    "\n",
    "scenario_results_ext = scenario_results_ext.sort_values([\"RE scenario order\", \"Autark hours [%]\"])\n",
    "xlabels = [[\"<b>{}</b>\".format(_) for _ in scenario_results_ext[\"RE scenario\"]], scenario_results_ext.index]\n",
    "\n",
    "fig.add_trace(go.Bar(y=scenario_results_ext[\"Autark hours [%]\"],\n",
    "            x=xlabels,\n",
    "            name=\"Autark hours in %\",\n",
    "            #marker_color=CMAP[4],\n",
    "            hovertemplate='%{y:.2f}<extra></extra> %',\n",
    "            showlegend=True))\n",
    "\n",
    "fig.add_trace(go.Scatter(y=scenario_results_ext['El. Storage Use [GWh]'],\n",
    "                             x=xlabels,\n",
    "                             mode='markers',\n",
    "                             opacity=0.7,\n",
    "                             #marker_color=CMAP[0],\n",
    "                             name=\"Shifted electricity battery storage in GWh\",\n",
    "                             ), secondary_y=True)\n",
    "\n",
    "fig.add_trace(go.Scatter(y=scenario_results_ext['Heat Storage Use [GWh]'],\n",
    "                             x=xlabels,\n",
    "                            mode='markers',\n",
    "                             opacity=0.7,\n",
    "                             marker_color=\"indianred\",\n",
    "                             name=\"Shifted electricity heat storage in GWh\",\n",
    "                             ), secondary_y=True)\n",
    "\n",
    "fig.add_trace(go.Scatter(y=scenario_results_ext['Net DSM activation [GWh]'],\n",
    "                             x=xlabels,\n",
    "                             mode='markers',\n",
    "                             opacity=0.7,\n",
    "                             marker_color=\"darkorange\",\n",
    "                             name=\"Shifted electricity DSM in GWh\",\n",
    "                             ), secondary_y=True)\n",
    "\n",
    "\n",
    "fig.update_layout(yaxis=dict(\n",
    "                      title=\"Autark hours in %\",\n",
    "                      titlefont_size=16,\n",
    "                      tickfont_size=12),\n",
    "                  height=700,\n",
    "                  autosize=True,\n",
    "                  hovermode=\"x unified\",\n",
    "                  legend=dict(orientation=\"h\", yanchor=\"bottom\",y=1.02, xanchor=\"right\",x=1)\n",
    "                 )\n",
    "fig.update_yaxes(title_text=\"Shifted electricity in GWh\", secondary_y=True)\n",
    "fig.update_xaxes()"
   ]
  },
  {
   "cell_type": "code",
   "execution_count": null,
   "metadata": {},
   "outputs": [],
   "source": [
    "fig = make_subplots(specs=[[{\"secondary_y\": True}]])\n",
    "\n",
    "scenario_results_ext = scenario_results_ext.sort_values([\"RE scenario order\", \"RES share [%]\"])\n",
    "xlabels = [[\"<b>{}</b>\".format(_) for _ in scenario_results_ext[\"RE scenario\"]], scenario_results_ext.index]\n",
    "\n",
    "fig.add_trace(go.Bar(y=scenario_results_ext[\"RES share [%]\"],\n",
    "            x=xlabels,\n",
    "            name=\"RES share in %\",\n",
    "            #marker_color=CMAP[4],\n",
    "            showlegend=True))\n",
    "\n",
    "fig.add_trace(go.Scatter(y=scenario_results_ext['El. Storage Use [%]'],\n",
    "                             x=xlabels,\n",
    "                             mode='markers',\n",
    "                             opacity=0.7,\n",
    "                             #marker_color=CMAP[0],\n",
    "                             name=\"Battery storage utilization in %\",\n",
    "                             ), secondary_y=True)\n",
    "\n",
    "fig.add_trace(go.Scatter(y=scenario_results_ext['Heat Storage Use [%]'],\n",
    "                             x=xlabels,\n",
    "                            mode='markers',\n",
    "                             opacity=0.7,\n",
    "                             marker_color=\"indianred\",\n",
    "                             name=\"Heat storage utilization in %\",\n",
    "                             ), secondary_y=True)\n",
    "\n",
    "fig.add_trace(go.Scatter(y=scenario_results_ext['DSM Utilization Rate [%]'],\n",
    "                             x=xlabels,\n",
    "                            mode='markers',\n",
    "                             opacity=0.7,\n",
    "                             marker_color=\"darkorange\",\n",
    "                             name=\"DSM utilization in %\",\n",
    "                             ), secondary_y=True)\n",
    "\n",
    "\n",
    "fig.update_layout(yaxis=dict(\n",
    "                      title=\"RES share in %\",\n",
    "                      titlefont_size=16,\n",
    "                      tickfont_size=12),\n",
    "                  height=700,\n",
    "                  autosize=True,\n",
    "                  hovermode=\"x unified\",\n",
    "                  legend=dict(orientation=\"h\", yanchor=\"bottom\",y=1.02, xanchor=\"right\",x=1)\n",
    "                 )\n",
    "fig.update_yaxes(title_text=\"Utilization in %\", secondary_y=True)\n",
    "fig.update_xaxes()"
   ]
  }
 ],
 "metadata": {
  "kernelspec": {
   "display_name": "Python 3",
   "language": "python",
   "name": "python3"
  },
  "language_info": {
   "codemirror_mode": {
    "name": "ipython",
    "version": 3
   },
   "file_extension": ".py",
   "mimetype": "text/x-python",
   "name": "python",
   "nbconvert_exporter": "python",
   "pygments_lexer": "ipython3",
   "version": "3.8.3"
  }
 },
 "nbformat": 4,
 "nbformat_minor": 4
}
