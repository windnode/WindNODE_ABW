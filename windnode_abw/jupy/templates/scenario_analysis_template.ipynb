{
 "cells": [
  {
   "cell_type": "markdown",
   "metadata": {},
   "source": [
    "# Detailed results\n",
    "\n",
    "<img src=\"http://reiner-lemoine-institut.de//wp-content/uploads/2015/09/rlilogo.png\" width=\"100\" style=\"float: right\">\n",
    "\n",
    "__copyright__ \t= \"© Reiner Lemoine Institut\" <br>\n",
    "__license__ \t= \"GNU Affero General Public License Version 3 (AGPL-3.0)\" <br>\n",
    "__url__ \t\t= \"https://www.gnu.org/licenses/agpl-3.0.en.html\" <br>\n",
    "__authors__ \t\t= \"[Guido Pleßmann](https://github.com/gplssm), [Jonathan Amme](https://github.com/nesnoj), [Julian Endres](https://github.com/nailend), \" <br>"
   ]
  },
  {
   "cell_type": "markdown",
   "metadata": {},
   "source": [
    "<div class=\"alert alert-warning\">\n",
    "<font size=\"4\">We kindly ask for your patience as the rendering process can take some time.</font>\n",
    "\n",
    "\n",
    "</div>"
   ]
  },
  {
   "cell_type": "markdown",
   "metadata": {},
   "source": [
    "## Intro\n",
    "\n",
    "This jupyter notebook provides plots and information to the results of the dispatch-optimization of [one](#0_scenario_information) of [many scenarios](https://windnode-abw.readthedocs.io/en/dev/scenarios.html) by the study [__\"A regional energy system model for Anhalt-Bitterfeld-Wittenberg\"__](https://windnode-abw.readthedocs.io/en/dev/). The different scenarios cover various combinations of renewable energy penetration, area restrictions and flexibility options in heat and power sector. The notebooks will, therefore, give an overall view of energy supply and demand by the various scenarios and an insight into scenario-specific distribution and flexiblity effects.\n",
    "    \n",
    "\n",
    "  **The representation in jupyter notebooks is intended to ensure transparency and to provide a low entry barrier for further analysis.* "
   ]
  },
  {
   "cell_type": "markdown",
   "metadata": {},
   "source": [
    "<div class=\"alert alert-info\">\n",
    "<b>Notes on plots</b>\n",
    "\n",
    "\n",
    "<ol>\n",
    "<li> Some plots are generated with plotly and may not show up initially as Javascript is not enabled by default.</li>\n",
    "<li> This can be solved by clicking <b>File -> \"Trust Notebook\"</b>.</li>\n",
    "</ol> \n",
    "    \n",
    "<b>These plots have interactive features:</b>\n",
    "\n",
    "<ul>\n",
    "<li> hoovering over the plot will display additional infos </li>\n",
    "<li> clicking the legend selects data </li>\n",
    "</ul>\n",
    "    \n",
    "    \n",
    "</div>"
   ]
  },
  {
   "cell_type": "markdown",
   "metadata": {},
   "source": [
    "## Table of Contents\n",
    "\n",
    "* [0 Scenario information](#0_scenario_information)\n",
    "* [1 Demand and Generation](#1_demand_and_generation)\n",
    "* [2 Area required by RES](#2_area_required_by_res)\n",
    "* [3 Electricity Autarky and Exchange](#3_electrical_autarky_exchange)\n",
    "* [4 Energy Mix](#4_energy_mix)\n",
    "* [5 Emissions](#5_emissions)\n",
    "* [6 Costs](#6_costs)\n",
    "* [7 Power Grids](#7_power_grids)\n",
    "* [8 Flexibility](#8_flexibility)\n",
    "* [9 Energy Exchange](#9_energy_exchange)"
   ]
  },
  {
   "cell_type": "code",
   "execution_count": null,
   "metadata": {},
   "outputs": [],
   "source": [
    "%load_ext autoreload\n",
    "%autoreload 2\n",
    "######## WINDNODE ###########\n",
    "# define and setup logger\n",
    "from windnode_abw.tools.logger import setup_logger\n",
    "logger = setup_logger()\n",
    "# load configs\n",
    "from windnode_abw.tools import config\n",
    "config.load_config('config_data.cfg')\n",
    "config.load_config('config_misc.cfg')\n",
    "# import scripts\n",
    "from windnode_abw.analysis import analysis\n",
    "from windnode_abw.tools.draw import *\n",
    "\n",
    "######## DATA ###########\n",
    "import re\n",
    "import pandas as pd\n",
    "\n",
    "######## PLOTTING ###########\n",
    "import matplotlib.pyplot as plt\n",
    "from mpl_toolkits.axes_grid1 import make_axes_locatable\n",
    "from matplotlib.ticker import ScalarFormatter\n",
    "import seaborn as sns\n",
    "# set seaborn style\n",
    "sns.set()\n",
    "# plotly\n",
    "import plotly.express as px\n",
    "import plotly.graph_objs as go\n",
    "from plotly.subplots import make_subplots\n",
    "import plotly.io as pio\n",
    "pio.renderers.default = 'svg'"
   ]
  },
  {
   "cell_type": "markdown",
   "metadata": {
    "tags": [
     "parameters"
    ]
   },
   "source": [
    "## 0 Scenario information<a class=\"anchor\" id=\"0_scenario_information\"></a>"
   ]
  },
  {
   "cell_type": "code",
   "execution_count": null,
   "metadata": {},
   "outputs": [],
   "source": [
    "# obtain processed results\n",
    "regions_scns, results_scns = analysis(run_timestamp=run_timestamp,\n",
    "                                      scenarios=[scenario],\n",
    "                                      force_new_results=force_new_results)"
   ]
  },
  {
   "cell_type": "markdown",
   "metadata": {},
   "source": [
    "### Municipality Names"
   ]
  },
  {
   "cell_type": "code",
   "execution_count": null,
   "metadata": {},
   "outputs": [],
   "source": [
    "# Names of Municialities\n",
    "MUN_NAMES = regions_scns[scenario].muns.gen.to_dict()\n",
    "# extend for total ABW region\n",
    "MUN_NAMES.update({100:'ABW'})"
   ]
  },
  {
   "cell_type": "code",
   "execution_count": null,
   "metadata": {},
   "outputs": [],
   "source": [
    "plot_grid(regions_scns[scenario])"
   ]
  },
  {
   "cell_type": "markdown",
   "metadata": {},
   "source": [
    "## 1 Demand and Generation (Input Data)<a class=\"anchor\" id=\"1_demand_and_generation\"></a>"
   ]
  },
  {
   "cell_type": "markdown",
   "metadata": {},
   "source": [
    "### 1.1 Installed Electrical Capacities, Municipalities\n",
    "The following figure shows the total installed electrical capacities per technology for each municipality."
   ]
  },
  {
   "cell_type": "code",
   "execution_count": null,
   "metadata": {},
   "outputs": [],
   "source": [
    "df_data = results_scns[scenario]['parameters']['Installed capacity electricity supply'].copy()\n",
    "df_data = df_data.rename(columns=PRINT_NAMES)\n",
    "\n",
    "fig, axes = plt.subplots(3,3, figsize=(12,10))\n",
    "for ax, (key, data) in  zip(axes.flat, df_data.iteritems()):\n",
    "    plot_geoplot(key, data, regions_scns[scenario], ax=ax, unit='MW')\n",
    "    \n",
    "fig.suptitle('Installed el. Generation Capacity',\n",
    "     fontsize=16,\n",
    "     fontweight='normal')\n",
    "plt.tight_layout()\n",
    "plt.show()"
   ]
  },
  {
   "cell_type": "markdown",
   "metadata": {},
   "source": [
    "### 1.2 Electrical Demand\n",
    "The following figure shows the total annual electrical demand per sectors for each municipality."
   ]
  },
  {
   "cell_type": "code",
   "execution_count": null,
   "metadata": {},
   "outputs": [],
   "source": [
    "df_data = results_scns[scenario]['flows_txaxt']['Stromnachfrage'].sum(level=1)\n",
    "df_data = df_data.drop(columns='export')\n",
    "df_data = df_data.rename(columns=PRINT_NAMES)\n",
    "df_data = df_data / 1e3\n",
    "\n",
    "fig, axes = plt.subplots(1,3, figsize=(14,4))\n",
    "for ax, (key, data) in  zip(axes.flat, df_data.iteritems()):\n",
    "    plot_geoplot(key, data, regions_scns[scenario], ax=ax, unit='GWh')\n",
    "\n",
    "fig.suptitle('Electrical Demand per Sector',\n",
    "     fontsize=16,\n",
    "     fontweight='normal')\n",
    "plt.tight_layout()\n",
    "plt.show()"
   ]
  },
  {
   "cell_type": "markdown",
   "metadata": {},
   "source": [
    "### 1.3 Thermal Demand\n",
    "The following figure shows the total annual thermal demand per sectors for each municipality. \n",
    "\n",
    "<div class=\"alert alert-block alert-info\">\n",
    "    \n",
    "Sector Industry is not considered due to lack of data and the fact that most industries have their own power plants.\n",
    "</div>\n"
   ]
  },
  {
   "cell_type": "code",
   "execution_count": null,
   "metadata": {},
   "outputs": [],
   "source": [
    "df_data = results_scns[scenario]['flows_txaxt']['Wärmenachfrage'].sum(level=2)\n",
    "df_data = df_data.rename(columns=PRINT_NAMES)\n",
    "df_data = pd.DataFrame([df_data.iloc[:,:2].sum(axis=1).rename('Households'), df_data.iloc[:,-1]]).T\n",
    "df_data = df_data / 1e3 # to GWh\n",
    "\n",
    "fig, axes = plt.subplots(1,2, figsize=(14,4))\n",
    "for ax, (key, data) in  zip(axes.flat, df_data.items()):\n",
    "    plot_geoplot(key, data, regions_scns[scenario], ax=ax, unit='GWh')\n",
    "    \n",
    "fig.suptitle('Thermal Demand per Sector',\n",
    "     fontsize=16,\n",
    "     fontweight='normal')\n",
    "plt.tight_layout()\n",
    "plt.show()"
   ]
  },
  {
   "cell_type": "markdown",
   "metadata": {},
   "source": [
    "### 1.4 Total installed Capacities, Electricity/Heat in ABW Region\n",
    "The following figure shows the total installed capacity per type and technology for the ABW Region."
   ]
  },
  {
   "cell_type": "code",
   "execution_count": null,
   "metadata": {},
   "outputs": [],
   "source": [
    "cap_heat = results_scns[scenario]['parameters']['Installed capacity heat supply'].sum(axis=0).rename('heat')\n",
    "cap_electricity = results_scns[scenario]['parameters']['Installed capacity electricity supply'].sum(axis=0).rename('electricity')\n",
    "cap = pd.concat([cap_electricity], keys=['Electricity']).append(pd.concat([cap_heat], keys=['Heat']))\n",
    "\n",
    "cap = cap.rename(index=PRINT_NAMES)\n",
    "cap = cap.sort_values(ascending=True)\n",
    "\n",
    "fig = go.Figure()\n",
    "for color, (key, df) in enumerate(cap.groupby(level=0)):\n",
    "    \n",
    "    visible = True if key == 'Electricity' else 'legendonly'\n",
    "    fig.add_trace(go.Bar(x=df[key],\n",
    "                         y=df[key].index,\n",
    "                         name=key,\n",
    "                        orientation='h',\n",
    "                         marker_color=colors[20*color],\n",
    "                         visible=visible,\n",
    "                         showlegend=True))\n",
    "    \n",
    "fig.update_layout(title='Total installed Capacities, ABW Region',\n",
    "                  barmode='stack', legend={'traceorder':'normal'},\n",
    "                  uniformtext_mode='hide', hovermode=\"y unified\"\n",
    "                 )\n",
    "fig.update_traces(hovertemplate='Type: %{fullData.name} <br>' +\n",
    "                  'Capacity: %{x:.1f} MW <br>'+\n",
    "                  '<extra></extra>',)\n",
    "fig.update_xaxes(title_text='MW')\n",
    "fig.update_yaxes(title_text='')\n",
    "fig.show()"
   ]
  },
  {
   "cell_type": "markdown",
   "metadata": {},
   "source": [
    "### 1.5 Total Generation Heat/Electricity in ABW Region\n",
    "The following figure shows the total annual generation per type and technology for the ABW Region."
   ]
  },
  {
   "cell_type": "code",
   "execution_count": null,
   "metadata": {},
   "outputs": [],
   "source": [
    "gen_heat = results_scns[scenario]['flows_txaxt']['Wärmeerzeugung'].sum(axis=0).rename('heat')\n",
    "gen_electricity = results_scns[scenario]['flows_txaxt']['Stromerzeugung'].sum(axis=0).rename('electricity')\n",
    "gen = pd.concat([gen_electricity], keys=['Electricity']).append(pd.concat([gen_heat], keys=['Heat']))\n",
    "gen = gen / 1000 # to GWH\n",
    "\n",
    "gen = gen.rename(index=PRINT_NAMES)\n",
    "gen = gen.sort_values(ascending=True)\n",
    "\n",
    "fig = go.Figure()\n",
    "for color, (key, df) in enumerate(gen.groupby(level=0)):\n",
    "    \n",
    "    visible = True if key == 'Electricity' else 'legendonly'\n",
    "    fig.add_trace(go.Bar(x=df[key],\n",
    "                         y=df[key].index,\n",
    "                         name=key,\n",
    "                        orientation='h',\n",
    "                         marker_color=colors[20*color],\n",
    "                         visible=visible,\n",
    "                         showlegend=True))\n",
    "\n",
    "fig.update_layout(title='Generation, ABW Region',\n",
    "                  barmode='stack', legend={'traceorder':'normal'},\n",
    "                  uniformtext_mode='hide', hovermode=\"y unified\"\n",
    "                 )\n",
    "fig.update_traces(hovertemplate='Type: %{fullData.name} <br>' +\n",
    "                  'Energy: %{x:.1f} GWh <br>'+\n",
    "                  '<extra></extra>',) #\n",
    "fig.update_xaxes(title_text='GWh')\n",
    "fig.update_yaxes(title_text='')\n",
    "fig.show()"
   ]
  },
  {
   "cell_type": "markdown",
   "metadata": {},
   "source": [
    "## 2 Area required by RES<a class=\"anchor\" id=\"2_area_required_by_res\"></a>"
   ]
  },
  {
   "cell_type": "markdown",
   "metadata": {},
   "source": [
    "### 2.1 Absolute Area"
   ]
  },
  {
   "cell_type": "markdown",
   "metadata": {},
   "source": [
    "The following figure shows the absolute area required of RES by technology in ABW.\n",
    "\n",
    "<div class=\"alert alert-block alert-info\">\n",
    "    \n",
    "For <i>status quo</i> the required area for ground-mounted PV and wind turbines is unknown and therefore not displayed.\n",
    "</div>"
   ]
  },
  {
   "cell_type": "code",
   "execution_count": null,
   "metadata": {},
   "outputs": [],
   "source": [
    "df_data = results_scns[scenario]['results_axlxt']['Area required'].copy()\n",
    "\n",
    "# drop pv ground and wind areas for status quo\n",
    "if regions_scns[scenario].cfg['scn_data']['general']['year'] == 2017:\n",
    "    df_data.drop(columns=['pv_ground', 'wind'], inplace=True)\n",
    "    plt_count_y = 1\n",
    "else:\n",
    "    plt_count_y = 2\n",
    "\n",
    "df_data = df_data.rename(columns=PRINT_NAMES)\n",
    "\n",
    "fig, axes = plt.subplots(plt_count_y, 2, figsize=(12,6))\n",
    "\n",
    "for ax, (key, data) in  zip(axes.flat, df_data.iteritems()):\n",
    "    plot_geoplot(key, data, regions_scns[scenario], ax=ax, unit='ha')\n",
    "    \n",
    "fig.suptitle('Required Area',\n",
    "     fontsize=16,\n",
    "     fontweight='normal')\n",
    "plt.tight_layout()\n",
    "plt.show()"
   ]
  },
  {
   "cell_type": "markdown",
   "metadata": {},
   "source": [
    "### 2.2 Relative Area\n",
    "\n",
    "The following figure focuses on the area conflicts between RES technologies and agriculture, forests, settlements. It shows the relative area required by RES compared to the available areas for different land use scenarios.\n",
    "\n",
    "\n",
    "<div class=\"alert alert-block alert-info\">\n",
    "\n",
    "<ul>\n",
    "<li> Technology-specific naming conventions of land use scenarios:\n",
    "    <ul>\n",
    "        <li><b>Wind</b>: Distance to settlements <i>(500m/1000m)</i> |  use of forests <i>(with: w / without: wo)</i> | percentage of available area due to restrictions resulting from case-by-case decisions</li>\n",
    "        <li> <b>PV ground</b>: Restrictions that apply (hard: H / hard+soft: HS)| percentage of total available agricultural area</li>\n",
    "    </ul></li>\n",
    "    \n",
    "<li> The current scenarios of wind turbines and ground-mounted PV is marked <b>bold</b> and with: <b> <i>(THIS SCENARIO)</b> </i> </li>\n",
    "<li> For status quo the required area for ground-mounted PV and wind turbines is unknown and therefore not displayed.</li>\n",
    "</ul>\n",
    "</div>"
   ]
  },
  {
   "cell_type": "code",
   "execution_count": null,
   "metadata": {},
   "outputs": [],
   "source": [
    "df_data = results_scns[scenario]['highlevel_results'].copy()\n",
    "\n",
    "fig = go.Figure()\n",
    "\n",
    "# PV rooftop\n",
    "mask = [i for i in df_data.index if 'rel. PV rooftop' in  i[0]]\n",
    "data = df_data.loc[mask]\n",
    "index = data.index.get_level_values(level=0)\n",
    "\n",
    "fig.add_trace(\n",
    "    go.Bar(y=index, x=data.values,\n",
    "           orientation='h',\n",
    "           name='PV rooftop',\n",
    "           marker_color=colors[20]))\n",
    "\n",
    "# PV Ground\n",
    "mask = [i for i in df_data.index if 'rel. PV ground' in  i[0]]\n",
    "data = df_data.loc[mask]\n",
    "data.index = data.index.get_level_values(0).str.replace('Area required rel. PV ground \\(THIS SCENARIO\\)',\n",
    "                                                        '<b>Area required rel. PV ground (THIS SCENARIO)</b>')\n",
    "index = data.index.get_level_values(level=0)\n",
    "\n",
    "fig.add_trace(\n",
    "    go.Bar(y=index, x=data.values,\n",
    "           orientation='h',\n",
    "           name='PV Ground',\n",
    "           marker_color=colors[10]))#, visible='legendonly'))\n",
    "\n",
    "# Wind\n",
    "mask = [i for i in df_data.index if 'rel. Wind' in  i[0]]\n",
    "data = df_data.loc[mask]\n",
    "data.index = data.index.get_level_values(0).str.replace('Area required rel. Wind \\(THIS SCENARIO\\)',\n",
    "                                                        '<b>Area required rel. Wind (THIS SCENARIO)</b>')\n",
    "index = data.index.get_level_values(level=0)\n",
    "\n",
    "fig.add_trace(\n",
    "    go.Bar(y=index, x=data.values,\n",
    "           orientation='h',\n",
    "           name='Wind',\n",
    "           marker_color=colors[0]))#, visible='legendonly'))\n",
    "\n",
    "fig.update_layout(title_text = 'Relative Required Area',\n",
    "                  xaxis=dict(title=' %',\n",
    "                    titlefont_size=12),\n",
    "                    autosize=True)\n",
    "\n",
    "fig.show()"
   ]
  },
  {
   "cell_type": "markdown",
   "metadata": {},
   "source": [
    "\n",
    "## 3 Electrical Autarky and Exchange<a class=\"anchor\" id=\"3_electrical_autarky_exchange\"></a>\n",
    "\n",
    "Annual Autarky describes the ratio of the electricity gerneration to the demand within the region Anhalt-Bitterfeld-Wittenberg (ABW). A distinction is made depending on the spatial resolution:\n",
    " \n",
    "<div class=\"alert alert-block alert-info\">\n",
    "<b>Notes on Autarky calculation</b>\n",
    "\n",
    "<ul>\n",
    "<li> <b>(1) Annual Autarky (ABW):</b> degree of autark electricity supply for ABW disregarding dimension of time\n",
    "  $$Autarky_{Annual,ABW,\\%} = \\frac{\\sum_{t=1}^{8760} E_{supply,mun,t}}{\\sum_{t=1}^{8760} E_{demand,mun,t}} \\cdot 100\\,\\%$$ </li>\n",
    "    \n",
    "<li> <b>(2) Annual Autarky (Municipality):</b> degree of autark electricity supply per municipality disregarding dimension of time\n",
    "  $$Autarky_{Annual,mun,\\%} = \\frac{\\sum_{t=1}^{8760} E_{supply,ABW,t}}{\\sum_{t=1}^{8760} E_{demand,ABW,t}} \\cdot 100\\,\\%$$ </li>\n",
    "</ul>  \n",
    "</div>\n",
    "    \n",
    "    \n",
    "A further perspective results from the percentage of hours in a year at which the electricity demand is entirely served by local supply. A distinction is again made depending on the spatial resolution:\n",
    " \n",
    "<div class=\"alert alert-block alert-info\">\n",
    "\n",
    "<ul>\n",
    "<li> <b> (3) Autarky (ABW):</b>\n",
    "  $$Autark\\,hours_{Annual,ABW,\\%} = \\frac{\\sum_{t=1}^{8760} (\\frac{E_{supply,ABW,t}}{E_{demand,ABW,t}} \\geq 1)}{8760}   \\cdot 100\\,\\%$$ </li>\n",
    "\n",
    "<li> <b> (4) Autarky (Municipality):</b> $$Autark\\,hours_{Annual,mun,\\%} = \\frac{\\sum_{t=1}^{8760} (Autarky_{mun,t} \\geq 1)}{8760} \\cdot 100\\,\\%$$</li>\n",
    "\n",
    "  where degree of autarky electricity supply per municipality for each hour is defined as\n",
    "\n",
    "    \n",
    "<li> <b>(5) </b>  $$Autarky_{mun,t} = 1-\\frac{E_{import,ext,t}+E_{import,reg,t}+E_{bat,discharge,t}}   {E_{demand,t}+E_{export,ext,t}+E_{export,reg,t}+E_{bat,charge,t}}$$</li>\n",
    "</ul>\n",
    "  where:\n",
    "<ul>   \n",
    "<li> $E_{import,ext,t}$, $E_{export,ext,t}$: Imported/exported energy from/to national grid</li>\n",
    "\n",
    "<li> $E_{import,reg,t}$, $E_{export,reg,t}$: Imported/exported energy from/to region's grid (intra-regional)</li>\n",
    "\n",
    "<li> $E_{bat,discharge,t}$: Battery discharge</li>\n",
    "\n",
    "<li> $E_{demand,t}$: Electrical demand</li>\n",
    "\n",
    "<li> $E_{bat,charge,t}$: Battery charge</li>\n",
    "</ul> \n",
    "</div>\n",
    "\n",
    "The electricity that exceeds the local demand can be distributed to the neighboring municipalities and thus contributes to the degree of Autarky of the entire region.\n",
    "      "
   ]
  },
  {
   "cell_type": "markdown",
   "metadata": {},
   "source": [
    "### 3.1 Autarky Geoplots\n",
    "The following figure shows both the Annual Autarky and the Autark Hours for each municipality with equation **(1)** and **(3)**."
   ]
  },
  {
   "cell_type": "code",
   "execution_count": null,
   "metadata": {
    "scrolled": false
   },
   "outputs": [],
   "source": [
    "df_data = pd.concat([results_scns[scenario]['results_axlxt']['Autarky'].rename('Autarky'), results_scns[scenario]['results_axlxt']['Autark hours'].rename('Autark hours')], axis=1)\n",
    "\n",
    "fig, axes = plt.subplots(1,2, figsize=(12,5))\n",
    "\n",
    "for ax, (key, data) in  zip(axes.flat, df_data.iteritems()):\n",
    "    \n",
    "    plot_geoplot(key, data, regions_scns[scenario], ax=ax, unit=\"%\")\n",
    "    \n",
    "fig.suptitle('Annual Autarky and Autark Hours',\n",
    "     fontsize=16,\n",
    "     fontweight='normal')\n",
    "plt.tight_layout()\n",
    "plt.show()"
   ]
  },
  {
   "cell_type": "markdown",
   "metadata": {},
   "source": [
    "### 3.2 Autarky anually\n",
    "The following figure shows the Annual Autarky and the Autark Hours in a more detailed and comparative representation with equations **(1 - 4)**."
   ]
  },
  {
   "cell_type": "code",
   "execution_count": null,
   "metadata": {},
   "outputs": [],
   "source": [
    "fig = make_subplots(rows=1, cols=2, horizontal_spacing=0.17, column_widths=[0.8, 0.2],\n",
    "                    specs=[[{\"secondary_y\": True}, {\"secondary_y\": True}]])\n",
    "\n",
    "# For each municipality\n",
    "fig.add_trace(\n",
    "    go.Bar(\n",
    "        x=results_scns[scenario]['results_axlxt']['Autarky'].rename(index=MUN_NAMES).index.tolist(),\n",
    "        y=results_scns[scenario]['results_axlxt']['Autarky'].values.tolist(),\n",
    "           orientation='v',\n",
    "           name='Annual Autarky',\n",
    "        offsetgroup=0,\n",
    "           marker_color=colors[0],\n",
    "         hovertemplate='Annual Autarky: %{y:.1f} % <extra></extra>'),\n",
    "    row=1, col=1, secondary_y=False,)\n",
    "\n",
    "fig.add_trace(\n",
    "    go.Bar(\n",
    "        x=results_scns[scenario]['results_axlxt']['Autark hours'].rename(index=MUN_NAMES).index.tolist(),\n",
    "        y=results_scns[scenario]['results_axlxt']['Autark hours'].values.tolist(),\n",
    "           orientation='v',\n",
    "           name='Autark hours',\n",
    "        offsetgroup=1,\n",
    "           marker_color=colors[20],\n",
    "        hovertemplate='Autark Hours: %{y:.1f} % of year <extra></extra>'),\n",
    "    row=1, col=1, secondary_y=False,)\n",
    "\n",
    "\n",
    "# For entire ABW region\n",
    "fig.add_trace(\n",
    "    go.Bar(x=[\"Annually\", \"Autark supplied hours\"], \n",
    "           y=[float(results_scns[scenario]['highlevel_results']['Autarky']), \n",
    "              float(results_scns[scenario]['highlevel_results']['Autark hours'])],\n",
    "           orientation='v',\n",
    "           name='ABW avg.',\n",
    "           marker_color=colors[4],\n",
    "          ),\n",
    "    row=1, col=2, secondary_y=False,)\n",
    "\n",
    "# === Layout ===\n",
    "fig.update_layout(title_text = 'Electrical Autarky per Municipality (Energy Balance) and total region',\n",
    "                    autosize=True,\n",
    "                hovermode=\"x unified\",\n",
    "                  legend=dict(orientation=\"h\",\n",
    "                                yanchor=\"bottom\",\n",
    "                                y=1.02,\n",
    "                                xanchor=\"right\",\n",
    "                                x=1),\n",
    "                 )\n",
    "fig.update_yaxes(title_text=\"%\", row=1, col=1, anchor=\"x\", secondary_y=False)\n",
    "fig.update_yaxes(title_text=\"%\", row=1, col=2, anchor=\"x2\", secondary_y=False)"
   ]
  },
  {
   "cell_type": "markdown",
   "metadata": {},
   "source": [
    "### 3.3 Intra-regional Exchange Balance\n",
    "The following figure shows the annual electricity exchange balance for each municipality."
   ]
  },
  {
   "cell_type": "code",
   "execution_count": null,
   "metadata": {},
   "outputs": [],
   "source": [
    "df_data = results_scns[scenario]['results_axlxt']['Intra-regional exchange'].copy()\n",
    "df_data = df_data.rename(index=MUN_NAMES)\n",
    "df_data = df_data / 1e3 # GWh\n",
    "\n",
    "fig = go.Figure()\n",
    "\n",
    "fig.add_trace(go.Bar(x=df_data.index, y=df_data['export'].values, \n",
    "                base=0,\n",
    "                marker_color=colors[20],\n",
    "                name='export',\n",
    "                hovertemplate='%{y:.1f} GWh ',\n",
    "                ))\n",
    "\n",
    "\n",
    "fig.add_trace(go.Bar(x=df_data.index, y=df_data['import'].values, \n",
    "                base=0,\n",
    "                marker_color=colors[0],\n",
    "                name='import',\n",
    "                hovertemplate='%{y:.1f} GWh ',\n",
    "                ))\n",
    "fig.update_layout(title='Annual net electricity exchanges among administrive districts within ABW region',\n",
    "                 hovermode=\"x unified\")\n",
    "fig.update_xaxes(type='category', tickangle=45)\n",
    "fig.update_yaxes(title='GWh')\n",
    "fig.show()"
   ]
  },
  {
   "cell_type": "markdown",
   "metadata": {},
   "source": [
    "### 3.4 Degree of autarky distribution\n",
    "The following 2 figures give information about the frequency distribution of the respective degree of autarky. First, we look at the distribution as average over the entire region with equation **(5)**."
   ]
  },
  {
   "cell_type": "code",
   "execution_count": null,
   "metadata": {},
   "outputs": [],
   "source": [
    "df_data = results_scns[scenario]['flows_txaxt']['Autarky'].mean(level=\"timestamp\")\n",
    "\n",
    "fig = go.Figure()\n",
    "fig.add_trace(\n",
    "    go.Violin(x=df_data.values, \n",
    "              name=\"ABW average\",\n",
    "              orientation='h',\n",
    "              fillcolor=colors[0],\n",
    "              line_color='darkslategrey',\n",
    "              box_visible=True,\n",
    "              meanline_visible=True,\n",
    "              showlegend=False)\n",
    ")\n",
    "fig.update_xaxes(title='%')"
   ]
  },
  {
   "cell_type": "markdown",
   "metadata": {},
   "source": [
    "Secondly, the degree of autarky may vary significantly among the municipalities with equation **(5)**.\n",
    "<div class=\"alert alert-block alert-info\">\n",
    "Negative Autarky cann be a result of high imports while having low local generation and export activity.\n",
    "</div>\n",
    "\n",
    "**By selecting individual municipalities in the legend at the right a more detailed view can be used.*"
   ]
  },
  {
   "cell_type": "code",
   "execution_count": null,
   "metadata": {
    "scrolled": false
   },
   "outputs": [],
   "source": [
    "df_data = results_scns[scenario]['flows_txaxt']['Autarky'].unstack()\n",
    "\n",
    "df_data = df_data.rename(columns=MUN_NAMES)\n",
    "\n",
    "limit = df_data.median().mean()\n",
    "\n",
    "fig = make_subplots(rows=2, cols=2, horizontal_spacing=0.25,\n",
    "                    row_heights=[0.8, 0.2],\n",
    "                    specs=[[{}, {}], [{\"colspan\": 2}, None]],)\n",
    "\n",
    "for ags, data in df_data.iteritems():\n",
    "    \n",
    "    if data.median() > limit:\n",
    "\n",
    "        fig.add_trace(go.Violin(x=data.values, name=ags,\n",
    "                                orientation='h',\n",
    "                               line_color=colors[0],\n",
    "                                points=False,\n",
    "                                hoverinfo='x',\n",
    "                                showlegend=False),\n",
    "                              \n",
    "                      row=1, col=1)\n",
    "    else:\n",
    "        fig.add_trace(go.Violin(x=data.values, name=ags,\n",
    "                                orientation='h',\n",
    "                               line_color=colors[0],\n",
    "                                points=False,\n",
    "                                hoverinfo='x',\n",
    "                               showlegend=False),\n",
    "                      row=1, col=2)\n",
    "        \n",
    "    fig.add_trace(go.Violin(x=data.values, name=ags,\n",
    "                                orientation='h',\n",
    "                               line_color=colors[20],\n",
    "                               box_visible=True,\n",
    "                            meanline_visible=True,\n",
    "                            hoverinfo='x',\n",
    "                               showlegend=True,\n",
    "                           visible='legendonly'),\n",
    "                              \n",
    "                      row=2, col=1)\n",
    "    \n",
    "fig.update_xaxes(title_text=\"%\", side='bottom', row=2, col=1)\n",
    "fig.update_yaxes(type='category', row=1, col=1)\n",
    "fig.update_yaxes(type='category', row=1, col=2)\n",
    "\n",
    "fig.update_layout(\n",
    "    title='Relative Electrical Autarky per Municipality (Energy Balance)',\n",
    ")\n",
    "fig.show()"
   ]
  },
  {
   "cell_type": "markdown",
   "metadata": {},
   "source": [
    "### 3.5 Heatmap Electricity Exchange\n",
    "The following figure shows the positive exchanged electricity between the municipalities.\n",
    "<div class=\"alert alert-block alert-info\">\n",
    "Only the electricity exchange between neighbouring municipalities can be detected thus transit electricity is not lised seperatly.\n",
    "</div> "
   ]
  },
  {
   "cell_type": "code",
   "execution_count": null,
   "metadata": {
    "scrolled": false
   },
   "outputs": [],
   "source": [
    "df_data = results_scns[scenario]['results_axlxt']['Stromnetzleitungen'].copy()\n",
    "\n",
    "# swap index of negative values\n",
    "invert = df_data.loc[df_data['in']<0]\n",
    "invert.index = invert.index.swaplevel()\n",
    "invert.index.names = (['ags_from', 'ags_to'])\n",
    "df_data = df_data.loc[df_data['in']>0].append(invert * -1)\n",
    "\n",
    "df_data = df_data['out']\n",
    "df_data = df_data.sort_index()\n",
    "df_data = df_data / 1e3 # GWh\n",
    "\n",
    "hover_text = [f' From: {MUN_NAMES[int(ags_from)]} <br> \\\n",
    "To: {MUN_NAMES[int(ags_to)]} <br> \\\n",
    "Value: {round(value,2)} GWh' for (ags_from, ags_to), value in df_data.items()]\n",
    "\n",
    "y = df_data.index.get_level_values(level='ags_from')\n",
    "y = pd.Series(y.astype(int).values).map(MUN_NAMES).values\n",
    "\n",
    "x = df_data.index.get_level_values(level='ags_to')\n",
    "x = pd.Series(x.astype(int).values).map(MUN_NAMES).values\n",
    "\n",
    "fig = go.Figure(go.Heatmap(\n",
    "    x=x,\n",
    "    y=y,\n",
    "    z=df_data.values,\n",
    "    colorbar=dict(title='GWh'),\n",
    "    colorscale=colors,\n",
    "    text= hover_text,\n",
    "    hoverongaps=False, \n",
    "    hovertemplate='%{text}<extra></extra>'\n",
    "))\n",
    "fig.update_layout(title='Intra Regional Electricity Exchange')\n",
    "fig.update_yaxes(title='from', type='category')\n",
    "fig.update_xaxes(title='to', type='category')\n",
    "fig.show()"
   ]
  },
  {
   "cell_type": "markdown",
   "metadata": {},
   "source": [
    "## 3.6 Electricity Flows\n",
    "The following figure shows the incoming and outcoming electricity flows of the municipalities. \n",
    "<div class=\"alert alert-block alert-info\">\n",
    "The difference between incoming and outcoming flows can either be local excess generation, not covered local demand or transmission to the higher grid level. These amounts are not listed seperatly.\n",
    "</div> "
   ]
  },
  {
   "cell_type": "code",
   "execution_count": null,
   "metadata": {},
   "outputs": [],
   "source": [
    "df_data = results_scns[scenario]['results_axlxt']['Stromnetzleitungen'].copy()\n",
    "invert = df_data.loc[df_data['in']<0]\n",
    "invert.index = invert.index.swaplevel()\n",
    "invert.index.names = (['ags_from', 'ags_to'])\n",
    "df_data = df_data.loc[df_data['in']>0].append(invert * -1) \n",
    "df_data = df_data / 1e3 # GWh\n",
    "\n",
    "converter = dict(zip(MUN_NAMES.keys(), range(20)))\n",
    "source = [converter[int(i)] for i in df_data['out'].index.get_level_values(level='ags_from')]\n",
    "target = [converter[int(i)] for i in df_data['out'].index.get_level_values(level='ags_to')]\n",
    "\n",
    "fig = go.Figure(data=[go.Sankey(\n",
    "    node = dict(\n",
    "        pad = 40,\n",
    "        thickness = 20,\n",
    "        line = dict(\n",
    "            color = \"black\", width = 0.4),\n",
    "        label = [MUN_NAMES[i] for i in list(converter)],\n",
    "        color = \"silver\", \n",
    "        hovertemplate='<extra></extra>', \n",
    "    ),\n",
    "    link = dict(\n",
    "        source = source,\n",
    "        target = target,\n",
    "        value = df_data['out'].values,\n",
    "        color = [i for i in colors],\n",
    "        hovertemplate='From: %{source.label}<br />'+\n",
    "            'To: %{target.label}<br />'+\n",
    "            'Value: %{value:.2f} GWh <extra></extra>',  \n",
    "  ))])\n",
    "\n",
    "fig.update_layout(title_text=\"Electricity Flows\",\n",
    "                  font_size=12,\n",
    "                  hovermode='x')\n",
    "fig.show()"
   ]
  },
  {
   "cell_type": "markdown",
   "metadata": {},
   "source": [
    "## 4 Energy Mix<a class=\"anchor\" id=\"4_energy_mix\"></a>\n",
    "### 4.1 Region's sum\n",
    "#### 4.1.1 Elecricity\n",
    "The following figure shows the annual electricity balance by supply and demand technology.\n",
    "<div class=\"alert alert-block alert-info\">\n",
    "The difference between supply and demand is due to efficiency loses of battery storages, grid and transformers.\n",
    "</div> "
   ]
  },
  {
   "cell_type": "code",
   "execution_count": null,
   "metadata": {},
   "outputs": [],
   "source": [
    "idx = ['Supply', 'Demand']\n",
    "df_el = pd.DataFrame([results_scns[scenario]['results_axlxt']['Stromerzeugung nach Gemeinde'].sum(),\n",
    "                   pd.concat([results_scns[scenario]['results_axlxt']['Stromnachfrage nach Gemeinde'].sum(), \n",
    "                  results_scns[scenario]['results_axlxt']['Stromnachfrage Wärme nach Gemeinde'].sum()])], index=idx)\n",
    "df_el = df_el  / 1e3 # GWh\n",
    "colors_el = [COLORS[c] for c in df_el.columns]\n",
    "df_el = df_el.rename(columns=PRINT_NAMES)\n",
    "\n",
    "fig = px.bar(df_el, orientation='v',\n",
    "             title='Electricity supply and demand in ABW region',\n",
    "             color_discrete_sequence=colors_el)\n",
    "\n",
    "fig.update_layout(barmode='stack', legend={'traceorder':'reversed'},\n",
    "                  uniformtext_mode='hide',\n",
    "                  autosize=True,\n",
    "                  legend_title=\"technology\",\n",
    "                 )\n",
    "fig.update_traces(hovertemplate='%{fullData.name}<br>'+\n",
    "                  '%{y:.1f} GWh <br>'+\n",
    "                  '<extra></extra>',)\n",
    "fig.update_yaxes(title_text='GWh')\n",
    "fig.update_xaxes(title_text='')"
   ]
  },
  {
   "cell_type": "markdown",
   "metadata": {},
   "source": [
    "#### 4.1.2 Heat\n",
    "The following figure shows the annual heat balance by supply and demand technology.\n",
    "<div class=\"alert alert-block alert-info\">\n",
    "The difference between supply and demand is dissipative energy due to efficiency loses.\n",
    "</div> "
   ]
  },
  {
   "cell_type": "code",
   "execution_count": null,
   "metadata": {},
   "outputs": [],
   "source": [
    "idx = ['Supply', 'Demand']\n",
    "df_th = pd.DataFrame([results_scns[scenario]['results_axlxt']['Wärmeerzeugung nach Gemeinde'].sum(),\n",
    "                   results_scns[scenario]['results_axlxt']['Wärmenachfrage nach Gemeinde'].sum()], index=idx) / 1e3\n",
    "\n",
    "colors_heat = [COLORS[c] for c in df_th.columns]\n",
    "df_th = df_th.rename(columns=PRINT_NAMES)\n",
    "\n",
    "fig = px.bar(df_th, orientation='v',\n",
    "             title='Heat supply and demand in ABW region',\n",
    "             color_discrete_sequence=colors_heat)\n",
    "\n",
    "fig.update_layout(barmode='stack', legend={'traceorder':'reversed'},\n",
    "                  uniformtext_mode='hide',\n",
    "                  autosize=True,\n",
    "                  legend_title=\"technology\",\n",
    "                 )\n",
    "fig.update_traces(hovertemplate='%{fullData.name}<br>'+\n",
    "                  '%{y:.1f} GWh <br>'+\n",
    "                  '<extra></extra>',) # \n",
    "fig.update_yaxes(title_text='GWh')\n",
    "fig.update_xaxes(title_text='')"
   ]
  },
  {
   "cell_type": "markdown",
   "metadata": {},
   "source": [
    "### 4.2 Balance\n",
    "The following figure shows the annual electricity balance by supply technology and demand sector per municipality.\n",
    "\n",
    "**The demand needs to be activated by clicking in the legend*\n",
    "<div class=\"alert alert-block alert-info\">\n",
    "The difference between supply and demand are due to efficiency loses.\n",
    "</div> "
   ]
  },
  {
   "cell_type": "code",
   "execution_count": null,
   "metadata": {},
   "outputs": [],
   "source": [
    "supply = results_scns[scenario]['flows_txaxt']['Stromerzeugung'].sum(level=1)\n",
    "abw_import = results_scns[scenario]['flows_txaxt']['Intra-regional exchange']['import'].sum(level=1)\n",
    "abw_import = abw_import.rename('ABW-import')\n",
    "supply = supply.join(abw_import)\n",
    "\n",
    "\n",
    "demand = results_scns[scenario]['flows_txaxt']['Stromnachfrage'].sum(level=1)\n",
    "abw_export = results_scns[scenario]['flows_txaxt']['Intra-regional exchange']['export'].sum(level=1)\n",
    "abw_export = abw_export.rename('ABW-export')\n",
    "demand = demand.join(abw_export)\n",
    "el_heating = results_scns[scenario]['flows_txaxt']['Stromnachfrage Wärme'].sum(level=2).sum(axis=1)\n",
    "demand = demand.join(el_heating.rename('el_heating'))\n",
    "    \n",
    "plot_snd_total(regions_scns[scenario], supply , demand)"
   ]
  },
  {
   "cell_type": "markdown",
   "metadata": {},
   "source": [
    "### 4.3 Full load hours\n",
    "The following figure shows the full load hours of the several power generation technologies."
   ]
  },
  {
   "cell_type": "code",
   "execution_count": null,
   "metadata": {},
   "outputs": [],
   "source": [
    "df = (results_scns[scenario]['flows_txaxt']['Stromerzeugung'].drop(columns='import').sum(level=1).sum(axis=0) /\n",
    "      results_scns[scenario]['parameters']['Installed capacity electricity supply'].sum(axis=0)).fillna(0)\n",
    "\n",
    "df = df.rename(index=PRINT_NAMES)\n",
    "df = df.sort_values(ascending=True)\n",
    "\n",
    "fig = px.bar(df, orientation='h',\n",
    "             title='Full Load Hours',\n",
    "             color='value',\n",
    "             color_continuous_scale=colors,\n",
    "            )\n",
    "fig.update_layout(barmode='stack', showlegend=False, legend={'traceorder':'reversed'},\n",
    "                  uniformtext_mode='hide'#, hovermode=\"y unified\"\n",
    "                 )\n",
    "fig.update_traces(hovertemplate='%{y}<br>'+\n",
    "                  'FLH: %{x:.0f} h <br>'+\n",
    "                  '<extra></extra>',) # \n",
    "fig.update_xaxes(title_text='h')\n",
    "fig.update_yaxes(title_text='')\n",
    "fig.show()"
   ]
  },
  {
   "cell_type": "markdown",
   "metadata": {},
   "source": [
    "### 4.4 Timeseries\n",
    "The following figures show both power and thermal generation and equivalent demand timeseries.\n",
    "\n",
    "**The plotting function can be found [here](https://github.com/windnode/WindNODE_ABW/blob/b3359d452cdf6a0f433a1f257772455362d7ae5c/windnode_abw/tools/draw.py#L604-L707)*"
   ]
  },
  {
   "cell_type": "code",
   "execution_count": null,
   "metadata": {},
   "outputs": [],
   "source": [
    "plot_timeseries(results_scns[scenario], kind='Power')"
   ]
  },
  {
   "cell_type": "code",
   "execution_count": null,
   "metadata": {},
   "outputs": [],
   "source": [
    "plot_timeseries(results_scns[scenario], kind='Thermal')"
   ]
  },
  {
   "cell_type": "markdown",
   "metadata": {},
   "source": [
    "## 5 Emissions<a class=\"anchor\" id=\"5_emissions\"></a>\n",
    "<div class=\"alert alert-block alert-info\">\n",
    "The emissions of the Combined-Cycle powerplants are fully attributed to the power sector.\n",
    "</div> \n",
    "\n",
    "## 5.1 Overview\n",
    "The following figure shows the emissions in each sector per technology proportional to the total emissions.\n",
    "\n",
    "_*The Figure is interactive, technologies can be selected by clicking._"
   ]
  },
  {
   "cell_type": "code",
   "execution_count": null,
   "metadata": {},
   "outputs": [],
   "source": [
    "df_data = get_emissions_sb_formated(results_scns[scenario])\n",
    "\n",
    "fig = px.sunburst(df_data,\n",
    "                  path=['sector', 'technology', 'type'],\n",
    "                  maxdepth=2,\n",
    "                  values='emissions',\n",
    "                  color='sector',\n",
    "                  color_discrete_map={'Power': colors[0], 'Grid': colors[10], 'Heat': colors[20]}, \n",
    "                 )\n",
    "fig.update_layout(title='CO2 Emissions per Technology',\n",
    "                  uniformtext=dict(minsize=14, mode='hide'))\n",
    "fig.update_traces(hovertemplate='<b>%{label} </b> <br>'+\n",
    "                  'Emissions: %{value:0.1f} t CO2<br>')\n",
    "fig.show()"
   ]
  },
  {
   "cell_type": "markdown",
   "metadata": {},
   "source": [
    "### 5.2 Emissions per Sector \n",
    "The following figure compares the emissions of thermal and electrical sector per technology ."
   ]
  },
  {
   "cell_type": "code",
   "execution_count": null,
   "metadata": {
    "scrolled": false
   },
   "outputs": [],
   "source": [
    "df_data_left = results_scns[scenario]['results_t']['CO2 emissions th. total'].rename('th').to_frame()\n",
    "df_data_right = results_scns[scenario]['results_t']['CO2 emissions el. total'].rename('el').to_frame()\n",
    "\n",
    "# drop nans & zeros\n",
    "df_data_left = df_data_left[df_data_left!=0].dropna()\n",
    "df_data_right = df_data_right[df_data_right!=0].dropna()\n",
    "\n",
    "df_data = df_data_left.join(df_data_right, how='outer')\n",
    "df_data = df_data.fillna(0).T\n",
    "df_data = df_data.sort_values(by=list(df_data.index), axis=1, ascending=True)\n",
    "#df_rel = df_data.T / df_data.sum(axis=1).values\n",
    "\n",
    "fig = px.bar(df_data, orientation='h',\n",
    "             color_discrete_sequence=[COLORS_PRINT[i] for i in df_data.columns],\n",
    "             text=df_data.sum(axis=1).to_list()\n",
    "            )\n",
    "\n",
    "\n",
    "fig.update_layout(barmode='stack',\n",
    "                  autosize=True,\n",
    "                  title='CO2 Emissions',\n",
    "                  legend={'traceorder':'reversed'},\n",
    "                 uniformtext_mode='hide')\n",
    "fig.update_traces(hovertemplate='CO2: %{x:.1f} t <br>Type: %{y}<br>Total: %{text:.1f} t') # \n",
    "fig.update_xaxes(title_text='t CO2')\n",
    "fig.update_yaxes(title_text='')\n",
    "fig.show()"
   ]
  },
  {
   "cell_type": "markdown",
   "metadata": {},
   "source": [
    "### 5.3 Emissions per Sector and Type\n",
    "The following figure compares the emissions per technologies in each sector.\n",
    "\n",
    "**[This function](https://github.com/windnode/WindNODE_ABW/blob/b3359d452cdf6a0f433a1f257772455362d7ae5c/windnode_abw/tools/draw.py#L1037) is used to organize the data in the right format.*"
   ]
  },
  {
   "cell_type": "code",
   "execution_count": null,
   "metadata": {},
   "outputs": [],
   "source": [
    "df_data = get_emissions_type_formatted(results_scns[scenario])\n",
    "\n",
    "for sector, df in df_data.groupby(level=0, axis=1):\n",
    "    df = df[(df!=0).any(axis=1)]\n",
    "    if df.sum().sum() != 0:\n",
    "        \n",
    "        fig = go.Figure()\n",
    "        for i, (cat, data) in enumerate(df[sector].items()):\n",
    "            fig.add_trace(go.Bar(x=data.index,\n",
    "                                 y=data,\n",
    "                                 name=cat,\n",
    "                                 marker_color=colors[20*i],\n",
    "                                 hovertemplate='%{y:.1f} t CO2',\n",
    "                                ))\n",
    "\n",
    "        fig.update_layout(\n",
    "            title=f'CO2 Emissions of {sector}',\n",
    "            barmode='stack',\n",
    "            hovermode=\"x unified\",\n",
    "            height=600,\n",
    "            xaxis={'categoryorder':'category ascending'},\n",
    "            xaxis_tickfont_size=14,\n",
    "            yaxis=dict(title='t CO2',\n",
    "                       titlefont_size=16,\n",
    "                       tickfont_size=14),\n",
    "                       autosize=True)\n",
    "        fig.show()    \n",
    "    else:\n",
    "        print(f'no emissions in sector {sector}!')"
   ]
  },
  {
   "cell_type": "markdown",
   "metadata": {},
   "source": [
    "## 6 Costs<a class=\"anchor\" id=\"6_costs\"></a>"
   ]
  },
  {
   "cell_type": "markdown",
   "metadata": {},
   "source": [
    "### 6.1 LCOE and LCOH\n",
    "The following figure shows the composition of LCOE and LCOH by technologies."
   ]
  },
  {
   "cell_type": "markdown",
   "metadata": {},
   "source": [
    "<div class=\"alert alert-block alert-info\">\n",
    "<b>Notes on LCOE calculation</b>\n",
    "\n",
    "<ul>\n",
    "<li> Total LCOE calculate as $LCOE=\\frac{expenses_{el.total}}{demand_{el.,total}}$, likewise total LCOH calculate as $LCOH=\\frac{expenses_{th.,total}}{demand_{th.,total}}$ </li>\n",
    "<li> Total expenses $expenses_{el.total}$ are annual expenses. Investment costs are discounted to one year using equivalent periodic costs </li>\n",
    "<li> The plot below shows fractions of these LCOE that are calculated as $LCOE_{technology}=\\frac{expenses_{el.,technology}}{demand_{el.,total}}$ representation the share of each technology at total cost of one MWh </li>\n",
    "</ul>\n",
    "</div>"
   ]
  },
  {
   "cell_type": "code",
   "execution_count": null,
   "metadata": {
    "scrolled": false
   },
   "outputs": [],
   "source": [
    "values = ['LCOE','LCOH']\n",
    "\n",
    "df = pd.DataFrame([results_scns[scenario]['results_t'][i] for i in values], index=values)\n",
    "df = df.rename(columns=PRINT_NAMES)\n",
    "df = df.sort_values(by=values, axis=1, ascending=True)\n",
    "\n",
    "fig = px.bar(df, orientation='h',\n",
    "             title='LCOE and LCOH',\n",
    "             color_discrete_sequence=[COLORS_PRINT[i] for i in df.columns],\n",
    "             text=df.sum(axis=1).to_list())\n",
    "\n",
    "fig.update_layout(barmode='stack', legend={'traceorder':'reversed'},\n",
    "                  uniformtext_mode='hide'#, hovermode=\"y unified\"\n",
    "                 )\n",
    "fig.update_traces(hovertemplate='<b>%{fullData.name}</b><br>'+\n",
    "                  'Type: %{y}<br>'+\n",
    "                  'Share: %{x:.1f} €/MWh <br>'+\n",
    "                  'Total: %{text:.1f} €/MWh'+\n",
    "                  '<extra></extra>',) # \n",
    "fig.update_xaxes(title_text='€/MWh')\n",
    "fig.update_yaxes(title_text='')\n",
    "fig.show()"
   ]
  },
  {
   "cell_type": "markdown",
   "metadata": {},
   "source": [
    "### 6.2 Costs per Sector and Type\n",
    "The following figures compare the supply side cost factors of the various technologies in electricity and heat sector."
   ]
  },
  {
   "cell_type": "code",
   "execution_count": null,
   "metadata": {},
   "outputs": [],
   "source": [
    "# Electricity\n",
    "data_el = pd.DataFrame({\n",
    "    'fix': results_scns[scenario]['results_axlxt']['Fix costs el.'].sum(axis=0),\n",
    "    'var': results_scns[scenario]['results_axlxt']['Variable costs el.'].sum(axis=0),\n",
    "    'certificats': results_scns[scenario]['results_axlxt']['CO2 certificate cost el.'].sum(axis=0)\n",
    "})\n",
    "\n",
    "data_el.loc['Grid','fix'] = results_scns[scenario]['results_axlxt']['Total costs lines'].sum(axis=0) + \\\n",
    "results_scns[scenario]['results_axlxt']['Total costs line extensions'].sum(axis=0)\n",
    "# Heat\n",
    "data_th = pd.DataFrame({\n",
    "    'fix': results_scns[scenario]['results_axlxt']['Fix costs th.'].sum(axis=0),\n",
    "    'var': results_scns[scenario]['results_axlxt']['Variable costs th.'].sum(axis=0),\n",
    "    'certificats': results_scns[scenario]['results_axlxt']['CO2 certificate cost th.'].sum(axis=0)\n",
    "})\n",
    "\n",
    "# concat\n",
    "df_data = pd.concat([data_el, data_th], axis=1,\n",
    "                    keys=['Electricity Supply', 'Heat Supply'],sort=True)\n",
    "\n",
    "df_data = df_data.fillna(0)\n",
    "#df_data = df_data[(df_data!=0).any(axis=1)]\n",
    "df_data = df_data.rename(index=PRINT_NAMES)\n",
    "df_data = df_data/ 1e6\n",
    "\n",
    "for sector, df in df_data.groupby(level=0, axis=1):\n",
    "    df = df[(df!=0).any(axis=1)]\n",
    "    if df.sum().sum() != 0:\n",
    "        \n",
    "        fig = go.Figure()\n",
    "        for i, (cat, data) in enumerate(df[sector].items()):\n",
    "            fig.add_trace(go.Bar(x=data.index,\n",
    "                                 y=data,\n",
    "                                 name=cat,\n",
    "                                 marker_color=colors[10*i],\n",
    "                                 hovertemplate='%{y:.1f} M€'\n",
    "                                ))\n",
    "\n",
    "        fig.update_layout(\n",
    "            title=f'Costs of {sector}',\n",
    "            hovermode=\"x unified\",\n",
    "            barmode='stack',\n",
    "            height=600,\n",
    "            xaxis={'categoryorder':'category ascending'},\n",
    "            xaxis_tickfont_size=14,\n",
    "            yaxis=dict(title='million €',\n",
    "                       titlefont_size=16,\n",
    "                       tickfont_size=14),\n",
    "                       autosize=True)\n",
    "        fig.show()    \n",
    "    else:\n",
    "        print(f'no Costs in sector {sector}!')"
   ]
  },
  {
   "cell_type": "markdown",
   "metadata": {},
   "source": [
    "## 7 Power Grid<a class=\"anchor\" id=\"7_power_grid\"></a>\n",
    "<div class=\"alert alert-block alert-info\">\n",
    "Some municiplaites are connected with multiple power lines. In this case they are simplified to the maximum value\n",
    "</div>\n",
    "    \n",
    "## 7.1 Maximum Line Loading\n",
    "The following figure shows the annual maximum load of all lines and the remainin capacity."
   ]
  },
  {
   "cell_type": "code",
   "execution_count": null,
   "metadata": {},
   "outputs": [],
   "source": [
    "df_data = results_scns[scenario]['flows_txaxt']['Line loading'].max(level=['ags_from','ags_to']) * 100\n",
    "df_data = df_data.sort_index(ascending=False)\n",
    "df_data = pd.DataFrame().from_dict({'line loading': df_data,'free capacity': 100-df_data})\n",
    "\n",
    "\n",
    "ags_from, ags_to = list(zip(*df_data.index))\n",
    "ags_from = [s.replace(re.findall(r\"\\d+\",s)[0], MUN_NAMES[int(re.findall(r\"\\d+\",s)[0])]) for s in ags_from]\n",
    "ags_to = [s.replace(re.findall(r\"\\d+\",s)[0], MUN_NAMES[int(re.findall(r\"\\d+\",s)[0])]) for s in ags_to]\n",
    "\n",
    "df_data.index = pd.MultiIndex.from_tuples(zip(*(ags_from, ags_to)))\n",
    "\n",
    "df_data.index = [f'{ags_from} -> {ags_to}' for ags_from, ags_to in df_data.index]\n",
    "#index = [re.split(r'(\\d+)', s) for s in df_data.index]\n",
    "#df_data.index = [f\"{start}{MUN_NAMES[int(ags)]}{end}\" for start,ags,end in index]\n",
    "fig = go.Figure() \n",
    "for i, (key, df) in enumerate(df_data.items()):\n",
    "\n",
    "    fig.add_bar(y=df.index,\n",
    "                x=df.values,\n",
    "                orientation='h',\n",
    "                name=key,\n",
    "                marker_color=list(reversed(colors))[20*i],\n",
    "                hovertemplate='%{x:.2f} %',\n",
    "                showlegend=False)\n",
    "fig.update_layout(barmode=\"relative\",\n",
    "    title='Maximum Line Loading',\n",
    "    yaxis_tickfont_size=12,\n",
    "    xaxis=dict(\n",
    "        title='Loading in %',\n",
    "        titlefont_size=16,\n",
    "        tickfont_size=12,\n",
    "    ))\n",
    "fig.update_yaxes(type='category')#,  tickangle=45)\n",
    "fig.update_xaxes(showspikes=True)\n",
    "fig.update_layout(hovermode=\"y unified\", height=700)\n",
    "fig.show()\n"
   ]
  },
  {
   "cell_type": "markdown",
   "metadata": {},
   "source": [
    "### 7.2 Line Loading Distribution\n",
    "The following figure shows the frequency distribution of the line loading factor."
   ]
  },
  {
   "cell_type": "code",
   "execution_count": null,
   "metadata": {
    "scrolled": false
   },
   "outputs": [],
   "source": [
    "df_data = results_scns[scenario]['flows_txaxt']['Line loading'].copy()\n",
    "df_data = df_data * 100\n",
    "ags_from, ags_to, timestamp = list(zip(*df_data.index))\n",
    "ags_from = [s.replace(re.findall(r\"\\d+\",s)[0], MUN_NAMES[int(re.findall(r\"\\d+\",s)[0])]) for s in ags_from]\n",
    "ags_to = [s.replace(re.findall(r\"\\d+\",s)[0], MUN_NAMES[int(re.findall(r\"\\d+\",s)[0])]) for s in ags_to]\n",
    "\n",
    "df_data.index = pd.MultiIndex.from_tuples(zip(*(ags_from, ags_to, timestamp)))\n",
    "fig = go.Figure()\n",
    "for group, data in df_data.groupby(level=[0,1]):\n",
    "    fig.add_trace(go.Violin(\n",
    "        x=data.values,\n",
    "        name=f'{group[0]} -> {group[1]}',\n",
    "        marker_color=colors[3],\n",
    "        showlegend=False))\n",
    "    \n",
    "fig.update_layout(\n",
    "    title='Line Loading Distribution',\n",
    "    xaxis_title='%',\n",
    "    height=800,)\n",
    "\n",
    "fig.update_traces(orientation='h', side='positive', width=2, points=False)\n",
    "fig.update_layout(xaxis_showgrid=False, xaxis_zeroline=False)\n",
    "fig.update_xaxes(showspikes=True)\n",
    "fig.show()"
   ]
  },
  {
   "cell_type": "markdown",
   "metadata": {},
   "source": [
    "## 8 Flexibility<a class=\"anchor\" id=\"8_flexibility\"></a>"
   ]
  },
  {
   "cell_type": "markdown",
   "metadata": {},
   "source": [
    "<div class=\"alert alert-block alert-info\">\n",
    "<b>Notes on the Calculation of storage ratios:</b>\n",
    "\n",
    "\n",
    "To compare/show the usage of different flexibility options 3 different ratios are used:\n",
    "    \n",
    "<ul>\n",
    "    <li> <b>1. Full Discharge Hours:</b> </li>\n",
    "    \n",
    "The Ratio of discharged energy $E_{tech, discharge}$ to nominal discharge power $P_{n, discharge}$\n",
    "    \n",
    "$$Full\\,Discharge\\,Hours_{technology}=\\frac{E_{tech, discharge}}{P_{n, discharge}}$$\n",
    "    \n",
    "<li> <b>2. Total Cycles:</b> </li>\n",
    "    \n",
    "The Ratio of discharged energy $E_{tech, discharge}$ to installed capacity $C_{technology}$\n",
    "    \n",
    "$$Total\\,Cycles_{technology}=\\frac{E_{tech, discharge}}{C_{technology}}$$\n",
    "    \n",
    "    \n",
    "<li> <b>3. Utilization Rate:</b> </li>\n",
    "    \n",
    "The Ratio of $Total\\,Cycles_{technology}$ to $Max\\,Cycles_{technology}$\n",
    "    \n",
    "$$Max\\,Cycles_{technology}=\\frac{1}{2} \\cdot timesteps \\cdot C_{rate}$$\n",
    "    \n",
    "</ul>\n",
    "with\n",
    "    \n",
    "$$C_{rate}  = \\begin{cases}\n",
    "\\frac{P_{n, discharge}}{C_{technology}} & \\frac{P_{n, discharge}}{C_{technology}} \\leq 1 \\\\\n",
    "1 & \\, \n",
    "\\text{otherwise}\n",
    "\\end{cases}$$\n",
    "\n",
    "and\n",
    "    \n",
    "$$Utilization\\,Rate_{technology} = \\frac{Total\\,Cycles_{technology}}{Max\\,Cycles_{technology}}$$\n",
    "</div> "
   ]
  },
  {
   "cell_type": "markdown",
   "metadata": {},
   "source": [
    "### 8.1 Heat Storage\n",
    "The following figure show the above declared storage ratios for heat storages.\n",
    "<div class=\"alert alert-block alert-info\">\n",
    "<b>Notes on Heatstorage Charts</b>\n",
    "  \n",
    "<ul>\n",
    "<li> Relative cycles will not be used for comparison. This is due to a high c-rate (6.7) of small, decentralised storages which makes the relative usage using eq. full cycles not very meaningful.</li>\n",
    "    \n",
    "<li> To show the total cycles, only the discharge values are chosen as the storage losses are almost negligible.</li>\n",
    "    \n",
    "<li> If no small or large storages are installed in a scenario, they cannot be evaluated. This will result in empty charts.</li>\n",
    "</ul>\n",
    "\n",
    "</div>\n",
    "    "
   ]
  },
  {
   "cell_type": "code",
   "execution_count": null,
   "metadata": {},
   "outputs": [],
   "source": [
    "heat_storage_figures = results_scns[scenario]['results_axlxt'][\"Heat Storage Figures\"]\n",
    "overview = heat_storage_figures.sum().unstack()\n",
    "overview = overview.join(overview.sum(axis=1).rename('Total'))\n",
    "mindex = list(zip(overview.index,['MWh','MW', 'MW']))\n",
    "overview.index = pd.MultiIndex.from_tuples(mindex, names=['variable', 'unit'])\n",
    "display(overview.round())"
   ]
  },
  {
   "cell_type": "code",
   "execution_count": null,
   "metadata": {},
   "outputs": [],
   "source": [
    "heat_storage_ratios = results_scns[scenario]['results_axlxt'][\"Heat Storage Ratios\"]\n",
    "heat_storage_ratios = heat_storage_ratios.drop(columns=[('dec', 'Utilization Rate')])\n",
    "\n",
    "plot_storage_ratios(heat_storage_ratios, regions_scns[scenario], title='Heat storage')"
   ]
  },
  {
   "cell_type": "markdown",
   "metadata": {},
   "source": [
    "### 8.2 Battery Storage\n",
    "The following figure show the above declared storage ratios for battery storages."
   ]
  },
  {
   "cell_type": "markdown",
   "metadata": {},
   "source": [
    "<div class=\"alert alert-block alert-info\">\n",
    "<b>Notes on Battery Storage Charts</b>\n",
    "\n",
    "<ul>\n",
    "<li> The average total cycles (get visible when activating \"ABW\" in legend) are calculated as mean of total cycles from each municipality. </li>\n",
    "    \n",
    "<li> To show the total cycles, only the discharge values are chosen. The difference between charge and discharge results from losses and are somewhat negligible. </li>\n",
    "    \n",
    "<li> If no small or large storages are installed in a scenario, they cannot be evaluated. This will result in empty charts. </li>\n",
    "\n",
    "</ul>\n",
    "</div>\n",
    "    "
   ]
  },
  {
   "cell_type": "markdown",
   "metadata": {},
   "source": [
    "### 8.2.1 Utilization"
   ]
  },
  {
   "cell_type": "code",
   "execution_count": null,
   "metadata": {},
   "outputs": [],
   "source": [
    "battery_storage_figures = results_scns[scenario]['results_axlxt'][\"Battery Storage Figures\"]\n",
    "\n",
    "overview = battery_storage_figures.sum().unstack()\n",
    "overview = overview.join(overview.sum(axis=1).rename('Total'))\n",
    "mindex = list(zip(overview.index,['MWh','MWh', 'MWh','MW', 'MW']))\n",
    "overview.index = pd.MultiIndex.from_tuples(mindex, names=['variable', 'unit'])\n",
    "display(overview.round())"
   ]
  },
  {
   "cell_type": "code",
   "execution_count": null,
   "metadata": {},
   "outputs": [],
   "source": [
    "battery_storage_ratios = results_scns[scenario]['results_axlxt'][\"Battery Storage Ratios\"]\n",
    "plot_storage_ratios(battery_storage_ratios, regions_scns[scenario], title='Battery Storage')"
   ]
  },
  {
   "cell_type": "markdown",
   "metadata": {},
   "source": [
    "#### 8.2.2 Timeseries\n",
    "The following figure show the timeseries for charging and discharging battery storages in sum."
   ]
  },
  {
   "cell_type": "code",
   "execution_count": null,
   "metadata": {
    "scrolled": false
   },
   "outputs": [],
   "source": [
    "# timeseries\n",
    "df_data = results_scns[scenario]['flows_txaxt']['Batteriespeicher'].sum(level=0)\n",
    "# only get nonzero values\n",
    "#df_data = df_data.loc[(df_data != 0).any(axis=1)]\n",
    "\n",
    "fig = go.Figure()\n",
    "\n",
    "for i, (key, df) in enumerate(df_data.items()):\n",
    "# Add traces\n",
    "    fig.add_trace(go.Scatter(x=df.index,\n",
    "                             y=df,\n",
    "                             mode='markers+lines',\n",
    "                             line=dict(color=colors[20*i], width=1,),\n",
    "                             opacity=0.8,\n",
    "                             name=key,\n",
    "                            line_shape='hv',\n",
    "                            hovertemplate='%{y:.2f} MWh<br>',\n",
    "                            ))\n",
    "fig.update_xaxes(\n",
    "        title='Zoom',\n",
    "        rangeslider_visible=True,\n",
    "        rangeselector=dict(\n",
    "            buttons=list([\n",
    "                dict(count=6, label=\"6m\", step=\"month\", stepmode=\"backward\"),\n",
    "                dict(count=1, label=\"1m\", step=\"month\", stepmode=\"backward\"),\n",
    "                dict(count=14, label=\"2w\", step=\"day\", stepmode=\"backward\"),\n",
    "                dict(count=7, label=\"1w\", step=\"day\", stepmode=\"backward\"),\n",
    "                dict(count=3, label=\"3d\", step=\"day\", stepmode=\"backward\"),\n",
    "                ])))\n",
    "fig.update_layout(title='Battery Charge/Discharge',\n",
    "                  hovermode=\"x unified\")\n",
    "fig.update_yaxes(title_text=\"Energy in MWh\", showspikes=True)\n",
    "fig.show()"
   ]
  },
  {
   "cell_type": "markdown",
   "metadata": {},
   "source": [
    "#### 8.2.3 Scatter\n",
    "The following figure shows the correlation of renewable feedin, DSM activation, Imports or line loadings with the charging and discharging of battery storages.\n",
    "\n",
    "**The various variables can be activated in the legend*"
   ]
  },
  {
   "cell_type": "markdown",
   "metadata": {},
   "source": [
    "<div class=\"alert alert-block alert-info\">\n",
    "<b>Notes on Battery Storage Scatter Chart</b>\n",
    "\n",
    "<ul>\n",
    "<li> Datapoints with zero values for both discharge or charge of battery storage are excluded. </li>\n",
    "<li> The label of the Y-axis diverts as its varying units depending on the traces you select. The units will be displayed in the infobox by hovering over the datapoints. </li>\n",
    "<li> The mean value of all line loadings is used per timestep. </li>\n",
    "<li> Only the DSM decrease is used as activation indicator. </li>\n",
    "<li> If the scenario does not depict DSM, the following figures will be empty. </li>\n",
    "</ul> \n",
    "</div>"
   ]
  },
  {
   "cell_type": "code",
   "execution_count": null,
   "metadata": {
    "scrolled": false
   },
   "outputs": [],
   "source": [
    "RE = ['pv_ground', 'pv_roof_large', 'pv_roof_small', 'wind']\n",
    "# timeseries\n",
    "df_re_ts = results_scns[scenario]['flows_txaxt']['Stromerzeugung'][RE].sum(axis=1).sum(level=0)\n",
    "df_dsm_ts = results_scns[scenario]['flows_txaxt']['DSM activation']['Demand decrease'].sum(level=0)\n",
    "df_imports_ts = results_scns[scenario]['flows_txaxt']['Stromimport'].sum(axis=1).sum(level=0)\n",
    "df_lines_ts = results_scns[scenario]['flows_txaxt']['Line loading'].mean(level=2)\n",
    "\n",
    "df_storage_in_ts = results_scns[scenario]['flows_txaxt']['Batteriespeicher']['charge'].sum(level=0)\n",
    "df_storage_out_ts = results_scns[scenario]['flows_txaxt']['Batteriespeicher']['discharge'].sum(level=0)\n",
    "\n",
    "df_data = pd.concat([df_re_ts, df_dsm_ts, df_imports_ts, df_lines_ts, df_storage_in_ts, df_storage_out_ts],\n",
    "                    axis=1, keys=['RE', 'DSM', 'Import', 'Lineload', 'Charge', 'Discharge'])\n",
    "# remove every timesteps where charge/discharge equals zero\n",
    "df_data = df_data.loc[(df_data[['Charge', 'Discharge']] != 0).any(axis=1)]\n",
    "\n",
    "fig = go.Figure()\n",
    "\n",
    "for i, (key, df) in enumerate(df_data.drop(columns=['Charge', 'Discharge']).items()):\n",
    "    \n",
    "    visible = 'legendonly' if i else True\n",
    "    hovertemplate = \"%{fullData.name}<br>x = %{x:.2f} MWh <br>y = %{y:.2f} \" + UNITS[key]\n",
    "    # Add traces\n",
    "    fig.add_trace(go.Scatter(y=df,\n",
    "                             x=df_data['Charge'],\n",
    "                             mode='markers',\n",
    "                             opacity=0.7,\n",
    "                             marker_color=colors[20],\n",
    "                             name= 'Charge-'+key,\n",
    "                             visible=visible,\n",
    "                             hovertemplate=hovertemplate,\n",
    "                             ))\n",
    "\n",
    "    fig.add_trace(go.Scatter(y=df,\n",
    "                             x=df_data['Discharge'],\n",
    "                             mode='markers',\n",
    "                             marker_color=colors[0],\n",
    "                             opacity=0.7,\n",
    "                             name= 'Disharge-' + key,\n",
    "                             visible=visible,\n",
    "                             hovertemplate=hovertemplate,\n",
    "                            ))\n",
    "\n",
    "\n",
    "\n",
    "fig.update_layout(title=\"Scatter Battery Storage - X\",)\n",
    "fig.update_yaxes(title_text='MWh or % for line loading', showspikes=True)\n",
    "fig.update_xaxes(title_text='MWh of battery storage charge/discharge', showspikes=True)\n",
    "fig.show()"
   ]
  },
  {
   "cell_type": "markdown",
   "metadata": {},
   "source": [
    "### 8.3 DSM\n",
    "<div class=\"alert alert-block alert-info\">\n",
    "<b>Notes on DSM</b>\n",
    "\n",
    "<ul>\n",
    "<li> DSM increase and decrease can happen simultaniously as it is considered a pool of components each municipality. </li>\n",
    "<li> The energy balance for each municipal DSM component need to be even within 24h (constraint given by the data). </li>\n",
    "<li> If the scenario does not depict DSM, the following figures will be empty.</li>\n",
    "</ul>\n",
    "</div>"
   ]
  },
  {
   "cell_type": "markdown",
   "metadata": {},
   "source": [
    "#### 8.3.1 Activation\n",
    "The following figure shows the frequency distribution of DSM activation for each municipality."
   ]
  },
  {
   "cell_type": "code",
   "execution_count": null,
   "metadata": {},
   "outputs": [],
   "source": [
    "df_data = results_scns[scenario]['flows_txaxt']['DSM activation'].copy()\n",
    "\n",
    "x = df_data.index.get_level_values(level=1)\n",
    "x = pd.Series(x.astype(int).values).map(MUN_NAMES).values\n",
    "\n",
    "fig = go.Figure()\n",
    "\n",
    "for key, df in df_data.items():\n",
    "    \n",
    "    color = '#3D9970' if 'increase' in key else '#FF4136'\n",
    "    fig.add_trace(go.Box(x=x,\n",
    "        y=df,\n",
    "        name=key,\n",
    "        marker_color=color,\n",
    "        boxpoints=False,))\n",
    "\n",
    "fig.update_layout(\n",
    "    yaxis_title='DSM activation in MWh',\n",
    "    boxmode='group',\n",
    "#    hovermode=\"x unified\",\n",
    ")\n",
    "\n",
    "fig.update_layout(title=\"Frequency Distribution of DSM activation\",)\n",
    "fig.update_xaxes(type='category', tickangle=45)\n",
    "fig.show()\n"
   ]
  },
  {
   "cell_type": "markdown",
   "metadata": {},
   "source": [
    "#### 8.3.2 DSM Demand Ratio\n",
    "The following figure shows the ratio of used DSM Energy to the electrical demand of households for each municipality."
   ]
  },
  {
   "cell_type": "code",
   "execution_count": null,
   "metadata": {},
   "outputs": [],
   "source": [
    "df_data = results_scns[scenario]['flows_txaxt']['DSM activation']\n",
    "new = pd.concat([df_data.sum(level='timestamp')],axis=1, keys=[100], names=['ags']).swaplevel(axis=1)\n",
    "df_data = df_data.unstack().join(new)\n",
    "df_data = df_data.sort_index(axis=1).stack()\n",
    "df_data = df_data.sum(level='ags')\n",
    "\n",
    "demand_hh = results_scns[scenario]['results_axlxt']['Stromnachfrage nach Gemeinde']['hh']\n",
    "demand_hh = demand_hh.append(pd.Series(demand_hh.sum(), index=[100]))\n",
    "df_data = df_data['Demand decrease'] /  demand_hh * 100 #percent\n",
    "\n",
    "#df_data = df_data.sort_values(ascending=False)\n",
    "df_data = df_data.rename(index=MUN_NAMES)\n",
    "\n",
    "fig = go.Figure()\n",
    "fig.add_trace(\n",
    "    go.Bar(x=df_data.index,\n",
    "           y=df_data.values,\n",
    "           name='Ratio',\n",
    "           orientation='v',\n",
    "           marker_color=colors[1],\n",
    "          hovertemplate='%{y:.2f} %'))\n",
    "\n",
    "fig.add_trace(\n",
    "    go.Scatter(x=df_data.index,\n",
    "               y=len(df_data)*[df_data.mean()],\n",
    "               name='ABW mean',\n",
    "               mode='lines',\n",
    "               line=dict(dash='dash'),\n",
    "               marker_color='red',\n",
    "               hovertemplate='%{y:.2f} %' ))\n",
    "\n",
    "fig.update_yaxes(title='%')\n",
    "fig.update_layout(\n",
    "    title='DSM Demand Ratio',\n",
    "    showlegend=False,\n",
    "    hovermode=\"x unified\")\n",
    "fig.show()"
   ]
  },
  {
   "cell_type": "markdown",
   "metadata": {},
   "source": [
    "#### 8.3.3 DSM Timeseries\n",
    "The following figure shows the timeseries of DSM increase and decrease of the selected municipality."
   ]
  },
  {
   "cell_type": "code",
   "execution_count": null,
   "metadata": {
    "scrolled": false
   },
   "outputs": [],
   "source": [
    "df_data = results_scns[scenario]['flows_txaxt']['DSM activation'].copy()\n",
    "new = pd.concat([df_data.sum(level='timestamp')],axis=1, keys=['100'], names=['ags']).swaplevel(axis=1)\n",
    "df_data = df_data.unstack().join(new)\n",
    "df_data = df_data.sort_index(axis=1).stack()\n",
    "\n",
    "fig = go.Figure()\n",
    "for vis, (ags, df) in enumerate(df_data.groupby(level='ags')):\n",
    "    for leg, (key, data) in enumerate(df_data.items()):\n",
    "        \n",
    "        legend = False if leg else True\n",
    "        visible = 'legendonly' if vis else True\n",
    "        \n",
    "        data = data.loc[(slice(None), ags)]\n",
    "        fig.add_trace(go.Scatter(x=data.index,\n",
    "                                 y=data.values,\n",
    "                                 name=MUN_NAMES[int(ags)],\n",
    "                                 legendgroup=ags,\n",
    "                                 mode='lines',\n",
    "                                 showlegend=legend,\n",
    "                                 visible=visible,\n",
    "                                 marker_color=colors[2*leg+2],\n",
    "                                 text=data.name,\n",
    "                                 hovertemplate='%{fullData.text}<br>%{y:.2f} MW'\n",
    "                                ))\n",
    "\n",
    "fig.update_xaxes(\n",
    "    title='Zoom',\n",
    "    rangeslider_visible=True,\n",
    "    rangeselector=dict(\n",
    "        buttons=list([\n",
    "            dict(count=6, label=\"6m\", step=\"month\", stepmode=\"backward\"),\n",
    "            dict(count=1, label=\"1m\", step=\"month\", stepmode=\"backward\"),\n",
    "            dict(count=14, label=\"2w\", step=\"day\", stepmode=\"backward\"),\n",
    "            dict(count=7, label=\"1w\", step=\"day\", stepmode=\"backward\"),\n",
    "            dict(count=3, label=\"3d\", step=\"day\", stepmode=\"backward\"),\n",
    "            #dict(step=\"all\")\n",
    "        ])\n",
    "    )\n",
    ")\n",
    "\n",
    "fig.update_layout(\n",
    "    title='Demand Side Management of ABW',\n",
    "    height = 700,\n",
    "    xaxis_tickfont_size=14,\n",
    "    yaxis=dict(title='MW', titlefont_size=16, tickfont_size=14),\n",
    "    autosize=True,\n",
    "    hovermode=\"x unified\")\n",
    "\n",
    "fig.show()"
   ]
  },
  {
   "cell_type": "markdown",
   "metadata": {},
   "source": [
    "#### 8.3.4 DSM Relative Utilization"
   ]
  },
  {
   "cell_type": "markdown",
   "metadata": {},
   "source": [
    "The relative utilization of DSM describes how much positive or negative power activation takes place in relation to the maximum potential assumed in the scenario."
   ]
  },
  {
   "cell_type": "code",
   "execution_count": null,
   "metadata": {},
   "outputs": [],
   "source": [
    "df_dsm_cap_up, df_dsm_cap_down = calc_dsm_cap(region=regions_scns[scenario])\n",
    "df_dsm_cap = pd.concat([df_dsm_cap_up.sum().rename('Demand increase'),\n",
    "                     df_dsm_cap_down.sum().rename('Demand decrease')], axis=1)\n",
    "\n",
    "df_data = results_scns[scenario]['flows_txaxt']['DSM activation'].sum(level='ags') / df_dsm_cap.values\n",
    "df_data.index = df_data.index.astype(int)\n",
    "df_data = df_data.rename(index=MUN_NAMES)\n",
    "df_data = df_data * 100\n",
    "\n",
    "fig = go.Figure()\n",
    "for i, (key, data) in enumerate(df_data.items()):\n",
    "\n",
    "    fig.add_trace(\n",
    "        go.Bar(x=data.index,\n",
    "               y=data.values,\n",
    "               name=key,\n",
    "               orientation='v',\n",
    "               marker_color=colors[20*i],\n",
    "              hovertemplate='%{y:.2f} %'))\n",
    "\n",
    "fig.update_yaxes(title='%')\n",
    "fig.update_xaxes(type='category')\n",
    "fig.update_layout(\n",
    "    title='DSM Relative Utilization',\n",
    "    hovermode=\"x unified\")\n",
    "fig.show()"
   ]
  },
  {
   "cell_type": "code",
   "execution_count": null,
   "metadata": {},
   "outputs": [],
   "source": []
  }
 ],
 "metadata": {
  "kernelspec": {
   "display_name": "Python 3",
   "language": "python",
   "name": "python3"
  },
  "language_info": {
   "codemirror_mode": {
    "name": "ipython",
    "version": 3
   },
   "file_extension": ".py",
   "mimetype": "text/x-python",
   "name": "python",
   "nbconvert_exporter": "python",
   "pygments_lexer": "ipython3",
   "version": "3.8.3"
  }
 },
 "nbformat": 4,
 "nbformat_minor": 4
}
