{
 "cells": [
  {
   "cell_type": "markdown",
   "metadata": {},
   "source": [
    "# WINDNODE ABW - Scenario Analysis\n",
    "\n",
    "<img src=\"http://reiner-lemoine-institut.de//wp-content/uploads/2015/09/rlilogo.png\" width=\"100\" style=\"float: right\">\n",
    "\n",
    "__copyright__ \t= \"© Reiner Lemoine Institut\" <br>\n",
    "__license__ \t= \"GNU Affero General Public License Version 3 (AGPL-3.0)\" <br>\n",
    "__url__ \t\t= \"https://www.gnu.org/licenses/agpl-3.0.en.html\" <br>\n",
    "__author__ \t\t= \"Julian Endres\" <br>"
   ]
  },
  {
   "cell_type": "code",
   "execution_count": null,
   "metadata": {},
   "outputs": [],
   "source": [
    "%load_ext autoreload\n",
    "%autoreload 2"
   ]
  },
  {
   "cell_type": "code",
   "execution_count": null,
   "metadata": {},
   "outputs": [],
   "source": [
    "######## WINDNODE ###########\n",
    "# define and setup logger\n",
    "from windnode_abw.tools.logger import setup_logger\n",
    "logger = setup_logger()\n",
    "\n",
    "# load configs\n",
    "from windnode_abw.tools import config\n",
    "config.load_config('config_data.cfg')\n",
    "config.load_config('config_misc.cfg')\n",
    "\n",
    "from windnode_abw.analysis import analysis\n",
    "from windnode_abw.tools.draw import *\n",
    "\n",
    "######## DATA ###########\n",
    "\n",
    "import re\n",
    "import pandas as pd\n",
    "\n",
    "######## Plotting ###########\n",
    "\n",
    "# Plotting\n",
    "import matplotlib.pyplot as plt\n",
    "from mpl_toolkits.axes_grid1 import make_axes_locatable\n",
    "from matplotlib.ticker import ScalarFormatter\n",
    "import seaborn as sns\n",
    "# set seaborn style\n",
    "sns.set()\n",
    "\n",
    "import plotly.express as px\n",
    "import plotly.graph_objs as go\n",
    "from plotly.subplots import make_subplots\n",
    "#import plotly.offline as pltly\n",
    "#import plotly.io as pio"
   ]
  },
  {
   "cell_type": "code",
   "execution_count": null,
   "metadata": {
    "tags": [
     "parameters"
    ]
   },
   "outputs": [],
   "source": [
    "# specify what to import (in path ~/.windnode_abw/)\n",
    "run_timestamp = '2020-07-24_104145_1month'\n",
    "scenario = 'NEP2035'"
   ]
  },
  {
   "cell_type": "code",
   "execution_count": null,
   "metadata": {},
   "outputs": [],
   "source": [
    "# obtain processed results\n",
    "regions_scns, results_scns = analysis(run_timestamp=run_timestamp,\n",
    "                                      scenarios=[scenario])"
   ]
  },
  {
   "cell_type": "markdown",
   "metadata": {},
   "source": [
    "# TODO\n",
    "- [ ] parallelize analysis\n",
    "- [ ] save / pickle results"
   ]
  },
  {
   "cell_type": "markdown",
   "metadata": {},
   "source": [
    "### useful params"
   ]
  },
  {
   "cell_type": "code",
   "execution_count": null,
   "metadata": {},
   "outputs": [],
   "source": [
    "MUN_NAMES = regions_scns[scenario].muns.gen.to_dict()\n",
    "bar_colors = px.colors.sequential.GnBu_r\n",
    "UNITS = {\"relative\": \"%\", \"hours\": \"h\",}"
   ]
  },
  {
   "cell_type": "code",
   "execution_count": null,
   "metadata": {},
   "outputs": [],
   "source": []
  },
  {
   "cell_type": "markdown",
   "metadata": {},
   "source": [
    "# 1 Demand and Generation (Input Data)"
   ]
  },
  {
   "cell_type": "markdown",
   "metadata": {},
   "source": [
    "## 1.1 Installed Electrical Capacities"
   ]
  },
  {
   "cell_type": "code",
   "execution_count": null,
   "metadata": {},
   "outputs": [],
   "source": [
    "df_data = results_scns[scenario]['parameters']['Installed capacity electricity supply']\n",
    "df_data = df_data.rename(columns=PRINT_NAMES)\n",
    "\n",
    "fig, axes = plt.subplots(3,3, figsize=(12,10))\n",
    "for ax, (key, data) in  zip(axes.flat, df_data.iteritems()):\n",
    "    plot_geoplot(key, data, regions_scns[scenario], ax=ax, unit='MW')\n",
    "    \n",
    "fig.suptitle('Installed el. Generation Capacity',\n",
    "     fontsize=16,\n",
    "     fontweight='normal')\n",
    "plt.tight_layout()\n",
    "plt.show()"
   ]
  },
  {
   "cell_type": "markdown",
   "metadata": {},
   "source": [
    "## 1.2 Electrical Demand"
   ]
  },
  {
   "cell_type": "code",
   "execution_count": null,
   "metadata": {},
   "outputs": [],
   "source": [
    "df_data = results_scns[scenario]['flows_txaxt']['Stromnachfrage'].sum(level=1)\n",
    "df_data = df_data.drop(columns='export')\n",
    "df_data.index = df_data.index.astype(int)\n",
    "df_data = df_data.rename(columns=PRINT_NAMES)\n",
    "df_data = df_data / 1e3\n",
    "\n",
    "fig, axes = plt.subplots(1,3, figsize=(14,4))\n",
    "for ax, (key, data) in  zip(axes.flat, df_data.iteritems()):\n",
    "    plot_geoplot(key, data, regions_scns[scenario], ax=ax, unit='GWh')\n",
    "\n",
    "fig.suptitle('Electrical Demand per Sector',\n",
    "     fontsize=16,\n",
    "     fontweight='normal')\n",
    "plt.tight_layout()\n",
    "plt.show()"
   ]
  },
  {
   "cell_type": "markdown",
   "metadata": {},
   "source": [
    "## 1.3 Thermal Demand"
   ]
  },
  {
   "cell_type": "code",
   "execution_count": null,
   "metadata": {},
   "outputs": [],
   "source": [
    "df_data = results_scns[scenario]['flows_txaxt']['Wärmenachfrage'].sum(level=2)\n",
    "df_data.index = df_data.index.astype(int)\n",
    "df_data = df_data.rename(columns=PRINT_NAMES)\n",
    "df_data = pd.DataFrame([df_data.iloc[:,:2].sum(axis=1).rename('Households'), df_data.iloc[:,-1]]).T\n",
    "df_data = df_data / 1e3\n",
    "\n",
    "fig, axes = plt.subplots(1,2, figsize=(14,4))\n",
    "for ax, (key, data) in  zip(axes.flat, df_data.items()):\n",
    "    plot_geoplot(key, data, regions_scns[scenario], ax=ax, unit='GWh')\n",
    "    \n",
    "fig.suptitle('Thermal Demand per Sector',\n",
    "     fontsize=16,\n",
    "     fontweight='normal')\n",
    "plt.tight_layout()\n",
    "plt.show()"
   ]
  },
  {
   "cell_type": "markdown",
   "metadata": {},
   "source": [
    "# 2 Area required by RES"
   ]
  },
  {
   "cell_type": "markdown",
   "metadata": {},
   "source": [
    "## 2.1 Absolute Area"
   ]
  },
  {
   "cell_type": "code",
   "execution_count": null,
   "metadata": {},
   "outputs": [],
   "source": [
    "df_data = results_scns[scenario]['results_axlxt']['Area required']\n",
    "df_data = df_data.rename(columns=PRINT_NAMES)\n",
    "\n",
    "fig, axes = plt.subplots(2,2, figsize=(12,6))\n",
    "for ax, (key, data) in  zip(axes.flat, df_data.iteritems()):\n",
    "    plot_geoplot(key, data, regions_scns[scenario], ax=ax, unit='ha')\n",
    "    \n",
    "fig.suptitle('Required Area',\n",
    "     fontsize=16,\n",
    "     fontweight='normal')\n",
    "plt.tight_layout()\n",
    "plt.show()"
   ]
  },
  {
   "cell_type": "markdown",
   "metadata": {},
   "source": [
    "## 2.2 Relative Area\n",
    "\n",
    "The following figure shows the total relative area required by the RES in ABW for the current scenario compared to the available areas for different land use scenarios, per RES technology.\n",
    "\n",
    "Notes:\n",
    "- The current scenarios of wind turbines and ground-mounted PV is marked with \"(current)\"\n",
    "- Technology-specific naming conventions of land use scenarios\n",
    "  - Wind: Distance to settlements (500m/1000m), use of forests (with/without), percentage of available area due to restrictions resulting from case-by-case decisions\n",
    "  - PV ground: Restrictions that apply (hard: H / hard+weak: HS), percentage of total available agricultural area"
   ]
  },
  {
   "cell_type": "code",
   "execution_count": null,
   "metadata": {},
   "outputs": [],
   "source": [
    "df_data = results_scns[scenario]['highlevel_results']\n",
    "\n",
    "fig = go.Figure()\n",
    "\n",
    "# PV rooftop\n",
    "mask = [i for i in df_data.index if 'PV rooftop' in  i[0]]\n",
    "data = df_data.loc[mask]\n",
    "index = data.index.get_level_values(level=0)\n",
    "\n",
    "fig.add_trace(\n",
    "    go.Bar(y=index, x=data.values,\n",
    "           orientation='h',\n",
    "           name='PV rooftop',\n",
    "           marker_color=bar_colors[5]))\n",
    "\n",
    "# PV Ground\n",
    "mask = [i for i in df_data.index if 'PV ground' in  i[0]]\n",
    "data = df_data.loc[mask]\n",
    "index = data.index.get_level_values(level=0)\n",
    "\n",
    "fig.add_trace(\n",
    "    go.Bar(y=index, x=data.values,\n",
    "           orientation='h',\n",
    "           name='PV Ground',\n",
    "           marker_color=bar_colors[4]))#, visible='legendonly'))\n",
    "\n",
    "# Wind\n",
    "mask = [i for i in df_data.index if 'rel. wind' in  i[0]]\n",
    "data = df_data.loc[mask]\n",
    "index=  data.index.get_level_values(level=0)\n",
    "\n",
    "fig.add_trace(\n",
    "    go.Bar(y=index, x=data.values,\n",
    "           orientation='h',\n",
    "           name='Wind',\n",
    "          marker_color=bar_colors[3]))#, visible='legendonly'))\n",
    "\n",
    "fig.update_layout(title_text = 'Relative Required Area',\n",
    "                  xaxis=dict(title=' %',\n",
    "                    titlefont_size=12),\n",
    "                    autosize=True)\n",
    "\n",
    "fig.show()"
   ]
  },
  {
   "cell_type": "markdown",
   "metadata": {},
   "source": [
    "# 3 Electrical Autarky\n",
    "\n",
    "Autarky describes how much of the demanded energy can be supplied from sources within the region/municipality with regard to energy balance (annual sum) or simultaneity (number of hours)."
   ]
  },
  {
   "cell_type": "markdown",
   "metadata": {},
   "source": [
    "- [ ] histogramm timeseries\n",
    "- [ ] boxplots timeseries (prozentual Energiebilanz)"
   ]
  },
  {
   "cell_type": "markdown",
   "metadata": {},
   "source": [
    "## 3.1 Supply/Demand"
   ]
  },
  {
   "cell_type": "code",
   "execution_count": null,
   "metadata": {},
   "outputs": [],
   "source": [
    "df_data = results_scns[scenario]['results_axlxt']['Autarky']\n",
    "df_data = df_data.rename(index=MUN_NAMES)\n",
    "df_data = df_data.sort_values(axis=0, by='relative')\n",
    "\n",
    "fig = make_subplots(rows=1, cols=2, horizontal_spacing=0.17, column_widths=[0.8, 0.2],\n",
    "                    specs=[[{\"secondary_y\": True}, {\"secondary_y\": True}]])\n",
    "\n",
    "# === municipalities ===\n",
    "# supply per municipality\n",
    "data = df_data['supply'] / 1e3\n",
    "\n",
    "fig.add_trace(\n",
    "    go.Bar(x=data.index, y=data.values,\n",
    "           orientation='v',\n",
    "           name='Supply',\n",
    "          marker_color=bar_colors[1],),\n",
    "    row=1, col=1, secondary_y=False,)\n",
    "\n",
    "# demand per municipality\n",
    "data = df_data['demand'] / 1e3\n",
    "\n",
    "fig.add_trace(\n",
    "    go.Bar(x=data.index, y=data.values,\n",
    "           orientation='v',\n",
    "           name='Demand',\n",
    "           marker_color=bar_colors[2],),\n",
    "    row=1, col=1, secondary_y=False,)\n",
    "\n",
    "# relative autarky per municipality\n",
    "data = df_data['relative'] * 1e2\n",
    "\n",
    "fig.add_trace(\n",
    "    go.Bar(x=data.index, y=data.values,\n",
    "           orientation='v',\n",
    "           name='Relative',\n",
    "           marker_color=bar_colors[3],\n",
    "           visible='legendonly',\n",
    "          opacity=0.7,),\n",
    "    row=1, col=1, secondary_y=True,)\n",
    "\n",
    "# === ABW ===\n",
    "df_data = results_scns[scenario]['results_t']['Autarky']\n",
    "\n",
    "fig.add_trace(\n",
    "    go.Bar(x=['supply'], y=[df_data['supply']/ 1e3],\n",
    "           orientation='v',\n",
    "           name='ABW Supply',\n",
    "           marker_color=bar_colors[1]), \n",
    "    row=1, col=2, secondary_y=False,)\n",
    "\n",
    "fig.add_trace(\n",
    "    go.Bar(x=['demand'], y=[df_data['demand'] / 1e3],\n",
    "           orientation='v',\n",
    "           name='ABW Demand',\n",
    "           marker_color=bar_colors[2],),\n",
    "    row=1, col=2, secondary_y=False,)\n",
    "\n",
    "fig.add_trace(\n",
    "    go.Bar(x=[df_data.name], y=[df_data['relative']* 1e2],\n",
    "           orientation='v',\n",
    "           name='ABW relative',\n",
    "           marker_color=bar_colors[3],\n",
    "           visible='legendonly',),\n",
    "    row=1, col=2, secondary_y=True,)\n",
    "\n",
    "# === Layout ===\n",
    "fig.update_layout(title_text = 'Electrical Autarky per Municipality (Energy Balance) and total region',\n",
    "                    autosize=True,\n",
    "                hovermode=\"x unified\",\n",
    "                  legend=dict(orientation=\"h\",\n",
    "                                yanchor=\"bottom\",\n",
    "                                y=1.02,\n",
    "                                xanchor=\"right\",\n",
    "                                x=1),\n",
    "                 )\n",
    "fig.update_yaxes(title_text=\"absolute in GWh\", row=1, col=1, anchor=\"x\", secondary_y=False)\n",
    "fig.update_yaxes(title_text=\"relative in %\", row=1, col=1, anchor=\"x\", secondary_y=True)\n",
    "fig.update_yaxes(title_text=\"absolute in GWh\", row=1, col=2, anchor=\"x2\", secondary_y=False)\n",
    "fig.update_yaxes(title_text=\"relative in %\", row=1, col=2, anchor=\"x2\", secondary_y=True)\n",
    "fig.show()"
   ]
  },
  {
   "cell_type": "markdown",
   "metadata": {},
   "source": [
    "## 3.2 Relative Autarky"
   ]
  },
  {
   "cell_type": "code",
   "execution_count": null,
   "metadata": {
    "scrolled": false
   },
   "outputs": [],
   "source": [
    "df_data = results_scns[scenario]['results_axlxt']['Autarky']['relative']\n",
    "df_data = df_data.rename(index=MUN_NAMES)\n",
    "df_data = df_data.mul(100)\n",
    "df_data = df_data.sort_values()\n",
    "\n",
    "data=df_data.round()\n",
    "\n",
    "limit=120\n",
    "\n",
    "# split data\n",
    "data_left = data[data < limit]\n",
    "data_right = data[data >= limit]\n",
    "\n",
    "fig = make_subplots(rows=1, cols=2, horizontal_spacing=0.2)\n",
    "\n",
    "fig.add_trace(\n",
    "    go.Bar(y=data.index, x=data_left.values,\n",
    "           orientation='h', name=f'< {limit} %',\n",
    "          marker_color=bar_colors[1]),\n",
    "    row=1, col=1)\n",
    "\n",
    "fig.add_trace(\n",
    "    go.Bar(y=data.index, x=data_right.values,\n",
    "           orientation='h', name=f'> {limit} %',\n",
    "          marker_color=bar_colors[1]),\n",
    "    row=1, col=2)\n",
    "\n",
    "fig.update_yaxes(type='category', row=1, col=1)\n",
    "fig.update_yaxes(type='category', row=1, col=2)\n",
    "fig.update_xaxes(title='%', anchor='x', row=1, col=1)\n",
    "fig.update_xaxes(title='%', anchor='x2', row=1, col=2)\n",
    "\n",
    "fig.update_layout(title_text='Grouped Electrical Autarky per Municipality (Energy Balance)',\n",
    "                  xaxis=dict(title=' %',\n",
    "                    titlefont_size=12),\n",
    "                    autosize=True)\n",
    "fig.show()"
   ]
  },
  {
   "cell_type": "markdown",
   "metadata": {},
   "source": [
    "## 3.3 relative time"
   ]
  },
  {
   "cell_type": "markdown",
   "metadata": {},
   "source": [
    "- [ ] Summe über alle Gemeinde als TS zusätzlich?\n",
    "- [ ] relativer Zeitliche Anteil Autarky 10% aller stunden?? was habe ich hiermit gemeint?"
   ]
  },
  {
   "cell_type": "code",
   "execution_count": null,
   "metadata": {},
   "outputs": [],
   "source": [
    "df_data = results_scns[scenario]['results_axlxt']['Autarky'][['hours']]\n",
    "max_hours  = len(results_scns[scenario]['flows_txaxt']['Autarky'].index.get_level_values(level=0).unique())\n",
    "df_data = df_data['hours'] / max_hours * 1e2\n",
    "\n",
    "df_data = df_data.sort_values(ascending=False)\n",
    "df_data = df_data.rename(index=MUN_NAMES)\n",
    "\n",
    "fig = go.Figure()\n",
    "fig.add_trace(\n",
    "    go.Bar(x=df_data.index,\n",
    "           y=df_data.values,\n",
    "           orientation='v',\n",
    "           marker_color=bar_colors[1]))\n",
    "\n",
    "fig.update_yaxes(title='%')\n",
    "fig.update_layout(\n",
    "    title='Percentage of Autark Hours', \n",
    "    showlegend=False)\n",
    "fig.show()"
   ]
  },
  {
   "cell_type": "markdown",
   "metadata": {},
   "source": [
    "## 3.4 Autarky Geoplots"
   ]
  },
  {
   "cell_type": "code",
   "execution_count": null,
   "metadata": {
    "scrolled": false
   },
   "outputs": [],
   "source": [
    "df_data = results_scns[scenario]['results_axlxt']['Autarky'].loc[:,['hours', 'relative']]\n",
    "df_data = df_data.rename(columns=PRINT_NAMES)\n",
    "\n",
    "fig, axes = plt.subplots(1,2, figsize=(12,5))\n",
    "\n",
    "for ax, (key, data) in  zip(axes.flat, df_data.iteritems()):\n",
    "    \n",
    "    plot_geoplot(key, data, regions_scns[scenario], ax=ax, unit=UNITS[key])\n",
    "    \n",
    "fig.suptitle('Autark Hours and Relative Autarky Balance',\n",
    "     fontsize=16,\n",
    "     fontweight='normal')\n",
    "plt.tight_layout()\n",
    "plt.show()"
   ]
  },
  {
   "cell_type": "markdown",
   "metadata": {},
   "source": [
    "## 3.5 violinplot"
   ]
  },
  {
   "cell_type": "code",
   "execution_count": null,
   "metadata": {
    "scrolled": false
   },
   "outputs": [],
   "source": [
    "df_data = results_scns[scenario]['flows_txaxt']['Autarky']['relative'].unstack()\n",
    "\n",
    "df_data.columns = [int(i) for i in df_data.columns]\n",
    "df_data = df_data.rename(columns=MUN_NAMES)\n",
    "\n",
    "limit = 2\n",
    "\n",
    "fig = make_subplots(rows=2, cols=2, horizontal_spacing=0.25,\n",
    "                    row_heights=[0.8, 0.2],\n",
    "                    specs=[[{}, {}], [{\"colspan\": 2}, None]],)\n",
    "\n",
    "for ags, data in df_data.iteritems():\n",
    "    \n",
    "    if data.describe().loc['mean'] > limit:\n",
    "\n",
    "        fig.add_trace(go.Violin(x=data.values, name=ags,\n",
    "                                orientation='h',\n",
    "                               line_color=bar_colors[1],\n",
    "                               showlegend=False),\n",
    "                              \n",
    "                      row=1, col=1)\n",
    "    else:\n",
    "        fig.add_trace(go.Violin(x=data.values, name=ags,\n",
    "                                orientation='h',\n",
    "                               line_color=bar_colors[1],\n",
    "                               showlegend=False),\n",
    "                      row=1, col=2)\n",
    "        \n",
    "    fig.add_trace(go.Violin(x=data.values, name=ags,\n",
    "                                orientation='h',\n",
    "                               line_color=bar_colors[1],\n",
    "                               showlegend=True,\n",
    "                           visible='legendonly'),\n",
    "                              \n",
    "                      row=2, col=1)\n",
    "    \n",
    "fig.update_xaxes(title_text=\"%\", side='bottom', row=2, col=1)\n",
    "fig.update_yaxes(type='category', row=1, col=1)\n",
    "fig.update_yaxes(type='category', row=1, col=2)\n",
    "\n",
    "fig.update_layout(\n",
    "    title='Relative Electrical Autarky per Municipality (Energy Balance)')\n",
    "fig.show()"
   ]
  },
  {
   "cell_type": "markdown",
   "metadata": {},
   "source": [
    "# 4 Energy Mix"
   ]
  },
  {
   "cell_type": "markdown",
   "metadata": {},
   "source": [
    "INFO:\n",
    "- export == ins nationale Netz\n",
    "- ABW_... == intra_regional\n",
    "\n",
    "TODO:"
   ]
  },
  {
   "cell_type": "markdown",
   "metadata": {},
   "source": [
    "## 4.1 Balance"
   ]
  },
  {
   "cell_type": "code",
   "execution_count": null,
   "metadata": {},
   "outputs": [],
   "source": [
    "supply = results_scns[scenario]['flows_txaxt']['Stromerzeugung'].sum(level=1)\n",
    "abw_import = results_scns[scenario]['flows_txaxt']['Intra-regional exchange']['import'].sum(level=1)\n",
    "abw_import = abw_import.rename('ABW-import')\n",
    "supply = supply.join(abw_import)\n",
    "\n",
    "\n",
    "demand = results_scns[scenario]['flows_txaxt']['Stromnachfrage'].sum(level=1)\n",
    "abw_export = results_scns[scenario]['flows_txaxt']['Intra-regional exchange']['export'].sum(level=1)\n",
    "abw_export = abw_export.rename('ABW-export')\n",
    "demand = demand.join(abw_export)\n",
    "el_heating = results_scns[scenario]['flows_txaxt']['Stromnachfrage Wärme'].sum(level=2).sum(axis=1)\n",
    "demand = demand.join(el_heating.rename('el_heating'))\n",
    "    \n",
    "plot_snd_total(regions_scns[scenario], supply , demand)"
   ]
  },
  {
   "cell_type": "markdown",
   "metadata": {},
   "source": [
    "## 4.2 Time"
   ]
  },
  {
   "cell_type": "code",
   "execution_count": null,
   "metadata": {},
   "outputs": [],
   "source": [
    "plot_timeseries(results_scns[scenario], kind='el')#, ags='15091160')"
   ]
  },
  {
   "cell_type": "markdown",
   "metadata": {},
   "source": [
    "# 5 Emissions"
   ]
  },
  {
   "cell_type": "markdown",
   "metadata": {},
   "source": [
    "TODO\n",
    "- [ ] große Werte besonders schöne Farben\n",
    "- [ ] Notiz zur Zuordnung von KWK zu el etc"
   ]
  },
  {
   "cell_type": "code",
   "execution_count": null,
   "metadata": {
    "scrolled": false
   },
   "outputs": [],
   "source": [
    "df_data_left = results_scns[scenario]['results_t']['CO2 emissions th. total'].rename('th').to_frame()\n",
    "df_data_right = results_scns[scenario]['results_t']['CO2 emissions el. total'].rename('el').to_frame()\n",
    "\n",
    "# drop nans & zeros\n",
    "df_data_left = df_data_left[df_data_left!=0].dropna()\n",
    "df_data_right = df_data_right[df_data_right!=0].dropna()\n",
    "\n",
    "df_data = df_data_left.join(df_data_right, how='outer')\n",
    "df_data = df_data.fillna(0).T\n",
    "df_data = df_data.sort_values(by=list(df_data.index), axis=1, ascending=True)\n",
    "#df_rel = df_data.T / df_data.sum(axis=1).values\n",
    "\n",
    "fig = px.bar(df_data, orientation='h',\n",
    "             color_discrete_sequence=bar_colors,\n",
    "             text=df_data.sum(axis=1).to_list()\n",
    "            )\n",
    "\n",
    "\n",
    "fig.update_layout(barmode='stack',\n",
    "                  autosize=True,\n",
    "                  title='CO2 Emissions',\n",
    "                  legend={'traceorder':'reversed'},\n",
    "                 uniformtext_mode='hide')\n",
    "fig.update_traces(hovertemplate='CO2: %{x:.1f} t <br>Type: %{y}<br>Total: %{text:.1f} t') # \n",
    "fig.update_xaxes(title_text='t CO2')\n",
    "fig.update_yaxes(title_text='')\n",
    "fig.show()"
   ]
  },
  {
   "cell_type": "markdown",
   "metadata": {},
   "source": [
    "# 6 Costs"
   ]
  },
  {
   "cell_type": "markdown",
   "metadata": {},
   "source": [
    "## 6.1 LCOE and LCOH"
   ]
  },
  {
   "cell_type": "markdown",
   "metadata": {},
   "source": [
    "<div class=\"alert alert-block alert-info\">\n",
    "<b>Notes on LCOE calculation</b>\n",
    "\n",
    "- Total LCOE calculate as $LCOE=\\frac{expenses_{el.total}}{demand_{el.,total}}$, likewise total LCOH calculate as $LCOH=\\frac{expenses_{th.,total}}{demand_{th.,total}}$\n",
    "- Total expenses $expenses_{el.total}$ are annual expenses. Investment costs are discounted to one year using equivalent periodic costs\n",
    "- The plot below shows fractions of these LCOE that are calculated as $LCOE_{technology}=\\frac{expenses_{el.,technology}}{demand_{el.,total}}$ representation the share of each technology at total cost of one MWh\n",
    "</div>"
   ]
  },
  {
   "cell_type": "code",
   "execution_count": null,
   "metadata": {},
   "outputs": [],
   "source": [
    "values = ['LCOE','LCOH']\n",
    "\n",
    "df = pd.DataFrame([results_scns[scenario]['results_t'][i] for i in values], index=values)\n",
    "df = df.rename(columns=PRINT_NAMES)\n",
    "df = df.sort_values(by=values, axis=1, ascending=True)\n",
    "\n",
    "fig = px.bar(df, orientation='h',\n",
    "             title='LCOE and LCOH',\n",
    "            color_discrete_sequence=bar_colors,\n",
    "                text=df.sum(axis=1).to_list())\n",
    "\n",
    "fig.update_layout(barmode='stack', legend={'traceorder':'reversed'},\n",
    "                  uniformtext_mode='hide',\n",
    "                 )\n",
    "fig.update_traces(hovertemplate='Share: %{x:.1f}€ <br>Type: %{y}<br>Total: %{text:.1f}€'  ) # \n",
    "fig.update_xaxes(title_text='€/MWh')\n",
    "fig.update_yaxes(title_text='')\n",
    "fig.show()"
   ]
  },
  {
   "cell_type": "markdown",
   "metadata": {},
   "source": [
    "# 7 Power Grid\n",
    "## 7.1 Maximum Line Loading"
   ]
  },
  {
   "cell_type": "code",
   "execution_count": null,
   "metadata": {
    "scrolled": false
   },
   "outputs": [],
   "source": [
    "df_data = results_scns[scenario]['flows_txaxt']['Line loading'].max(level=1) * 100\n",
    "df_data = df_data.sort_index(ascending=False)\n",
    "df_data = pd.DataFrame().from_dict({'line loading': df_data,'free capacity': 60-df_data})\n",
    "\n",
    "index = [re.split(r'(\\d+)', s) for s in df_data.index]\n",
    "df_data.index = [f\"{start}{MUN_NAMES[int(ags)]}{end}\" for start,ags,end in index]\n",
    "\n",
    "fig = go.Figure() \n",
    "for i, (key, df) in enumerate(df_data.items()):\n",
    "\n",
    "    fig.add_bar(y=df.index,\n",
    "                x=df.values,\n",
    "                orientation='h',\n",
    "                name=key,\n",
    "                marker_color=bar_colors[4*i+2],\n",
    "                hovertemplate='%{x:.2f}%',\n",
    "                showlegend=False)\n",
    "\n",
    "fig.update_layout(barmode=\"relative\",\n",
    "    title='Maximum Line Loading',\n",
    "    yaxis_tickfont_size=12,\n",
    "    xaxis=dict(\n",
    "        title='Loading in %',\n",
    "        titlefont_size=16,\n",
    "        tickfont_size=12,\n",
    "    ))\n",
    "\n",
    "fig.update_yaxes(type='category')\n",
    "fig.update_layout(width=800, hovermode=\"y unified\")\n",
    "fig.show()\n"
   ]
  },
  {
   "cell_type": "markdown",
   "metadata": {},
   "source": [
    "## 7.2 Line Loading Distribution"
   ]
  },
  {
   "cell_type": "code",
   "execution_count": null,
   "metadata": {},
   "outputs": [],
   "source": [
    "df_data = results_scns[scenario]['flows_txaxt']['Line loading per bus']\n",
    "index = df_data.index.get_level_values(level=0)\n",
    "\n",
    "fig = go.Figure()\n",
    "# limit = 2\n",
    "# fig = make_subplots(rows=1, cols=2, horizontal_spacing=0.25)\n",
    "# for ags, data in df_data.iteritems():\n",
    "#     if data.describe().loc['mean'] > limit:\n",
    "\n",
    "fig.add_trace(go.Box(\n",
    "    y=df_data.values * 1e2,\n",
    "    x=index,\n",
    "    name='Increase',\n",
    "    marker_color=bar_color[5],\n",
    "    boxpoints=False,))\n",
    "\n",
    "fig.update_layout(\n",
    "    title='Line Loading',\n",
    "    yaxis_title='in %',\n",
    "    boxmode='group')\n",
    "\n",
    "fig.update_xaxes(type='category', tickangle=45)\n",
    "fig.show()"
   ]
  },
  {
   "cell_type": "markdown",
   "metadata": {},
   "source": [
    "## 7.3 Mean Line Loading"
   ]
  },
  {
   "cell_type": "code",
   "execution_count": null,
   "metadata": {
    "scrolled": false
   },
   "outputs": [],
   "source": [
    "df_data = results_scns[scenario]['flows_txaxt']['Line loading'].mean(level=['ags_from','ags_to'])\n",
    "df_data = df_data.sort_index(ascending=False)\n",
    "\n",
    "x = df_data.index.get_level_values(level='ags_from')\n",
    "x = [re.split(r'(\\d+)', s) for s in x]\n",
    "x = [f\"{start}{MUN_NAMES[int(ags)]}{end}\" for start,ags,end in x]\n",
    "\n",
    "y = df_data.index.get_level_values(level='ags_to')\n",
    "y = [re.split(r'(\\d+)', s) for s in y]\n",
    "y = [f\"{start}{MUN_NAMES[int(ags)]}{end}\" for start,ags,end in y]\n",
    "\n",
    "fig = go.Figure(go.Scatter(\n",
    "    x=x,\n",
    "    y=y,\n",
    "    mode='markers',\n",
    "    hovertemplate='-> %{y}<br>'+\n",
    "    'Mean Loading %{marker.size:.1f}%'+\n",
    "    '<extra></extra>',\n",
    "    marker=dict(\n",
    "        size=df_data.values * 1e2 ,\n",
    "        sizemode='diameter',\n",
    "        sizeref=2*df_data.max(),\n",
    "        sizemin=4,\n",
    "        #showscale=True,\n",
    "        color=-df_data.values,\n",
    "        colorscale=bar_color,),\n",
    "))\n",
    "fig.update_layout(title={\n",
    "        'text': 'Mean Line Loading in %',\n",
    "         'x':0.5},\n",
    "                  hovermode=\"x unified\")\n",
    "\n",
    "fig.update_xaxes(type='category', tickangle=45)\n",
    "fig.update_yaxes(type='category')\n",
    "fig.show()"
   ]
  },
  {
   "cell_type": "markdown",
   "metadata": {},
   "source": [
    "## 7.4 Mean Line Loading Heatmap"
   ]
  },
  {
   "cell_type": "code",
   "execution_count": null,
   "metadata": {},
   "outputs": [],
   "source": [
    "df_data = results_scns[scenario]['flows_txaxt']['Line loading'].mean(level=['ags_from','ags_to'])\n",
    "df_data = df_data.sort_index(ascending=False)\n",
    "\n",
    "hover_text = [ f'Mean loading:{int(i *1e2)}%<br>' for i in df_data.values]\n",
    "\n",
    "x = df_data.index.get_level_values(level='ags_from')\n",
    "x = [re.split(r'(\\d+)', s) for s in x]\n",
    "x = [f\"{start}{MUN_NAMES[int(ags)]}{end}\" for start,ags,end in x]\n",
    "\n",
    "y = df_data.index.get_level_values(level='ags_to')\n",
    "y = [re.split(r'(\\d+)', s) for s in y]\n",
    "y = [f\"{start}{MUN_NAMES[int(ags)]}{end}\" for start,ags,end in y]\n",
    "\n",
    "\n",
    "fig = go.Figure(go.Heatmap(\n",
    "    x=x,\n",
    "    y=y,\n",
    "    z=df_data.values * 1e2,\n",
    "    colorscale=bar_color,\n",
    "    colorbar=dict(title='%'),\n",
    "    hovertext=hover_text,\n",
    "    showscale=True,\n",
    "))\n",
    "fig.update_layout(title='Line Loading',\n",
    "                  hovermode=\"x unified\")\n",
    "fig.update_xaxes(type='category')\n",
    "fig.update_yaxes(type='category')\n",
    "fig.show()"
   ]
  },
  {
   "cell_type": "markdown",
   "metadata": {},
   "source": [
    "# 8 Flexibility"
   ]
  },
  {
   "cell_type": "markdown",
   "metadata": {},
   "source": [
    "- radar chart https://plotly.com/python/radar-chart/"
   ]
  },
  {
   "cell_type": "raw",
   "metadata": {},
   "source": [
    "results_scns[scenario]['results_t'].keys()"
   ]
  },
  {
   "cell_type": "raw",
   "metadata": {},
   "source": [
    "results_scns[scenario]['highlevel_results']"
   ]
  },
  {
   "cell_type": "markdown",
   "metadata": {},
   "source": [
    "## 8.1 Heatstorage"
   ]
  },
  {
   "cell_type": "markdown",
   "metadata": {},
   "source": [
    "<div class=\"alert alert-block alert-info\">\n",
    "<b>Notes on Heatstorage Charts</b>\n",
    "  \n",
    "- the relative values on the secondary axis only acount for the municipalities!\n",
    "    \n",
    "- To show the total cycles, only the discharge values are chosen as the difference are the storage losses and almost negligibly  \n",
    "\n",
    "</div>\n",
    "    "
   ]
  },
  {
   "cell_type": "code",
   "execution_count": null,
   "metadata": {},
   "outputs": [],
   "source": [
    "def get_timesteps(region):\n",
    "    timestamps = pd.date_range(start=region._cfg['date_from'],\n",
    "                               end=region._cfg['date_to'],\n",
    "                               freq=region._cfg['freq'])\n",
    "    steps = len(timestamps)\n",
    "    return steps"
   ]
  },
  {
   "cell_type": "raw",
   "metadata": {},
   "source": [
    "(capacity['stor_th_large'] / 10).values == (discharge['stor_th_large']).values"
   ]
  },
  {
   "cell_type": "raw",
   "metadata": {},
   "source": [
    "(discharge / capacity.values).fillna(0)"
   ]
  },
  {
   "cell_type": "code",
   "execution_count": null,
   "metadata": {},
   "outputs": [],
   "source": [
    "discharge = results_scns[scenario]['parameters']['Discharge power heat storage']\n",
    "discharge = discharge.rename(columns={'stor_th_large':'cen','stor_th_small':'dec'})\n",
    "\n",
    "capacity = results_scns[scenario]['parameters']['Installed capacity heat storage']\n",
    "\n",
    "nominal_power = results_scns[scenario]['results_axlxt']['Wärmespeicher nach Gemeinde']\n",
    "nominal_power = nominal_power.discharge.unstack().fillna(0).T\n",
    "nominal_power.index = nominal_power.index.astype(int)\n",
    "\n",
    "# total \n",
    "total_cycle = (discharge / capacity.values).fillna(0)\n",
    "\n",
    "# relative\n",
    "steps = get_timesteps(regions_scns[scenario])\n",
    "max_cycle = (1/2 * steps *  nominal_power) / capacity.values\n",
    "max_cycle = max_cycle.fillna(0)\n",
    "\n",
    "full_load_cycles = total_cycle / max_cycle\n",
    "full_load_cycles = full_load_cycles.fillna(0)"
   ]
  },
  {
   "cell_type": "raw",
   "metadata": {},
   "source": [
    "total_cycle.join(full_load_cycles*1e2, lsuffix='_total_cycle', rsuffix='_full_load_cycles')"
   ]
  },
  {
   "cell_type": "code",
   "execution_count": null,
   "metadata": {},
   "outputs": [],
   "source": [
    "fig = make_subplots(rows=1, cols=2,\n",
    "                    horizontal_spacing=0.05,\n",
    "                    vertical_spacing=0.4,\n",
    "                    column_widths=[0.2, 0.8],\n",
    "                    subplot_titles=(\"Central\", \"Decentral\"),\n",
    "                   specs=[[{\"secondary_y\": True}, {\"secondary_y\": True}]])\n",
    "\n",
    "for i, (key, df) in enumerate(flex_ratios_heat.groupby(level=0)):\n",
    "    \n",
    "    df_data = df.loc[(key, slice(None))]\n",
    "    df_data.index = df_data.index.astype(int)\n",
    "    df_data = df_data.rename(index=MUN_NAMES)\n",
    "    \n",
    "    # --- total ---\n",
    "    fig.add_trace(\n",
    "        go.Bar(y=df_data['total_cycles'], x=df_data.index,\n",
    "               orientation='v',\n",
    "               name='municipalities',\n",
    "               legendgroup=\"muns\",\n",
    "               marker_color='rgb(107,174,214)',\n",
    "              showlegend=bool(i),\n",
    "              hovertemplate = 'total cycles: %{y:.2f} times<extra></extra>',),\n",
    "        row=1, col=i+1, secondary_y=False)\n",
    "\n",
    "    # --- relative ---\n",
    "    fig.add_trace(\n",
    "        go.Bar(y=df_data['relative_cycles'] *1e2, x=df_data.index,\n",
    "               orientation='v',\n",
    "               name='relative',\n",
    "               legendgroup=\"muns\",\n",
    "               marker_color='rgb(107,174,214)',\n",
    "               opacity=0.5,\n",
    "               showlegend=False,\n",
    "              hovertemplate = 'relative cycles: %{y:.2f} %<extra></extra>'),\n",
    "        row=1, col=i+1, secondary_y=True)\n",
    "\n",
    "    # --- ABW ---\n",
    "    fig.add_trace(\n",
    "        go.Bar(y=[df_data['total_cycles'].sum()], x=['ABW'],\n",
    "               orientation='v',\n",
    "               name='ABW',\n",
    "               legendgroup=\"ABW\",\n",
    "               marker_color='rgb(8,81,156)',\n",
    "               showlegend=bool(i),\n",
    "               visible='legendonly',\n",
    "              hovertemplate = 'total cycles: %{y:.2f} times<extra></extra>'),\n",
    "        row=1, col=i+1, secondary_y=False)\n",
    "    \n",
    "    fig.add_trace(\n",
    "        go.Bar(y=[df_data['relative_cycles'].mean() *1e2], x=['ABW'],\n",
    "               orientation='v',\n",
    "               name='Mean',\n",
    "               legendgroup=\"ABW\",\n",
    "               marker_color='rgb(9,56,125)',\n",
    "               showlegend=False,\n",
    "               visible='legendonly',\n",
    "              hovertemplate = 'mean relative cycles: %{y:.2f} %<extra></extra>'),\n",
    "        row=1, col=i+1, secondary_y=True)  \n",
    "    \n",
    "\n",
    "# === Layout ===\n",
    "\n",
    "fig.update_layout(title='Heat storage charge-cycles',\n",
    "                    autosize=True,\n",
    "                   hovermode=\"x unified\",\n",
    "                  legend=dict(orientation=\"h\",\n",
    "                                yanchor=\"bottom\",\n",
    "                                y=1.05,\n",
    "                                xanchor=\"right\",\n",
    "                                x=1))\n",
    "fig.update_yaxes(title_text=\"total\", row=1, col=1, anchor=\"x\", secondary_y=False)\n",
    "fig.update_yaxes(title_text=\"relative\", row=1, col=2, anchor=\"x2\", secondary_y=True)\n",
    "fig.update_xaxes(type='category', tickangle=45)\n",
    "fig.show()"
   ]
  },
  {
   "cell_type": "markdown",
   "metadata": {},
   "source": [
    "### TODO\n",
    "- gesamtregion? als scalare Tabelle. Wie genau soll das gehen?\n",
    "\n",
    "    - total cycle decentral, central sum()\n",
    "    - relativ auf theoretisch mögliche cycles: 1/2  * 8760 / (nom_cap / nom_discharge_power)\n",
    "    \n",
    "- Tabelle Ausdrucken Plotly tables?"
   ]
  },
  {
   "cell_type": "markdown",
   "metadata": {},
   "source": [
    "### total ABW"
   ]
  },
  {
   "cell_type": "raw",
   "metadata": {},
   "source": [
    "discharge = results_scns[scenario]['results_axlxt']['Wärmespeicher nach Gemeinde']['discharge']\n",
    "capacity = results_scns[scenario]['parameters']['Installed capacity heat storage']"
   ]
  },
  {
   "cell_type": "raw",
   "metadata": {},
   "source": [
    "capacity.sum()\n",
    "#discharge.sum()"
   ]
  },
  {
   "cell_type": "raw",
   "metadata": {},
   "source": [
    "fig = go.Figure()\n",
    "fig.add_trace(\n",
    "    go.Bar(y=df_data['relative_cycles'] *1e2, x=df_data.index,\n",
    "           orientation='v',\n",
    "           #name='relative',\n",
    "           legendgroup=\"muns\",\n",
    "           marker_color='rgb(107,174,214)',\n",
    "           showlegend=False,),\n",
    "    row=1, col=1, secondary_y=True)"
   ]
  },
  {
   "cell_type": "markdown",
   "metadata": {},
   "source": [
    "## 8.2 Batterystorage"
   ]
  },
  {
   "cell_type": "markdown",
   "metadata": {},
   "source": [
    "## TODO\n",
    "- add large/small\n",
    "- auf Kapazität beziehen: total cycles\n",
    "- nominale Entladeleistung: VLS\n",
    "- mit NEP testen. was passiert wenn kein small vorhanden?!"
   ]
  },
  {
   "cell_type": "markdown",
   "metadata": {},
   "source": [
    "Fragen:\n",
    "- warum discharge small/large\n",
    "- capacity nicht?\n",
    "Problem:\n",
    "- "
   ]
  },
  {
   "cell_type": "raw",
   "metadata": {},
   "source": [
    "list(discharge.groupby(level=0).groups)"
   ]
  },
  {
   "cell_type": "raw",
   "metadata": {},
   "source": [
    "results_scns[scenario]['results_axlxt']['Batteriespeicher nach Gemeinde']"
   ]
  },
  {
   "cell_type": "markdown",
   "metadata": {},
   "source": [
    "## break"
   ]
  },
  {
   "cell_type": "code",
   "execution_count": null,
   "metadata": {},
   "outputs": [],
   "source": [
    "discharge = results_scns[scenario]['results_axlxt']['Batteriespeicher nach Gemeinde']['discharge']\n",
    "capacity = results_scns[scenario]['parameters']['Installierte Kapazität Großbatterien']\n",
    "\n",
    "flex_ratios_bat = pd.DataFrame(index=discharge.index)\n",
    "\n",
    "total_cycle_small = discharge.small / capacity.loc[discharge.small.index.astype(int), 'capacity'].values\n",
    "total_cycle_large = discharge.large / capacity.loc[discharge.large.index.astype(int), 'capacity'].values\n",
    "\n",
    "flh_small = discharge.small / capacity.loc[discharge.small.index.astype(int), 'power_discharge'].values \n",
    "flh_large = discharge.large / capacity.loc[discharge.large.index.astype(int), 'power_discharge'].values \n",
    "\n",
    "\n",
    "flex_ratios_bat.loc[('small', slice(None)), 'total_cycles'] = total_cycle_small.values\n",
    "flex_ratios_bat.loc[('large', slice(None)), 'total_cycles'] = total_cycle_large.values\n",
    "flex_ratios_bat.loc[('small', slice(None)), 'FLC'] = flh_small.values\n",
    "flex_ratios_bat.loc[('large', slice(None)), 'FLC'] = flh_large.values\n",
    "\n",
    "# relative\n",
    "steps = get_timesteps(regions_scns[scenario])\n",
    "max_cycle_small = (1/2 * steps *  capacity.loc[discharge.small.index.astype(int), 'power_discharge']) \\\n",
    "/ capacity.loc[discharge.small.index.astype(int), 'capacity']\n",
    "\n",
    "max_cycle_large = (1/2 * steps *  capacity.loc[discharge.large.index.astype(int), 'power_discharge']) \\\n",
    "/ capacity.loc[discharge.large.index.astype(int), 'capacity']\n",
    "                                                                \n",
    "flex_ratios_bat.loc[('small', slice(None)), 'relative_cycles'] = total_cycle_small.values / max_cycle_small.values\n",
    "flex_ratios_bat.loc[('large', slice(None)), 'relative_cycles'] = total_cycle_large.values / max_cycle_large.values\n"
   ]
  },
  {
   "cell_type": "markdown",
   "metadata": {},
   "source": [
    "### 8.2.1 Cycles"
   ]
  },
  {
   "cell_type": "code",
   "execution_count": null,
   "metadata": {},
   "outputs": [],
   "source": [
    "fig = make_subplots(rows=1, cols=2,\n",
    "                     horizontal_spacing=0.1,\n",
    "                    vertical_spacing=0.4,\n",
    "                    column_widths=[0.5, 0.5],\n",
    "                    subplot_titles=(\"small\", \"large\"),\n",
    "                   specs=[[{\"secondary_y\": True}, {\"secondary_y\": True}]])\n",
    "\n",
    "\n",
    "for i, (key, df) in enumerate(flex_ratios_bat.groupby(level=0)):\n",
    "    \n",
    "    df_data = df.loc[(key, slice(None))]\n",
    "    df_data = df_data.loc[(df_data != 0).any(axis=1)]\n",
    "    df_data.index = df_data.index.astype(int)\n",
    "    df_data = df_data.rename(index=MUN_NAMES)\n",
    "    \n",
    "    # --- total ---\n",
    "    fig.add_trace(\n",
    "        go.Bar(y=df_data['total_cycles'], x=df_data.index,\n",
    "               orientation='v',\n",
    "               name='total',\n",
    "               marker_color='rgb(107,174,214)',\n",
    "               showlegend=bool(i),\n",
    "               legendgroup=\"total\",\n",
    "              hovertemplate = 'Total Cycles: %{y:.2f} times<extra></extra>'),\n",
    "        row=1, col=i+1, secondary_y=False)\n",
    "    \n",
    "    # --- FLH ---\n",
    "    fig.add_trace(\n",
    "        go.Bar(y=df_data['FLC'], x=df_data.index,\n",
    "               orientation='v',\n",
    "               name='FLC',\n",
    "               marker_color='rgb(9,56,125)',\n",
    "               #opacity=0.5,\n",
    "               showlegend=bool(i),\n",
    "               legendgroup=\"FLH\",\n",
    "               #visible='legendonly',\n",
    "              hovertemplate = 'Full Load Cycles: %{y:.2f} times<extra></extra>'),\n",
    "        row=1, col=i+1, secondary_y=False)\n",
    "    \n",
    "    # --- relative ---\n",
    "    fig.add_trace(\n",
    "        go.Bar(y=df_data['relative_cycles'] * 1e2, x=df_data.index,\n",
    "               orientation='v',\n",
    "               name='relative',\n",
    "               marker_color='rgb(107,174,214)',\n",
    "               opacity=0.5,\n",
    "               showlegend=bool(i),\n",
    "               legendgroup=\"relative\",\n",
    "              hovertemplate = 'Relative Cycles: %{y:.2f} %<extra></extra>'),\n",
    "        row=1, col=i+1, secondary_y=True)\n",
    "\n",
    "fig.update_layout(title='Battery storage charge cycles ',\n",
    "                  legend={'traceorder':'grouped'},\n",
    "                 hovermode=\"x unified\")\n",
    "\n",
    "fig.update_yaxes(title_text=\"total cycles\", row=1, col=1, anchor=\"x\", secondary_y=False)\n",
    "fig.update_yaxes(title_text=\"relative capacity in %?\", row=1, col=2, anchor=\"x2\", secondary_y=True)\n",
    "fig.update_xaxes(type='category', tickangle=45)\n",
    "fig.show()"
   ]
  },
  {
   "cell_type": "markdown",
   "metadata": {},
   "source": [
    "### 8.2.2 Timeseries"
   ]
  },
  {
   "cell_type": "code",
   "execution_count": null,
   "metadata": {},
   "outputs": [],
   "source": [
    "# timeseries\n",
    "df_data = results_scns[scenario]['flows_txaxt']['Batteriespeicher'].sum(level=0)\n",
    "# only get nonzero values\n",
    "df_data = df_data.loc[(df_data != 0).any(axis=1)]\n",
    "\n",
    "fig = go.Figure()\n",
    "\n",
    "# Add traces\n",
    "fig.add_trace(go.Scatter(x=df_data.index, y=df_data['discharge'],\n",
    "                    mode='markers',\n",
    "                    name='discharge'))\n",
    "fig.add_trace(go.Scatter(x=df_data.index, y=df_data['charge'],\n",
    "                     mode='markers',\n",
    "                     name='charge'))\n",
    "# fig.add_trace(go.Scatter(x=random_x, y=random_y2,\n",
    "#                     mode='lines',\n",
    "#                     name='lines'))\n",
    "fig.update_layout(title='Battery Charge/Discharge')\n",
    "fig.update_yaxes(title_text='?')\n",
    "fig.show()"
   ]
  },
  {
   "cell_type": "markdown",
   "metadata": {},
   "source": [
    "- in relation zu anderen Werten\n",
    "- scatter: Wind+PV zu Batt-charge\n",
    "- mit Jahr ausprobieren"
   ]
  },
  {
   "cell_type": "markdown",
   "metadata": {},
   "source": [
    "## 8.3 DSM"
   ]
  },
  {
   "cell_type": "markdown",
   "metadata": {},
   "source": [
    "- bubblemap\n",
    "    - größe activation\n",
    "    - x RE, Line Loadings, Battery Storage\n",
    "    - y auch"
   ]
  },
  {
   "cell_type": "markdown",
   "metadata": {},
   "source": [
    "- Bezug auf hh-demand-mit-dsm beziehen?\n",
    "    - auf total\n",
    "    - auf hh-demand\n",
    "- absolute dsm activation\n",
    "- pro AGS\n",
    "\n",
    "- outliers durch linie erstzen"
   ]
  },
  {
   "cell_type": "markdown",
   "metadata": {},
   "source": [
    "### 8.3.1 Activation"
   ]
  },
  {
   "cell_type": "code",
   "execution_count": null,
   "metadata": {},
   "outputs": [],
   "source": [
    "df_data = results_scns[scenario]['flows_txaxt']['DSM activation']\n",
    "\n",
    "x = df_data.index.get_level_values(level=1)\n",
    "x = pd.Series(x.astype(int).values).map(MUN_NAMES).values\n",
    "\n",
    "fig = go.Figure()\n",
    "\n",
    "fig.add_trace(go.Box(\n",
    "    y=df_data['Demand increase'].values,\n",
    "    x=x,\n",
    "    name='Increase',\n",
    "    marker_color='#3D9970',\n",
    "    boxpoints=False,\n",
    "\n",
    "))\n",
    "fig.add_trace(go.Box(\n",
    "    y=df_data['Demand decrease'].values,\n",
    "    x=x,\n",
    "    name='Decrease',\n",
    "    marker_color='#FF4136',\n",
    "    boxpoints=False,\n",
    "\n",
    "))\n",
    "\n",
    "fig.update_layout(\n",
    "    yaxis_title='DSM activation in MWh',\n",
    "    boxmode='group'\n",
    ")\n",
    "\n",
    "fig.update_xaxes(type='category', tickangle=45)a\n",
    "fig.show()\n"
   ]
  },
  {
   "cell_type": "markdown",
   "metadata": {},
   "source": [
    "### 8.3.2 DSM Total Sum"
   ]
  },
  {
   "cell_type": "markdown",
   "metadata": {},
   "source": [
    "- barplot Summe/hh_demand"
   ]
  },
  {
   "cell_type": "markdown",
   "metadata": {},
   "source": [
    "### 8.3.3 DSM Timeseries"
   ]
  },
  {
   "cell_type": "code",
   "execution_count": null,
   "metadata": {},
   "outputs": [],
   "source": [
    "ags = '15091060'\n",
    "ags = str(ags)\n",
    "\n",
    "df_data = results_scns[scenario]['flows_txaxt']['DSM activation']\n",
    "\n",
    "\n",
    "if ags== 'ABW':\n",
    "    df_data = df_data.sum(level='timestamp')\n",
    "else:\n",
    "    df_data = df_data.loc[(slice(None),ags),:].sum(level=0)\n",
    "\n",
    "\n",
    "fig = go.Figure()\n",
    "\n",
    "fig.add_trace(go.Scatter(x=df_data.index,\n",
    "                             y=df_data['Demand increase'].values,\n",
    "                             name='Demand increase',\n",
    "                         mode='lines',\n",
    "                             #fill='tonexty',\n",
    "                             #mode='none',\n",
    "                             #fillcolor=COLORS[tech],\n",
    "                            #stackgroup='one'\n",
    "                        ))\n",
    "\n",
    "\n",
    "fig.add_trace(go.Scatter(x=df_data.index,\n",
    "                             y=df_data['Demand decrease'],\n",
    "                             name='Demand decrease',\n",
    "                         mode='lines',\n",
    "                             #fill='tonexty',\n",
    "                             #mode='none',\n",
    "                             #fillcolor=COLORS[tech],\n",
    "                            #stackgroup='two'\n",
    "                        ))\n",
    "\n",
    "\n",
    "fig.update_xaxes(\n",
    "    title='Zoom',\n",
    "    rangeslider_visible=True,\n",
    "    rangeselector=dict(\n",
    "        buttons=list([\n",
    "            dict(count=6, label=\"6m\", step=\"month\", stepmode=\"backward\"),\n",
    "            dict(count=1, label=\"1m\", step=\"month\", stepmode=\"backward\"),\n",
    "            dict(count=14, label=\"2w\", step=\"day\", stepmode=\"backward\"),\n",
    "            dict(count=7, label=\"1w\", step=\"day\", stepmode=\"backward\"),\n",
    "            dict(count=3, label=\"3d\", step=\"day\", stepmode=\"backward\"),\n",
    "            #dict(step=\"all\")\n",
    "        ])\n",
    "    )\n",
    ")\n",
    "\n",
    "fig.update_layout(\n",
    "    title='Demand Side Management of %s'% ags,\n",
    "    height = 700,\n",
    "    #xaxis={'categoryorder':'category ascending'},\n",
    "    xaxis_tickfont_size=14,\n",
    "    yaxis=dict(\n",
    "        title='MW',\n",
    "        titlefont_size=16,\n",
    "        tickfont_size=14),\n",
    "    autosize=True,\n",
    "    )\n",
    "fig.show()\n"
   ]
  },
  {
   "cell_type": "markdown",
   "metadata": {},
   "source": [
    "- hh demand zusätzlich"
   ]
  },
  {
   "cell_type": "markdown",
   "metadata": {},
   "source": [
    "# 9 Energy Exchange"
   ]
  },
  {
   "cell_type": "markdown",
   "metadata": {},
   "source": [
    "## 9.1 Supply/Demand"
   ]
  },
  {
   "cell_type": "code",
   "execution_count": null,
   "metadata": {},
   "outputs": [],
   "source": [
    "df_data = results_scns[scenario]['results_axlxt']['Intra-regional exchange']\n",
    "df_data = df_data.rename(index=MUN_NAMES)\n",
    "\n",
    "fig = go.Figure()\n",
    "# fig.add_trace(go.Bar(x=df_data.index, y=df_data['export'].values ,\n",
    "#                 base=df_data['export'].values * -1,\n",
    "#                 marker_color='crimson',\n",
    "#                 name='export'))\n",
    "\n",
    "fig.add_trace(go.Bar(x=df_data.index, y=df_data['export'].values, \n",
    "                base=0,\n",
    "                marker_color='crimson',\n",
    "                name='export'\n",
    "                ))\n",
    "\n",
    "\n",
    "fig.add_trace(go.Bar(x=df_data.index, y=df_data['import'].values, \n",
    "                base=0,\n",
    "                marker_color='lightslategrey',\n",
    "                name='import'\n",
    "                ))\n",
    "fig.update_xaxes(type='category', tickangle=45)\n",
    "fig.show()"
   ]
  },
  {
   "cell_type": "markdown",
   "metadata": {},
   "source": [
    "## 9.2 AGS Exchange Bubbleplot"
   ]
  },
  {
   "cell_type": "code",
   "execution_count": null,
   "metadata": {},
   "outputs": [],
   "source": [
    "df_data = results_scns[scenario]['results_axlxt']['Stromnetzleitungen']\n",
    "\n",
    "# swap index of negative values\n",
    "invert = df_data.loc[df_data['in']<0]\n",
    "invert.index = invert.index.swaplevel()\n",
    "invert.index.names = (['ags_from', 'ags_to'])\n",
    "df_data = df_data.loc[df_data['in']>0].append(invert * -1)\n",
    "\n",
    "df_data = df_data['out']\n",
    "df_data = df_data.sort_index()\n",
    "\n",
    "hover_text = [f' From: {MUN_NAMES[int(ags_from)]} <br> \\\n",
    "To:{MUN_NAMES[int(ags_to)]} <br> \\\n",
    "Energy: {int(value)} MWh' for (ags_from, ags_to), value in df_data.items()]\n",
    "\n",
    "x = df_data.index.get_level_values(level='ags_from')\n",
    "x = pd.Series(x.astype(int).values).map(MUN_NAMES).values\n",
    "\n",
    "y = df_data.index.get_level_values(level='ags_to')\n",
    "y = pd.Series(y.astype(int).values).map(MUN_NAMES).values\n",
    "\n",
    "fig = go.Figure()\n",
    "\n",
    "fig.add_trace(go.Scatter(\n",
    "    x=x,\n",
    "    y=y,\n",
    "    mode='markers',\n",
    "    text= hover_text,\n",
    "    showlegend=False, \n",
    "    marker=dict(\n",
    "        size=df_data.values ,\n",
    "        sizemode='diameter',\n",
    "        sizeref=2.*df_data.max()/(13**2),\n",
    "        sizemin=4,\n",
    "        showscale=True,\n",
    "        color=df_data.values,\n",
    "        colorscale='viridis'\n",
    "\n",
    "    ),\n",
    "    \n",
    "))\n",
    "\n",
    "fig.add_trace(go.Scatter(\n",
    "    x=x,\n",
    "    y=y,\n",
    "    mode='markers',\n",
    "    #text=False,# hover_text,\n",
    "    fillcolor='red',\n",
    "    showlegend=False,\n",
    "\n",
    "))\n",
    "\n",
    "\n",
    "fig.update_layout(title='Intra Regional Energy Exchange')#, xaxis_showgrid=True, yaxis_showgrid=True)\n",
    "fig.update_xaxes(type='category')\n",
    "fig.update_yaxes(type='category')\n",
    "fig.show()"
   ]
  },
  {
   "cell_type": "markdown",
   "metadata": {},
   "source": [
    "## 9.3 Heatmap"
   ]
  },
  {
   "cell_type": "code",
   "execution_count": null,
   "metadata": {},
   "outputs": [],
   "source": [
    "df_data = results_scns[scenario]['results_axlxt']['Stromnetzleitungen']\n",
    "\n",
    "# swap index of negative values\n",
    "invert = df_data.loc[df_data['in']<0]\n",
    "invert.index = invert.index.swaplevel()\n",
    "invert.index.names = (['ags_from', 'ags_to'])\n",
    "df_data = df_data.loc[df_data['in']>0].append(invert * -1)\n",
    "\n",
    "df_data = df_data['out']\n",
    "df_data = df_data.sort_index()\n",
    "\n",
    "\n",
    "hover_text = [f' From: {MUN_NAMES[int(ags_from)]} <br> \\\n",
    "To:{MUN_NAMES[int(ags_to)]} <br> \\\n",
    "Energy: {int(value)} kWh' for (ags_from, ags_to), value in df_data.items()]\n",
    "\n",
    "x = df_data.index.get_level_values(level='ags_from')\n",
    "x = pd.Series(x.astype(int).values).map(MUN_NAMES).values\n",
    "\n",
    "y = df_data.index.get_level_values(level='ags_to')\n",
    "y = pd.Series(y.astype(int).values).map(MUN_NAMES).values\n",
    "\n",
    "fig = go.Figure(go.Heatmap(\n",
    "    x=x,\n",
    "    y=y,\n",
    "    z=df_data.values,\n",
    "    colorscale='Viridis',\n",
    "    hoverongaps = True\n",
    "#     mode='markers',\n",
    "#     text= hover_text,\n",
    "#     marker=dict(\n",
    "#         size=df_data.values ,\n",
    "#         sizemode='diameter',\n",
    "#          sizeref=2.*df_data.max()/12**2,\n",
    "#         sizemin=4\n",
    "#     )\n",
    "))\n",
    "fig.update_layout(title='Intra Regional Energy Exchange')\n",
    "fig.update_xaxes(type='category')\n",
    "fig.update_yaxes(type='category')\n",
    "fig.show()"
   ]
  },
  {
   "cell_type": "markdown",
   "metadata": {},
   "source": [
    "## 9.4 Energy Flows"
   ]
  },
  {
   "cell_type": "code",
   "execution_count": null,
   "metadata": {},
   "outputs": [],
   "source": [
    "df_data = results_scns[scenario]['results_axlxt']['Stromnetzleitungen']\n",
    "invert = df_data.loc[df_data['in']<0]\n",
    "invert.index = invert.index.swaplevel()\n",
    "invert.index.names = (['ags_from', 'ags_to'])\n",
    "df_data = df_data.loc[df_data['in']>0].append(invert * -1)\n",
    "\n",
    "\n",
    "converter = dict(zip(MUN_NAMES.keys(), range(20)))\n",
    "\n",
    "source = [converter[int(i)] for i in df_data['out'].index.get_level_values(level='ags_from')]\n",
    "target = [converter[int(i)] for i in df_data['out'].index.get_level_values(level='ags_to')]"
   ]
  },
  {
   "cell_type": "code",
   "execution_count": null,
   "metadata": {},
   "outputs": [],
   "source": [
    "fig = go.Figure(data=[go.Sankey(\n",
    "    node = dict(\n",
    "      pad = 15,\n",
    "      thickness = 20,\n",
    "      line = dict(color = \"black\", width = 0.5),\n",
    "      label = [MUN_NAMES[i] for i in list(converter)],\n",
    "#       customdata = [\"Long name A1\", \"Long name A2\", \"Long name A3\", \"Long name B1\",\n",
    "#                     \"Long name B2\", \"Long name B3\"],\n",
    "        \n",
    "#       hovertemplate='Node %{customdata} has total value %{value}<extra></extra>',  \n",
    "      color = \"blue\"\n",
    "    ),\n",
    "    link = dict(\n",
    "      source = source, # indices correspond to labels, eg A1, A2, A2, B1, ...\n",
    "      target = target,\n",
    "      value =df_data['out'].values,\n",
    "#         color = ['green', 'yellow', 'black', 'red', 'violet', 'white'],\n",
    "#       customdata = [\"q\",\"r\",\"s\",\"t\",\"u\",\"v\"],\n",
    "        \n",
    "#       hovertemplate='Link from node %{source.customdata}<br />'+\n",
    "#         'to node%{target.customdata}<br />has value %{value}'+\n",
    "#         '<br />and data %{customdata}<extra></extra>',  \n",
    "  ))])\n",
    "\n",
    "fig.update_layout(title_text=\"Energy Flows\", font_size=12)\n",
    "fig.show()"
   ]
  },
  {
   "cell_type": "markdown",
   "metadata": {},
   "source": [
    "## 9.5 Chord diagram"
   ]
  },
  {
   "cell_type": "code",
   "execution_count": null,
   "metadata": {},
   "outputs": [],
   "source": [
    "import pandas as pd\n",
    "import holoviews as hv\n",
    "from holoviews import opts, dim"
   ]
  },
  {
   "cell_type": "code",
   "execution_count": null,
   "metadata": {},
   "outputs": [],
   "source": [
    "df_data = results_scns[scenario]['results_axlxt']['Stromnetzleitungen']\n",
    "invert = df_data.loc[df_data['in']<0]\n",
    "invert.index = invert.index.swaplevel()\n",
    "invert.index.names = (['ags_from', 'ags_to'])\n",
    "df_data = df_data.loc[df_data['in']>0].append(invert * -1)\n",
    "\n",
    "converter = dict(zip(MUN_NAMES.keys(), range(20)))\n",
    "\n",
    "source = [converter[int(i)] for i in df_data['out'].index.get_level_values(level='ags_from')]\n",
    "target = [converter[int(i)] for i in df_data['out'].index.get_level_values(level='ags_to')]\n",
    "chord_links = pd.DataFrame()\n",
    "chord_links['source'] = source\n",
    "chord_links['target'] = target\n",
    "chord_links['value'] = df_data['out'].values\n",
    "\n",
    "#names = pd.Series([MUN_NAMES[i] for i in list(converter)]).rename('name')\n",
    "names = pd.Series(list(MUN_NAMES.values())).rename('name')\n",
    "chord_nodes = hv.Dataset( names, 'index')"
   ]
  },
  {
   "cell_type": "code",
   "execution_count": null,
   "metadata": {},
   "outputs": [],
   "source": [
    "chord = hv.Chord((chord_links, chord_nodes)).select(value=(20, None))\n",
    "chord.opts(\n",
    "    opts.Chord(cmap='Category20', edge_cmap='Category20', edge_color=dim('source').str(), label_index='names',\n",
    "               #labels='name', # somehow doesnt work\n",
    "               node_color=dim('index').str()))"
   ]
  }
 ],
 "metadata": {
  "kernelspec": {
   "display_name": "Python [conda env:windnode-abw]",
   "language": "python",
   "name": "conda-env-windnode-abw-py"
  },
  "language_info": {
   "codemirror_mode": {
    "name": "ipython",
    "version": 3
   },
   "file_extension": ".py",
   "mimetype": "text/x-python",
   "name": "python",
   "nbconvert_exporter": "python",
   "pygments_lexer": "ipython3",
   "version": "3.7.7"
  }
 },
 "nbformat": 4,
 "nbformat_minor": 4
}
