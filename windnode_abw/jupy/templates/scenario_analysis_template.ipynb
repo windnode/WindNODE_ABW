{
 "cells": [
  {
   "cell_type": "markdown",
   "metadata": {},
   "source": [
    "# WINDNODE ABW - Scenario Analysis\n",
    "\n",
    "<img src=\"http://reiner-lemoine-institut.de//wp-content/uploads/2015/09/rlilogo.png\" width=\"100\" style=\"float: right\">\n",
    "\n",
    "__copyright__ \t= \"© Reiner Lemoine Institut\" <br>\n",
    "__license__ \t= \"GNU Affero General Public License Version 3 (AGPL-3.0)\" <br>\n",
    "__url__ \t\t= \"https://www.gnu.org/licenses/agpl-3.0.en.html\" <br>\n",
    "__author__ \t\t= \"Julian Endres\" <br>"
   ]
  },
  {
   "cell_type": "code",
   "execution_count": null,
   "metadata": {},
   "outputs": [],
   "source": [
    "%load_ext autoreload\n",
    "%autoreload 2"
   ]
  },
  {
   "cell_type": "code",
   "execution_count": null,
   "metadata": {},
   "outputs": [],
   "source": [
    "######## WINDNODE ###########\n",
    "# define and setup logger\n",
    "from windnode_abw.tools.logger import setup_logger\n",
    "logger = setup_logger()\n",
    "\n",
    "# load configs\n",
    "from windnode_abw.tools import config\n",
    "config.load_config('config_data.cfg')\n",
    "config.load_config('config_misc.cfg')\n",
    "\n",
    "from windnode_abw.analysis import analysis\n",
    "from windnode_abw.tools.draw import *\n",
    "\n",
    "######## DATA ###########\n",
    "\n",
    "import re\n",
    "import pandas as pd\n",
    "\n",
    "######## Plotting ###########\n",
    "\n",
    "# Plotting\n",
    "import matplotlib.pyplot as plt\n",
    "from mpl_toolkits.axes_grid1 import make_axes_locatable\n",
    "from matplotlib.ticker import ScalarFormatter\n",
    "import seaborn as sns\n",
    "# set seaborn style\n",
    "sns.set()\n",
    "\n",
    "import plotly.express as px\n",
    "import plotly.graph_objs as go\n",
    "from plotly.subplots import make_subplots\n",
    "#import plotly.offline as pltly\n",
    "#import plotly.io as pio"
   ]
  },
  {
   "cell_type": "code",
   "execution_count": null,
   "metadata": {
    "tags": [
     "parameters"
    ]
   },
   "outputs": [],
   "source": [
    "# specify what to import (in path ~/.windnode_abw/)\n",
    "run_timestamp = '2020-07-24_104145_1month'\n",
    "scenario = 'NEP2035'"
   ]
  },
  {
   "cell_type": "code",
   "execution_count": null,
   "metadata": {},
   "outputs": [],
   "source": [
    "# obtain processed results\n",
    "regions_scns, results_scns = analysis(run_timestamp=run_timestamp,\n",
    "                                      scenarios=[scenario])"
   ]
  },
  {
   "cell_type": "markdown",
   "metadata": {},
   "source": [
    "# TODO\n",
    "- [ ] parallelize analysis\n",
    "- [ ] save / pickle results"
   ]
  },
  {
   "cell_type": "markdown",
   "metadata": {},
   "source": [
    "### useful params"
   ]
  },
  {
   "cell_type": "code",
   "execution_count": null,
   "metadata": {},
   "outputs": [],
   "source": [
    "MUN_NAMES = regions_scns[scenario].muns.gen.to_dict()\n",
    "bar_colors = px.colors.sequential.GnBu_r\n",
    "UNITS = {\"relative\": \"%\", \"hours\": \"h\",}"
   ]
  },
  {
   "cell_type": "code",
   "execution_count": null,
   "metadata": {},
   "outputs": [],
   "source": []
  },
  {
   "cell_type": "markdown",
   "metadata": {},
   "source": [
    "# 1 Demand and Generation (Input Data)"
   ]
  },
  {
   "cell_type": "markdown",
   "metadata": {},
   "source": [
    "## 1.1 Installed Electrical Capacities"
   ]
  },
  {
   "cell_type": "code",
   "execution_count": null,
   "metadata": {},
   "outputs": [],
   "source": [
    "df_data = results_scns[scenario]['parameters']['Installed capacity electricity supply']\n",
    "df_data = df_data.rename(columns=PRINT_NAMES)\n",
    "\n",
    "fig, axes = plt.subplots(3,3, figsize=(12,10))\n",
    "for ax, (key, data) in  zip(axes.flat, df_data.iteritems()):\n",
    "    plot_geoplot(key, data, regions_scns[scenario], ax=ax, unit='MW')\n",
    "    \n",
    "fig.suptitle('Installed el. Generation Capacity',\n",
    "     fontsize=16,\n",
    "     fontweight='normal')\n",
    "plt.tight_layout()\n",
    "plt.show()"
   ]
  },
  {
   "cell_type": "markdown",
   "metadata": {},
   "source": [
    "## 1.2 Electrical Demand"
   ]
  },
  {
   "cell_type": "code",
   "execution_count": null,
   "metadata": {},
   "outputs": [],
   "source": [
    "df_data = results_scns[scenario]['flows_txaxt']['Stromnachfrage'].sum(level=1)\n",
    "df_data = df_data.drop(columns='export')\n",
    "df_data.index = df_data.index.astype(int)\n",
    "df_data = df_data.rename(columns=PRINT_NAMES)\n",
    "df_data = df_data / 1e3\n",
    "\n",
    "fig, axes = plt.subplots(1,3, figsize=(14,4))\n",
    "for ax, (key, data) in  zip(axes.flat, df_data.iteritems()):\n",
    "    plot_geoplot(key, data, regions_scns[scenario], ax=ax, unit='GWh')\n",
    "\n",
    "fig.suptitle('Electrical Demand per Sector',\n",
    "     fontsize=16,\n",
    "     fontweight='normal')\n",
    "plt.tight_layout()\n",
    "plt.show()"
   ]
  },
  {
   "cell_type": "markdown",
   "metadata": {},
   "source": [
    "## 1.3 Thermal Demand"
   ]
  },
  {
   "cell_type": "code",
   "execution_count": null,
   "metadata": {},
   "outputs": [],
   "source": [
    "df_data = results_scns[scenario]['flows_txaxt']['Wärmenachfrage'].sum(level=2)\n",
    "df_data.index = df_data.index.astype(int)\n",
    "df_data = df_data.rename(columns=PRINT_NAMES)\n",
    "df_data = pd.DataFrame([df_data.iloc[:,:2].sum(axis=1).rename('Households'), df_data.iloc[:,-1]]).T\n",
    "df_data = df_data / 1e3\n",
    "\n",
    "fig, axes = plt.subplots(1,2, figsize=(14,4))\n",
    "for ax, (key, data) in  zip(axes.flat, df_data.items()):\n",
    "    plot_geoplot(key, data, regions_scns[scenario], ax=ax, unit='GWh')\n",
    "    \n",
    "fig.suptitle('Thermal Demand per Sector',\n",
    "     fontsize=16,\n",
    "     fontweight='normal')\n",
    "plt.tight_layout()\n",
    "plt.show()"
   ]
  },
  {
   "cell_type": "markdown",
   "metadata": {},
   "source": [
    "# 2 Area required by RES"
   ]
  },
  {
   "cell_type": "markdown",
   "metadata": {},
   "source": [
    "## 2.1 Absolute Area"
   ]
  },
  {
   "cell_type": "code",
   "execution_count": null,
   "metadata": {},
   "outputs": [],
   "source": [
    "df_data = results_scns[scenario]['results_axlxt']['Area required']\n",
    "df_data = df_data.rename(columns=PRINT_NAMES)\n",
    "\n",
    "fig, axes = plt.subplots(2,2, figsize=(12,6))\n",
    "for ax, (key, data) in  zip(axes.flat, df_data.iteritems()):\n",
    "    plot_geoplot(key, data, regions_scns[scenario], ax=ax, unit='ha')\n",
    "    \n",
    "fig.suptitle('Required Area',\n",
    "     fontsize=16,\n",
    "     fontweight='normal')\n",
    "plt.tight_layout()\n",
    "plt.show()"
   ]
  },
  {
   "cell_type": "markdown",
   "metadata": {},
   "source": [
    "## 2.2 Relative Area\n",
    "\n",
    "The following figure shows the total relative area required by the RES in ABW for the current scenario compared to the available areas for different land use scenarios, per RES technology.\n",
    "\n",
    "Notes:\n",
    "- The current scenarios of wind turbines and ground-mounted PV is marked with \"(current)\"\n",
    "- Technology-specific naming conventions of land use scenarios\n",
    "  - Wind: Distance to settlements (500m/1000m), use of forests (with/without), percentage of available area due to restrictions resulting from case-by-case decisions\n",
    "  - PV ground: Restrictions that apply (hard: H / hard+weak: HS), percentage of total available agricultural area"
   ]
  },
  {
   "cell_type": "code",
   "execution_count": null,
   "metadata": {},
   "outputs": [],
   "source": [
    "df_data = results_scns[scenario]['highlevel_results']\n",
    "\n",
    "fig = go.Figure()\n",
    "\n",
    "# PV rooftop\n",
    "mask = [i for i in df_data.index if 'PV rooftop' in  i[0]]\n",
    "data = df_data.loc[mask]\n",
    "index = data.index.get_level_values(level=0)\n",
    "\n",
    "fig.add_trace(\n",
    "    go.Bar(y=index, x=data.values,\n",
    "           orientation='h',\n",
    "           name='PV rooftop',\n",
    "           marker_color=bar_colors[5]))\n",
    "\n",
    "# PV Ground\n",
    "mask = [i for i in df_data.index if 'PV ground' in  i[0]]\n",
    "data = df_data.loc[mask]\n",
    "index = data.index.get_level_values(level=0)\n",
    "\n",
    "fig.add_trace(\n",
    "    go.Bar(y=index, x=data.values,\n",
    "           orientation='h',\n",
    "           name='PV Ground',\n",
    "           marker_color=bar_colors[4]))#, visible='legendonly'))\n",
    "\n",
    "# Wind\n",
    "mask = [i for i in df_data.index if 'rel. wind' in  i[0]]\n",
    "data = df_data.loc[mask]\n",
    "index=  data.index.get_level_values(level=0)\n",
    "\n",
    "fig.add_trace(\n",
    "    go.Bar(y=index, x=data.values,\n",
    "           orientation='h',\n",
    "           name='Wind',\n",
    "          marker_color=bar_colors[3]))#, visible='legendonly'))\n",
    "\n",
    "fig.update_layout(title_text = 'Relative Required Area',\n",
    "                  xaxis=dict(title=' %',\n",
    "                    titlefont_size=12),\n",
    "                    autosize=True)\n",
    "\n",
    "fig.show()"
   ]
  },
  {
   "cell_type": "markdown",
   "metadata": {},
   "source": [
    "# 3 Electrical Autarky\n",
    "\n",
    "Autarky describes how much of the demanded energy can be supplied from sources within the region/municipality with regard to energy balance (annual sum) or simultaneity (number of hours)."
   ]
  },
  {
   "cell_type": "markdown",
   "metadata": {},
   "source": [
    "- [ ] histogramm timeseries\n",
    "- [ ] boxplots timeseries (prozentual Energiebilanz)"
   ]
  },
  {
   "cell_type": "markdown",
   "metadata": {},
   "source": [
    "## 3.1 Supply/Demand"
   ]
  },
  {
   "cell_type": "code",
   "execution_count": null,
   "metadata": {},
   "outputs": [],
   "source": [
    "df_data = results_scns[scenario]['results_axlxt']['Autarky']\n",
    "df_data = df_data.rename(index=MUN_NAMES)\n",
    "df_data = df_data.sort_values(axis=0, by='relative')\n",
    "\n",
    "fig = make_subplots(rows=1, cols=2, horizontal_spacing=0.17, column_widths=[0.8, 0.2],\n",
    "                    specs=[[{\"secondary_y\": True}, {\"secondary_y\": True}]])\n",
    "\n",
    "# === municipalities ===\n",
    "# supply per municipality\n",
    "data = df_data['supply'] / 1e3\n",
    "\n",
    "fig.add_trace(\n",
    "    go.Bar(x=data.index, y=data.values,\n",
    "           orientation='v',\n",
    "           name='Supply',\n",
    "          marker_color=bar_colors[1],),\n",
    "    row=1, col=1, secondary_y=False,)\n",
    "\n",
    "# demand per municipality\n",
    "data = df_data['demand'] / 1e3\n",
    "\n",
    "fig.add_trace(\n",
    "    go.Bar(x=data.index, y=data.values,\n",
    "           orientation='v',\n",
    "           name='Demand',\n",
    "           marker_color=bar_colors[2],),\n",
    "    row=1, col=1, secondary_y=False,)\n",
    "\n",
    "# relative autarky per municipality\n",
    "data = df_data['relative'] * 1e2\n",
    "\n",
    "fig.add_trace(\n",
    "    go.Bar(x=data.index, y=data.values,\n",
    "           orientation='v',\n",
    "           name='Relative',\n",
    "           marker_color=bar_colors[3],\n",
    "           visible='legendonly',\n",
    "          opacity=0.7,),\n",
    "    row=1, col=1, secondary_y=True,)\n",
    "\n",
    "# === ABW ===\n",
    "df_data = results_scns[scenario]['results_t']['Autarky']\n",
    "\n",
    "fig.add_trace(\n",
    "    go.Bar(x=['supply'], y=[df_data['supply']/ 1e3],\n",
    "           orientation='v',\n",
    "           name='ABW Supply',\n",
    "           marker_color=bar_colors[1]), \n",
    "    row=1, col=2, secondary_y=False,)\n",
    "\n",
    "fig.add_trace(\n",
    "    go.Bar(x=['demand'], y=[df_data['demand'] / 1e3],\n",
    "           orientation='v',\n",
    "           name='ABW Demand',\n",
    "           marker_color=bar_colors[2],),\n",
    "    row=1, col=2, secondary_y=False,)\n",
    "\n",
    "fig.add_trace(\n",
    "    go.Bar(x=[df_data.name], y=[df_data['relative']* 1e2],\n",
    "           orientation='v',\n",
    "           name='ABW relative',\n",
    "           marker_color=bar_colors[3],\n",
    "           visible='legendonly',),\n",
    "    row=1, col=2, secondary_y=True,)\n",
    "\n",
    "# === Layout ===\n",
    "fig.update_layout(title_text = 'Electrical Autarky per Municipality (Energy Balance) and total region',\n",
    "                    autosize=True,\n",
    "                hovermode=\"x unified\",\n",
    "                  legend=dict(orientation=\"h\",\n",
    "                                yanchor=\"bottom\",\n",
    "                                y=1.02,\n",
    "                                xanchor=\"right\",\n",
    "                                x=1),\n",
    "                 )\n",
    "fig.update_yaxes(title_text=\"absolute in GWh\", row=1, col=1, anchor=\"x\", secondary_y=False)\n",
    "fig.update_yaxes(title_text=\"relative in %\", row=1, col=1, anchor=\"x\", secondary_y=True)\n",
    "fig.update_yaxes(title_text=\"absolute in GWh\", row=1, col=2, anchor=\"x2\", secondary_y=False)\n",
    "fig.update_yaxes(title_text=\"relative in %\", row=1, col=2, anchor=\"x2\", secondary_y=True)\n",
    "fig.show()"
   ]
  },
  {
   "cell_type": "markdown",
   "metadata": {},
   "source": [
    "## 3.2 Relative Autarky"
   ]
  },
  {
   "cell_type": "code",
   "execution_count": null,
   "metadata": {
    "scrolled": false
   },
   "outputs": [],
   "source": [
    "df_data = results_scns[scenario]['results_axlxt']['Autarky']['relative']\n",
    "df_data = df_data.rename(index=MUN_NAMES)\n",
    "df_data = df_data.mul(100)\n",
    "df_data = df_data.sort_values()\n",
    "\n",
    "data=df_data.round()\n",
    "\n",
    "limit=120\n",
    "\n",
    "# split data\n",
    "data_left = data[data < limit]\n",
    "data_right = data[data >= limit]\n",
    "\n",
    "fig = make_subplots(rows=1, cols=2, horizontal_spacing=0.2)\n",
    "\n",
    "fig.add_trace(\n",
    "    go.Bar(y=data.index, x=data_left.values,\n",
    "           orientation='h', name=f'< {limit} %',\n",
    "          marker_color=bar_colors[1]),\n",
    "    row=1, col=1)\n",
    "\n",
    "fig.add_trace(\n",
    "    go.Bar(y=data.index, x=data_right.values,\n",
    "           orientation='h', name=f'> {limit} %',\n",
    "          marker_color=bar_colors[1]),\n",
    "    row=1, col=2)\n",
    "\n",
    "fig.update_yaxes(type='category', row=1, col=1)\n",
    "fig.update_yaxes(type='category', row=1, col=2)\n",
    "fig.update_xaxes(title='%', anchor='x', row=1, col=1)\n",
    "fig.update_xaxes(title='%', anchor='x2', row=1, col=2)\n",
    "\n",
    "fig.update_layout(title_text='Grouped Electrical Autarky per Municipality (Energy Balance)',\n",
    "                  xaxis=dict(title=' %',\n",
    "                    titlefont_size=12),\n",
    "                    autosize=True)\n",
    "fig.show()"
   ]
  },
  {
   "cell_type": "markdown",
   "metadata": {},
   "source": [
    "## 3.3 relative time"
   ]
  },
  {
   "cell_type": "markdown",
   "metadata": {},
   "source": [
    "- [ ] Summe über alle Gemeinde als TS zusätzlich?\n",
    "- [ ] relativer Zeitliche Anteil Autarky 10% aller stunden?? was habe ich hiermit gemeint?"
   ]
  },
  {
   "cell_type": "code",
   "execution_count": null,
   "metadata": {},
   "outputs": [],
   "source": [
    "df_data = results_scns[scenario]['results_axlxt']['Autarky'][['hours']]\n",
    "max_hours  = len(results_scns[scenario]['flows_txaxt']['Autarky'].index.get_level_values(level=0).unique())\n",
    "df_data = df_data['hours'] / max_hours * 1e2\n",
    "\n",
    "df_data = df_data.sort_values(ascending=False)\n",
    "df_data = df_data.rename(index=MUN_NAMES)\n",
    "\n",
    "fig = go.Figure()\n",
    "fig.add_trace(\n",
    "    go.Bar(x=df_data.index,\n",
    "           y=df_data.values,\n",
    "           orientation='v',\n",
    "           marker_color=bar_colors[1]))\n",
    "\n",
    "fig.update_yaxes(title='%')\n",
    "fig.update_layout(\n",
    "    title='Percentage of Autark Hours', \n",
    "    showlegend=False)\n",
    "fig.show()"
   ]
  },
  {
   "cell_type": "markdown",
   "metadata": {},
   "source": [
    "## 3.4 Autarky Geoplots"
   ]
  },
  {
   "cell_type": "code",
   "execution_count": null,
   "metadata": {
    "scrolled": false
   },
   "outputs": [],
   "source": [
    "df_data = results_scns[scenario]['results_axlxt']['Autarky'].loc[:,['hours', 'relative']]\n",
    "df_data = df_data.rename(columns=PRINT_NAMES)\n",
    "\n",
    "fig, axes = plt.subplots(1,2, figsize=(12,5))\n",
    "\n",
    "for ax, (key, data) in  zip(axes.flat, df_data.iteritems()):\n",
    "    \n",
    "    plot_geoplot(key, data, regions_scns[scenario], ax=ax, unit=UNITS[key])\n",
    "    \n",
    "fig.suptitle('Autark Hours and Relative Autarky Balance',\n",
    "     fontsize=16,\n",
    "     fontweight='normal')\n",
    "plt.tight_layout()\n",
    "plt.show()"
   ]
  },
  {
   "cell_type": "markdown",
   "metadata": {},
   "source": [
    "## 3.5 violinplot"
   ]
  },
  {
   "cell_type": "code",
   "execution_count": null,
   "metadata": {
    "scrolled": false
   },
   "outputs": [],
   "source": [
    "df_data = results_scns[scenario]['flows_txaxt']['Autarky']['relative'].unstack()\n",
    "\n",
    "df_data.columns = [int(i) for i in df_data.columns]\n",
    "df_data = df_data.rename(columns=MUN_NAMES)\n",
    "\n",
    "limit = 2\n",
    "\n",
    "fig = make_subplots(rows=2, cols=2, horizontal_spacing=0.25,\n",
    "                    row_heights=[0.8, 0.2],\n",
    "                    specs=[[{}, {}], [{\"colspan\": 2}, None]],)\n",
    "\n",
    "for ags, data in df_data.iteritems():\n",
    "    \n",
    "    if data.describe().loc['mean'] > limit:\n",
    "\n",
    "        fig.add_trace(go.Violin(x=data.values, name=ags,\n",
    "                                orientation='h',\n",
    "                               line_color=bar_colors[1],\n",
    "                               showlegend=False),\n",
    "                              \n",
    "                      row=1, col=1)\n",
    "    else:\n",
    "        fig.add_trace(go.Violin(x=data.values, name=ags,\n",
    "                                orientation='h',\n",
    "                               line_color=bar_colors[1],\n",
    "                               showlegend=False),\n",
    "                      row=1, col=2)\n",
    "        \n",
    "    fig.add_trace(go.Violin(x=data.values, name=ags,\n",
    "                                orientation='h',\n",
    "                               line_color=bar_colors[1],\n",
    "                               showlegend=True,\n",
    "                           visible='legendonly'),\n",
    "                              \n",
    "                      row=2, col=1)\n",
    "    \n",
    "fig.update_xaxes(title_text=\"%\", side='bottom', row=2, col=1)\n",
    "fig.update_yaxes(type='category', row=1, col=1)\n",
    "fig.update_yaxes(type='category', row=1, col=2)\n",
    "\n",
    "fig.update_layout(\n",
    "    title='Relative Electrical Autarky per Municipality (Energy Balance)')\n",
    "fig.show()"
   ]
  },
  {
   "cell_type": "markdown",
   "metadata": {},
   "source": [
    "# 4 Energy Mix"
   ]
  },
  {
   "cell_type": "markdown",
   "metadata": {},
   "source": [
    "INFO:\n",
    "- export == ins nationale Netz\n",
    "- ABW_... == intra_regional\n",
    "\n",
    "TODO:"
   ]
  },
  {
   "cell_type": "markdown",
   "metadata": {},
   "source": [
    "## 4.1 Balance"
   ]
  },
  {
   "cell_type": "code",
   "execution_count": null,
   "metadata": {},
   "outputs": [],
   "source": [
    "supply = results_scns[scenario]['flows_txaxt']['Stromerzeugung'].sum(level=1)\n",
    "abw_import = results_scns[scenario]['flows_txaxt']['Intra-regional exchange']['import'].sum(level=1)\n",
    "abw_import = abw_import.rename('ABW-import')\n",
    "supply = supply.join(abw_import)\n",
    "\n",
    "\n",
    "demand = results_scns[scenario]['flows_txaxt']['Stromnachfrage'].sum(level=1)\n",
    "abw_export = results_scns[scenario]['flows_txaxt']['Intra-regional exchange']['export'].sum(level=1)\n",
    "abw_export = abw_export.rename('ABW-export')\n",
    "demand = demand.join(abw_export)\n",
    "el_heating = results_scns[scenario]['flows_txaxt']['Stromnachfrage Wärme'].sum(level=2).sum(axis=1)\n",
    "demand = demand.join(el_heating.rename('el_heating'))\n",
    "    \n",
    "plot_snd_total(regions_scns[scenario], supply , demand)"
   ]
  },
  {
   "cell_type": "markdown",
   "metadata": {},
   "source": [
    "## 4.2 Time"
   ]
  },
  {
   "cell_type": "code",
   "execution_count": null,
   "metadata": {},
   "outputs": [],
   "source": [
    "plot_timeseries(results_scns[scenario], kind='el')#, ags='15091160')"
   ]
  },
  {
   "cell_type": "markdown",
   "metadata": {},
   "source": [
    "# 5 Emissions"
   ]
  },
  {
   "cell_type": "markdown",
   "metadata": {},
   "source": [
    "TODO\n",
    "- [ ] große Werte besonders schöne Farben\n",
    "- [ ] Notiz zur Zuordnung von KWK zu el etc"
   ]
  },
  {
   "cell_type": "code",
   "execution_count": null,
   "metadata": {
    "scrolled": false
   },
   "outputs": [],
   "source": [
    "df_data_left = results_scns[scenario]['results_t']['CO2 emissions th. total'].rename('th').to_frame()\n",
    "df_data_right = results_scns[scenario]['results_t']['CO2 emissions el. total'].rename('el').to_frame()\n",
    "\n",
    "# drop nans & zeros\n",
    "df_data_left = df_data_left[df_data_left!=0].dropna()\n",
    "df_data_right = df_data_right[df_data_right!=0].dropna()\n",
    "\n",
    "df_data = df_data_left.join(df_data_right, how='outer')\n",
    "df_data = df_data.fillna(0).T\n",
    "df_data = df_data.sort_values(by=list(df_data.index), axis=1, ascending=True)\n",
    "#df_rel = df_data.T / df_data.sum(axis=1).values\n",
    "\n",
    "fig = px.bar(df_data, orientation='h',\n",
    "             color_discrete_sequence=bar_colors,\n",
    "             text=df_data.sum(axis=1).to_list()\n",
    "            )\n",
    "\n",
    "\n",
    "fig.update_layout(barmode='stack',\n",
    "                  autosize=True,\n",
    "                  title='CO2 Emissions',\n",
    "                  legend={'traceorder':'reversed'},\n",
    "                 uniformtext_mode='hide')\n",
    "fig.update_traces(hovertemplate='CO2: %{x:.1f} t <br>Type: %{y}<br>Total: %{text:.1f} t') # \n",
    "fig.update_xaxes(title_text='t CO2')\n",
    "fig.update_yaxes(title_text='')\n",
    "fig.show()"
   ]
  },
  {
   "cell_type": "markdown",
   "metadata": {},
   "source": [
    "# 6 Costs"
   ]
  },
  {
   "cell_type": "markdown",
   "metadata": {},
   "source": [
    "## 6.1 LCOE and LCOH"
   ]
  },
  {
   "cell_type": "markdown",
   "metadata": {},
   "source": [
    "<div class=\"alert alert-block alert-info\">\n",
    "<b>Notes on LCOE calculation</b>\n",
    "\n",
    "- Total LCOE calculate as $LCOE=\\frac{expenses_{el.total}}{demand_{el.,total}}$, likewise total LCOH calculate as $LCOH=\\frac{expenses_{th.,total}}{demand_{th.,total}}$\n",
    "- Total expenses $expenses_{el.total}$ are annual expenses. Investment costs are discounted to one year using equivalent periodic costs\n",
    "- The plot below shows fractions of these LCOE that are calculated as $LCOE_{technology}=\\frac{expenses_{el.,technology}}{demand_{el.,total}}$ representation the share of each technology at total cost of one MWh\n",
    "</div>"
   ]
  },
  {
   "cell_type": "code",
   "execution_count": null,
   "metadata": {},
   "outputs": [],
   "source": [
    "values = ['LCOE','LCOH']\n",
    "\n",
    "df = pd.DataFrame([results_scns[scenario]['results_t'][i] for i in values], index=values)\n",
    "df = df.rename(columns=PRINT_NAMES)\n",
    "df = df.sort_values(by=values, axis=1, ascending=True)\n",
    "\n",
    "fig = px.bar(df, orientation='h',\n",
    "             title='LCOE and LCOH',\n",
    "            color_discrete_sequence=bar_colors,\n",
    "                text=df.sum(axis=1).to_list())\n",
    "\n",
    "fig.update_layout(barmode='stack', legend={'traceorder':'reversed'},\n",
    "                  uniformtext_mode='hide',\n",
    "                 )\n",
    "fig.update_traces(hovertemplate='Share: %{x:.1f}€ <br>Type: %{y}<br>Total: %{text:.1f}€'  ) # \n",
    "fig.update_xaxes(title_text='€/MWh')\n",
    "fig.update_yaxes(title_text='')\n",
    "fig.show()"
   ]
  },
  {
   "cell_type": "markdown",
   "metadata": {},
   "source": [
    "# 7 Power Grid\n",
    "## 7.1 Maximum Line Loading"
   ]
  },
  {
   "cell_type": "code",
   "execution_count": null,
   "metadata": {
    "scrolled": false
   },
   "outputs": [],
   "source": [
    "df_data = results_scns[scenario]['flows_txaxt']['Line loading'].max(level=1) * 100\n",
    "df_data = df_data.sort_index(ascending=False)\n",
    "df_data = pd.DataFrame().from_dict({'line loading': df_data,'free capacity': 60-df_data})\n",
    "\n",
    "index = [re.split(r'(\\d+)', s) for s in df_data.index]\n",
    "df_data.index = [f\"{start}{MUN_NAMES[int(ags)]}{end}\" for start,ags,end in index]\n",
    "\n",
    "fig = go.Figure() \n",
    "for i, (key, df) in enumerate(df_data.items()):\n",
    "\n",
    "    fig.add_bar(y=df.index,\n",
    "                x=df.values,\n",
    "                orientation='h',\n",
    "                name=key,\n",
    "                marker_color=bar_colors[4*i+2],\n",
    "                hovertemplate='%{x:.2f}%',\n",
    "                showlegend=False)\n",
    "\n",
    "fig.update_layout(barmode=\"relative\",\n",
    "    title='Maximum Line Loading',\n",
    "    yaxis_tickfont_size=12,\n",
    "    xaxis=dict(\n",
    "        title='Loading in %',\n",
    "        titlefont_size=16,\n",
    "        tickfont_size=12,\n",
    "    ))\n",
    "\n",
    "fig.update_yaxes(type='category')\n",
    "fig.update_layout(width=800, hovermode=\"y unified\")\n",
    "fig.show()\n"
   ]
  },
  {
   "cell_type": "markdown",
   "metadata": {},
   "source": [
    "## 7.2 Line Loading Distribution"
   ]
  },
  {
   "cell_type": "code",
   "execution_count": null,
   "metadata": {},
   "outputs": [],
   "source": [
    "df_data = results_scns[scenario]['flows_txaxt']['Line loading per bus']\n",
    "index = df_data.index.get_level_values(level=0)\n",
    "\n",
    "fig = go.Figure()\n",
    "# limit = 2\n",
    "# fig = make_subplots(rows=1, cols=2, horizontal_spacing=0.25)\n",
    "# for ags, data in df_data.iteritems():\n",
    "#     if data.describe().loc['mean'] > limit:\n",
    "\n",
    "fig.add_trace(go.Box(\n",
    "    y=df_data.values * 1e2,\n",
    "    x=index,\n",
    "    name='Increase',\n",
    "    marker_color=bar_color[5],\n",
    "    boxpoints=False,))\n",
    "\n",
    "fig.update_layout(\n",
    "    title='Line Loading',\n",
    "    yaxis_title='in %',\n",
    "    boxmode='group')\n",
    "\n",
    "fig.update_xaxes(type='category', tickangle=45)\n",
    "fig.show()"
   ]
  },
  {
   "cell_type": "markdown",
   "metadata": {},
   "source": [
    "# ENDE"
   ]
  },
  {
   "cell_type": "raw",
   "metadata": {},
   "source": [
    "# bus to bus\n",
    "results_scns[scenario]['flows_txaxt']['Stromnetz per bus']"
   ]
  },
  {
   "cell_type": "raw",
   "metadata": {},
   "source": [
    "# ags to ags inside\n",
    "results_scns[scenario]['flows_txaxt']['Stromnetz']"
   ]
  },
  {
   "cell_type": "raw",
   "metadata": {},
   "source": [
    "# ags to external\n",
    "results_scns[scenario]['flows_txaxt']['Stromnetz exchange']"
   ]
  },
  {
   "cell_type": "raw",
   "metadata": {},
   "source": [
    "results_scns[scenario]['parameters'][\"Installed capacity grid\"]"
   ]
  },
  {
   "cell_type": "markdown",
   "metadata": {},
   "source": [
    "# advanced/split violin plot"
   ]
  },
  {
   "cell_type": "raw",
   "metadata": {},
   "source": [
    "df_data = results_scns[scenario]['flows_txaxt']['Line loading'] * 100\n",
    "ags = df_data.index.get_level_values(level=1).unique()[0]\n",
    "df_data.loc[(ags)].unstack().T\n",
    "\n",
    "\n",
    "fig = px.violin(df_data)#, points=\"all\")\n",
    "fig.show()"
   ]
  },
  {
   "cell_type": "raw",
   "metadata": {},
   "source": [
    "list(results_scns[scenario]['parameters'])"
   ]
  },
  {
   "cell_type": "raw",
   "metadata": {},
   "source": [
    "# Timeseries\n",
    "results_scns[scenario]['flows_txaxt']['Stromnetz']"
   ]
  },
  {
   "cell_type": "raw",
   "metadata": {},
   "source": [
    "# Summenwert\n",
    "results_scns[scenario]['results_axlxt']['Stromnetzleitungen']"
   ]
  },
  {
   "cell_type": "markdown",
   "metadata": {},
   "source": [
    "# 8 Flexibility"
   ]
  },
  {
   "cell_type": "raw",
   "metadata": {},
   "source": [
    "results_scns[scenario]['highlevel_results']"
   ]
  },
  {
   "cell_type": "raw",
   "metadata": {},
   "source": [
    "results_scns[scenario]['results_t'].keys()"
   ]
  },
  {
   "cell_type": "markdown",
   "metadata": {},
   "source": [
    "## Heatstorage"
   ]
  },
  {
   "cell_type": "markdown",
   "metadata": {},
   "source": [
    "Fragen:\n",
    "- ist usage überhaupt der Nutzungsgrad? jain"
   ]
  },
  {
   "cell_type": "markdown",
   "metadata": {},
   "source": [
    "- [ ] Kennzahlen erstellen\n",
    "    - Charge / Ladeleistung (nominal value)\n",
    "    - Discharge / Entladeleistung\n",
    "    - Charge / Nennspeicherkapazität\n",
    "    - Discharge / Nennspeicherkapazität"
   ]
  },
  {
   "cell_type": "raw",
   "metadata": {},
   "source": [
    "charge = results_scns[scenario]['results_axlxt']['Wärmespeicher nach Gemeinde'].loc[:,'charge']\n",
    "discharge = results_scns[scenario]['results_axlxt']['Wärmespeicher nach Gemeinde'].loc[:,'discharge']\n",
    "usage = discharge/charge"
   ]
  },
  {
   "cell_type": "raw",
   "metadata": {},
   "source": [
    "usage"
   ]
  },
  {
   "cell_type": "markdown",
   "metadata": {},
   "source": [
    "## Batterystorage"
   ]
  },
  {
   "cell_type": "markdown",
   "metadata": {},
   "source": [
    "- Batteriespeicher leer?"
   ]
  },
  {
   "cell_type": "raw",
   "metadata": {},
   "source": [
    "results_scns[scenario]['parameters']['Installierte Kapazität Großbatterien']"
   ]
  },
  {
   "cell_type": "raw",
   "metadata": {},
   "source": [
    "results_scns[scenario]['results_axlxt']['Batteriespeicher nach Gemeinde']"
   ]
  },
  {
   "cell_type": "raw",
   "metadata": {},
   "source": [
    "# timeseries\n",
    "results_scns[scenario]['flows_txaxt']['Batteriespeicher']"
   ]
  },
  {
   "cell_type": "markdown",
   "metadata": {},
   "source": [
    "- nur increase activation?"
   ]
  },
  {
   "cell_type": "raw",
   "metadata": {},
   "source": [
    "# timeseries\n",
    "results_scns[scenario]['flows_txaxt']['Batteriespeicher']"
   ]
  },
  {
   "cell_type": "raw",
   "metadata": {},
   "source": [
    "results_scns[scenario]['results_axlxt']['Stromnetzleitungen']"
   ]
  },
  {
   "cell_type": "markdown",
   "metadata": {},
   "source": [
    "## DSM"
   ]
  },
  {
   "cell_type": "markdown",
   "metadata": {},
   "source": [
    "- Bezug auf hh-demand-mit-dsm beziehen?\n",
    "    - auf total\n",
    "    - auf hh-demand\n",
    "- absolute dsm activation\n",
    "- pro AGS"
   ]
  },
  {
   "cell_type": "raw",
   "metadata": {},
   "source": [
    "results_scns[scenario]['results_axlxt']['Net DSM activation']"
   ]
  },
  {
   "cell_type": "markdown",
   "metadata": {},
   "source": [
    "- nur increase activation? JA!"
   ]
  },
  {
   "cell_type": "raw",
   "metadata": {},
   "source": [
    "results_scns[scenario]['flows_txaxt']['DSM activation']#['results_axlxt'].keys()"
   ]
  },
  {
   "cell_type": "code",
   "execution_count": null,
   "metadata": {},
   "outputs": [],
   "source": []
  },
  {
   "cell_type": "code",
   "execution_count": null,
   "metadata": {},
   "outputs": [],
   "source": []
  },
  {
   "cell_type": "markdown",
   "metadata": {},
   "source": [
    "# inter ags elec transport / chord diagramm"
   ]
  },
  {
   "cell_type": "raw",
   "metadata": {},
   "source": [
    "fig = go.Figure(data=[go.Sankey(\n",
    "    node = dict(\n",
    "      pad = 15,\n",
    "      thickness = 20,\n",
    "      line = dict(color = \"black\", width = 0.5),\n",
    "      label = [\"A1\", \"A2\", \"A3\", \"B1\", \"B2\", \"B3\"],\n",
    "      customdata = [\"Long name A1\", \"Long name A2\", \"Long name A3\", \"Long name B1\",\n",
    "                    \"Long name B2\", \"Long name B3\"],\n",
    "        \n",
    "      hovertemplate='Node %{customdata} has total value %{value}<extra></extra>',  \n",
    "      color = \"blue\"\n",
    "    ),\n",
    "    link = dict(\n",
    "      source = [0, 0, 0, 3, 5, 3], # indices correspond to labels, eg A1, A2, A2, B1, ...\n",
    "      target = [3, 3, 4, 1, 4, 5],\n",
    "      value = [8, 4, 2, 8, 4, 2],\n",
    "        color = ['green', 'yellow', 'black', 'red', 'violet', 'white'],\n",
    "      customdata = [\"q\",\"r\",\"s\",\"t\",\"u\",\"v\"],\n",
    "        \n",
    "      hovertemplate='Link from node %{source.customdata}<br />'+\n",
    "        'to node%{target.customdata}<br />has value %{value}'+\n",
    "        '<br />and data %{customdata}<extra></extra>',  \n",
    "  ))])\n",
    "\n",
    "fig.update_layout(title_text=\"Basic Sankey Diagram\", font_size=10)\n",
    "fig.show()"
   ]
  },
  {
   "cell_type": "raw",
   "metadata": {},
   "source": [
    "fig = go.Figure(go.Sankey(\n",
    "    arrangement = \"snap\",\n",
    "    node = {\n",
    "        \"label\": [\"A\", \"B\", \"C\", \"D\", \"E\", \"F\"],\n",
    "        \"x\": [0.2, 0.1, 0.5, 0.7, 0.3, 0.5],\n",
    "        \"y\": [0.7, 0.5, 0.2, 0.4, 0.2, 0.3],\n",
    "        'pad':10},  # 10 Pixels\n",
    "    link = {\n",
    "        \"source\": [0, 0, 1, 2, 5, 4, 3, 5],\n",
    "        \"target\": [5, 3, 4, 3, 0, 2, 2, 3],\n",
    "        \"value\": [1, 2, 1, 1, 1, 1, 1, 2]}))\n",
    "\n",
    "fig.show()"
   ]
  },
  {
   "cell_type": "raw",
   "metadata": {},
   "source": [
    "# inside region\n",
    "results_scns[scenario]['flows_txaxt']['Stromnetz'].index.get_level_values(level=1).unique()"
   ]
  },
  {
   "cell_type": "raw",
   "metadata": {},
   "source": [
    "# external lines\n",
    "results_scns[scenario]['flows_txaxt']['Stromnetz exchange'].index.get_level_values(level=1).unique()"
   ]
  },
  {
   "cell_type": "raw",
   "metadata": {},
   "source": [
    "\n",
    "results_scns[scenario]['results_axlxt']['Stromnetzleitungen']"
   ]
  },
  {
   "cell_type": "raw",
   "metadata": {},
   "source": []
  },
  {
   "cell_type": "markdown",
   "metadata": {},
   "source": [
    "## chord diagram"
   ]
  },
  {
   "cell_type": "raw",
   "metadata": {},
   "source": [
    "import pandas as pd\n",
    "import holoviews as hv\n",
    "from holoviews import opts, dim"
   ]
  },
  {
   "cell_type": "raw",
   "metadata": {},
   "source": [
    "bus_to = results_scns[scenario]['flows_txaxt']['Stromnetz'].index.get_level_values(3).unique()\n",
    "bus_from = results_scns[scenario]['flows_txaxt']['Stromnetz'].index.get_level_values(2).unique()"
   ]
  },
  {
   "cell_type": "raw",
   "metadata": {},
   "source": [
    "set(bus_to).difference(set(bus_from))"
   ]
  },
  {
   "cell_type": "raw",
   "metadata": {},
   "source": [
    "set(bus_from).difference(set(bus_to))"
   ]
  },
  {
   "cell_type": "raw",
   "metadata": {},
   "source": [
    "chord_links = pd.DataFrame(index=results_scns[scenario]['flows_txaxt']['Stromnetz'].index.get_level_values(1).unique())\n",
    "chord_links['source'] = results_scns[scenario]['flows_txaxt']['Stromnetz'].loc['2015-01-01 00:00:00'].index.get_level_values(1)\n",
    "chord_links['target'] = results_scns[scenario]['flows_txaxt']['Stromnetz'].loc['2015-01-01 00:00:00'].index.get_level_values(2)\n",
    "chord_links['value'] = results_scns[scenario]['flows_txaxt']['Stromnetz'].sum(level=1).mean(axis=1)"
   ]
  },
  {
   "cell_type": "raw",
   "metadata": {},
   "source": [
    "# nur test\n",
    "chord_links['value'] = chord_links['value'].abs().astype(int)"
   ]
  },
  {
   "cell_type": "raw",
   "metadata": {},
   "source": [
    "chord_links"
   ]
  },
  {
   "cell_type": "markdown",
   "metadata": {},
   "source": [
    "- Plotly lässt sich nicht als bereits berechnetes HTML anzeigen / nur zur veranschaulichung\n",
    "- -> Binder\n",
    "\n",
    "#### Darstellung mit matplotlib\n",
    "\n",
    "- Summe über Gemeinde als TS zusätzlich\n",
    "- relativer Zeitliche Anteil Autarky\n",
    "- mehrere Plots für ags?\n",
    "- Summen über Tage?\n",
    "\n",
    "- geoplot"
   ]
  },
  {
   "cell_type": "code",
   "execution_count": null,
   "metadata": {},
   "outputs": [],
   "source": []
  },
  {
   "cell_type": "code",
   "execution_count": null,
   "metadata": {},
   "outputs": [],
   "source": []
  }
 ],
 "metadata": {
  "kernelspec": {
   "display_name": "Python [conda env:windnode-abw]",
   "language": "python",
   "name": "conda-env-windnode-abw-py"
  },
  "language_info": {
   "codemirror_mode": {
    "name": "ipython",
    "version": 3
   },
   "file_extension": ".py",
   "mimetype": "text/x-python",
   "name": "python",
   "nbconvert_exporter": "python",
   "pygments_lexer": "ipython3",
   "version": "3.7.7"
  }
 },
 "nbformat": 4,
 "nbformat_minor": 4
}
