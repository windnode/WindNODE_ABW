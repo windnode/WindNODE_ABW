{
 "cells": [
  {
   "cell_type": "markdown",
   "metadata": {},
   "source": [
    "# WINDNODE ABW - Scenario Analysis\n",
    "\n",
    "<img src=\"http://reiner-lemoine-institut.de//wp-content/uploads/2015/09/rlilogo.png\" width=\"100\" style=\"float: right\">\n",
    "\n",
    "__copyright__ \t= \"© Reiner Lemoine Institut\" <br>\n",
    "__license__ \t= \"GNU Affero General Public License Version 3 (AGPL-3.0)\" <br>\n",
    "__url__ \t\t= \"https://www.gnu.org/licenses/agpl-3.0.en.html\" <br>\n",
    "__author__ \t\t= \"Julian Endres\" <br>"
   ]
  },
  {
   "cell_type": "code",
   "execution_count": null,
   "metadata": {},
   "outputs": [],
   "source": [
    "%load_ext autoreload\n",
    "%autoreload 2"
   ]
  },
  {
   "cell_type": "code",
   "execution_count": null,
   "metadata": {},
   "outputs": [],
   "source": [
    "######## WINDNODE ###########\n",
    "# define and setup logger\n",
    "from windnode_abw.tools.logger import setup_logger\n",
    "logger = setup_logger()\n",
    "\n",
    "# load configs\n",
    "from windnode_abw.tools import config\n",
    "config.load_config('config_data.cfg')\n",
    "config.load_config('config_misc.cfg')\n",
    "\n",
    "from windnode_abw.analysis import analysis\n",
    "from windnode_abw.tools.draw import *\n",
    "\n",
    "######## DATA ###########\n",
    "\n",
    "import re\n",
    "import pandas as pd\n",
    "\n",
    "######## Plotting ###########\n",
    "\n",
    "# Plotting\n",
    "import matplotlib.pyplot as plt\n",
    "from mpl_toolkits.axes_grid1 import make_axes_locatable\n",
    "from matplotlib.ticker import ScalarFormatter\n",
    "import seaborn as sns\n",
    "# set seaborn style\n",
    "sns.set()\n",
    "\n",
    "import plotly.express as px\n",
    "import plotly.graph_objs as go\n",
    "from plotly.subplots import make_subplots\n",
    "#import plotly.offline as pltly\n",
    "#import plotly.io as pio"
   ]
  },
  {
   "cell_type": "code",
   "execution_count": null,
   "metadata": {
    "tags": [
     "parameters"
    ]
   },
   "outputs": [],
   "source": [
    "# specify what to import (in path ~/.windnode_abw/)\n",
    "run_timestamp = '2020-07-24_104145_1month'\n",
    "scenario = 'ISE2050_AUT90_BAThigh'\n",
    "force_new_results = False"
   ]
  },
  {
   "cell_type": "code",
   "execution_count": null,
   "metadata": {},
   "outputs": [],
   "source": [
    "# obtain processed results\n",
    "regions_scns, results_scns = analysis(run_timestamp=run_timestamp,\n",
    "                                      scenarios=[scenario],\n",
    "                                      force_new_results=force_new_results)"
   ]
  },
  {
   "cell_type": "markdown",
   "metadata": {},
   "source": [
    "### useful params"
   ]
  },
  {
   "cell_type": "code",
   "execution_count": null,
   "metadata": {},
   "outputs": [],
   "source": [
    "# Names of Municialities\n",
    "MUN_NAMES = regions_scns[scenario].muns.gen.to_dict()\n",
    "# extend for total ABW region\n",
    "MUN_NAMES.update({100:'ABW'})\n",
    "# Colormap\n",
    "CMAP = px.colors.sequential.GnBu_r\n",
    "#UNITS = {\"relative\": \"%\", \"hours\": \"h\", \"Storage Usage Rate\":\"%\", \"Total Cycles\":\"times\", \"Full Load Hours\":\"h\"}"
   ]
  },
  {
   "cell_type": "markdown",
   "metadata": {},
   "source": [
    "# 1 Demand and Generation (Input Data)"
   ]
  },
  {
   "cell_type": "markdown",
   "metadata": {},
   "source": [
    "## 1.1 Installed Electrical Capacities, Municipalities"
   ]
  },
  {
   "cell_type": "code",
   "execution_count": null,
   "metadata": {},
   "outputs": [],
   "source": [
    "df_data = results_scns[scenario]['parameters']['Installed capacity electricity supply']\n",
    "df_data = df_data.rename(columns=PRINT_NAMES)\n",
    "\n",
    "fig, axes = plt.subplots(3,3, figsize=(12,10))\n",
    "for ax, (key, data) in  zip(axes.flat, df_data.iteritems()):\n",
    "    plot_geoplot(key, data, regions_scns[scenario], ax=ax, unit='MW')\n",
    "    \n",
    "fig.suptitle('Installed el. Generation Capacity',\n",
    "     fontsize=16,\n",
    "     fontweight='normal')\n",
    "plt.tight_layout()\n",
    "plt.show()"
   ]
  },
  {
   "cell_type": "markdown",
   "metadata": {},
   "source": [
    "## 1.2 Electrical Demand"
   ]
  },
  {
   "cell_type": "code",
   "execution_count": null,
   "metadata": {},
   "outputs": [],
   "source": [
    "df_data = results_scns[scenario]['flows_txaxt']['Stromnachfrage'].sum(level=1)\n",
    "df_data = df_data.drop(columns='export')\n",
    "df_data.index = df_data.index.astype(int)\n",
    "df_data = df_data.rename(columns=PRINT_NAMES)\n",
    "df_data = df_data / 1e3\n",
    "\n",
    "fig, axes = plt.subplots(1,3, figsize=(14,4))\n",
    "for ax, (key, data) in  zip(axes.flat, df_data.iteritems()):\n",
    "    plot_geoplot(key, data, regions_scns[scenario], ax=ax, unit='GWh')\n",
    "\n",
    "fig.suptitle('Electrical Demand per Sector',\n",
    "     fontsize=16,\n",
    "     fontweight='normal')\n",
    "plt.tight_layout()\n",
    "plt.show()"
   ]
  },
  {
   "cell_type": "markdown",
   "metadata": {},
   "source": [
    "## 1.3 Thermal Demand"
   ]
  },
  {
   "cell_type": "code",
   "execution_count": null,
   "metadata": {},
   "outputs": [],
   "source": [
    "df_data = results_scns[scenario]['flows_txaxt']['Wärmenachfrage'].sum(level=2)\n",
    "df_data.index = df_data.index.astype(int)\n",
    "df_data = df_data.rename(columns=PRINT_NAMES)\n",
    "df_data = pd.DataFrame([df_data.iloc[:,:2].sum(axis=1).rename('Households'), df_data.iloc[:,-1]]).T\n",
    "df_data = df_data / 1e3\n",
    "\n",
    "fig, axes = plt.subplots(1,2, figsize=(14,4))\n",
    "for ax, (key, data) in  zip(axes.flat, df_data.items()):\n",
    "    plot_geoplot(key, data, regions_scns[scenario], ax=ax, unit='GWh')\n",
    "    \n",
    "fig.suptitle('Thermal Demand per Sector',\n",
    "     fontsize=16,\n",
    "     fontweight='normal')\n",
    "plt.tight_layout()\n",
    "plt.show()"
   ]
  },
  {
   "cell_type": "markdown",
   "metadata": {},
   "source": [
    "## 1.4 Installed Capacities, Electricity/Heat, ABW Region"
   ]
  },
  {
   "cell_type": "code",
   "execution_count": null,
   "metadata": {},
   "outputs": [],
   "source": [
    "cap_heat = results_scns[scenario]['parameters']['Installed capacity heat supply'].sum(axis=0).rename('heat')\n",
    "cap_electricity = results_scns[scenario]['parameters']['Installed capacity electricity supply'].sum(axis=0).rename('electricity')\n",
    "cap = pd.concat([cap_electricity], keys=['Electricity']).append(pd.concat([cap_heat], keys=['Heat']))\n",
    "\n",
    "cap = cap.rename(index=PRINT_NAMES)\n",
    "cap = cap.sort_values(ascending=True)\n",
    "\n",
    "fig = go.Figure()\n",
    "for color, (key, df) in enumerate(cap.groupby(level=0)):\n",
    "    \n",
    "    visible = True if key == 'Electricity' else 'legendonly'\n",
    "    fig.add_trace(go.Bar(x=df[key],\n",
    "                         y=df[key].index,\n",
    "                         name=key,\n",
    "                        orientation='h',\n",
    "                         marker_color=CMAP[2*color],\n",
    "                         visible=visible,\n",
    "                         showlegend=True))\n",
    "\n",
    "    \n",
    "fig.update_layout(title='Installed Capacities, ABW Region',\n",
    "                  barmode='stack', legend={'traceorder':'normal'},\n",
    "                  uniformtext_mode='hide', hovermode=\"y unified\"\n",
    "                 )\n",
    "fig.update_traces(hovertemplate='Type: %{fullData.name} <br>' +\n",
    "                  'Capacity: %{x:.1f} MW <br>'+\n",
    "                  '<extra></extra>',) #\n",
    "fig.update_xaxes(title_text='MW')\n",
    "fig.update_yaxes(title_text='')\n",
    "fig.show()"
   ]
  },
  {
   "cell_type": "markdown",
   "metadata": {},
   "source": [
    "## 1.5 Generated Heat/Electricity"
   ]
  },
  {
   "cell_type": "code",
   "execution_count": null,
   "metadata": {},
   "outputs": [],
   "source": [
    "gen_heat = results_scns[scenario]['flows_txaxt']['Wärmeerzeugung'].sum(axis=0).rename('heat')\n",
    "gen_electricity = results_scns[scenario]['flows_txaxt']['Stromerzeugung'].sum(axis=0).rename('electricity')\n",
    "gen = pd.concat([gen_electricity], keys=['Electricity']).append(pd.concat([gen_heat], keys=['Heat']))\n",
    "gen = gen / 1000\n",
    "\n",
    "gen = gen.rename(index=PRINT_NAMES)\n",
    "gen = gen.sort_values(ascending=True)\n",
    "\n",
    "fig = go.Figure()\n",
    "for color, (key, df) in enumerate(gen.groupby(level=0)):\n",
    "    \n",
    "    visible = True if key == 'Electricity' else 'legendonly'\n",
    "    fig.add_trace(go.Bar(x=df[key],\n",
    "                         y=df[key].index,\n",
    "                         name=key,\n",
    "                        orientation='h',\n",
    "                         marker_color=CMAP[2*color],\n",
    "                         visible=visible,\n",
    "                         showlegend=True))\n",
    "\n",
    "    \n",
    "fig.update_layout(title='Generation, ABW Region',\n",
    "                  barmode='stack', legend={'traceorder':'normal'},\n",
    "                  uniformtext_mode='hide', hovermode=\"y unified\"\n",
    "                 )\n",
    "fig.update_traces(hovertemplate='Type: %{fullData.name} <br>' +\n",
    "                  'Energy: %{x:.1f} GWh <br>'+\n",
    "                  '<extra></extra>',) #\n",
    "fig.update_xaxes(title_text='GWh')\n",
    "fig.update_yaxes(title_text='')\n",
    "fig.show()"
   ]
  },
  {
   "cell_type": "markdown",
   "metadata": {},
   "source": [
    "# 2 Area required by RES"
   ]
  },
  {
   "cell_type": "markdown",
   "metadata": {},
   "source": [
    "## 2.1 Absolute Area"
   ]
  },
  {
   "cell_type": "markdown",
   "metadata": {},
   "source": [
    "The following figure shows the total absolute area required by the RES in ABW.\n",
    "\n",
    "Note: For status quo the required area for ground-mounted PV and wind turbines is unknown and therefore not displayed."
   ]
  },
  {
   "cell_type": "code",
   "execution_count": null,
   "metadata": {},
   "outputs": [],
   "source": [
    "df_data = results_scns[scenario]['results_axlxt']['Area required']\n",
    "\n",
    "# drop pv ground and wind areas for status quo\n",
    "if regions_scns[scenario].cfg['scn_data']['general']['year'] == 2017:\n",
    "    df_data.drop(columns=['pv_ground', 'wind'], inplace=True)\n",
    "    plt_count_y = 1\n",
    "else:\n",
    "    plt_count_y = 2\n",
    "\n",
    "df_data = df_data.rename(columns=PRINT_NAMES)\n",
    "\n",
    "fig, axes = plt.subplots(plt_count_y, 2, figsize=(12,6))\n",
    "\n",
    "for ax, (key, data) in  zip(axes.flat, df_data.iteritems()):\n",
    "    plot_geoplot(key, data, regions_scns[scenario], ax=ax, unit='ha')\n",
    "    \n",
    "fig.suptitle('Required Area',\n",
    "     fontsize=16,\n",
    "     fontweight='normal')\n",
    "plt.tight_layout()\n",
    "plt.show()"
   ]
  },
  {
   "cell_type": "markdown",
   "metadata": {},
   "source": [
    "## 2.2 Relative Area\n",
    "\n",
    "The following figure shows the total relative area required by the RES in ABW for the current scenario compared to the available areas for different land use scenarios, per RES technology.\n",
    "\n",
    "Notes:\n",
    "- The current scenarios of wind turbines and ground-mounted PV is marked with \"(current)\"\n",
    "- Technology-specific naming conventions of land use scenarios\n",
    "  - Wind: Distance to settlements (500m/1000m), use of forests (with/without), percentage of available area due to restrictions resulting from case-by-case decisions\n",
    "  - PV ground: Restrictions that apply (hard: H / hard+weak: HS), percentage of total available agricultural area\n",
    "- For status quo the required area for ground-mounted PV and wind turbines is unknown and therefore not displayed."
   ]
  },
  {
   "cell_type": "code",
   "execution_count": null,
   "metadata": {},
   "outputs": [],
   "source": [
    "df_data = results_scns[scenario]['highlevel_results']\n",
    "\n",
    "fig = go.Figure()\n",
    "\n",
    "# PV rooftop\n",
    "mask = [i for i in df_data.index if 'PV rooftop' in  i[0]]\n",
    "data = df_data.loc[mask]\n",
    "index = data.index.get_level_values(level=0)\n",
    "\n",
    "fig.add_trace(\n",
    "    go.Bar(y=index, x=data.values,\n",
    "           orientation='h',\n",
    "           name='PV rooftop',\n",
    "           marker_color=CMAP[5]))\n",
    "\n",
    "# PV Ground\n",
    "mask = [i for i in df_data.index if 'PV ground' in  i[0]]\n",
    "data = df_data.loc[mask]\n",
    "index = data.index.get_level_values(level=0)\n",
    "\n",
    "fig.add_trace(\n",
    "    go.Bar(y=index, x=data.values,\n",
    "           orientation='h',\n",
    "           name='PV Ground',\n",
    "           marker_color=CMAP[4]))#, visible='legendonly'))\n",
    "\n",
    "# Wind\n",
    "mask = [i for i in df_data.index if 'rel. wind' in  i[0]]\n",
    "data = df_data.loc[mask]\n",
    "index=  data.index.get_level_values(level=0)\n",
    "\n",
    "fig.add_trace(\n",
    "    go.Bar(y=index, x=data.values,\n",
    "           orientation='h',\n",
    "           name='Wind',\n",
    "          marker_color=CMAP[3]))#, visible='legendonly'))\n",
    "\n",
    "fig.update_layout(title_text = 'Relative Required Area',\n",
    "                  xaxis=dict(title=' %',\n",
    "                    titlefont_size=12),\n",
    "                    autosize=True)\n",
    "\n",
    "fig.show()"
   ]
  },
  {
   "cell_type": "markdown",
   "metadata": {},
   "source": [
    "# 3 Electrical Autarky\n",
    "\n",
    "Autarky describes how much of the demanded energy can be supplied from sources within the region/municipality with regard to energy balance (annual sum) or simultaneity (number of hours)."
   ]
  },
  {
   "cell_type": "markdown",
   "metadata": {},
   "source": [
    "- [ ] histogramm timeseries\n",
    "- [ ] boxplots timeseries (prozentual Energiebilanz)"
   ]
  },
  {
   "cell_type": "markdown",
   "metadata": {},
   "source": [
    "## 3.1 Supply/Demand"
   ]
  },
  {
   "cell_type": "code",
   "execution_count": null,
   "metadata": {},
   "outputs": [],
   "source": [
    "df_data = results_scns[scenario]['results_axlxt']['Autarky']\n",
    "df_data = df_data.rename(index=MUN_NAMES)\n",
    "df_data = df_data.sort_values(axis=0, by='relative')\n",
    "\n",
    "fig = make_subplots(rows=1, cols=2, horizontal_spacing=0.17, column_widths=[0.8, 0.2],\n",
    "                    specs=[[{\"secondary_y\": True}, {\"secondary_y\": True}]])\n",
    "\n",
    "# === municipalities ===\n",
    "# supply per municipality\n",
    "data = df_data['supply'] / 1e3\n",
    "\n",
    "fig.add_trace(\n",
    "    go.Bar(x=data.index, y=data.values,\n",
    "           orientation='v',\n",
    "           name='Supply',\n",
    "          marker_color=CMAP[1],),\n",
    "    row=1, col=1, secondary_y=False,)\n",
    "\n",
    "# demand per municipality\n",
    "data = df_data['demand'] / 1e3\n",
    "\n",
    "fig.add_trace(\n",
    "    go.Bar(x=data.index, y=data.values,\n",
    "           orientation='v',\n",
    "           name='Demand',\n",
    "           marker_color=CMAP[2],),\n",
    "    row=1, col=1, secondary_y=False,)\n",
    "\n",
    "# relative autarky per municipality\n",
    "data = df_data['relative'] * 1e2\n",
    "\n",
    "fig.add_trace(\n",
    "    go.Bar(x=data.index, y=data.values,\n",
    "           orientation='v',\n",
    "           name='Relative',\n",
    "           marker_color=CMAP[3],\n",
    "           visible='legendonly',\n",
    "          opacity=0.7,),\n",
    "    row=1, col=1, secondary_y=True,)\n",
    "\n",
    "# === ABW ===\n",
    "df_data = results_scns[scenario]['results_t']['Autarky']\n",
    "\n",
    "fig.add_trace(\n",
    "    go.Bar(x=['supply'], y=[df_data['supply']/ 1e3],\n",
    "           orientation='v',\n",
    "           name='ABW Supply',\n",
    "           marker_color=CMAP[1]), \n",
    "    row=1, col=2, secondary_y=False,)\n",
    "\n",
    "fig.add_trace(\n",
    "    go.Bar(x=['demand'], y=[df_data['demand'] / 1e3],\n",
    "           orientation='v',\n",
    "           name='ABW Demand',\n",
    "           marker_color=CMAP[2],),\n",
    "    row=1, col=2, secondary_y=False,)\n",
    "\n",
    "fig.add_trace(\n",
    "    go.Bar(x=[df_data.name], y=[df_data['relative']* 1e2],\n",
    "           orientation='v',\n",
    "           name='ABW relative',\n",
    "           marker_color=CMAP[3],\n",
    "           visible='legendonly',),\n",
    "    row=1, col=2, secondary_y=True,)\n",
    "\n",
    "# === Layout ===\n",
    "fig.update_layout(title_text = 'Electrical Autarky per Municipality (Energy Balance) and total region',\n",
    "                    autosize=True,\n",
    "                hovermode=\"x unified\",\n",
    "                  legend=dict(orientation=\"h\",\n",
    "                                yanchor=\"bottom\",\n",
    "                                y=1.02,\n",
    "                                xanchor=\"right\",\n",
    "                                x=1),\n",
    "                 )\n",
    "fig.update_yaxes(title_text=\"absolute in GWh\", row=1, col=1, anchor=\"x\", secondary_y=False)\n",
    "fig.update_yaxes(title_text=\"relative in %\", row=1, col=1, anchor=\"x\", secondary_y=True)\n",
    "fig.update_yaxes(title_text=\"absolute in GWh\", row=1, col=2, anchor=\"x2\", secondary_y=False)\n",
    "fig.update_yaxes(title_text=\"relative in %\", row=1, col=2, anchor=\"x2\", secondary_y=True)\n",
    "fig.show()"
   ]
  },
  {
   "cell_type": "markdown",
   "metadata": {},
   "source": [
    "## 3.2 Relative Autarky"
   ]
  },
  {
   "cell_type": "code",
   "execution_count": null,
   "metadata": {
    "scrolled": false
   },
   "outputs": [],
   "source": [
    "df_data = results_scns[scenario]['results_axlxt']['Autarky']['relative']\n",
    "df_data = df_data.rename(index=MUN_NAMES)\n",
    "df_data = df_data.mul(100)\n",
    "df_data = df_data.sort_values()\n",
    "\n",
    "data=df_data.round()\n",
    "\n",
    "limit=120\n",
    "\n",
    "# split data\n",
    "data_left = data[data < limit]\n",
    "data_right = data[data >= limit]\n",
    "\n",
    "fig = make_subplots(rows=1, cols=2, horizontal_spacing=0.2)\n",
    "\n",
    "fig.add_trace(\n",
    "    go.Bar(y=data.index, x=data_left.values,\n",
    "           orientation='h', name=f'< {limit} %',\n",
    "          marker_color=CMAP[1]),\n",
    "    row=1, col=1)\n",
    "\n",
    "fig.add_trace(\n",
    "    go.Bar(y=data.index, x=data_right.values,\n",
    "           orientation='h', name=f'> {limit} %',\n",
    "          marker_color=CMAP[1]),\n",
    "    row=1, col=2)\n",
    "\n",
    "fig.update_yaxes(type='category', row=1, col=1)\n",
    "fig.update_yaxes(type='category', row=1, col=2)\n",
    "fig.update_xaxes(title='%', anchor='x', row=1, col=1)\n",
    "fig.update_xaxes(title='%', anchor='x2', row=1, col=2)\n",
    "\n",
    "fig.update_layout(title_text='Grouped Electrical Autarky per Municipality (Energy Balance)',\n",
    "                  xaxis=dict(title=' %',\n",
    "                    titlefont_size=12),\n",
    "                    autosize=True)\n",
    "fig.show()"
   ]
  },
  {
   "cell_type": "markdown",
   "metadata": {},
   "source": [
    "## 3.3 relative time"
   ]
  },
  {
   "cell_type": "markdown",
   "metadata": {},
   "source": [
    "- [ ] Summe über alle Gemeinde als TS zusätzlich?\n",
    "- [ ] relativer Zeitliche Anteil Autarky 10% aller stunden?? was habe ich hiermit gemeint?"
   ]
  },
  {
   "cell_type": "code",
   "execution_count": null,
   "metadata": {},
   "outputs": [],
   "source": [
    "df_data = results_scns[scenario]['results_axlxt']['Autarky'][['hours']]\n",
    "max_hours  = len(results_scns[scenario]['flows_txaxt']['Autarky'].index.get_level_values(level=0).unique())\n",
    "df_data = df_data['hours'] / max_hours * 1e2\n",
    "\n",
    "df_data = df_data.sort_values(ascending=False)\n",
    "df_data = df_data.rename(index=MUN_NAMES)\n",
    "\n",
    "fig = go.Figure()\n",
    "fig.add_trace(\n",
    "    go.Bar(x=df_data.index,\n",
    "           y=df_data.values,\n",
    "           orientation='v',\n",
    "           marker_color=CMAP[1]))\n",
    "\n",
    "fig.update_yaxes(title='%')\n",
    "fig.update_layout(\n",
    "    title='Percentage of Autark Hours', \n",
    "    showlegend=False)\n",
    "fig.show()"
   ]
  },
  {
   "cell_type": "markdown",
   "metadata": {},
   "source": [
    "## 3.4 Autarky Geoplots"
   ]
  },
  {
   "cell_type": "code",
   "execution_count": null,
   "metadata": {
    "scrolled": false
   },
   "outputs": [],
   "source": [
    "df_data = results_scns[scenario]['results_axlxt']['Autarky'].loc[:,['hours', 'relative']]\n",
    "df_data = df_data.rename(columns=PRINT_NAMES)\n",
    "\n",
    "fig, axes = plt.subplots(1,2, figsize=(12,5))\n",
    "\n",
    "for ax, (key, data) in  zip(axes.flat, df_data.iteritems()):\n",
    "    \n",
    "    plot_geoplot(key, data, regions_scns[scenario], ax=ax, unit=UNITS[key])\n",
    "    \n",
    "fig.suptitle('Autark Hours and Relative Autarky Balance',\n",
    "     fontsize=16,\n",
    "     fontweight='normal')\n",
    "plt.tight_layout()\n",
    "plt.show()"
   ]
  },
  {
   "cell_type": "markdown",
   "metadata": {},
   "source": [
    "## 3.5 violinplot"
   ]
  },
  {
   "cell_type": "code",
   "execution_count": null,
   "metadata": {
    "scrolled": false
   },
   "outputs": [],
   "source": [
    "df_data = results_scns[scenario]['flows_txaxt']['Autarky']['relative'].unstack()\n",
    "\n",
    "df_data.columns = [int(i) for i in df_data.columns]\n",
    "df_data = df_data.rename(columns=MUN_NAMES)\n",
    "\n",
    "limit = 2\n",
    "\n",
    "fig = make_subplots(rows=2, cols=2, horizontal_spacing=0.25,\n",
    "                    row_heights=[0.8, 0.2],\n",
    "                    specs=[[{}, {}], [{\"colspan\": 2}, None]],)\n",
    "\n",
    "for ags, data in df_data.iteritems():\n",
    "    \n",
    "    if data.describe().loc['mean'] > limit:\n",
    "\n",
    "        fig.add_trace(go.Violin(x=data.values, name=ags,\n",
    "                                orientation='h',\n",
    "                               line_color=CMAP[1],\n",
    "                               showlegend=False),\n",
    "                              \n",
    "                      row=1, col=1)\n",
    "    else:\n",
    "        fig.add_trace(go.Violin(x=data.values, name=ags,\n",
    "                                orientation='h',\n",
    "                               line_color=CMAP[1],\n",
    "                               showlegend=False),\n",
    "                      row=1, col=2)\n",
    "        \n",
    "    fig.add_trace(go.Violin(x=data.values, name=ags,\n",
    "                                orientation='h',\n",
    "                               line_color=CMAP[1],\n",
    "                               showlegend=True,\n",
    "                           visible='legendonly'),\n",
    "                              \n",
    "                      row=2, col=1)\n",
    "    \n",
    "fig.update_xaxes(title_text=\"%\", side='bottom', row=2, col=1)\n",
    "fig.update_yaxes(type='category', row=1, col=1)\n",
    "fig.update_yaxes(type='category', row=1, col=2)\n",
    "\n",
    "fig.update_layout(\n",
    "    title='Relative Electrical Autarky per Municipality (Energy Balance)')\n",
    "fig.show()"
   ]
  },
  {
   "cell_type": "markdown",
   "metadata": {},
   "source": [
    "# 4 Energy Mix"
   ]
  },
  {
   "cell_type": "markdown",
   "metadata": {},
   "source": [
    "INFO:\n",
    "- export == ins nationale Netz\n",
    "- ABW_... == intra_regional\n",
    "\n",
    "TODO:"
   ]
  },
  {
   "cell_type": "markdown",
   "metadata": {},
   "source": [
    "## 4.1 Balance"
   ]
  },
  {
   "cell_type": "code",
   "execution_count": null,
   "metadata": {},
   "outputs": [],
   "source": [
    "supply = results_scns[scenario]['flows_txaxt']['Stromerzeugung'].sum(level=1)\n",
    "abw_import = results_scns[scenario]['flows_txaxt']['Intra-regional exchange']['import'].sum(level=1)\n",
    "abw_import = abw_import.rename('ABW-import')\n",
    "supply = supply.join(abw_import)\n",
    "\n",
    "\n",
    "demand = results_scns[scenario]['flows_txaxt']['Stromnachfrage'].sum(level=1)\n",
    "abw_export = results_scns[scenario]['flows_txaxt']['Intra-regional exchange']['export'].sum(level=1)\n",
    "abw_export = abw_export.rename('ABW-export')\n",
    "demand = demand.join(abw_export)\n",
    "el_heating = results_scns[scenario]['flows_txaxt']['Stromnachfrage Wärme'].sum(level=2).sum(axis=1)\n",
    "demand = demand.join(el_heating.rename('el_heating'))\n",
    "    \n",
    "plot_snd_total(regions_scns[scenario], supply , demand)"
   ]
  },
  {
   "cell_type": "markdown",
   "metadata": {},
   "source": [
    "## 4.2 Timeseries"
   ]
  },
  {
   "cell_type": "code",
   "execution_count": null,
   "metadata": {},
   "outputs": [],
   "source": [
    "plot_timeseries(results_scns[scenario], kind='el')#, ags='15091160')"
   ]
  },
  {
   "cell_type": "markdown",
   "metadata": {},
   "source": [
    "# 5 Emissions"
   ]
  },
  {
   "cell_type": "markdown",
   "metadata": {},
   "source": [
    "TODO\n",
    "- [ ] große Werte besonders schöne Farben\n",
    "- [ ] Notiz zur Zuordnung von KWK zu el etc"
   ]
  },
  {
   "cell_type": "markdown",
   "metadata": {},
   "source": [
    "## 5.1 Emissions aggregated"
   ]
  },
  {
   "cell_type": "code",
   "execution_count": null,
   "metadata": {
    "scrolled": false
   },
   "outputs": [],
   "source": [
    "df_data_left = results_scns[scenario]['results_t']['CO2 emissions th. total'].rename('th').to_frame()\n",
    "df_data_right = results_scns[scenario]['results_t']['CO2 emissions el. total'].rename('el').to_frame()\n",
    "\n",
    "# drop nans & zeros\n",
    "df_data_left = df_data_left[df_data_left!=0].dropna()\n",
    "df_data_right = df_data_right[df_data_right!=0].dropna()\n",
    "\n",
    "df_data = df_data_left.join(df_data_right, how='outer')\n",
    "df_data = df_data.fillna(0).T\n",
    "df_data = df_data.sort_values(by=list(df_data.index), axis=1, ascending=True)\n",
    "#df_rel = df_data.T / df_data.sum(axis=1).values\n",
    "\n",
    "fig = px.bar(df_data, orientation='h',\n",
    "             color_discrete_sequence=CMAP,\n",
    "             text=df_data.sum(axis=1).to_list()\n",
    "            )\n",
    "\n",
    "\n",
    "fig.update_layout(barmode='stack',\n",
    "                  autosize=True,\n",
    "                  title='CO2 Emissions',\n",
    "                  legend={'traceorder':'reversed'},\n",
    "                 uniformtext_mode='hide')\n",
    "fig.update_traces(hovertemplate='CO2: %{x:.1f} t <br>Type: %{y}<br>Total: %{text:.1f} t') # \n",
    "fig.update_xaxes(title_text='t CO2')\n",
    "fig.update_yaxes(title_text='')\n",
    "fig.show()"
   ]
  },
  {
   "cell_type": "markdown",
   "metadata": {},
   "source": [
    "## 5.2 Emissions per Sector and Type"
   ]
  },
  {
   "cell_type": "code",
   "execution_count": null,
   "metadata": {},
   "outputs": [],
   "source": [
    "# Electricity\n",
    "data_el = pd.DataFrame({\n",
    "    'fix': results_scns[scenario]['results_axlxt']['CO2 emissions el. fix'].sum(axis=0),\n",
    "    'var': results_scns[scenario]['results_axlxt']['CO2 emissions el. var'].sum(axis=0),\n",
    "})\n",
    "\n",
    "fig = go.Figure()\n",
    "for cat in ['fix', 'var']:\n",
    "    fig.add_trace(go.Bar(x=data_el.rename(index=PRINT_NAMES).index,\n",
    "                         y=data_el[cat],\n",
    "                         name=cat))\n",
    "    \n",
    "fig.update_layout(\n",
    "    title='CO2 Emissions of Electricity Supply',\n",
    "    barmode='relative',\n",
    "    height=600,\n",
    "    xaxis={'categoryorder':'category ascending'},\n",
    "    xaxis_tickfont_size=14,\n",
    "    yaxis=dict(title='t CO2',\n",
    "               titlefont_size=16,\n",
    "               tickfont_size=14),\n",
    "               autosize=True)\n",
    "fig.show()\n",
    "\n",
    "# Heat\n",
    "data_el = pd.DataFrame({\n",
    "    'fix': results_scns[scenario]['results_axlxt']['CO2 emissions th. fix'].sum(axis=0),\n",
    "    'var': results_scns[scenario]['results_axlxt']['CO2 emissions th. var'].sum(axis=0),\n",
    "})\n",
    "\n",
    "fig = go.Figure()\n",
    "for cat in ['fix', 'var']:\n",
    "    fig.add_trace(go.Bar(x=data_el.rename(index=PRINT_NAMES).index,\n",
    "                         y=data_el[cat],\n",
    "                         name=cat))\n",
    "    \n",
    "fig.update_layout(\n",
    "    title='CO2 Emissions of Heat Supply',\n",
    "    barmode='relative',\n",
    "    height=600,\n",
    "    xaxis={'categoryorder':'category ascending'},\n",
    "    xaxis_tickfont_size=14,\n",
    "    yaxis=dict(title='t CO2',\n",
    "               titlefont_size=16,\n",
    "               tickfont_size=14),\n",
    "               autosize=True)\n",
    "fig.show()"
   ]
  },
  {
   "cell_type": "markdown",
   "metadata": {},
   "source": [
    "## 5.3 Sunburst Plot Test"
   ]
  },
  {
   "cell_type": "code",
   "execution_count": null,
   "metadata": {},
   "outputs": [],
   "source": []
  },
  {
   "cell_type": "markdown",
   "metadata": {},
   "source": [
    "# 6 Costs"
   ]
  },
  {
   "cell_type": "markdown",
   "metadata": {},
   "source": [
    "## 6.1 LCOE and LCOH"
   ]
  },
  {
   "cell_type": "markdown",
   "metadata": {},
   "source": [
    "<div class=\"alert alert-block alert-info\">\n",
    "<b>Notes on LCOE calculation</b>\n",
    "\n",
    "- Total LCOE calculate as $LCOE=\\frac{expenses_{el.total}}{demand_{el.,total}}$, likewise total LCOH calculate as $LCOH=\\frac{expenses_{th.,total}}{demand_{th.,total}}$\n",
    "- Total expenses $expenses_{el.total}$ are annual expenses. Investment costs are discounted to one year using equivalent periodic costs\n",
    "- The plot below shows fractions of these LCOE that are calculated as $LCOE_{technology}=\\frac{expenses_{el.,technology}}{demand_{el.,total}}$ representation the share of each technology at total cost of one MWh\n",
    "</div>"
   ]
  },
  {
   "cell_type": "code",
   "execution_count": null,
   "metadata": {
    "scrolled": false
   },
   "outputs": [],
   "source": [
    "values = ['LCOE','LCOH']\n",
    "\n",
    "df = pd.DataFrame([results_scns[scenario]['results_t'][i] for i in values], index=values)\n",
    "df = df.rename(columns=PRINT_NAMES)\n",
    "df = df.sort_values(by=values, axis=1, ascending=True)\n",
    "\n",
    "fig = px.bar(df, orientation='h',\n",
    "             title='LCOE and LCOH',\n",
    "            color_discrete_sequence=CMAP,\n",
    "                text=df.sum(axis=1).to_list())\n",
    "\n",
    "fig.update_layout(barmode='stack', legend={'traceorder':'reversed'},\n",
    "                  uniformtext_mode='hide'#, hovermode=\"y unified\"\n",
    "                 )\n",
    "fig.update_traces(hovertemplate='%{fullData.name}<br>'+\n",
    "                  'Type: %{y}<br>'+\n",
    "                  'Share:%{x:.1f}€ <br>'+\n",
    "                  'Total: %{text:.1f}€'+\n",
    "                  '<extra></extra>',) # \n",
    "fig.update_xaxes(title_text='€/MWh')\n",
    "fig.update_yaxes(title_text='')\n",
    "fig.show()"
   ]
  },
  {
   "cell_type": "markdown",
   "metadata": {},
   "source": [
    "# 7 Power Grid\n",
    "## 7.1 Maximum Line Loading Heatmap"
   ]
  },
  {
   "cell_type": "code",
   "execution_count": null,
   "metadata": {},
   "outputs": [],
   "source": [
    "df_data = results_scns[scenario]['flows_txaxt']['Line loading'].max(level=['ags_from','ags_to'])\n",
    "df_data = df_data.sort_index(ascending=False)\n",
    "df_data = df_data * 100\n",
    "\n",
    "x = df_data.index.get_level_values(level='ags_from')\n",
    "x = [re.split(r'(\\d+)', s) for s in x]\n",
    "x = [f\"{start}{MUN_NAMES[int(ags)]}{end}\" for start,ags,end in x]\n",
    "\n",
    "y = df_data.index.get_level_values(level='ags_to')\n",
    "y = [re.split(r'(\\d+)', s) for s in y]\n",
    "y = [f\"{start}{MUN_NAMES[int(ags)]}{end}\" for start,ags,end in y]\n",
    "\n",
    "\n",
    "fig = go.Figure(go.Heatmap(\n",
    "    x=x,\n",
    "    y=y,\n",
    "    z=df_data.values,\n",
    "    colorscale=CMAP,\n",
    "    colorbar=dict(title='%'),\n",
    "    hovertemplate='-> %{y}<br>'+\n",
    "    'Max Loading: %{z:.1f}%'+\n",
    "    '<extra></extra>',\n",
    "    showscale=True,\n",
    "    hoverongaps=False, \n",
    "))\n",
    "fig.update_layout(title='Max Line Loading in %',\n",
    "                  hovermode=\"x unified\")\n",
    "fig.update_xaxes(type='category')\n",
    "fig.update_yaxes(type='category', showspikes=True)\n",
    "fig.show()"
   ]
  },
  {
   "cell_type": "markdown",
   "metadata": {},
   "source": [
    "## 7.1 Maximum Line Loading Barcharts"
   ]
  },
  {
   "cell_type": "code",
   "execution_count": null,
   "metadata": {},
   "outputs": [],
   "source": [
    "df_data = results_scns[scenario]['flows_txaxt']['Line loading'].max(level=['ags_from','ags_to']) * 100\n",
    "df_data = df_data.sort_index(ascending=False)\n",
    "df_data = pd.DataFrame().from_dict({'line loading': df_data,'free capacity': 100-df_data})\n",
    "\n",
    "\n",
    "ags_from, ags_to = list(zip(*df_data.index))\n",
    "ags_from = [s.replace(re.findall(r\"\\d+\",s)[0], MUN_NAMES[int(re.findall(r\"\\d+\",s)[0])]) for s in ags_from]\n",
    "ags_to = [s.replace(re.findall(r\"\\d+\",s)[0], MUN_NAMES[int(re.findall(r\"\\d+\",s)[0])]) for s in ags_to]\n",
    "\n",
    "df_data.index = pd.MultiIndex.from_tuples(zip(*(ags_from, ags_to)))\n",
    "\n",
    "df_data.index = [f'{ags_from} -> {ags_to}' for ags_from, ags_to in df_data.index]\n",
    "#index = [re.split(r'(\\d+)', s) for s in df_data.index]\n",
    "#df_data.index = [f\"{start}{MUN_NAMES[int(ags)]}{end}\" for start,ags,end in index]\n",
    "\n",
    "fig = go.Figure() \n",
    "for i, (key, df) in enumerate(df_data.items()):\n",
    "\n",
    "    fig.add_bar(y=df.index,\n",
    "                x=df.values,\n",
    "                orientation='h',\n",
    "                name=key,\n",
    "                marker_color=CMAP[4*i+2],\n",
    "                hovertemplate='%{x:.2f}%',\n",
    "                showlegend=False)\n",
    "\n",
    "fig.update_layout(barmode=\"relative\",\n",
    "    title='Maximum Line Loading',\n",
    "    yaxis_tickfont_size=12,\n",
    "    xaxis=dict(\n",
    "        title='Loading in %',\n",
    "        titlefont_size=16,\n",
    "        tickfont_size=12,\n",
    "    ))\n",
    "\n",
    "fig.update_yaxes(type='category')#,  tickangle=45)\n",
    "fig.update_xaxes(showspikes=True)\n",
    "fig.update_layout(hovermode=\"y unified\")\n",
    "fig.show()\n"
   ]
  },
  {
   "cell_type": "markdown",
   "metadata": {},
   "source": [
    "## 7.2 Line Loading Distribution"
   ]
  },
  {
   "cell_type": "code",
   "execution_count": null,
   "metadata": {
    "scrolled": false
   },
   "outputs": [],
   "source": [
    "df_data = results_scns[scenario]['flows_txaxt']['Line loading per bus']\n",
    "df_data = df_data * 100\n",
    "index = df_data.index.get_level_values(level=0)\n",
    "\n",
    "fig = go.Figure()\n",
    "# limit = 2\n",
    "# fig = make_subplots(rows=1, cols=2, horizontal_spacing=0.25)\n",
    "# for ags, data in df_data.iteritems():\n",
    "#     if data.describe().loc['mean'] > limit0\n",
    "\n",
    "fig.add_trace(go.Box(\n",
    "    y=df_data.values,\n",
    "    x=index,\n",
    "    name='Increase',\n",
    "    marker_color=CMAP[3],\n",
    "    boxpoints=False,))\n",
    "\n",
    "fig.update_layout(\n",
    "    title='Line Loading',\n",
    "    yaxis_title='in %',\n",
    "    boxmode='group',\n",
    "    hovermode=\"x unified\")\n",
    "\n",
    "fig.update_xaxes(type='category', tickangle=45)\n",
    "fig.show()"
   ]
  },
  {
   "cell_type": "markdown",
   "metadata": {},
   "source": [
    "## 7.3 Mean Line Loading"
   ]
  },
  {
   "cell_type": "code",
   "execution_count": null,
   "metadata": {
    "scrolled": false
   },
   "outputs": [],
   "source": [
    "df_data = results_scns[scenario]['flows_txaxt']['Line loading'].mean(level=['ags_from','ags_to'])\n",
    "df_data = df_data.sort_index(ascending=False)\n",
    "df_data = df_data * 100\n",
    "\n",
    "hover_text = [ f'Mean loading:{int(i)}%<br>' for i in df_data.values]\n",
    "\n",
    "x = df_data.index.get_level_values(level='ags_from')\n",
    "x = [re.split(r'(\\d+)', s) for s in x]\n",
    "x = [f\"{start}{MUN_NAMES[int(ags)]}{end}\" for start,ags,end in x]\n",
    "\n",
    "y = df_data.index.get_level_values(level='ags_to')\n",
    "y = [re.split(r'(\\d+)', s) for s in y]\n",
    "y = [f\"{start}{MUN_NAMES[int(ags)]}{end}\" for start,ags,end in y]\n",
    "\n",
    "\n",
    "fig = go.Figure(go.Heatmap(\n",
    "    x=x,\n",
    "    y=y,\n",
    "    z=df_data.values,\n",
    "    colorscale=CMAP,\n",
    "    colorbar=dict(title='%'),\n",
    "    hovertemplate='-> %{y}<br>'+\n",
    "    'Mean Loading: %{z:.1f}%'+\n",
    "    '<extra></extra>',\n",
    "    #hovertext=hover_text,\n",
    "    showscale=True,\n",
    "    hoverongaps=False, \n",
    "))\n",
    "fig.update_layout(title='Mean Line Loading in %',\n",
    "                  hovermode=\"x unified\")\n",
    "fig.update_xaxes(type='category')\n",
    "fig.update_yaxes(type='category', showspikes=True)\n",
    "fig.show()"
   ]
  },
  {
   "cell_type": "markdown",
   "metadata": {},
   "source": [
    "# 8 Flexibility"
   ]
  },
  {
   "cell_type": "markdown",
   "metadata": {},
   "source": [
    "- radar chart https://plotly.com/python/radar-chart/"
   ]
  },
  {
   "cell_type": "markdown",
   "metadata": {},
   "source": [
    "<div class=\"alert alert-block alert-info\">\n",
    "<b>Calculation of storage ratios</b>\n",
    "\n",
    "To compare/show the usage of different flexibility options 3 different ratios are used:\n",
    "\n",
    "1. Full Load Hours:\n",
    "    \n",
    "    The Ratio of discharged energy $E_{tech, discharge}$ to nominal discharge power $P_{n, discharge}$\n",
    "    \n",
    "    $Full Load Hours_{technology}=\\frac{E_{tech, discharge}}{P_{n, discharge}}$\n",
    "    \n",
    "2. Total Cycles:\n",
    "    \n",
    "    The Ratio of discharged energy $E_{tech, discharge}$ to installed capacity $C_{technology}$\n",
    "    \n",
    "    $Total Cycles_{technology}=\\frac{E_{tech, discharge}}{C_{technology}}$\n",
    "    \n",
    "    \n",
    "3. Storage Usage Rate:\n",
    "    \n",
    "    The Ratio of $Total Cycles_{technology}$ to $Max Cycles_{technology}$\n",
    "    \n",
    "    $Max Cycles_{technology}=\\frac{1/2 \\, \\cdot \\, timesteps \\, \\cdot \\, P_{n, discharge}}{C_{technology}}$\n",
    "    \n",
    "    $Storage Usage Rate_{technology} = \\frac{Total Cycles_{technology}}{Max Cycles_{technology}}$\n",
    "    \n",
    "\n",
    "</div>\n",
    "    "
   ]
  },
  {
   "cell_type": "markdown",
   "metadata": {},
   "source": [
    "## 8.1 Heat storage"
   ]
  },
  {
   "cell_type": "markdown",
   "metadata": {},
   "source": [
    "<div class=\"alert alert-block alert-info\">\n",
    "<b>Notes on Heatstorage Charts</b>\n",
    "  \n",
    "- relative cycles will not be used for comparission. This is due to a high c-rate (6.7) of small, decantralised storages which makes the relative usage using eq. full cycles not very meaningful.\n",
    "    \n",
    "- To show the total cycles, only the discharge values are chosen as the difference are the storage losses and almost negligibly  \n",
    "\n",
    "</div>\n",
    "    "
   ]
  },
  {
   "cell_type": "code",
   "execution_count": null,
   "metadata": {},
   "outputs": [],
   "source": [
    "capacity = results_scns[scenario]['parameters']['Installed capacity heat storage']\n",
    "capacity = capacity.rename(columns={'stor_th_large':'cen','stor_th_small':'dec'})\n",
    "capacity.index = capacity.index.astype(int)\n",
    "\n",
    "power_discharge = results_scns[scenario]['parameters']['Discharge power heat storage']\n",
    "power_discharge = power_discharge.rename(columns={'stor_th_large':'cen','stor_th_small':'dec'})\n",
    "\n",
    "discharge = results_scns[scenario]['results_axlxt']['Wärmespeicher nach Gemeinde']\n",
    "discharge = discharge.discharge.unstack().fillna(0).T\n",
    "discharge.index = discharge.index.astype(int)\n",
    "\n",
    "# combine\n",
    "heat_storage_figures = pd.concat([capacity, power_discharge, discharge], axis=1,\n",
    "                                 keys=['capacity', 'power_discharge', 'discharge'])\n",
    "\n",
    "df_data = heat_storage_figures.sum().unstack()\n",
    "df_data = df_data.join(df_data.sum(axis=1).rename('Total'))\n",
    "display(df_data.round())"
   ]
  },
  {
   "cell_type": "code",
   "execution_count": null,
   "metadata": {},
   "outputs": [],
   "source": [
    "heat_storage_ratios = get_storage_ratios(heat_storage_figures, regions_scns[scenario])\n",
    "heat_storage_ratios = heat_storage_ratios.drop(columns=[('dec', 'Storage Usage Rate')])\n",
    "\n",
    "plot_storage_ratios(heat_storage_ratios, regions_scns[scenario], title='Heat storage')"
   ]
  },
  {
   "cell_type": "markdown",
   "metadata": {},
   "source": [
    "### TODO\n",
    "\n",
    "- Ratios für Gesamtregion? (als scalare Tabelle) Wie genau soll das gehen?\n",
    "    - Unterschiedliche Kapazitätswerte. Addition von Cen und Dec nicht sinnvoll.\n",
    "    - Mittelwerte auch nicht wirklich sinnvoll\n"
   ]
  },
  {
   "cell_type": "markdown",
   "metadata": {},
   "source": [
    "## 8.2 Batterystorage"
   ]
  },
  {
   "cell_type": "markdown",
   "metadata": {},
   "source": [
    "<div class=\"alert alert-block alert-info\">\n",
    "<b>Notes on Battery Storage Charts</b>\n",
    "  \n",
    "- the relative values on the secondary axis only acount for the municipalities!\n",
    "    \n",
    "- To show the total cycles, only the discharge values are chosen. The difference between charge and discharge results from losses and are somewhat negligible.\n",
    "    \n",
    "- If no small storages are installed in a scenario, they cannot be evaluated. This will result in empty charts.\n",
    "\n",
    "</div>\n",
    "    "
   ]
  },
  {
   "cell_type": "code",
   "execution_count": null,
   "metadata": {},
   "outputs": [],
   "source": [
    "stor_cap_small = results_scns[scenario]['parameters']['Installierte Kapazität Großbatterien']\n",
    "stor_cap_large = results_scns[scenario]['parameters']['Installierte Kapazität PV-Batteriespeicher']\n",
    "\n",
    "battery_storage_figures = pd.concat([stor_cap_small, stor_cap_large], axis=1,\n",
    "                                    keys=['large','small'])\n",
    "\n",
    "storage =  results_scns[scenario]['results_axlxt']['Batteriespeicher nach Gemeinde']\n",
    "storage = storage.unstack(\"level\").swaplevel(axis=1)\n",
    "storage.index = storage.index.astype(int)\n",
    "\n",
    "battery_storage_figures = battery_storage_figures.join(storage).sort_index(level=0, axis=1)\n",
    "battery_storage_figures = battery_storage_figures.swaplevel(axis=1)\n",
    "\n",
    "df_data = battery_storage_figures.sum().unstack()\n",
    "df_data = df_data.join(df_data.sum(axis=1).rename('Total'))\n",
    "display(df_data.round())"
   ]
  },
  {
   "cell_type": "code",
   "execution_count": null,
   "metadata": {},
   "outputs": [],
   "source": [
    "battery_storage_ratios = get_storage_ratios(battery_storage_figures, regions_scns[scenario])\n",
    "\n",
    "plot_storage_ratios(battery_storage_ratios, regions_scns[scenario], title='Battery storage')"
   ]
  },
  {
   "cell_type": "markdown",
   "metadata": {},
   "source": [
    "### 8.2.2 Timeseries"
   ]
  },
  {
   "cell_type": "code",
   "execution_count": null,
   "metadata": {
    "scrolled": false
   },
   "outputs": [],
   "source": [
    "# timeseries\n",
    "df_data = results_scns[scenario]['flows_txaxt']['Batteriespeicher'].sum(level=0)\n",
    "# only get nonzero values\n",
    "#df_data = df_data.loc[(df_data != 0).any(axis=1)]\n",
    "\n",
    "fig = go.Figure()\n",
    "\n",
    "for i, (key, df) in enumerate(df_data.items()):\n",
    "# Add traces\n",
    "    fig.add_trace(go.Scatter(x=df.index,\n",
    "                             y=df,\n",
    "                             mode='markers+lines',\n",
    "                             line=dict(color=CMAP[2*i+1], width=1,),\n",
    "                             opacity=0.8,\n",
    "                             name=key,\n",
    "                            line_shape='hv',\n",
    "                            hovertemplate='%{y:.2f} MWh<br>',\n",
    "                            ))\n",
    "fig.update_xaxes(\n",
    "        title='Zoom',\n",
    "        rangeslider_visible=True,\n",
    "        rangeselector=dict(\n",
    "            buttons=list([\n",
    "                dict(count=6, label=\"6m\", step=\"month\", stepmode=\"backward\"),\n",
    "                dict(count=1, label=\"1m\", step=\"month\", stepmode=\"backward\"),\n",
    "                dict(count=14, label=\"2w\", step=\"day\", stepmode=\"backward\"),\n",
    "                dict(count=7, label=\"1w\", step=\"day\", stepmode=\"backward\"),\n",
    "                dict(count=3, label=\"3d\", step=\"day\", stepmode=\"backward\"),\n",
    "                ])))\n",
    "fig.update_layout(title='Battery Charge/Discharge',\n",
    "                  hovermode=\"x unified\")\n",
    "fig.update_yaxes(title_text=\"Energy in MWh\", showspikes=True)\n",
    "fig.show()"
   ]
  },
  {
   "cell_type": "markdown",
   "metadata": {},
   "source": [
    "### 8.2.3 Scatter"
   ]
  },
  {
   "cell_type": "markdown",
   "metadata": {},
   "source": [
    "<div class=\"alert alert-block alert-info\">\n",
    "<b>Notes on Battery Storage Scatter Chart</b>\n",
    "\n",
    "- Datapoints with zero values for both discharge or charge of battery storage are excluded\n",
    "- The label of the Y-axis diverts as its varying units depending on the traces you select. The units will be displayed in the infobox by hovering over the datapoints\n",
    "- The mean value of all line loadings is used per timestep\n",
    "- \n",
    "    \n",
    "</div>"
   ]
  },
  {
   "cell_type": "code",
   "execution_count": null,
   "metadata": {
    "scrolled": false
   },
   "outputs": [],
   "source": [
    "RE = ['pv_ground', 'pv_roof_large', 'pv_roof_small', 'wind']\n",
    "# timeseries\n",
    "df_re_ts = results_scns[scenario]['flows_txaxt']['Stromerzeugung'][RE].sum(axis=1).sum(level=0)\n",
    "df_dsm_ts = results_scns[scenario]['flows_txaxt']['DSM activation']['Demand decrease'].sum(level=0)\n",
    "df_imports_ts = results_scns[scenario]['flows_txaxt']['Stromimport'].sum(axis=1).sum(level=0)\n",
    "df_lines_ts = results_scns[scenario]['flows_txaxt']['Line loading'].mean(level=2)\n",
    "\n",
    "df_storage_in_ts = results_scns[scenario]['flows_txaxt']['Batteriespeicher']['charge'].sum(level=0)\n",
    "df_storage_out_ts = results_scns[scenario]['flows_txaxt']['Batteriespeicher']['discharge'].sum(level=0)\n",
    "\n",
    "df_data = pd.concat([df_re_ts, df_dsm_ts, df_imports_ts, df_lines_ts, df_storage_in_ts, df_storage_out_ts],\n",
    "                    axis=1, keys=['RE', 'DSM', 'Import', 'Lineload', 'Charge', 'Discharge'])\n",
    "\n",
    "# remove every timesteps where charge/discharge equals zero\n",
    "df_data = df_data.loc[(df_data[['Charge', 'Discharge']] != 0).any(axis=1)]\n",
    "\n",
    "fig = go.Figure()\n",
    "\n",
    "for i, (key, df) in enumerate(df_data.drop(columns=['Charge', 'Discharge']).items()):\n",
    "    \n",
    "    visible = 'legendonly' if i else True\n",
    "    \n",
    "    hovertemplate = \"%{fullData.name}<br>x = %{x:.2f} MWh <br>y = %{y:.2f} \" + UNITS[key]\n",
    "    \n",
    "    \n",
    "    # Add traces\n",
    "    fig.add_trace(go.Scatter(y=df,\n",
    "                             x=df_data['Charge'],\n",
    "                             mode='markers',\n",
    "                             opacity=0.7,\n",
    "                             marker_color=CMAP[3],\n",
    "                             name= 'Charge-'+key,\n",
    "                             visible=visible,\n",
    "                             hovertemplate=hovertemplate,\n",
    "                             ))\n",
    "\n",
    "    fig.add_trace(go.Scatter(y=df,\n",
    "                             x=df_data['Discharge'],\n",
    "                             mode='markers',\n",
    "                             marker_color=CMAP[0],\n",
    "                             opacity=0.7,\n",
    "                             name= 'Disharge-' + key,\n",
    "                             visible=visible,\n",
    "                             hovertemplate=hovertemplate,\n",
    "                            ))\n",
    "\n",
    "\n",
    "\n",
    "fig.update_layout(title=\"Scatter Battery Storage - X\",)\n",
    "fig.update_yaxes(title_text='MWh or % for line loading', showspikes=True)\n",
    "fig.update_xaxes(title_text='MWh of battery storage charge/discharge', showspikes=True)\n",
    "fig.show()"
   ]
  },
  {
   "cell_type": "markdown",
   "metadata": {},
   "source": [
    "## 8.3 DSM"
   ]
  },
  {
   "cell_type": "markdown",
   "metadata": {},
   "source": [
    "### 8.3.1 Activation"
   ]
  },
  {
   "cell_type": "code",
   "execution_count": null,
   "metadata": {},
   "outputs": [],
   "source": [
    "df_data = results_scns[scenario]['flows_txaxt']['DSM activation']\n",
    "\n",
    "x = df_data.index.get_level_values(level=1)\n",
    "x = pd.Series(x.astype(int).values).map(MUN_NAMES).values\n",
    "\n",
    "fig = go.Figure()\n",
    "\n",
    "for key, df in df_data.items():\n",
    "    \n",
    "    color = '#3D9970' if 'increase' in key else '#FF4136'\n",
    "    fig.add_trace(go.Box(x=x,\n",
    "        y=df,\n",
    "        name=key,\n",
    "        marker_color=color,\n",
    "        boxpoints=False,))\n",
    "\n",
    "fig.update_layout(\n",
    "    yaxis_title='DSM activation in MWh',\n",
    "    boxmode='group',\n",
    "#    hovermode=\"x unified\",\n",
    ")\n",
    "\n",
    "fig.update_xaxes(type='category', tickangle=45)\n",
    "fig.show()\n"
   ]
  },
  {
   "cell_type": "markdown",
   "metadata": {},
   "source": [
    "### 8.3.2 DSM Total Sum"
   ]
  },
  {
   "cell_type": "code",
   "execution_count": null,
   "metadata": {},
   "outputs": [],
   "source": [
    "df_data = results_scns[scenario]['flows_txaxt']['DSM activation']\n",
    "new = pd.concat([df_data.sum(level='timestamp')],axis=1, keys=['100'], names=['ags']).swaplevel(axis=1)\n",
    "df_data = df_data.unstack().join(new)\n",
    "df_data = df_data.sort_index(axis=1).stack()\n",
    "df_data = df_data.sum(level='ags')\n",
    "df_data.index = df_data.index.astype(int)\n",
    "\n",
    "demand_hh = results_scns[scenario]['results_axlxt']['Stromnachfrage nach Gemeinde']['hh']\n",
    "demand_hh = demand_hh.append(pd.Series(demand_hh.sum(), index=[100]))\n",
    "\n",
    "df_data = df_data['Demand decrease'] /  demand_hh * 100\n",
    "\n",
    "#df_data = df_data.sort_values(ascending=False)\n",
    "df_data = df_data.rename(index=MUN_NAMES)\n",
    "\n",
    "fig = go.Figure()\n",
    "fig.add_trace(\n",
    "    go.Bar(x=df_data.index,\n",
    "           y=df_data.values,\n",
    "           name='Ratio',\n",
    "           orientation='v',\n",
    "           marker_color=CMAP[1],\n",
    "          hovertemplate='%{y:.2f} %'))\n",
    "\n",
    "fig.update_yaxes(title='%')\n",
    "fig.update_layout(\n",
    "    title='Ratio DSM / demand hh',\n",
    "    showlegend=False,\n",
    "    hovermode=\"x unified\")\n",
    "fig.show()"
   ]
  },
  {
   "cell_type": "markdown",
   "metadata": {},
   "source": [
    "### 8.3.3 DSM Timeseries"
   ]
  },
  {
   "cell_type": "code",
   "execution_count": null,
   "metadata": {
    "scrolled": false
   },
   "outputs": [],
   "source": [
    "df_data = results_scns[scenario]['flows_txaxt']['DSM activation']\n",
    "new = pd.concat([df_data.sum(level='timestamp')],axis=1, keys=['100'], names=['ags']).swaplevel(axis=1)\n",
    "df_data = df_data.unstack().join(new)\n",
    "df_data = df_data.sort_index(axis=1).stack()\n",
    "\n",
    "fig = go.Figure()\n",
    "for vis, (ags, df) in enumerate(df_data.groupby(level='ags')):\n",
    "    for leg, (key, data) in enumerate(df_data.items()):\n",
    "        \n",
    "        legend = False if leg else True\n",
    "        visible = 'legendonly' if vis else True\n",
    "        \n",
    "        data = data.loc[(slice(None), ags)]\n",
    "        fig.add_trace(go.Scatter(x=data.index,\n",
    "                                 y=data.values,\n",
    "                                 name=MUN_NAMES[int(ags)],\n",
    "                                 legendgroup=ags,\n",
    "                                 mode='lines',\n",
    "                                 showlegend=legend,\n",
    "                                 visible=visible,\n",
    "                                 marker_color=CMAP[2*leg+2],\n",
    "                                 hovertemplate='%{y:.2f} MW'\n",
    "                                ))\n",
    "\n",
    "fig.update_xaxes(\n",
    "    title='Zoom',\n",
    "    rangeslider_visible=True,\n",
    "    rangeselector=dict(\n",
    "        buttons=list([\n",
    "            dict(count=6, label=\"6m\", step=\"month\", stepmode=\"backward\"),\n",
    "            dict(count=1, label=\"1m\", step=\"month\", stepmode=\"backward\"),\n",
    "            dict(count=14, label=\"2w\", step=\"day\", stepmode=\"backward\"),\n",
    "            dict(count=7, label=\"1w\", step=\"day\", stepmode=\"backward\"),\n",
    "            dict(count=3, label=\"3d\", step=\"day\", stepmode=\"backward\"),\n",
    "            #dict(step=\"all\")\n",
    "        ])\n",
    "    )\n",
    ")\n",
    "\n",
    "fig.update_layout(\n",
    "    title='Demand Side Management of ABW',\n",
    "    height = 700,\n",
    "    xaxis_tickfont_size=14,\n",
    "    yaxis=dict(title='MW', titlefont_size=16, tickfont_size=14),\n",
    "    autosize=True,\n",
    "    hovermode=\"x unified\")\n",
    "\n",
    "fig.show()\n"
   ]
  },
  {
   "cell_type": "markdown",
   "metadata": {},
   "source": [
    "# 9 Energy Exchange"
   ]
  },
  {
   "cell_type": "markdown",
   "metadata": {},
   "source": [
    "## 9.1 Intra-regional Exchange balance"
   ]
  },
  {
   "cell_type": "code",
   "execution_count": null,
   "metadata": {},
   "outputs": [],
   "source": [
    "df_data = results_scns[scenario]['results_axlxt']['Intra-regional exchange']\n",
    "df_data = df_data.rename(index=MUN_NAMES)\n",
    "df_data = df_data / 1e3\n",
    "\n",
    "fig = go.Figure()\n",
    "\n",
    "fig.add_trace(go.Bar(x=df_data.index, y=df_data['export'].values, \n",
    "                base=0,\n",
    "                marker_color='crimson',\n",
    "                name='export'\n",
    "                ))\n",
    "\n",
    "\n",
    "fig.add_trace(go.Bar(x=df_data.index, y=df_data['import'].values, \n",
    "                base=0,\n",
    "                marker_color='lightslategrey',\n",
    "                name='import'\n",
    "                ))\n",
    "fig.update_layout(title='Annual net electricity exchanges among administrive districts within ABW region')\n",
    "fig.update_xaxes(type='category', tickangle=45)\n",
    "fig.show()"
   ]
  },
  {
   "cell_type": "markdown",
   "metadata": {},
   "source": [
    "## 9.3 Heatmap"
   ]
  },
  {
   "cell_type": "code",
   "execution_count": null,
   "metadata": {
    "scrolled": false
   },
   "outputs": [],
   "source": [
    "df_data = results_scns[scenario]['results_axlxt']['Stromnetzleitungen']\n",
    "\n",
    "# swap index of negative values\n",
    "invert = df_data.loc[df_data['in']<0]\n",
    "invert.index = invert.index.swaplevel()\n",
    "invert.index.names = (['ags_from', 'ags_to'])\n",
    "df_data = df_data.loc[df_data['in']>0].append(invert * -1)\n",
    "\n",
    "df_data = df_data['out']\n",
    "df_data = df_data.sort_index()\n",
    "df_data = df_data / 1e3\n",
    "\n",
    "hover_text = [f' From: {MUN_NAMES[int(ags_from)]} <br> \\\n",
    "To: {MUN_NAMES[int(ags_to)]} <br> \\\n",
    "Energy: {round(value,2)} MWh' for (ags_from, ags_to), value in df_data.items()]\n",
    "\n",
    "x = df_data.index.get_level_values(level='ags_from')\n",
    "x = pd.Series(x.astype(int).values).map(MUN_NAMES).values\n",
    "\n",
    "y = df_data.index.get_level_values(level='ags_to')\n",
    "y = pd.Series(y.astype(int).values).map(MUN_NAMES).values\n",
    "\n",
    "fig = go.Figure(go.Heatmap(\n",
    "    x=x,\n",
    "    y=y,\n",
    "    z=df_data.values,\n",
    "    colorbar=dict(title='MWh'),\n",
    "    colorscale='Viridis',\n",
    "    text= hover_text,\n",
    "    hoverongaps=False, \n",
    "    hovertemplate='%{text}<extra></extra>'\n",
    "))\n",
    "fig.update_layout(title='Intra Regional Energy Exchange')\n",
    "fig.update_xaxes(type='category')\n",
    "fig.update_yaxes(type='category')\n",
    "fig.show()"
   ]
  },
  {
   "cell_type": "markdown",
   "metadata": {},
   "source": [
    "## 9.4 Energy Flows"
   ]
  },
  {
   "cell_type": "code",
   "execution_count": null,
   "metadata": {},
   "outputs": [],
   "source": [
    "df_data = results_scns[scenario]['results_axlxt']['Stromnetzleitungen']\n",
    "invert = df_data.loc[df_data['in']<0]\n",
    "invert.index = invert.index.swaplevel()\n",
    "invert.index.names = (['ags_from', 'ags_to'])\n",
    "df_data = df_data.loc[df_data['in']>0].append(invert * -1)\n",
    "\n",
    "\n",
    "converter = dict(zip(MUN_NAMES.keys(), range(20)))\n",
    "\n",
    "source = [converter[int(i)] for i in df_data['out'].index.get_level_values(level='ags_from')]\n",
    "target = [converter[int(i)] for i in df_data['out'].index.get_level_values(level='ags_to')]"
   ]
  },
  {
   "cell_type": "code",
   "execution_count": null,
   "metadata": {},
   "outputs": [],
   "source": [
    "fig = go.Figure(data=[go.Sankey(\n",
    "    node = dict(\n",
    "      pad = 15,\n",
    "      thickness = 20,\n",
    "      line = dict(color = \"black\", width = 0.5),\n",
    "      label = [MUN_NAMES[i] for i in list(converter)],\n",
    "#       customdata = [\"Long name A1\", \"Long name A2\", \"Long name A3\", \"Long name B1\",\n",
    "#                     \"Long name B2\", \"Long name B3\"],\n",
    "        \n",
    "#       hovertemplate='Node %{customdata} has total value %{value}<extra></extra>',  \n",
    "      color = \"blue\"\n",
    "    ),\n",
    "    link = dict(\n",
    "      source = source, # indices correspond to labels, eg A1, A2, A2, B1, ...\n",
    "      target = target,\n",
    "      value =df_data['out'].values,\n",
    "#         color = ['green', 'yellow', 'black', 'red', 'violet', 'white'],\n",
    "#       customdata = [\"q\",\"r\",\"s\",\"t\",\"u\",\"v\"],\n",
    "        \n",
    "#       hovertemplate='Link from node %{source.customdata}<br />'+\n",
    "#         'to node%{target.customdata}<br />has value %{value}'+\n",
    "#         '<br />and data %{customdata}<extra></extra>',  \n",
    "  ))])\n",
    "\n",
    "fig.update_layout(title_text=\"Energy Flows\", font_size=12)\n",
    "fig.show()"
   ]
  },
  {
   "cell_type": "markdown",
   "metadata": {},
   "source": [
    "## 9.5 Chord diagram"
   ]
  },
  {
   "cell_type": "raw",
   "metadata": {},
   "source": [
    "import pandas as pd\n",
    "import holoviews as hv\n",
    "from holoviews import opts, dim"
   ]
  },
  {
   "cell_type": "raw",
   "metadata": {},
   "source": [
    "df_data = results_scns[scenario]['results_axlxt']['Stromnetzleitungen']\n",
    "invert = df_data.loc[df_data['in']<0]\n",
    "invert.index = invert.index.swaplevel()\n",
    "invert.index.names = (['ags_from', 'ags_to'])\n",
    "df_data = df_data.loc[df_data['in']>0].append(invert * -1)\n",
    "\n",
    "converter = dict(zip(MUN_NAMES.keys(), range(20)))\n",
    "\n",
    "source = [converter[int(i)] for i in df_data['out'].index.get_level_values(level='ags_from')]\n",
    "target = [converter[int(i)] for i in df_data['out'].index.get_level_values(level='ags_to')]\n",
    "chord_links = pd.DataFrame()\n",
    "chord_links['source'] = source\n",
    "chord_links['target'] = target\n",
    "chord_links['value'] = df_data['out'].values\n",
    "\n",
    "#names = pd.Series([MUN_NAMES[i] for i in list(converter)]).rename('name')\n",
    "names = pd.Series(list(MUN_NAMES.values())).rename('name')\n",
    "chord_nodes = hv.Dataset( names, 'index')"
   ]
  },
  {
   "cell_type": "raw",
   "metadata": {},
   "source": [
    "chord = hv.Chord((chord_links, chord_nodes)).select(value=(20, None))\n",
    "chord.opts(\n",
    "    opts.Chord(cmap='Category20', edge_cmap='Category20', edge_color=dim('source').str(), label_index='names',\n",
    "               #labels='name', # somehow doesnt work\n",
    "               node_color=dim('index').str()))"
   ]
  },
  {
   "cell_type": "code",
   "execution_count": null,
   "metadata": {},
   "outputs": [],
   "source": []
  }
 ],
 "metadata": {
  "kernelspec": {
   "display_name": "Python [conda env:windnode-abw]",
   "language": "python",
   "name": "conda-env-windnode-abw-py"
  },
  "language_info": {
   "codemirror_mode": {
    "name": "ipython",
    "version": 3
   },
   "file_extension": ".py",
   "mimetype": "text/x-python",
   "name": "python",
   "nbconvert_exporter": "python",
   "pygments_lexer": "ipython3",
   "version": "3.7.7"
  }
 },
 "nbformat": 4,
 "nbformat_minor": 4
}
