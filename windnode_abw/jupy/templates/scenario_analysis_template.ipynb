{
 "cells": [
  {
   "cell_type": "markdown",
   "metadata": {},
   "source": [
    "# WINDNODE ABW - Scenario Analysis\n",
    "\n",
    "<img src=\"http://reiner-lemoine-institut.de//wp-content/uploads/2015/09/rlilogo.png\" width=\"100\" style=\"float: right\">\n",
    "\n",
    "__copyright__ \t= \"© Reiner Lemoine Institut\" <br>\n",
    "__license__ \t= \"GNU Affero General Public License Version 3 (AGPL-3.0)\" <br>\n",
    "__url__ \t\t= \"https://www.gnu.org/licenses/agpl-3.0.en.html\" <br>\n",
    "__authors__ \t\t= \"[Guido Pleßmann](https://github.com/gplssm), [Jonathan Amme](https://github.com/nesnoj), [Julian Endres](https://github.com/nailend), \" <br>"
   ]
  },
  {
   "cell_type": "markdown",
   "metadata": {},
   "source": [
    "## Intro\n",
    "\n",
    "<font size=\"4\">This jupyter notebook provides plots and information to the results of the dispatch-optimization of certain [scenarios](#0_scenario_information) by the study [__\"A regional energy system model for Anhalt-Bitterfeld-Wittenberg\"__](https://windnode-abw.readthedocs.io/en/dev/). The different scenarios cover various combinations of renewable energy penetration and flexibility options. The notebooks will, therefore, give an overall view of energy supply and demand by the various scenarios and an insight into scenario-specific distribution and flexiblity effects. This representation is intended to ensure transparency but also to provide a low barrier for further analysis. </font>\n",
    "\n"
   ]
  },
  {
   "cell_type": "markdown",
   "metadata": {},
   "source": [
    "<div class=\"alert alert-warning\">\n",
    "<b>Notes on plots</b>\n",
    "\n",
    "- Some plots are generated with plotly and may not show up initially as Javascript is not enabled by default.\n",
    "- This can be solved by _clicking File_ -> __\"Trust Notebook\"__.\n",
    "  \n",
    "These plots have interactive features:\n",
    "    \n",
    "- hoovering over the plot will display additional infos \n",
    "- clicking the legend selects data\n",
    "</div>"
   ]
  },
  {
   "cell_type": "markdown",
   "metadata": {},
   "source": [
    "## Table of Contents\n",
    "\n",
    "* [0 Scenario information](#0_scenario_information)\n",
    "* [1 Demand and Generation](#1_demand_and_generation)\n",
    "* [2 Area required by RES](#2_area_required_by_res)\n",
    "* [3 Electricity Autarky and Exchange](#3_electrical_autarky_exchange)\n",
    "* [4 Energy Mix](#4_energy_mix)\n",
    "* [5 Emissions](#5_emissions)\n",
    "* [6 Costs](#6_costs)\n",
    "* [7 Power Grids](#7_power_grids)\n",
    "* [8 Flexibility](#8_flexibility)\n",
    "* [9 Energy Exchange](#9_energy_exchange)"
   ]
  },
  {
   "cell_type": "code",
   "execution_count": null,
   "metadata": {},
   "outputs": [],
   "source": [
    "######## WINDNODE ###########\n",
    "# define and setup logger\n",
    "from windnode_abw.tools.logger import setup_logger\n",
    "logger = setup_logger()\n",
    "# load configs\n",
    "from windnode_abw.tools import config\n",
    "config.load_config('config_data.cfg')\n",
    "config.load_config('config_misc.cfg')\n",
    "# import scripts\n",
    "from windnode_abw.analysis import analysis\n",
    "from windnode_abw.tools.draw import *\n",
    "\n",
    "######## DATA ###########\n",
    "import re\n",
    "import pandas as pd\n",
    "\n",
    "######## PLOTTING ###########\n",
    "import matplotlib.pyplot as plt\n",
    "from mpl_toolkits.axes_grid1 import make_axes_locatable\n",
    "from matplotlib.ticker import ScalarFormatter\n",
    "import seaborn as sns\n",
    "# set seaborn style\n",
    "sns.set()\n",
    "# plotly\n",
    "import plotly.express as px\n",
    "import plotly.graph_objs as go\n",
    "from plotly.subplots import make_subplots"
   ]
  },
  {
   "cell_type": "markdown",
   "metadata": {
    "tags": [
     "parameters"
    ]
   },
   "source": [
    "# 0 Scenario information<a class=\"anchor\" id=\"0_scenario_information\"></a>"
   ]
  },
  {
   "cell_type": "code",
   "execution_count": null,
   "metadata": {},
   "outputs": [],
   "source": [
    "# obtain processed results\n",
    "regions_scns, results_scns = analysis(run_timestamp=run_timestamp,\n",
    "                                      scenarios=[scenario],\n",
    "                                      force_new_results=force_new_results)"
   ]
  },
  {
   "cell_type": "markdown",
   "metadata": {},
   "source": [
    "### set naming and color parameters"
   ]
  },
  {
   "cell_type": "code",
   "execution_count": null,
   "metadata": {},
   "outputs": [],
   "source": [
    "# Names of Municialities\n",
    "MUN_NAMES = regions_scns[scenario].muns.gen.to_dict()\n",
    "# extend for total ABW region\n",
    "MUN_NAMES.update({100:'ABW'})\n",
    "# Colormap\n",
    "CMAP = px.colors.sequential.GnBu_r\n",
    "#UNITS = {\"relative\": \"%\", \"hours\": \"h\", \"Utilization Rate\":\"%\", \"Total Cycles\":\"times\", \"Full Load Hours\":\"h\"}"
   ]
  },
  {
   "cell_type": "markdown",
   "metadata": {},
   "source": [
    "# 1 Demand and Generation (Input Data)<a class=\"anchor\" id=\"1_demand_and_generation\"></a>"
   ]
  },
  {
   "cell_type": "markdown",
   "metadata": {},
   "source": [
    "## 1.1 Installed Electrical Capacities, Municipalities\n",
    "The following figure shows the installed electrical capacities per technology for each Municipality."
   ]
  },
  {
   "cell_type": "code",
   "execution_count": null,
   "metadata": {},
   "outputs": [],
   "source": [
    "df_data = results_scns[scenario]['parameters']['Installed capacity electricity supply']\n",
    "df_data = df_data.rename(columns=PRINT_NAMES)\n",
    "\n",
    "fig, axes = plt.subplots(3,3, figsize=(12,10))\n",
    "for ax, (key, data) in  zip(axes.flat, df_data.iteritems()):\n",
    "    plot_geoplot(key, data, regions_scns[scenario], ax=ax, unit='MW')\n",
    "    \n",
    "fig.suptitle('Installed el. Generation Capacity',\n",
    "     fontsize=16,\n",
    "     fontweight='normal')\n",
    "plt.tight_layout()\n",
    "plt.show()"
   ]
  },
  {
   "cell_type": "markdown",
   "metadata": {},
   "source": [
    "## 1.2 Electrical Demand\n",
    "The following figure shows the electrical demand per sectors for each Municipality."
   ]
  },
  {
   "cell_type": "code",
   "execution_count": null,
   "metadata": {},
   "outputs": [],
   "source": [
    "df_data = results_scns[scenario]['flows_txaxt']['Stromnachfrage'].sum(level=1)\n",
    "df_data = df_data.drop(columns='export')\n",
    "df_data = df_data.rename(columns=PRINT_NAMES)\n",
    "df_data = df_data / 1e3\n",
    "\n",
    "fig, axes = plt.subplots(1,3, figsize=(14,4))\n",
    "for ax, (key, data) in  zip(axes.flat, df_data.iteritems()):\n",
    "    plot_geoplot(key, data, regions_scns[scenario], ax=ax, unit='GWh')\n",
    "\n",
    "fig.suptitle('Electrical Demand per Sector',\n",
    "     fontsize=16,\n",
    "     fontweight='normal')\n",
    "plt.tight_layout()\n",
    "plt.show()"
   ]
  },
  {
   "cell_type": "markdown",
   "metadata": {},
   "source": [
    "## 1.3 Thermal Demand\n",
    "The following figure shows the thermal demand per sectors for each Municipality."
   ]
  },
  {
   "cell_type": "code",
   "execution_count": null,
   "metadata": {},
   "outputs": [],
   "source": [
    "df_data = results_scns[scenario]['flows_txaxt']['Wärmenachfrage'].sum(level=2)\n",
    "df_data = df_data.rename(columns=PRINT_NAMES)\n",
    "df_data = pd.DataFrame([df_data.iloc[:,:2].sum(axis=1).rename('Households'), df_data.iloc[:,-1]]).T\n",
    "df_data = df_data / 1e3\n",
    "\n",
    "fig, axes = plt.subplots(1,2, figsize=(14,4))\n",
    "for ax, (key, data) in  zip(axes.flat, df_data.items()):\n",
    "    plot_geoplot(key, data, regions_scns[scenario], ax=ax, unit='GWh')\n",
    "    \n",
    "fig.suptitle('Thermal Demand per Sector',\n",
    "     fontsize=16,\n",
    "     fontweight='normal')\n",
    "plt.tight_layout()\n",
    "plt.show()"
   ]
  },
  {
   "cell_type": "markdown",
   "metadata": {},
   "source": [
    "## 1.4 installed Capacities, Electricity/Heat, ABW Region"
   ]
  },
  {
   "cell_type": "code",
   "execution_count": null,
   "metadata": {},
   "outputs": [],
   "source": [
    "cap_heat = results_scns[scenario]['parameters']['Installed capacity heat supply'].sum(axis=0).rename('heat')\n",
    "cap_electricity = results_scns[scenario]['parameters']['Installed capacity electricity supply'].sum(axis=0).rename('electricity')\n",
    "cap = pd.concat([cap_electricity], keys=['Electricity']).append(pd.concat([cap_heat], keys=['Heat']))\n",
    "\n",
    "cap = cap.rename(index=PRINT_NAMES)\n",
    "cap = cap.sort_values(ascending=True)\n",
    "\n",
    "fig = go.Figure()\n",
    "for color, (key, df) in enumerate(cap.groupby(level=0)):\n",
    "    \n",
    "    visible = True if key == 'Electricity' else 'legendonly'\n",
    "    fig.add_trace(go.Bar(x=df[key],\n",
    "                         y=df[key].index,\n",
    "                         name=key,\n",
    "                        orientation='h',\n",
    "                         marker_color=CMAP[2*color],\n",
    "                         visible=visible,\n",
    "                         showlegend=True))\n",
    "\n",
    "    \n",
    "fig.update_layout(title='Installed Capacities, ABW Region',\n",
    "                  barmode='stack', legend={'traceorder':'normal'},\n",
    "                  uniformtext_mode='hide', hovermode=\"y unified\"\n",
    "                 )\n",
    "fig.update_traces(hovertemplate='Type: %{fullData.name} <br>' +\n",
    "                  'Capacity: %{x:.1f} MW <br>'+\n",
    "                  '<extra></extra>',) #\n",
    "fig.update_xaxes(title_text='MW')\n",
    "fig.update_yaxes(title_text='')\n",
    "fig.show()"
   ]
  },
  {
   "cell_type": "markdown",
   "metadata": {},
   "source": [
    "## 1.5 Generated Heat/Electricity"
   ]
  },
  {
   "cell_type": "code",
   "execution_count": null,
   "metadata": {},
   "outputs": [],
   "source": [
    "gen_heat = results_scns[scenario]['flows_txaxt']['Wärmeerzeugung'].sum(axis=0).rename('heat')\n",
    "gen_electricity = results_scns[scenario]['flows_txaxt']['Stromerzeugung'].sum(axis=0).rename('electricity')\n",
    "gen = pd.concat([gen_electricity], keys=['Electricity']).append(pd.concat([gen_heat], keys=['Heat']))\n",
    "gen = gen / 1000 # to GWH\n",
    "\n",
    "gen = gen.rename(index=PRINT_NAMES)\n",
    "gen = gen.sort_values(ascending=True)\n",
    "\n",
    "fig = go.Figure()\n",
    "for color, (key, df) in enumerate(gen.groupby(level=0)):\n",
    "    \n",
    "    visible = True if key == 'Electricity' else 'legendonly'\n",
    "    fig.add_trace(go.Bar(x=df[key],\n",
    "                         y=df[key].index,\n",
    "                         name=key,\n",
    "                        orientation='h',\n",
    "                         marker_color=CMAP[2*color],\n",
    "                         visible=visible,\n",
    "                         showlegend=True))\n",
    "\n",
    "    \n",
    "fig.update_layout(title='Generation, ABW Region',\n",
    "                  barmode='stack', legend={'traceorder':'normal'},\n",
    "                  uniformtext_mode='hide', hovermode=\"y unified\"\n",
    "                 )\n",
    "fig.update_traces(hovertemplate='Type: %{fullData.name} <br>' +\n",
    "                  'Energy: %{x:.1f} GWh <br>'+\n",
    "                  '<extra></extra>',) #\n",
    "fig.update_xaxes(title_text='GWh')\n",
    "fig.update_yaxes(title_text='')\n",
    "fig.show()"
   ]
  },
  {
   "cell_type": "markdown",
   "metadata": {},
   "source": [
    "# 2 Area required by RES<a class=\"anchor\" id=\"2_area_required_by_res\"></a>"
   ]
  },
  {
   "cell_type": "markdown",
   "metadata": {},
   "source": [
    "## 2.1 Absolute Area"
   ]
  },
  {
   "cell_type": "markdown",
   "metadata": {},
   "source": [
    "The following figure shows the total absolute area required by the RES in ABW.\n",
    "\n",
    "Note: For status quo the required area for ground-mounted PV and wind turbines is unknown and therefore not displayed."
   ]
  },
  {
   "cell_type": "code",
   "execution_count": null,
   "metadata": {},
   "outputs": [],
   "source": [
    "df_data = results_scns[scenario]['results_axlxt']['Area required']\n",
    "\n",
    "# drop pv ground and wind areas for status quo\n",
    "if regions_scns[scenario].cfg['scn_data']['general']['year'] == 2017:\n",
    "    df_data.drop(columns=['pv_ground', 'wind'], inplace=True)\n",
    "    plt_count_y = 1\n",
    "else:\n",
    "    plt_count_y = 2\n",
    "\n",
    "df_data = df_data.rename(columns=PRINT_NAMES)\n",
    "\n",
    "fig, axes = plt.subplots(plt_count_y, 2, figsize=(12,6))\n",
    "\n",
    "for ax, (key, data) in  zip(axes.flat, df_data.iteritems()):\n",
    "    plot_geoplot(key, data, regions_scns[scenario], ax=ax, unit='ha')\n",
    "    \n",
    "fig.suptitle('Required Area',\n",
    "     fontsize=16,\n",
    "     fontweight='normal')\n",
    "plt.tight_layout()\n",
    "plt.show()"
   ]
  },
  {
   "cell_type": "markdown",
   "metadata": {},
   "source": [
    "## 2.2 Relative Area\n",
    "\n",
    "The following figure shows the total relative area required by the RES in ABW for the current scenario compared to the available areas for different land use scenarios, per RES technology.\n",
    "\n",
    "Notes:\n",
    "- The current scenarios of wind turbines and ground-mounted PV is marked with \"(current)\"\n",
    "- Technology-specific naming conventions of land use scenarios\n",
    "  - Wind: Distance to settlements (500m/1000m), use of forests (with/without), percentage of available area due to restrictions resulting from case-by-case decisions\n",
    "  - PV ground: Restrictions that apply (hard: H / hard+weak: HS), percentage of total available agricultural area\n",
    "- For status quo the required area for ground-mounted PV and wind turbines is unknown and therefore not displayed."
   ]
  },
  {
   "cell_type": "code",
   "execution_count": null,
   "metadata": {},
   "outputs": [],
   "source": [
    "df_data = results_scns[scenario]['highlevel_results']\n",
    "\n",
    "fig = go.Figure()\n",
    "\n",
    "# PV rooftop\n",
    "mask = [i for i in df_data.index if 'rel. PV rooftop' in  i[0]]\n",
    "data = df_data.loc[mask]\n",
    "index = data.index.get_level_values(level=0)\n",
    "\n",
    "fig.add_trace(\n",
    "    go.Bar(y=index, x=data.values,\n",
    "           orientation='h',\n",
    "           name='PV rooftop',\n",
    "           marker_color=CMAP[5]))\n",
    "\n",
    "# PV Ground\n",
    "mask = [i for i in df_data.index if 'rel. PV ground' in  i[0]]\n",
    "data = df_data.loc[mask]\n",
    "data.index = data.index.get_level_values(0).str.replace('Area required rel. PV ground \\(THIS SCENARIO\\)',\n",
    "                                                        '<b>Area required rel. PV ground (THIS SCENARIO)</b>')\n",
    "index = data.index.get_level_values(level=0)\n",
    "\n",
    "fig.add_trace(\n",
    "    go.Bar(y=index, x=data.values,\n",
    "           orientation='h',\n",
    "           name='PV Ground',\n",
    "           marker_color=CMAP[4]))#, visible='legendonly'))\n",
    "\n",
    "# Wind\n",
    "mask = [i for i in df_data.index if 'rel. Wind' in  i[0]]\n",
    "data = df_data.loc[mask]\n",
    "data.index = data.index.get_level_values(0).str.replace('Area required rel. Wind \\(THIS SCENARIO\\)',\n",
    "                                                        '<b>Area required rel. Wind (THIS SCENARIO)</b>')\n",
    "index = data.index.get_level_values(level=0)\n",
    "\n",
    "fig.add_trace(\n",
    "    go.Bar(y=index, x=data.values,\n",
    "           orientation='h',\n",
    "           name='Wind',\n",
    "           marker_color=CMAP[3]))#, visible='legendonly'))\n",
    "\n",
    "fig.update_layout(title_text = 'Relative Required Area',\n",
    "                  xaxis=dict(title=' %',\n",
    "                    titlefont_size=12),\n",
    "                    autosize=True)\n",
    "\n",
    "fig.show()"
   ]
  },
  {
   "cell_type": "markdown",
   "metadata": {},
   "source": [
    "# 3 Electrical Autarky and Exchange<a class=\"anchor\" id=\"3_electrical_autarky_exchange\"></a>\n",
    "\n",
    "Autarky describes the ratio of the amount of generated eletricity to the demand within the region Anhalt-Bitterfeld-Wittenberg (ABW). A distinction is made depending on the spatial resolution:\n",
    "  \n",
    "- **Annual Autarky (Municipality)**: degree of autark electricity supply per municipality disregarding dimension of time\n",
    "  $$Autarky_{Annual,mun,\\%} = \\frac{\\sum_{t=1}^{8760} E_{supply,ABW,t}}{\\sum_{t=1}^{8760} E_{demand,ABW,t}} \\cdot 100\\,\\%$$\n",
    "  \n",
    "- **Annual Autarky (ABW)**: degree of autark electricity supply for ABW disregarding dimension of time\n",
    "  $$Autarky_{Annual,ABW,\\%} = \\frac{\\sum_{t=1}^{8760} E_{supply,mun,t}}{\\sum_{t=1}^{8760} E_{demand,mun,t}} \\cdot 100\\,\\%$$\n",
    "\n",
    "The hours in which the electricity demand in entirely served by local supply is determined by\n",
    "\n",
    "- **Autarky (ABW)**:\n",
    "  $$Autark\\,hours_{Annual,ABW,\\%} = \\frac{\\sum_{t=1}^{8760} (\\frac{E_{supply,ABW,t}}{E_{demand,ABW,t}} \\geq 1)}{8760}   \\cdot 100\\,\\%$$\n",
    "\n",
    "- **Autarky (Municipality)**:\n",
    "  $$Autark\\,hours_{Annual,mun,\\%} = \\frac{\\sum_{t=1}^{8760} (Autarky_{mun,t} \\geq 1)}{8760} \\cdot 100\\,\\%$$\n",
    "\n",
    "  where degree of autarky electricity supply per municipality for each hour is defined as\n",
    "\n",
    "  $$Autarky_{mun,t} = 1-\\frac{E_{import,ext,t}+E_{import,reg,t}+E_{bat,discharge,t}}   {E_{demand,t}+E_{export,ext,t}+E_{export,reg,t}+E_{bat,charge,t}}$$\n",
    "  \n",
    "  where:\n",
    "      \n",
    "    - $E_{import,ext,t}$, $E_{export,ext,t}$: Imported/exported energy from/to national grid\n",
    "\n",
    "    - $E_{import,reg,t}$, $E_{export,reg,t}$: Imported/exported energy from/to region's grid (intra-regional)\n",
    "\n",
    "    - $E_{bat,discharge,t}$: Battery discharge\n",
    "\n",
    "    - $E_{demand,t}$: Electrical demand\n",
    "\n",
    "    - $E_{bat,charge,t}$: Battery charge\n",
    "      "
   ]
  },
  {
   "cell_type": "markdown",
   "metadata": {},
   "source": [
    "## 3.1 Autarky anually"
   ]
  },
  {
   "cell_type": "code",
   "execution_count": null,
   "metadata": {},
   "outputs": [],
   "source": [
    "fig = make_subplots(rows=1, cols=2, horizontal_spacing=0.17, column_widths=[0.8, 0.2],\n",
    "                    specs=[[{\"secondary_y\": True}, {\"secondary_y\": True}]]\n",
    "                   )\n",
    "\n",
    "# For each municipality\n",
    "fig.add_trace(\n",
    "    go.Bar(\n",
    "        x=results_scns[scenario]['results_axlxt']['Autarky'].rename(index=MUN_NAMES).index.tolist(),\n",
    "        y=results_scns[scenario]['results_axlxt']['Autarky'].values.tolist(),\n",
    "           orientation='v',\n",
    "           name='Annual',\n",
    "           marker_color=CMAP[2],\n",
    "          ),\n",
    "    row=1, col=1, secondary_y=False,)\n",
    "\n",
    "fig.add_trace(\n",
    "    go.Bar(\n",
    "        x=results_scns[scenario]['results_axlxt']['Autark hours'].rename(index=MUN_NAMES).index.tolist(),\n",
    "        y=results_scns[scenario]['results_axlxt']['Autark hours'].values.tolist(),\n",
    "           orientation='v',\n",
    "           name='Autark hours',\n",
    "           marker_color=CMAP[0],\n",
    "          ),\n",
    "    row=1, col=1, secondary_y=False,)\n",
    "\n",
    "\n",
    "# For entire ABW region\n",
    "fig.add_trace(\n",
    "    go.Bar(x=[\"Annually\", \"Autark supplied hours\"], \n",
    "           y=[float(results_scns[scenario]['highlevel_results']['Autarky']), \n",
    "              float(results_scns[scenario]['highlevel_results']['Autark hours'])],\n",
    "           orientation='v',\n",
    "           name='ABW avg.',\n",
    "           marker_color=CMAP[4],\n",
    "          ),\n",
    "    row=1, col=2, secondary_y=False,)\n",
    "\n",
    "# === Layout ===\n",
    "fig.update_layout(title_text = 'Electrical Autarky per Municipality (Energy Balance) and total region',\n",
    "                    autosize=True,\n",
    "                hovermode=\"x unified\",\n",
    "                  legend=dict(orientation=\"h\",\n",
    "                                yanchor=\"bottom\",\n",
    "                                y=1.02,\n",
    "                                xanchor=\"right\",\n",
    "                                x=1),\n",
    "                 )\n",
    "fig.update_yaxes(title_text=\"%\", row=1, col=1, anchor=\"x\", secondary_y=False)\n",
    "fig.update_yaxes(title_text=\"%\", row=1, col=2, anchor=\"x2\", secondary_y=True)"
   ]
  },
  {
   "cell_type": "markdown",
   "metadata": {},
   "source": [
    "## 3.2 Autarky Geoplots"
   ]
  },
  {
   "cell_type": "code",
   "execution_count": null,
   "metadata": {
    "scrolled": false
   },
   "outputs": [],
   "source": [
    "df_data = pd.concat([results_scns[scenario]['results_axlxt']['Autarky'].rename('Autarky'), results_scns[scenario]['results_axlxt']['Autark hours'].rename('Autark hours')], axis=1)\n",
    "\n",
    "fig, axes = plt.subplots(1,2, figsize=(12,5))\n",
    "\n",
    "for ax, (key, data) in  zip(axes.flat, df_data.iteritems()):\n",
    "    \n",
    "    plot_geoplot(key, data, regions_scns[scenario], ax=ax, unit=\"%\")\n",
    "    \n",
    "fig.suptitle('Relative Autarky Balance and Autark Hours',\n",
    "     fontsize=16,\n",
    "     fontweight='normal')\n",
    "plt.tight_layout()\n",
    "plt.show()"
   ]
  },
  {
   "cell_type": "markdown",
   "metadata": {},
   "source": [
    "## 3.3 Degree of autarky distribution\n",
    "First, we look on the distribution of degree of autarky as average for the entire region."
   ]
  },
  {
   "cell_type": "code",
   "execution_count": null,
   "metadata": {},
   "outputs": [],
   "source": [
    "data = results_scns[scenario]['flows_txaxt']['Autarky'].mean(level=\"timestamp\")\n",
    "\n",
    "fig = go.Figure()\n",
    "fig.add_trace(\n",
    "    go.Violin(x=data.values, \n",
    "              name=\"ABW average\",\n",
    "              orientation='h',\n",
    "              line_color=CMAP[1],\n",
    "              showlegend=False)\n",
    ")\n",
    "fig.update_xaxes(title='%')"
   ]
  },
  {
   "cell_type": "markdown",
   "metadata": {},
   "source": [
    "The degree of autarky may vary significantly among the municipalities."
   ]
  },
  {
   "cell_type": "code",
   "execution_count": null,
   "metadata": {
    "scrolled": false
   },
   "outputs": [],
   "source": [
    "df_data = results_scns[scenario]['flows_txaxt']['Autarky'].unstack()\n",
    "\n",
    "df_data = df_data.rename(columns=MUN_NAMES)\n",
    "\n",
    "limit = 2\n",
    "\n",
    "fig = make_subplots(rows=2, cols=2, horizontal_spacing=0.25,\n",
    "                    row_heights=[0.8, 0.2],\n",
    "                    specs=[[{}, {}], [{\"colspan\": 2}, None]],)\n",
    "\n",
    "for ags, data in df_data.iteritems():\n",
    "    \n",
    "    if data.describe().loc['mean'] > limit:\n",
    "\n",
    "        fig.add_trace(go.Violin(x=data.values, name=ags,\n",
    "                                orientation='h',\n",
    "                               line_color=CMAP[1],\n",
    "                               showlegend=False),\n",
    "                              \n",
    "                      row=1, col=1)\n",
    "    else:\n",
    "        fig.add_trace(go.Violin(x=data.values, name=ags,\n",
    "                                orientation='h',\n",
    "                               line_color=CMAP[1],\n",
    "                               showlegend=False),\n",
    "                      row=1, col=2)\n",
    "        \n",
    "    fig.add_trace(go.Violin(x=data.values, name=ags,\n",
    "                                orientation='h',\n",
    "                               line_color=CMAP[1],\n",
    "                               showlegend=True,\n",
    "                           visible='legendonly'),\n",
    "                              \n",
    "                      row=2, col=1)\n",
    "    \n",
    "fig.update_xaxes(title_text=\"%\", side='bottom', row=2, col=1)\n",
    "fig.update_yaxes(type='category', row=1, col=1)\n",
    "fig.update_yaxes(type='category', row=1, col=2)\n",
    "\n",
    "fig.update_layout(\n",
    "    title='Relative Electrical Autarky per Municipality (Energy Balance)',\n",
    ")\n",
    "fig.show()"
   ]
  },
  {
   "cell_type": "markdown",
   "metadata": {},
   "source": [
    "## 3.4 Intra-regional Exchange Balance"
   ]
  },
  {
   "cell_type": "code",
   "execution_count": null,
   "metadata": {},
   "outputs": [],
   "source": [
    "df_data = results_scns[scenario]['results_axlxt']['Intra-regional exchange']\n",
    "df_data = df_data.rename(index=MUN_NAMES)\n",
    "df_data = df_data / 1e3\n",
    "\n",
    "fig = go.Figure()\n",
    "\n",
    "fig.add_trace(go.Bar(x=df_data.index, y=df_data['export'].values, \n",
    "                base=0,\n",
    "                marker_color='crimson',\n",
    "                name='export'\n",
    "                ))\n",
    "\n",
    "\n",
    "fig.add_trace(go.Bar(x=df_data.index, y=df_data['import'].values, \n",
    "                base=0,\n",
    "                marker_color='lightslategrey',\n",
    "                name='import'\n",
    "                ))\n",
    "fig.update_layout(title='Annual net electricity exchanges among administrive districts within ABW region')\n",
    "fig.update_xaxes(type='category', tickangle=45)\n",
    "fig.show()"
   ]
  },
  {
   "cell_type": "markdown",
   "metadata": {},
   "source": [
    "## 3.5 Heatmap"
   ]
  },
  {
   "cell_type": "code",
   "execution_count": null,
   "metadata": {
    "scrolled": false
   },
   "outputs": [],
   "source": [
    "df_data = results_scns[scenario]['results_axlxt']['Stromnetzleitungen']\n",
    "\n",
    "# swap index of negative values\n",
    "invert = df_data.loc[df_data['in']<0]\n",
    "invert.index = invert.index.swaplevel()\n",
    "invert.index.names = (['ags_from', 'ags_to'])\n",
    "df_data = df_data.loc[df_data['in']>0].append(invert * -1)\n",
    "\n",
    "df_data = df_data['out']\n",
    "df_data = df_data.sort_index()\n",
    "df_data = df_data / 1e3\n",
    "\n",
    "hover_text = [f' From: {MUN_NAMES[int(ags_from)]} <br> \\\n",
    "To: {MUN_NAMES[int(ags_to)]} <br> \\\n",
    "Energy: {round(value,2)} MWh' for (ags_from, ags_to), value in df_data.items()]\n",
    "\n",
    "x = df_data.index.get_level_values(level='ags_from')\n",
    "x = pd.Series(x.astype(int).values).map(MUN_NAMES).values\n",
    "\n",
    "y = df_data.index.get_level_values(level='ags_to')\n",
    "y = pd.Series(y.astype(int).values).map(MUN_NAMES).values\n",
    "\n",
    "fig = go.Figure(go.Heatmap(\n",
    "    x=x,\n",
    "    y=y,\n",
    "    z=df_data.values,\n",
    "    colorbar=dict(title='MWh'),\n",
    "    colorscale='Viridis',\n",
    "    text= hover_text,\n",
    "    hoverongaps=False, \n",
    "    hovertemplate='%{text}<extra></extra>'\n",
    "))\n",
    "fig.update_layout(title='Intra Regional Energy Exchange')\n",
    "fig.update_xaxes(type='category')\n",
    "fig.update_yaxes(type='category')\n",
    "fig.show()"
   ]
  },
  {
   "cell_type": "markdown",
   "metadata": {},
   "source": [
    "## 3.6 Energy Flows"
   ]
  },
  {
   "cell_type": "code",
   "execution_count": null,
   "metadata": {},
   "outputs": [],
   "source": [
    "df_data = results_scns[scenario]['results_axlxt']['Stromnetzleitungen']\n",
    "invert = df_data.loc[df_data['in']<0]\n",
    "invert.index = invert.index.swaplevel()\n",
    "invert.index.names = (['ags_from', 'ags_to'])\n",
    "df_data = df_data.loc[df_data['in']>0].append(invert * -1)\n",
    "\n",
    "\n",
    "converter = dict(zip(MUN_NAMES.keys(), range(20)))\n",
    "\n",
    "source = [converter[int(i)] for i in df_data['out'].index.get_level_values(level='ags_from')]\n",
    "target = [converter[int(i)] for i in df_data['out'].index.get_level_values(level='ags_to')]\n",
    "\n",
    "fig = go.Figure(data=[go.Sankey(\n",
    "    node = dict(\n",
    "        pad = 70,\n",
    "        thickness = 10,\n",
    "        line = dict(\n",
    "            color = \"black\", width = 0.5),\n",
    "        label = [MUN_NAMES[i] for i in list(converter)],\n",
    "        color = \"silver\", \n",
    "    ),\n",
    "    link = dict(\n",
    "        source = source,\n",
    "        target = target,\n",
    "        value = df_data['out'].values,\n",
    "        color = [i for i in COLORS.values()],\n",
    "        hovertemplate='From: %{source.label}<br />'+\n",
    "            'to: %{target.label}<br />'+\n",
    "            'value: %{value:.2f} MWh',#+'<extra></extra>',  \n",
    "  ))])\n",
    "\n",
    "fig.update_layout(title_text=\"Energy Flows\",\n",
    "                  font_size=12,\n",
    "                  hovermode='x')\n",
    "fig.show()"
   ]
  },
  {
   "cell_type": "markdown",
   "metadata": {},
   "source": [
    "# 4 Energy Mix<a class=\"anchor\" id=\"4_energy_mix\"></a>\n",
    "## 4.1 Region's sum\n",
    "### 4.1.1 Elecricity"
   ]
  },
  {
   "cell_type": "code",
   "execution_count": null,
   "metadata": {},
   "outputs": [],
   "source": [
    "idx = ['Supply', 'Demand']\n",
    "el = pd.DataFrame([results_scns[scenario]['results_axlxt']['Stromerzeugung nach Gemeinde'].sum(),\n",
    "                   pd.concat([results_scns[scenario]['results_axlxt']['Stromnachfrage nach Gemeinde'].sum(), \n",
    "                  results_scns[scenario]['results_axlxt']['Stromnachfrage Wärme nach Gemeinde'].sum()])], index=idx) / 1e3\n",
    "\n",
    "colors = [COLORS[c] for c in el.columns]\n",
    "el = el.rename(columns=PRINT_NAMES)\n",
    "\n",
    "fig = px.bar(el, orientation='v',\n",
    "             title='Electricity supply and demand in ABW region',\n",
    "             color_discrete_sequence=colors)\n",
    "\n",
    "fig.update_layout(barmode='stack', legend={'traceorder':'reversed'},\n",
    "                  uniformtext_mode='hide',\n",
    "                  autosize=True,\n",
    "                  legend_title=\"\",\n",
    "                 )\n",
    "fig.update_traces(hovertemplate='%{fullData.name}<br>'+\n",
    "                  '%{y:.1f} GWh <br>'+\n",
    "                  '<extra></extra>',) # \n",
    "fig.update_yaxes(title_text='GWh')\n",
    "fig.update_xaxes(title_text='')"
   ]
  },
  {
   "cell_type": "markdown",
   "metadata": {},
   "source": [
    "### 4.1.2 Heat"
   ]
  },
  {
   "cell_type": "code",
   "execution_count": null,
   "metadata": {},
   "outputs": [],
   "source": [
    "idx = ['Supply', 'Demand']\n",
    "th = pd.DataFrame([results_scns[scenario]['results_axlxt']['Wärmeerzeugung nach Gemeinde'].sum(),\n",
    "                   results_scns[scenario]['results_axlxt']['Wärmenachfrage nach Gemeinde'].sum()], index=idx) / 1e3\n",
    "\n",
    "colors = [COLORS[c] for c in th.colhttp://localhost:8888/notebooks/WindNODE_ABW/windnode_abw/jupy/templates/scenario_analysis_template.ipynb#4.2-Balanceumns]\n",
    "th = th.rename(columns=PRINT_NAMES)\n",
    "\n",
    "fig = px.bar(th, orientation='v',\n",
    "             title='Heat supply and demand in ABW region',\n",
    "             color_discrete_sequence=colors)\n",
    "\n",
    "fig.update_layout(barmode='stack', legend={'traceorder':'reversed'},\n",
    "                  uniformtext_mode='hide',\n",
    "                  autosize=True,\n",
    "                  legend_title=\"\",\n",
    "                 )\n",
    "fig.update_traces(hovertemplate='%{fullData.name}<br>'+\n",
    "                  '%{y:.1f} GWh <br>'+\n",
    "                  '<extra></extra>',) # \n",
    "fig.update_yaxes(title_text='GWh')\n",
    "fig.update_xaxes(title_text='')"
   ]
  },
  {
   "cell_type": "markdown",
   "metadata": {},
   "source": [
    "## 4.2 Balance"
   ]
  },
  {
   "cell_type": "code",
   "execution_count": null,
   "metadata": {},
   "outputs": [],
   "source": [
    "supply = results_scns[scenario]['flows_txaxt']['Stromerzeugung'].sum(level=1)\n",
    "abw_import = results_scns[scenario]['flows_txaxt']['Intra-regional exchange']['import'].sum(level=1)\n",
    "abw_import = abw_import.rename('ABW-import')\n",
    "supply = supply.join(abw_import)\n",
    "\n",
    "\n",
    "demand = results_scns[scenario]['flows_txaxt']['Stromnachfrage'].sum(level=1)\n",
    "abw_export = results_scns[scenario]['flows_txaxt']['Intra-regional exchange']['export'].sum(level=1)\n",
    "abw_export = abw_export.rename('ABW-export')\n",
    "demand = demand.join(abw_export)\n",
    "el_heating = results_scns[scenario]['flows_txaxt']['Stromnachfrage Wärme'].sum(level=2).sum(axis=1)\n",
    "demand = demand.join(el_heating.rename('el_heating'))\n",
    "    \n",
    "plot_snd_total(regions_scns[scenario], supply , demand)"
   ]
  },
  {
   "cell_type": "markdown",
   "metadata": {},
   "source": [
    "## 4.3 Full load hours"
   ]
  },
  {
   "cell_type": "code",
   "execution_count": null,
   "metadata": {},
   "outputs": [],
   "source": [
    "df = (results_scns[scenario]['flows_txaxt']['Stromerzeugung'].drop(columns='import').sum(level=1).sum(axis=0) /\n",
    "      results_scns[scenario]['parameters']['Installed capacity electricity supply'].sum(axis=0)).fillna(0)\n",
    "\n",
    "df = df.rename(index=PRINT_NAMES)\n",
    "df = df.sort_values(ascending=True)\n",
    "\n",
    "fig = px.bar(df, orientation='h',\n",
    "             title='Full Load Hours',\n",
    "             color_discrete_sequence=CMAP,\n",
    "             # text=''#df.sum(axis=1).to_list())\n",
    "            )\n",
    "fig.update_layout(barmode='stack', showlegend=False, legend={'traceorder':'reversed'},\n",
    "                  uniformtext_mode='hide'#, hovermode=\"y unified\"\n",
    "                 )\n",
    "fig.update_traces(hovertemplate='%{fullData.name}<br>'+\n",
    "                  #'Type: %{y}<br>'+\n",
    "                  'FLH: %{x:.1f}h <br>'+\n",
    "                  #'Total: %{text:.1f}€'+\n",
    "                  '<extra></extra>',) # \n",
    "fig.update_xaxes(title_text='h')\n",
    "fig.update_yaxes(title_text='')\n",
    "fig.show()"
   ]
  },
  {
   "cell_type": "markdown",
   "metadata": {},
   "source": [
    "## 4.4 Timeseries"
   ]
  },
  {
   "cell_type": "code",
   "execution_count": null,
   "metadata": {},
   "outputs": [],
   "source": [
    "plot_timeseries(results_scns[scenario], kind='el')#, ags='15091160')"
   ]
  },
  {
   "cell_type": "markdown",
   "metadata": {},
   "source": [
    "# 5 Emissions<a class=\"anchor\" id=\"5_emissions\"></a>"
   ]
  },
  {
   "cell_type": "markdown",
   "metadata": {},
   "source": [
    "TODO\n",
    "- [ ] Notiz zur Zuordnung von KWK zu el etc"
   ]
  },
  {
   "cell_type": "markdown",
   "metadata": {},
   "source": [
    "## 5.1 Overview"
   ]
  },
  {
   "cell_type": "code",
   "execution_count": null,
   "metadata": {},
   "outputs": [],
   "source": [
    "data_el = pd.DataFrame({\n",
    "    'fix': results_scns[scenario]['results_axlxt']['CO2 emissions el. fix'].sum(axis=0),\n",
    "    'var': results_scns[scenario]['results_axlxt']['CO2 emissions el. var'].sum(axis=0),\n",
    "}).rename(index=PRINT_NAMES).reset_index().rename(columns={'index': 'technology'})\n",
    "data_el['sector'] = 'Power'\n",
    "\n",
    "data_th = pd.DataFrame({\n",
    "    'fix': results_scns[scenario]['results_axlxt']['CO2 emissions th. fix'].sum(axis=0),\n",
    "    'var': results_scns[scenario]['results_axlxt']['CO2 emissions th. var'].sum(axis=0),\n",
    "}).rename(index=PRINT_NAMES).reset_index().rename(columns={'index': 'technology'})\n",
    "data_th['sector'] = 'Heat'\n",
    "\n",
    "data_stor_el = pd.DataFrame({\n",
    "    'fix': results_scns[scenario]['results_axlxt']['CO2 emissions stor el. fix'].sum(axis=0),\n",
    "    'var': results_scns[scenario]['results_axlxt']['CO2 emissions stor el. var'].sum(axis=0),\n",
    "}).rename(index=PRINT_NAMES)\n",
    "data_stor_el.index.name = None\n",
    "data_stor_el = data_stor_el.reset_index().rename(columns={'index': 'technology'})\n",
    "data_stor_el['sector'] = 'Power'\n",
    "\n",
    "data_stor_th = pd.DataFrame({\n",
    "    'fix': results_scns[scenario]['results_axlxt']['CO2 emissions stor th. fix'].sum(axis=0),\n",
    "    'var': results_scns[scenario]['results_axlxt']['CO2 emissions stor th. var'].sum(axis=0),\n",
    "}).rename(index=PRINT_NAMES)\n",
    "data_stor_th.index.name = None\n",
    "data_stor_th = data_stor_th.reset_index().rename(columns={'index': 'technology'})\n",
    "data_stor_th['sector'] = 'Heat'\n",
    "\n",
    "data_grid = pd.DataFrame(columns=data_el.columns)\n",
    "data_grid.loc[0,'fix'] = results_scns[scenario]['results_axlxt']['CO2 emissions grid total'].sum(axis=0) + \\\n",
    "                         results_scns[scenario]['results_axlxt']['CO2 emissions grid new total'].sum(axis=0)\n",
    "data_grid.loc[0,'var'] = 0\n",
    "data_grid.loc[0,'technology'] = 'Grid'\n",
    "data_grid.loc[0,'sector'] = 'Grid'\n",
    "\n",
    "data = pd.concat([data_el, data_th, data_stor_el, data_stor_th, data_grid],\n",
    "                 axis=0)\n",
    "\n",
    "data_fix = data.copy()\n",
    "data_var = data.copy()\n",
    "data_fix = data_fix.drop(columns=['var']).rename(columns={'fix': 'emissions'})\n",
    "data_fix['type'] = 'fix'\n",
    "data_var = data_var.drop(columns=['fix']).rename(columns={'var': 'emissions'})\n",
    "data_var['type'] = 'var'\n",
    "\n",
    "\n",
    "data = pd.concat([data_fix, data_var]).reset_index(drop=True)\n",
    "\n",
    "fig = px.sunburst(data,\n",
    "                  #path=['sector', 'technology', 'type'],  # use this param to show split between var+fix\n",
    "                  path=['sector', 'technology'],\n",
    "                  values='emissions', color_discrete_sequence=CMAP)\n",
    "fig.show()"
   ]
  },
  {
   "cell_type": "markdown",
   "metadata": {},
   "source": [
    "## 5.2 Emissions per Sector"
   ]
  },
  {
   "cell_type": "code",
   "execution_count": null,
   "metadata": {
    "scrolled": false
   },
   "outputs": [],
   "source": [
    "df_data_left = results_scns[scenario]['results_t']['CO2 emissions th. total'].rename('th').to_frame()\n",
    "df_data_right = results_scns[scenario]['results_t']['CO2 emissions el. total'].rename('el').to_frame()\n",
    "\n",
    "# drop nans & zeros\n",
    "df_data_left = df_data_left[df_data_left!=0].dropna()\n",
    "df_data_right = df_data_right[df_data_right!=0].dropna()\n",
    "\n",
    "df_data = df_data_left.join(df_data_right, how='outer')\n",
    "df_data = df_data.fillna(0).T\n",
    "df_data = df_data.sort_values(by=list(df_data.index), axis=1, ascending=True)\n",
    "#df_rel = df_data.T / df_data.sum(axis=1).values\n",
    "\n",
    "fig = px.bar(df_data, orientation='h',\n",
    "             color_discrete_sequence=CMAP,\n",
    "             text=df_data.sum(axis=1).to_list()\n",
    "            )\n",
    "\n",
    "\n",
    "fig.update_layout(barmode='stack',\n",
    "                  autosize=True,\n",
    "                  title='CO2 Emissions',\n",
    "                  legend={'traceorder':'reversed'},\n",
    "                 uniformtext_mode='hide')\n",
    "fig.update_traces(hovertemplate='CO2: %{x:.1f} t <br>Type: %{y}<br>Total: %{text:.1f} t') # \n",
    "fig.update_xaxes(title_text='t CO2')\n",
    "fig.update_yaxes(title_text='')\n",
    "fig.show()"
   ]
  },
  {
   "cell_type": "markdown",
   "metadata": {},
   "source": [
    "## 5.3 Emissions per Sector and Type"
   ]
  },
  {
   "cell_type": "code",
   "execution_count": null,
   "metadata": {},
   "outputs": [],
   "source": [
    "# Electricity\n",
    "data_el = pd.DataFrame({\n",
    "    'fix': results_scns[scenario]['results_axlxt']['CO2 emissions el. fix'].sum(axis=0),\n",
    "    'var': results_scns[scenario]['results_axlxt']['CO2 emissions el. var'].sum(axis=0),\n",
    "})\n",
    "# Storage el\n",
    "data_stor_el = pd.DataFrame({\n",
    "    'fix': results_scns[scenario]['results_axlxt']['CO2 emissions stor el. fix'].sum(axis=0),\n",
    "    'var': results_scns[scenario]['results_axlxt']['CO2 emissions stor el. var'].sum(axis=0),\n",
    "})\n",
    "data_el = data_el.append(data_stor_el)\n",
    "#Grid\n",
    "data_el.loc['Grid','fix'] = results_scns[scenario]['results_axlxt']['CO2 emissions grid total'].sum(axis=0) + \\\n",
    "results_scns[scenario]['results_axlxt']['CO2 emissions grid new total'].sum(axis=0)\n",
    "\n",
    "# Heat\n",
    "data_th = pd.DataFrame({\n",
    "    'fix': results_scns[scenario]['results_axlxt']['CO2 emissions th. fix'].sum(axis=0),\n",
    "    'var': results_scns[scenario]['results_axlxt']['CO2 emissions th. var'].sum(axis=0),\n",
    "})\n",
    "# Storage th\n",
    "data_stor_th = pd.DataFrame({\n",
    "    'fix': results_scns[scenario]['results_axlxt']['CO2 emissions stor th. fix'].sum(axis=0),\n",
    "    'var': results_scns[scenario]['results_axlxt']['CO2 emissions stor th. var'].sum(axis=0),\n",
    "})\n",
    "data_th = data_th.append(data_stor_th)\n",
    "\n",
    "\n",
    "# concat\n",
    "df_data = pd.concat([data_el, data_th,], axis=1,\n",
    "                    keys=['Electricity Supply', 'Heat Supply'])\n",
    "\n",
    "df_data = df_data.fillna(0)\n",
    "#df_data = df_data[(df_data!=0).any(axis=1)]\n",
    "df_data = df_data.rename(index=PRINT_NAMES)\n",
    "\n",
    "\n",
    "for sector, df in df_data.groupby(level=0, axis=1):\n",
    "    df = df[(df!=0).any(axis=1)]\n",
    "    if df.sum().sum() != 0:\n",
    "        \n",
    "        fig = go.Figure()\n",
    "        for i, (cat, data) in enumerate(df[sector].items()):\n",
    "            fig.add_trace(go.Bar(x=data.index,\n",
    "                                 y=data,\n",
    "                                 name=cat,\n",
    "                                 marker_color=CMAP[3+i],\n",
    "                                 hovertemplate='%{y:.1f} t CO2',\n",
    "                                ))\n",
    "\n",
    "        fig.update_layout(\n",
    "            title=f'CO2 Emissions of {sector}',\n",
    "            barmode='stack',\n",
    "            hovermode=\"x unified\",\n",
    "            height=600,\n",
    "            xaxis={'categoryorder':'category ascending'},\n",
    "            xaxis_tickfont_size=14,\n",
    "            yaxis=dict(title='t CO2',\n",
    "                       titlefont_size=16,\n",
    "                       tickfont_size=14),\n",
    "                       autosize=True)\n",
    "        fig.show()    \n",
    "    else:\n",
    "        print(f'no emissions in sector {sector}!')"
   ]
  },
  {
   "cell_type": "markdown",
   "metadata": {},
   "source": [
    "# 6 Costs<a class=\"anchor\" id=\"6_costs\"></a>"
   ]
  },
  {
   "cell_type": "markdown",
   "metadata": {},
   "source": [
    "## 6.1 LCOE and LCOH"
   ]
  },
  {
   "cell_type": "markdown",
   "metadata": {},
   "source": [
    "<div class=\"alert alert-block alert-info\">\n",
    "<b>Notes on LCOE calculation</b>\n",
    "\n",
    "- Total LCOE calculate as $LCOE=\\frac{expenses_{el.total}}{demand_{el.,total}}$, likewise total LCOH calculate as $LCOH=\\frac{expenses_{th.,total}}{demand_{th.,total}}$\n",
    "- Total expenses $expenses_{el.total}$ are annual expenses. Investment costs are discounted to one year using equivalent periodic costs\n",
    "- The plot below shows fractions of these LCOE that are calculated as $LCOE_{technology}=\\frac{expenses_{el.,technology}}{demand_{el.,total}}$ representation the share of each technology at total cost of one MWh\n",
    "</div>"
   ]
  },
  {
   "cell_type": "code",
   "execution_count": null,
   "metadata": {
    "scrolled": false
   },
   "outputs": [],
   "source": [
    "values = ['LCOE','LCOH']\n",
    "\n",
    "df = pd.DataFrame([results_scns[scenario]['results_t'][i] for i in values], index=values)\n",
    "df = df.rename(columns=PRINT_NAMES)\n",
    "df = df.sort_values(by=values, axis=1, ascending=True)\n",
    "\n",
    "fig = px.bar(df, orientation='h',\n",
    "             title='LCOE and LCOH',\n",
    "            color_discrete_sequence=CMAP,\n",
    "                text=df.sum(axis=1).to_list())\n",
    "\n",
    "fig.update_layout(barmode='stack', legend={'traceorder':'reversed'},\n",
    "                  uniformtext_mode='hide'#, hovermode=\"y unified\"\n",
    "                 )\n",
    "fig.update_traces(hovertemplate='%{fullData.name}<br>'+\n",
    "                  'Type: %{y}<br>'+\n",
    "                  'Share:%{x:.1f}€ <br>'+\n",
    "                  'Total: %{text:.1f}€'+\n",
    "                  '<extra></extra>',) # \n",
    "fig.update_xaxes(title_text='€/MWh')\n",
    "fig.update_yaxes(title_text='')\n",
    "fig.show()"
   ]
  },
  {
   "cell_type": "markdown",
   "metadata": {},
   "source": [
    "## 6.2 Costs per Sector and Type"
   ]
  },
  {
   "cell_type": "code",
   "execution_count": null,
   "metadata": {},
   "outputs": [],
   "source": [
    "# Electricity\n",
    "data_el = pd.DataFrame({\n",
    "    'fix': results_scns[scenario]['results_axlxt']['Fix costs el.'].sum(axis=0),\n",
    "    'var': results_scns[scenario]['results_axlxt']['Variable costs el.'].sum(axis=0),\n",
    "    'certificats': results_scns[scenario]['results_axlxt']['CO2 certificate cost el.'].sum(axis=0)\n",
    "})\n",
    "\n",
    "data_el.loc['Grid','fix'] = results_scns[scenario]['results_axlxt']['Total costs lines'].sum(axis=0) + \\\n",
    "results_scns[scenario]['results_axlxt']['Total costs line extensions'].sum(axis=0)\n",
    "# Heat\n",
    "data_th = pd.DataFrame({\n",
    "    'fix': results_scns[scenario]['results_axlxt']['Fix costs th.'].sum(axis=0),\n",
    "    'var': results_scns[scenario]['results_axlxt']['Variable costs th.'].sum(axis=0),\n",
    "    'certificats': results_scns[scenario]['results_axlxt']['CO2 certificate cost th.'].sum(axis=0)\n",
    "})\n",
    "\n",
    "# concat\n",
    "df_data = pd.concat([data_el, data_th], axis=1,\n",
    "                    keys=['Electricity Supply', 'Heat Supply'])\n",
    "\n",
    "df_data = df_data.fillna(0)\n",
    "#df_data = df_data[(df_data!=0).any(axis=1)]\n",
    "df_data = df_data.rename(index=PRINT_NAMES)\n",
    "df_data = df_data/ 1e6\n",
    "\n",
    "for sector, df in df_data.groupby(level=0, axis=1):\n",
    "    df = df[(df!=0).any(axis=1)]\n",
    "    if df.sum().sum() != 0:\n",
    "        \n",
    "        fig = go.Figure()\n",
    "        for i, (cat, data) in enumerate(df[sector].items()):\n",
    "            fig.add_trace(go.Bar(x=data.index,\n",
    "                                 y=data,\n",
    "                                 name=cat,\n",
    "                                 marker_color=CMAP[3+i],\n",
    "                                 hovertemplate='%{y:.1f} M€'\n",
    "                                ))\n",
    "\n",
    "        fig.update_layout(\n",
    "            title=f'Costs of {sector}',\n",
    "            hovermode=\"x unified\",\n",
    "            barmode='stack',\n",
    "            height=600,\n",
    "            xaxis={'categoryorder':'category ascending'},\n",
    "            xaxis_tickfont_size=14,\n",
    "            yaxis=dict(title='million €',\n",
    "                       titlefont_size=16,\n",
    "                       tickfont_size=14),\n",
    "                       autosize=True)\n",
    "        fig.show()    \n",
    "    else:\n",
    "        print(f'no Costs in sector {sector}!')"
   ]
  },
  {
   "cell_type": "markdown",
   "metadata": {},
   "source": [
    "# 7 Power Grid<a class=\"anchor\" id=\"7_power_grid\"></a>\n",
    "## 7.1 Maximum Line Loading Heatmap"
   ]
  },
  {
   "cell_type": "code",
   "execution_count": null,
   "metadata": {},
   "outputs": [],
   "source": [
    "df_data = results_scns[scenario]['flows_txaxt']['Line loading'].max(level=['ags_from','ags_to'])\n",
    "df_data = df_data.sort_index(ascending=False)\n",
    "df_data = df_data * 100\n",
    "\n",
    "x = df_data.index.get_level_values(level='ags_from')\n",
    "x = [re.split(r'(\\d+)', s) for s in x]\n",
    "x = [f\"{start}{MUN_NAMES[int(ags)]}{end}\" for start,ags,end in x]\n",
    "\n",
    "y = df_data.index.get_level_values(level='ags_to')\n",
    "y = [re.split(r'(\\d+)', s) for s in y]\n",
    "y = [f\"{start}{MUN_NAMES[int(ags)]}{end}\" for start,ags,end in y]\n",
    "\n",
    "\n",
    "fig = go.Figure(go.Heatmap(\n",
    "    x=x,\n",
    "    y=y,\n",
    "    z=df_data.values,\n",
    "    colorscale=CMAP,\n",
    "    colorbar=dict(title='%'),\n",
    "    hovertemplate='-> %{y}<br>'+\n",
    "    'Max Loading: %{z:.1f}%'+\n",
    "    '<extra></extra>',\n",
    "    showscale=True,\n",
    "    hoverongaps=False, \n",
    "))\n",
    "fig.update_layout(title='Max Line Loading in %',\n",
    "                  hovermode=\"x unified\")\n",
    "fig.update_xaxes(type='category')\n",
    "fig.update_yaxes(type='category', showspikes=True)\n",
    "fig.show()"
   ]
  },
  {
   "cell_type": "markdown",
   "metadata": {},
   "source": [
    "## 7.1 Maximum Line Loading Barcharts"
   ]
  },
  {
   "cell_type": "code",
   "execution_count": null,
   "metadata": {},
   "outputs": [],
   "source": [
    "df_data = results_scns[scenario]['flows_txaxt']['Line loading'].max(level=['ags_from','ags_to']) * 100\n",
    "df_data = df_data.sort_index(ascending=False)\n",
    "df_data = pd.DataFrame().from_dict({'line loading': df_data,'free capacity': 100-df_data})\n",
    "\n",
    "\n",
    "ags_from, ags_to = list(zip(*df_data.index))\n",
    "ags_from = [s.replace(re.findall(r\"\\d+\",s)[0], MUN_NAMES[int(re.findall(r\"\\d+\",s)[0])]) for s in ags_from]\n",
    "ags_to = [s.replace(re.findall(r\"\\d+\",s)[0], MUN_NAMES[int(re.findall(r\"\\d+\",s)[0])]) for s in ags_to]\n",
    "\n",
    "df_data.index = pd.MultiIndex.from_tuples(zip(*(ags_from, ags_to)))\n",
    "\n",
    "df_data.index = [f'{ags_from} -> {ags_to}' for ags_from, ags_to in df_data.index]\n",
    "#index = [re.split(r'(\\d+)', s) for s in df_data.index]\n",
    "#df_data.index = [f\"{start}{MUN_NAMES[int(ags)]}{end}\" for start,ags,end in index]\n",
    "\n",
    "fig = go.Figure() \n",
    "for i, (key, df) in enumerate(df_data.items()):\n",
    "\n",
    "    fig.add_bar(y=df.index,\n",
    "                x=df.values,\n",
    "                orientation='h',\n",
    "                name=key,\n",
    "                marker_color=CMAP[4*i+2],\n",
    "                hovertemplate='%{x:.2f}%',\n",
    "                showlegend=False)\n",
    "\n",
    "fig.update_layout(barmode=\"relative\",\n",
    "    title='Maximum Line Loading',\n",
    "    yaxis_tickfont_size=12,\n",
    "    xaxis=dict(\n",
    "        title='Loading in %',\n",
    "        titlefont_size=16,\n",
    "        tickfont_size=12,\n",
    "    ))\n",
    "\n",
    "fig.update_yaxes(type='category')#,  tickangle=45)\n",
    "fig.update_xaxes(showspikes=True)\n",
    "fig.update_layout(hovermode=\"y unified\")\n",
    "fig.show()\n"
   ]
  },
  {
   "cell_type": "markdown",
   "metadata": {},
   "source": [
    "## 7.2 Line Loading Distribution"
   ]
  },
  {
   "cell_type": "code",
   "execution_count": null,
   "metadata": {
    "scrolled": false
   },
   "outputs": [],
   "source": [
    "df_data = results_scns[scenario]['flows_txaxt']['Line loading per bus']\n",
    "df_data = df_data * 100\n",
    "index = df_data.index.get_level_values(level=0)\n",
    "\n",
    "fig = go.Figure()\n",
    "# limit = 2\n",
    "# fig = make_subplots(rows=1, cols=2, horizontal_spacing=0.25)\n",
    "# for ags, data in df_data.iteritems():\n",
    "#     if data.describe().loc['mean'] > limit0\n",
    "\n",
    "fig.add_trace(go.Box(\n",
    "    y=df_data.values,\n",
    "    x=index,\n",
    "    name='Increase',\n",
    "    marker_color=CMAP[3],\n",
    "    boxpoints=False,))\n",
    "\n",
    "fig.update_layout(\n",
    "    title='Line Loading',\n",
    "    yaxis_title='in %',\n",
    "    boxmode='group',\n",
    "    hovermode=\"x unified\")\n",
    "\n",
    "fig.update_xaxes(type='category', tickangle=45)\n",
    "fig.show()"
   ]
  },
  {
   "cell_type": "markdown",
   "metadata": {},
   "source": [
    "## 7.3 Mean Line Loading"
   ]
  },
  {
   "cell_type": "code",
   "execution_count": null,
   "metadata": {
    "scrolled": false
   },
   "outputs": [],
   "source": [
    "df_data = results_scns[scenario]['flows_txaxt']['Line loading'].mean(level=['ags_from','ags_to'])\n",
    "df_data = df_data.sort_index(ascending=False)\n",
    "df_data = df_data * 100\n",
    "\n",
    "hover_text = [ f'Mean loading:{int(i)}%<br>' for i in df_data.values]\n",
    "\n",
    "x = df_data.index.get_level_values(level='ags_from')\n",
    "x = [re.split(r'(\\d+)', s) for s in x]\n",
    "x = [f\"{start}{MUN_NAMES[int(ags)]}{end}\" for start,ags,end in x]\n",
    "\n",
    "y = df_data.index.get_level_values(level='ags_to')\n",
    "y = [re.split(r'(\\d+)', s) for s in y]\n",
    "y = [f\"{start}{MUN_NAMES[int(ags)]}{end}\" for start,ags,end in y]\n",
    "\n",
    "\n",
    "fig = go.Figure(go.Heatmap(\n",
    "    x=x,\n",
    "    y=y,\n",
    "    z=df_data.values,\n",
    "    colorscale=CMAP,\n",
    "    colorbar=dict(title='%'),\n",
    "    hovertemplate='-> %{y}<br>'+\n",
    "    'Mean Loading: %{z:.1f}%'+\n",
    "    '<extra></extra>',\n",
    "    #hovertext=hover_text,\n",
    "    showscale=True,\n",
    "    hoverongaps=False, \n",
    "))\n",
    "fig.update_layout(title='Mean Line Loading in %',\n",
    "                  hovermode=\"x unified\")\n",
    "fig.update_xaxes(type='category')\n",
    "fig.update_yaxes(type='category', showspikes=True)\n",
    "fig.show()"
   ]
  },
  {
   "cell_type": "markdown",
   "metadata": {},
   "source": [
    "# 8 Flexibility<a class=\"anchor\" id=\"8_flexibility\"></a>"
   ]
  },
  {
   "cell_type": "markdown",
   "metadata": {},
   "source": [
    "Calculation of storage ratios:\n",
    "\n",
    "To compare/show the usage of different flexibility options 3 different ratios are used:\n",
    "\n",
    "1. Full Discharge Hours:\n",
    "    \n",
    "    The Ratio of discharged energy $E_{tech, discharge}$ to nominal discharge power $P_{n, discharge}$\n",
    "    \n",
    "    $$Full Discharge Hours_{technology}=\\frac{E_{tech, discharge}}{P_{n, discharge}}$$\n",
    "    \n",
    "2. Total Cycles:\n",
    "    \n",
    "    The Ratio of discharged energy $E_{tech, discharge}$ to installed capacity $C_{technology}$\n",
    "    \n",
    "    $$Total Cycles_{technology}=\\frac{E_{tech, discharge}}{C_{technology}}$$\n",
    "    \n",
    "    \n",
    "3. Utilization Rate:\n",
    "    \n",
    "    The Ratio of $Total Cycles_{technology}$ to $Max Cycles_{technology}$\n",
    "    \n",
    "    $$Max Cycles_{technology}=\\frac{1}{2} \\cdot timesteps \\cdot C_{rate}$$\n",
    "    \n",
    "    with\n",
    "    \n",
    "    $$C_{rate}  = \\begin{cases}\n",
    "    \\frac{P_{n, discharge}}{C_{technology}} & \\frac{P_{n, discharge}}{C_{technology}} \\leq 1 \\\\\n",
    "    1 & \\, \\text{otherwise}\n",
    "    \\end{cases}$$\n",
    "    \n",
    "    $$Utilization Rate_{technology} = \\frac{Total Cycles_{technology}}{Max Cycles_{technology}}$$"
   ]
  },
  {
   "cell_type": "markdown",
   "metadata": {},
   "source": [
    "## 8.1 Heat Storage"
   ]
  },
  {
   "cell_type": "markdown",
   "metadata": {},
   "source": [
    "<div class=\"alert alert-block alert-info\">\n",
    "<b>Notes on Heatstorage Charts</b>\n",
    "  \n",
    "- Relative cycles will not be used for comparison. This is due to a high c-rate (6.7) of small, decentralised storages which makes the relative usage using eq. full cycles not very meaningful.\n",
    "    \n",
    "- To show the total cycles, only the discharge values are chosen as the difference are the storage losses and almost negligible.\n",
    "\n",
    "</div>\n",
    "    "
   ]
  },
  {
   "cell_type": "code",
   "execution_count": null,
   "metadata": {},
   "outputs": [],
   "source": [
    "capacity = results_scns[scenario]['parameters']['Installed capacity heat storage']\n",
    "capacity = capacity.rename(columns={'stor_th_large':'cen','stor_th_small':'dec'})\n",
    "\n",
    "power_discharge = results_scns[scenario]['parameters']['Discharge power heat storage']\n",
    "power_discharge = power_discharge.rename(columns={'stor_th_large':'cen','stor_th_small':'dec'})\n",
    "\n",
    "discharge = results_scns[scenario]['results_axlxt']['Wärmespeicher nach Gemeinde']\n",
    "discharge = discharge.discharge.unstack().fillna(0).T\n",
    "\n",
    "# combine\n",
    "heat_storage_figures = pd.concat([capacity, power_discharge, discharge], axis=1,\n",
    "                                 keys=['capacity', 'power_discharge', 'discharge'])\n",
    "\n",
    "df_data = heat_storage_figures.sum().unstack()\n",
    "df_data = df_data.join(df_data.sum(axis=1).rename('Total'))\n",
    "display(df_data.round())"
   ]
  },
  {
   "cell_type": "code",
   "execution_count": null,
   "metadata": {},
   "outputs": [],
   "source": [
    "heat_storage_ratios = get_storage_ratios(heat_storage_figures, regions_scns[scenario])\n",
    "heat_storage_ratios = heat_storage_ratios.drop(columns=[('dec', 'Utilization Rate')])\n",
    "\n",
    "plot_storage_ratios(heat_storage_ratios, regions_scns[scenario], title='Heat storage')"
   ]
  },
  {
   "cell_type": "markdown",
   "metadata": {},
   "source": [
    "### TODO\n",
    "\n",
    "- Ratios für Gesamtregion? (als scalare Tabelle) Wie genau soll das gehen?\n",
    "    - Unterschiedliche Kapazitätswerte. Addition von Cen und Dec nicht sinnvoll.\n",
    "    - Mittelwerte auch nicht wirklich sinnvoll\n"
   ]
  },
  {
   "cell_type": "markdown",
   "metadata": {},
   "source": [
    "## 8.2 Battery Storage"
   ]
  },
  {
   "cell_type": "markdown",
   "metadata": {},
   "source": [
    "<div class=\"alert alert-block alert-info\">\n",
    "<b>Notes on Battery Storage Charts</b>\n",
    "  \n",
    "- The average total cycles (get visible when activating \"ABW\" in legend) are calculated as mean of total cycles from each municipality.\n",
    "    \n",
    "- To show the total cycles, only the discharge values are chosen. The difference between charge and discharge results from losses and are somewhat negligible.\n",
    "    \n",
    "- If no small storages are installed in a scenario, they cannot be evaluated. This will result in empty charts.\n",
    "\n",
    "</div>\n",
    "    "
   ]
  },
  {
   "cell_type": "markdown",
   "metadata": {},
   "source": [
    "### 8.2.1 Utilization"
   ]
  },
  {
   "cell_type": "code",
   "execution_count": null,
   "metadata": {},
   "outputs": [],
   "source": [
    "stor_cap_large = results_scns[scenario]['parameters']['Installierte Kapazität Großbatterien']\n",
    "stor_cap_small = results_scns[scenario]['parameters']['Installierte Kapazität PV-Batteriespeicher']\n",
    "\n",
    "battery_storage_figures = pd.concat([stor_cap_large, stor_cap_small], axis=1,\n",
    "                                    keys=['large','small'])\n",
    "\n",
    "storage =  results_scns[scenario]['results_axlxt']['Batteriespeicher nach Gemeinde']\n",
    "storage = storage.unstack(\"level\").swaplevel(axis=1)\n",
    "\n",
    "battery_storage_figures = battery_storage_figures.join(storage).sort_index(level=0, axis=1)\n",
    "battery_storage_figures = battery_storage_figures.swaplevel(axis=1)\n",
    "\n",
    "df_data = battery_storage_figures.sum().unstack()\n",
    "df_data = df_data.join(df_data.sum(axis=1).rename('Total'))\n",
    "display(df_data.round())"
   ]
  },
  {
   "cell_type": "code",
   "execution_count": null,
   "metadata": {},
   "outputs": [],
   "source": [
    "battery_storage_ratios = get_storage_ratios(battery_storage_figures, regions_scns[scenario])\n",
    "\n",
    "plot_storage_ratios(battery_storage_ratios, regions_scns[scenario], title='Battery Storage')"
   ]
  },
  {
   "cell_type": "markdown",
   "metadata": {},
   "source": [
    "### 8.2.2 Timeseries"
   ]
  },
  {
   "cell_type": "code",
   "execution_count": null,
   "metadata": {
    "scrolled": false
   },
   "outputs": [],
   "source": [
    "# timeseries\n",
    "df_data = results_scns[scenario]['flows_txaxt']['Batteriespeicher'].sum(level=0)\n",
    "# only get nonzero values\n",
    "#df_data = df_data.loc[(df_data != 0).any(axis=1)]\n",
    "\n",
    "fig = go.Figure()\n",
    "\n",
    "for i, (key, df) in enumerate(df_data.items()):\n",
    "# Add traces\n",
    "    fig.add_trace(go.Scatter(x=df.index,\n",
    "                             y=df,\n",
    "                             mode='markers+lines',\n",
    "                             line=dict(color=CMAP[2*i+1], width=1,),\n",
    "                             opacity=0.8,\n",
    "                             name=key,\n",
    "                            line_shape='hv',\n",
    "                            hovertemplate='%{y:.2f} MWh<br>',\n",
    "                            ))\n",
    "fig.update_xaxes(\n",
    "        title='Zoom',\n",
    "        rangeslider_visible=True,\n",
    "        rangeselector=dict(\n",
    "            buttons=list([\n",
    "                dict(count=6, label=\"6m\", step=\"month\", stepmode=\"backward\"),\n",
    "                dict(count=1, label=\"1m\", step=\"month\", stepmode=\"backward\"),\n",
    "                dict(count=14, label=\"2w\", step=\"day\", stepmode=\"backward\"),\n",
    "                dict(count=7, label=\"1w\", step=\"day\", stepmode=\"backward\"),\n",
    "                dict(count=3, label=\"3d\", step=\"day\", stepmode=\"backward\"),\n",
    "                ])))\n",
    "fig.update_layout(title='Battery Charge/Discharge',\n",
    "                  hovermode=\"x unified\")\n",
    "fig.update_yaxes(title_text=\"Energy in MWh\", showspikes=True)\n",
    "fig.show()"
   ]
  },
  {
   "cell_type": "markdown",
   "metadata": {},
   "source": [
    "### 8.2.3 Scatter"
   ]
  },
  {
   "cell_type": "markdown",
   "metadata": {},
   "source": [
    "<div class=\"alert alert-block alert-info\">\n",
    "<b>Notes on Battery Storage Scatter Chart</b>\n",
    "\n",
    "- Datapoints with zero values for both discharge or charge of battery storage are excluded\n",
    "- The label of the Y-axis diverts as its varying units depending on the traces you select. The units will be displayed in the infobox by hovering over the datapoints\n",
    "- The mean value of all line loadings is used per timestep\n",
    "    \n",
    "</div>"
   ]
  },
  {
   "cell_type": "code",
   "execution_count": null,
   "metadata": {
    "scrolled": false
   },
   "outputs": [],
   "source": [
    "RE = ['pv_ground', 'pv_roof_large', 'pv_roof_small', 'wind']\n",
    "# timeseries\n",
    "df_re_ts = results_scns[scenario]['flows_txaxt']['Stromerzeugung'][RE].sum(axis=1).sum(level=0)\n",
    "df_dsm_ts = results_scns[scenario]['flows_txaxt']['DSM activation']['Demand decrease'].sum(level=0)\n",
    "df_imports_ts = results_scns[scenario]['flows_txaxt']['Stromimport'].sum(axis=1).sum(level=0)\n",
    "df_lines_ts = results_scns[scenario]['flows_txaxt']['Line loading'].mean(level=2)\n",
    "\n",
    "df_storage_in_ts = results_scns[scenario]['flows_txaxt']['Batteriespeicher']['charge'].sum(level=0)\n",
    "df_storage_out_ts = results_scns[scenario]['flows_txaxt']['Batteriespeicher']['discharge'].sum(level=0)\n",
    "\n",
    "df_data = pd.concat([df_re_ts, df_dsm_ts, df_imports_ts, df_lines_ts, df_storage_in_ts, df_storage_out_ts],\n",
    "                    axis=1, keys=['RE', 'DSM', 'Import', 'Lineload', 'Charge', 'Discharge'])\n",
    "\n",
    "# remove every timesteps where charge/discharge equals zero\n",
    "df_data = df_data.loc[(df_data[['Charge', 'Discharge']] != 0).any(axis=1)]\n",
    "\n",
    "fig = go.Figure()\n",
    "\n",
    "for i, (key, df) in enumerate(df_data.drop(columns=['Charge', 'Discharge']).items()):\n",
    "    \n",
    "    visible = 'legendonly' if i else True\n",
    "    \n",
    "    hovertemplate = \"%{fullData.name}<br>x = %{x:.2f} MWh <br>y = %{y:.2f} \" + UNITS[key]\n",
    "    \n",
    "    \n",
    "    # Add traces\n",
    "    fig.add_trace(go.Scatter(y=df,\n",
    "                             x=df_data['Charge'],\n",
    "                             mode='markers',\n",
    "                             opacity=0.7,\n",
    "                             marker_color=CMAP[3],\n",
    "                             name= 'Charge-'+key,\n",
    "                             visible=visible,\n",
    "                             hovertemplate=hovertemplate,\n",
    "                             ))\n",
    "\n",
    "    fig.add_trace(go.Scatter(y=df,\n",
    "                             x=df_data['Discharge'],\n",
    "                             mode='markers',\n",
    "                             marker_color=CMAP[0],\n",
    "                             opacity=0.7,\n",
    "                             name= 'Disharge-' + key,\n",
    "                             visible=visible,\n",
    "                             hovertemplate=hovertemplate,\n",
    "                            ))\n",
    "\n",
    "\n",
    "\n",
    "fig.update_layout(title=\"Scatter Battery Storage - X\",)\n",
    "fig.update_yaxes(title_text='MWh or % for line loading', showspikes=True)\n",
    "fig.update_xaxes(title_text='MWh of battery storage charge/discharge', showspikes=True)\n",
    "fig.show()"
   ]
  },
  {
   "cell_type": "markdown",
   "metadata": {},
   "source": [
    "## 8.3 DSM"
   ]
  },
  {
   "cell_type": "markdown",
   "metadata": {},
   "source": [
    "### 8.3.1 Activation"
   ]
  },
  {
   "cell_type": "code",
   "execution_count": null,
   "metadata": {},
   "outputs": [],
   "source": [
    "df_data = results_scns[scenario]['flows_txaxt']['DSM activation']\n",
    "\n",
    "x = df_data.index.get_level_values(level=1)\n",
    "x = pd.Series(x.astype(int).values).map(MUN_NAMES).values\n",
    "\n",
    "fig = go.Figure()\n",
    "\n",
    "for key, df in df_data.items():\n",
    "    \n",
    "    color = '#3D9970' if 'increase' in key else '#FF4136'\n",
    "    fig.add_trace(go.Box(x=x,\n",
    "        y=df,\n",
    "        name=key,\n",
    "        marker_color=color,\n",
    "        boxpoints=False,))\n",
    "\n",
    "fig.update_layout(\n",
    "    yaxis_title='DSM activation in MWh',\n",
    "    boxmode='group',\n",
    "#    hovermode=\"x unified\",\n",
    ")\n",
    "\n",
    "fig.update_xaxes(type='category', tickangle=45)\n",
    "fig.show()\n"
   ]
  },
  {
   "cell_type": "markdown",
   "metadata": {},
   "source": [
    "### 8.3.2 DSM Total Sum"
   ]
  },
  {
   "cell_type": "code",
   "execution_count": null,
   "metadata": {},
   "outputs": [],
   "source": [
    "df_data = results_scns[scenario]['flows_txaxt']['DSM activation']\n",
    "new = pd.concat([df_data.sum(level='timestamp')],axis=1, keys=[100], names=['ags']).swaplevel(axis=1)\n",
    "df_data = df_data.unstack().join(new)\n",
    "df_data = df_data.sort_index(axis=1).stack()\n",
    "df_data = df_data.sum(level='ags')\n",
    "\n",
    "demand_hh = results_scns[scenario]['results_axlxt']['Stromnachfrage nach Gemeinde']['hh']\n",
    "demand_hh = demand_hh.append(pd.Series(demand_hh.sum(), index=[100]))\n",
    "\n",
    "df_data = df_data['Demand decrease'] /  demand_hh * 100\n",
    "\n",
    "#df_data = df_data.sort_values(ascending=False)\n",
    "df_data = df_data.rename(index=MUN_NAMES)\n",
    "\n",
    "fig = go.Figure()\n",
    "fig.add_trace(\n",
    "    go.Bar(x=df_data.index,\n",
    "           y=df_data.values,\n",
    "           name='Ratio',\n",
    "           orientation='v',\n",
    "           marker_color=CMAP[1],\n",
    "          hovertemplate='%{y:.2f} %'))\n",
    "\n",
    "fig.update_yaxes(title='%')\n",
    "fig.update_layout(\n",
    "    title='Ratio DSM / Electrical Demand of Households',\n",
    "    showlegend=False,\n",
    "    hovermode=\"x unified\")\n",
    "fig.show()"
   ]
  },
  {
   "cell_type": "markdown",
   "metadata": {},
   "source": [
    "### 8.3.3 DSM Timeseries"
   ]
  },
  {
   "cell_type": "code",
   "execution_count": null,
   "metadata": {
    "scrolled": false
   },
   "outputs": [],
   "source": [
    "df_data = results_scns[scenario]['flows_txaxt']['DSM activation']\n",
    "new = pd.concat([df_data.sum(level='timestamp')],axis=1, keys=['100'], names=['ags']).swaplevel(axis=1)\n",
    "df_data = df_data.unstack().join(new)\n",
    "df_data = df_data.sort_index(axis=1).stack()\n",
    "\n",
    "fig = go.Figure()\n",
    "for vis, (ags, df) in enumerate(df_data.groupby(level='ags')):\n",
    "    for leg, (key, data) in enumerate(df_data.items()):\n",
    "        \n",
    "        legend = False if leg else True\n",
    "        visible = 'legendonly' if vis else True\n",
    "        \n",
    "        data = data.loc[(slice(None), ags)]\n",
    "        fig.add_trace(go.Scatter(x=data.index,\n",
    "                                 y=data.values,\n",
    "                                 name=MUN_NAMES[int(ags)],\n",
    "                                 legendgroup=ags,\n",
    "                                 mode='lines',\n",
    "                                 showlegend=legend,\n",
    "                                 visible=visible,\n",
    "                                 marker_color=CMAP[2*leg+2],\n",
    "                                 text=data.name,\n",
    "                                 hovertemplate='%{fullData.text}<br>%{y:.2f} MW'\n",
    "                                ))\n",
    "\n",
    "fig.update_xaxes(\n",
    "    title='Zoom',\n",
    "    rangeslider_visible=True,\n",
    "    rangeselector=dict(\n",
    "        buttons=list([\n",
    "            dict(count=6, label=\"6m\", step=\"month\", stepmode=\"backward\"),\n",
    "            dict(count=1, label=\"1m\", step=\"month\", stepmode=\"backward\"),\n",
    "            dict(count=14, label=\"2w\", step=\"day\", stepmode=\"backward\"),\n",
    "            dict(count=7, label=\"1w\", step=\"day\", stepmode=\"backward\"),\n",
    "            dict(count=3, label=\"3d\", step=\"day\", stepmode=\"backward\"),\n",
    "            #dict(step=\"all\")\n",
    "        ])\n",
    "    )\n",
    ")\n",
    "\n",
    "fig.update_layout(\n",
    "    title='Demand Side Management of ABW',\n",
    "    height = 700,\n",
    "    xaxis_tickfont_size=14,\n",
    "    yaxis=dict(title='MW', titlefont_size=16, tickfont_size=14),\n",
    "    autosize=True,\n",
    "    hovermode=\"x unified\")\n",
    "\n",
    "fig.show()"
   ]
  },
  {
   "cell_type": "markdown",
   "metadata": {},
   "source": [
    "### 8.3.4 DSM Relative Utilization"
   ]
  },
  {
   "cell_type": "markdown",
   "metadata": {},
   "source": [
    "The relative utilization of DSM describes how much positive or negative power activation takes place in relation to the maximum potential assumed in the scenario."
   ]
  },
  {
   "cell_type": "code",
   "execution_count": null,
   "metadata": {},
   "outputs": [],
   "source": [
    "df_dsm_cap_up, df_dsm_cap_down = calc_dsm_cap(region=regions_scns[scenario])\n",
    "df_dsm_cap = pd.concat([df_dsm_cap_up.sum().rename('Demand increase'),\n",
    "                     df_dsm_cap_down.sum().rename('Demand decrease')], axis=1)\n",
    "\n",
    "df_data = results_scns[scenario]['flows_txaxt']['DSM activation'].sum(level='ags') / df_dsm_cap.values\n",
    "df_data.index = df_data.index.astype(int)\n",
    "df_data = df_data.rename(index=MUN_NAMES)\n",
    "df_data = df_data * 100\n",
    "\n",
    "fig = go.Figure()\n",
    "for i, (key, data) in enumerate(df_data.items()):\n",
    "\n",
    "    fig.add_trace(\n",
    "        go.Bar(x=data.index,\n",
    "               y=data.values,\n",
    "               name=key,\n",
    "               orientation='v',\n",
    "               marker_color=CMAP[3+2*i],\n",
    "              hovertemplate='%{y:.2f} %'))\n",
    "\n",
    "fig.update_yaxes(title='%')\n",
    "fig.update_xaxes(type='category')\n",
    "fig.update_layout(\n",
    "    title='DSM Relative Utilization',\n",
    "    hovermode=\"x unified\")\n",
    "fig.show()"
   ]
  },
  {
   "cell_type": "code",
   "execution_count": null,
   "metadata": {},
   "outputs": [],
   "source": []
  }
 ],
 "metadata": {
  "kernelspec": {
   "display_name": "Python 3",
   "language": "python",
   "name": "python3"
  },
  "language_info": {
   "codemirror_mode": {
    "name": "ipython",
    "version": 3
   },
   "file_extension": ".py",
   "mimetype": "text/x-python",
   "name": "python",
   "nbconvert_exporter": "python",
   "pygments_lexer": "ipython3",
   "version": "3.8.3"
  }
 },
 "nbformat": 4,
 "nbformat_minor": 4
}
